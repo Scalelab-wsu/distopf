{
 "cells": [
  {
   "cell_type": "code",
   "id": "808ba9eae550c3f0",
   "metadata": {
    "ExecuteTime": {
     "end_time": "2025-01-07T18:38:55.812573Z",
     "start_time": "2025-01-07T18:38:55.808692Z"
    }
   },
   "source": [
    "from distopf import DistOPFCase"
   ],
   "outputs": [],
   "execution_count": 7
  },
  {
   "cell_type": "markdown",
   "source": [
    "Run a power flow on the IEEE 123 bus system with no control variables."
   ],
   "metadata": {},
   "id": "b67c334b72bf5c62"
  },
  {
   "cell_type": "code",
   "id": "initial_id",
   "metadata": {
    "ExecuteTime": {
     "end_time": "2025-01-07T18:38:56.452982Z",
     "start_time": "2025-01-07T18:38:55.866137Z"
    }
   },
   "source": [
    "case = DistOPFCase(data_path=\"ieee123\", objective_function=\"loss_min\",v_max=1.1, v_min=0.95, save_plots=False, show_plots=False)\n",
    "case.run()\n",
    "case.plot_network()"
   ],
   "outputs": [
    {
     "data": {
      "application/vnd.plotly.v1+json": {
       "data": [
        {
         "line": {
          "color": "darkblue",
          "dash": "solid",
          "width": 11.0
         },
         "mode": "lines",
         "showlegend": false,
         "x": [
          -0.8611783091777097,
          -0.8611783091777097
         ],
         "y": [
          -0.2909377200686813,
          -0.2909377200686813
         ],
         "type": "scatter"
        },
        {
         "line": {
          "color": "darkblue",
          "dash": "solid",
          "width": 11.0
         },
         "mode": "lines",
         "showlegend": false,
         "x": [
          -0.8611783091777097,
          -0.7916015499561131
         ],
         "y": [
          -0.2909377200686813,
          -0.2909377200686813
         ],
         "type": "scatter"
        },
        {
         "line": {
          "color": "darkblue",
          "dash": "solid",
          "width": 11.0
         },
         "mode": "lines",
         "showlegend": false,
         "x": [
          -0.7916015499561131,
          -0.6524480315129197
         ],
         "y": [
          -0.2909377200686813,
          -0.2909377200686813
         ],
         "type": "scatter"
        },
        {
         "line": {
          "color": "darkblue",
          "dash": "solid",
          "width": 1.0569548907375206
         },
         "mode": "lines",
         "showlegend": false,
         "x": [
          -0.6524480315129197,
          -0.6524480315129197
         ],
         "y": [
          -0.2909377200686813,
          -0.20093210213560592
         ],
         "type": "scatter"
        },
        {
         "line": {
          "color": "darkblue",
          "dash": "solid",
          "width": 1.2921388303210826
         },
         "mode": "lines",
         "showlegend": false,
         "x": [
          -0.6524480315129197,
          -0.6524480315129197
         ],
         "y": [
          -0.2909377200686813,
          -0.41951717425878904
         ],
         "type": "scatter"
        },
        {
         "line": {
          "color": "darkblue",
          "dash": "solid",
          "width": 10.536995140655938
         },
         "mode": "lines",
         "showlegend": false,
         "x": [
          -0.6524480315129197,
          -0.5480828926805249
         ],
         "y": [
          -0.2909377200686813,
          -0.2909377200686813
         ],
         "type": "scatter"
        },
        {
         "line": {
          "color": "darkblue",
          "dash": "solid",
          "width": 1.1139107790982357
         },
         "mode": "lines",
         "showlegend": false,
         "x": [
          -0.6524480315129197,
          -0.6524480315129197
         ],
         "y": [
          -0.41951717425878904,
          -0.5223807376108752
         ],
         "type": "scatter"
        },
        {
         "line": {
          "color": "darkblue",
          "dash": "solid",
          "width": 1.1782280512228471
         },
         "mode": "lines",
         "showlegend": false,
         "x": [
          -0.6524480315129197,
          -0.5393857977778252
         ],
         "y": [
          -0.41951717425878904,
          -0.41951717425878904
         ],
         "type": "scatter"
        },
        {
         "line": {
          "color": "darkblue",
          "dash": "solid",
          "width": 1.1197842765361592
         },
         "mode": "lines",
         "showlegend": false,
         "x": [
          -0.5393857977778252,
          -0.4524148487508295
         ],
         "y": [
          -0.41951717425878904,
          -0.4709489559348321
         ],
         "type": "scatter"
        },
        {
         "line": {
          "color": "darkblue",
          "dash": "solid",
          "width": 10.480039340783545
         },
         "mode": "lines",
         "showlegend": false,
         "x": [
          -0.5480828926805249,
          -0.47850613345892823
         ],
         "y": [
          -0.2909377200686813,
          -0.2909377200686813
         ],
         "type": "scatter"
        },
        {
         "line": {
          "color": "darkblue",
          "dash": "solid",
          "width": 1.0569544523761691
         },
         "mode": "lines",
         "showlegend": false,
         "x": [
          -0.47850613345892823,
          -0.47850613345892823
         ],
         "y": [
          -0.2909377200686813,
          -0.40665922883977823
         ],
         "type": "scatter"
        },
        {
         "line": {
          "color": "darkblue",
          "dash": "solid",
          "width": 1.2865389708054613
         },
         "mode": "lines",
         "showlegend": false,
         "x": [
          -0.47850613345892823,
          -0.47850613345892823
         ],
         "y": [
          -0.2909377200686813,
          -0.17521621129758438
         ],
         "type": "scatter"
        },
        {
         "line": {
          "color": "darkblue",
          "dash": "solid",
          "width": 10.136545917601913
         },
         "mode": "lines",
         "showlegend": false,
         "x": [
          -0.47850613345892823,
          -0.37414099462653333
         ],
         "y": [
          -0.2909377200686813,
          -0.2909377200686813
         ],
         "type": "scatter"
        },
        {
         "line": {
          "color": "darkblue",
          "dash": "solid",
          "width": 1.172627050567686
         },
         "mode": "lines",
         "showlegend": false,
         "x": [
          -0.47850613345892823,
          -0.47850613345892823
         ],
         "y": [
          -0.17521621129758438,
          -0.17521621129758438
         ],
         "type": "scatter"
        },
        {
         "line": {
          "color": "darkblue",
          "dash": "solid",
          "width": 1.1726270505676852
         },
         "mode": "lines",
         "showlegend": false,
         "x": [
          -0.47850613345892823,
          -0.47850613345892823
         ],
         "y": [
          -0.17521621129758438,
          0.04336886082559871
         ],
         "type": "scatter"
        },
        {
         "line": {
          "color": "darkblue",
          "dash": "solid",
          "width": 1.2877339530290515
         },
         "mode": "lines",
         "showlegend": false,
         "x": [
          -0.37414099462653333,
          -0.37414099462653333
         ],
         "y": [
          -0.2909377200686813,
          -0.3680853925827459
         ],
         "type": "scatter"
        },
        {
         "line": {
          "color": "darkblue",
          "dash": "solid",
          "width": 4.181138671149169
         },
         "mode": "lines",
         "showlegend": false,
         "x": [
          -0.37414099462653333,
          -0.37414099462653333
         ],
         "y": [
          -0.2909377200686813,
          0.1333744787586741
         ],
         "type": "scatter"
        },
        {
         "line": {
          "color": "darkblue",
          "dash": "solid",
          "width": 1.1153049138857642
         },
         "mode": "lines",
         "showlegend": false,
         "x": [
          -0.47850613345892823,
          -0.565477082485924
         ],
         "y": [
          0.04336886082559871,
          0.04336886082559871
         ],
         "type": "scatter"
        },
        {
         "line": {
          "color": "darkblue",
          "dash": "solid",
          "width": 1.0573221366819205
         },
         "mode": "lines",
         "showlegend": false,
         "x": [
          -0.47850613345892823,
          -0.39153518443193247
         ],
         "y": [
          0.04336886082559871,
          0.04336886082559871
         ],
         "type": "scatter"
        },
        {
         "line": {
          "color": "darkblue",
          "dash": "solid",
          "width": 1.1708670635071896
         },
         "mode": "lines",
         "showlegend": false,
         "x": [
          -0.37414099462653333,
          -0.37414099462653333
         ],
         "y": [
          -0.3680853925827459,
          -0.41951717425878904
         ],
         "type": "scatter"
        },
        {
         "line": {
          "color": "darkblue",
          "dash": "solid",
          "width": 1.113911375363241
         },
         "mode": "lines",
         "showlegend": false,
         "x": [
          -0.37414099462653333,
          -0.37414099462653333
         ],
         "y": [
          -0.41951717425878904,
          -0.6123863555439506
         ],
         "type": "scatter"
        },
        {
         "line": {
          "color": "darkblue",
          "dash": "solid",
          "width": 1.0569556881439488
         },
         "mode": "lines",
         "showlegend": false,
         "x": [
          -0.37414099462653333,
          -0.25238166598873923
         ],
         "y": [
          -0.41951717425878904,
          -0.41951717425878904
         ],
         "type": "scatter"
        },
        {
         "line": {
          "color": "darkblue",
          "dash": "solid",
          "width": 1.22676328964241
         },
         "mode": "lines",
         "showlegend": false,
         "x": [
          -0.37414099462653333,
          -0.4611119436535291
         ],
         "y": [
          0.1333744787586741,
          0.1333744787586741
         ],
         "type": "scatter"
        },
        {
         "line": {
          "color": "darkblue",
          "dash": "solid",
          "width": 1.8001873855559558
         },
         "mode": "lines",
         "showlegend": false,
         "x": [
          -0.37414099462653333,
          -0.37414099462653333
         ],
         "y": [
          0.1333744787586741,
          0.28766982378680334
         ],
         "type": "scatter"
        },
        {
         "line": {
          "color": "darkblue",
          "dash": "solid",
          "width": 1.1128507464208692
         },
         "mode": "lines",
         "showlegend": false,
         "x": [
          -0.4611119436535291,
          -0.5741741773886236
         ],
         "y": [
          0.1333744787586741,
          0.1333744787586741
         ],
         "type": "scatter"
        },
        {
         "line": {
          "color": "darkblue",
          "dash": "solid",
          "width": 1.1196739427299767
         },
         "mode": "lines",
         "showlegend": false,
         "x": [
          -0.37414099462653333,
          -0.5567799875832244
         ],
         "y": [
          0.28766982378680334,
          0.28766982378680334
         ],
         "type": "scatter"
        },
        {
         "line": {
          "color": "darkblue",
          "dash": "solid",
          "width": 1.6805134428259783
         },
         "mode": "lines",
         "showlegend": false,
         "x": [
          -0.37414099462653333,
          -0.37414099462653333
         ],
         "y": [
          0.28766982378680334,
          0.416249277976911
         ],
         "type": "scatter"
        },
        {
         "line": {
          "color": "darkblue",
          "dash": "solid",
          "width": 1.1139114351741641
         },
         "mode": "lines",
         "showlegend": false,
         "x": [
          -0.37414099462653333,
          -0.565477082485924
         ],
         "y": [
          0.416249277976911,
          0.416249277976911
         ],
         "type": "scatter"
        },
        {
         "line": {
          "color": "darkblue",
          "dash": "solid",
          "width": 1.5666020076518135
         },
         "mode": "lines",
         "showlegend": false,
         "x": [
          -0.37414099462653333,
          -0.37414099462653333
         ],
         "y": [
          0.416249277976911,
          0.5576866775860295
         ],
         "type": "scatter"
        },
        {
         "line": {
          "color": "darkblue",
          "dash": "solid",
          "width": 1.2280158525024014
         },
         "mode": "lines",
         "showlegend": false,
         "x": [
          -0.37414099462653333,
          -0.37414099462653333
         ],
         "y": [
          0.5576866775860295,
          0.5576866775860295
         ],
         "type": "scatter"
        },
        {
         "line": {
          "color": "darkblue",
          "dash": "solid",
          "width": 1.2280158525024008
         },
         "mode": "lines",
         "showlegend": false,
         "x": [
          -0.37414099462653333,
          -0.4959003232643274
         ],
         "y": [
          0.5576866775860295,
          0.5576866775860295
         ],
         "type": "scatter"
        },
        {
         "line": {
          "color": "darkblue",
          "dash": "solid",
          "width": 1.3385861551494111
         },
         "mode": "lines",
         "showlegend": false,
         "x": [
          -0.37414099462653333,
          -0.37414099462653333
         ],
         "y": [
          0.5576866775860295,
          0.6605502409381157
         ],
         "type": "scatter"
        },
        {
         "line": {
          "color": "darkblue",
          "dash": "solid",
          "width": 1.1141044133949023
         },
         "mode": "lines",
         "showlegend": false,
         "x": [
          -0.4959003232643274,
          -0.5915683671940227
         ],
         "y": [
          0.5576866775860295,
          0.5576866775860295
         ],
         "type": "scatter"
        },
        {
         "line": {
          "color": "darkblue",
          "dash": "solid",
          "width": 1.113911439107498
         },
         "mode": "lines",
         "showlegend": false,
         "x": [
          -0.4959003232643274,
          -0.4959003232643274
         ],
         "y": [
          0.5576866775860295,
          0.6734081863571264
         ],
         "type": "scatter"
        },
        {
         "line": {
          "color": "darkblue",
          "dash": "solid",
          "width": 1.1141044133949016
         },
         "mode": "lines",
         "showlegend": false,
         "x": [
          -0.5915683671940227,
          -0.5915683671940227
         ],
         "y": [
          0.5576866775860295,
          0.8148455859662449
         ],
         "type": "scatter"
        },
        {
         "line": {
          "color": "darkblue",
          "dash": "solid",
          "width": 1.2257147537052557
         },
         "mode": "lines",
         "showlegend": false,
         "x": [
          -0.37414099462653333,
          -0.37414099462653333
         ],
         "y": [
          0.6605502409381157,
          0.8148455859662449
         ],
         "type": "scatter"
        },
        {
         "line": {
          "color": "darkblue",
          "dash": "solid",
          "width": 1.1139114374741486
         },
         "mode": "lines",
         "showlegend": false,
         "x": [
          -0.37414099462653333,
          -0.25238166598873923
         ],
         "y": [
          0.8148455859662449,
          0.8148455859662449
         ],
         "type": "scatter"
        },
        {
         "line": {
          "color": "darkblue",
          "dash": "solid",
          "width": 1.0000000000000009
         },
         "mode": "lines",
         "showlegend": false,
         "x": [
          -0.25238166598873923,
          -0.1828049067671426
         ],
         "y": [
          0.8148455859662449,
          0.8148455859662449
         ],
         "type": "scatter"
        },
        {
         "line": {
          "color": "darkblue",
          "dash": "solid",
          "width": 1.0569557193139236
         },
         "mode": "lines",
         "showlegend": false,
         "x": [
          -0.4959003232643274,
          -0.4959003232643274
         ],
         "y": [
          0.6734081863571264,
          0.8277035313852557
         ],
         "type": "scatter"
        },
        {
         "line": {
          "color": "darkblue",
          "dash": "solid",
          "width": 3.1541879959508012
         },
         "mode": "lines",
         "showlegend": false,
         "x": [
          -0.339352615015735,
          -0.20889619147524133
         ],
         "y": [
          0.1333744787586741,
          0.1333744787586741
         ],
         "type": "scatter"
        },
        {
         "line": {
          "color": "darkblue",
          "dash": "solid",
          "width": 1.2264574990535702
         },
         "mode": "lines",
         "showlegend": false,
         "x": [
          -0.20889619147524133,
          -0.17410781186444302
         ],
         "y": [
          0.1333744787586741,
          -0.03377881168846591
         ],
         "type": "scatter"
        },
        {
         "line": {
          "color": "darkblue",
          "dash": "solid",
          "width": 2.813818683286523
         },
         "mode": "lines",
         "showlegend": false,
         "x": [
          -0.20889619147524133,
          -0.20889619147524133
         ],
         "y": [
          0.1333744787586741,
          0.2619539329487818
         ],
         "type": "scatter"
        },
        {
         "line": {
          "color": "darkblue",
          "dash": "solid",
          "width": 1.111261713122213
         },
         "mode": "lines",
         "showlegend": false,
         "x": [
          -0.17410781186444302,
          -0.278472950696838
         ],
         "y": [
          -0.03377881168846591,
          -0.03377881168846591
         ],
         "type": "scatter"
        },
        {
         "line": {
          "color": "darkblue",
          "dash": "solid",
          "width": 1.115195785931356
         },
         "mode": "lines",
         "showlegend": false,
         "x": [
          -0.17410781186444302,
          -0.08713686283744723
         ],
         "y": [
          -0.03377881168846591,
          -0.03377881168846591
         ],
         "type": "scatter"
        },
        {
         "line": {
          "color": "darkblue",
          "dash": "solid",
          "width": 1.0569541063774435
         },
         "mode": "lines",
         "showlegend": false,
         "x": [
          -0.08713686283744723,
          0.025925370897647276
         ],
         "y": [
          -0.03377881168846591,
          -0.03377881168846591
         ],
         "type": "scatter"
        },
        {
         "line": {
          "color": "darkblue",
          "dash": "solid",
          "width": 1.0569557276336339
         },
         "mode": "lines",
         "showlegend": false,
         "x": [
          -0.20889619147524133,
          -0.09583395774014682
         ],
         "y": [
          0.2619539329487818,
          0.2619539329487818
         ],
         "type": "scatter"
        },
        {
         "line": {
          "color": "darkblue",
          "dash": "solid",
          "width": 2.7568629556528883
         },
         "mode": "lines",
         "showlegend": false,
         "x": [
          -0.20889619147524133,
          -0.20889619147524133
         ],
         "y": [
          0.2619539329487818,
          0.3905333871388895
         ],
         "type": "scatter"
        },
        {
         "line": {
          "color": "darkblue",
          "dash": "solid",
          "width": 1.1185377688417688
         },
         "mode": "lines",
         "showlegend": false,
         "x": [
          -0.20889619147524133,
          -0.03495429342124977
         ],
         "y": [
          0.3905333871388895,
          0.3905333871388895
         ],
         "type": "scatter"
        },
        {
         "line": {
          "color": "darkblue",
          "dash": "solid",
          "width": 2.5813688786270097
         },
         "mode": "lines",
         "showlegend": false,
         "x": [
          -0.20889619147524133,
          -0.20889619147524133
         ],
         "y": [
          0.3905333871388895,
          0.49339695049097565
         ],
         "type": "scatter"
        },
        {
         "line": {
          "color": "darkblue",
          "dash": "solid",
          "width": 1.1130735141110746
         },
         "mode": "lines",
         "showlegend": false,
         "x": [
          -0.20889619147524133,
          -0.1393194322536447
         ],
         "y": [
          0.49339695049097565,
          0.49339695049097565
         ],
         "type": "scatter"
        },
        {
         "line": {
          "color": "darkblue",
          "dash": "solid",
          "width": 2.4682953645159342
         },
         "mode": "lines",
         "showlegend": false,
         "x": [
          -0.20889619147524133,
          -0.20889619147524133
         ],
         "y": [
          0.49339695049097565,
          0.6219764046810834
         ],
         "type": "scatter"
        },
        {
         "line": {
          "color": "darkblue",
          "dash": "solid",
          "width": 1.0569563319228317
         },
         "mode": "lines",
         "showlegend": false,
         "x": [
          -0.1393194322536447,
          -0.03495429342124977
         ],
         "y": [
          0.49339695049097565,
          0.49339695049097565
         ],
         "type": "scatter"
        },
        {
         "line": {
          "color": "darkblue",
          "dash": "solid",
          "width": 1.5993501293181283
         },
         "mode": "lines",
         "showlegend": false,
         "x": [
          -0.20889619147524133,
          -0.2610787608914388
         ],
         "y": [
          0.6219764046810834,
          0.6219764046810834
         ],
         "type": "scatter"
        },
        {
         "line": {
          "color": "darkblue",
          "dash": "solid",
          "width": 1.569552642371137
         },
         "mode": "lines",
         "showlegend": false,
         "x": [
          -0.20889619147524133,
          -0.12192524244824555
         ],
         "y": [
          0.6219764046810834,
          0.6219764046810834
         ],
         "type": "scatter"
        },
        {
         "line": {
          "color": "darkblue",
          "dash": "solid",
          "width": 1.1708678205134697
         },
         "mode": "lines",
         "showlegend": false,
         "x": [
          -0.12192524244824555,
          -0.03495429342124977
         ],
         "y": [
          0.6219764046810834,
          0.6219764046810834
         ],
         "type": "scatter"
        },
        {
         "line": {
          "color": "darkblue",
          "dash": "solid",
          "width": 1.0569563391571792
         },
         "mode": "lines",
         "showlegend": false,
         "x": [
          -0.03495429342124977,
          0.05201665560574601
         ],
         "y": [
          0.6219764046810834,
          0.6219764046810834
         ],
         "type": "scatter"
        },
        {
         "line": {
          "color": "darkblue",
          "dash": "solid",
          "width": 1.0000000000000009
         },
         "mode": "lines",
         "showlegend": false,
         "x": [
          0.05201665560574601,
          0.2127389694076342
         ],
         "y": [
          0.6219764046810834,
          0.9578259390256447
         ],
         "type": "scatter"
        },
        {
         "line": {
          "color": "darkblue",
          "dash": "solid",
          "width": 6.667673293423691
         },
         "mode": "lines",
         "showlegend": false,
         "x": [
          -0.339352615015735,
          -0.20019909657254176
         ],
         "y": [
          -0.2909377200686813,
          -0.2909377200686813
         ],
         "type": "scatter"
        },
        {
         "line": {
          "color": "darkblue",
          "dash": "solid",
          "width": 6.553760446227485
         },
         "mode": "lines",
         "showlegend": false,
         "x": [
          -0.20019909657254176,
          -0.13062233735094514
         ],
         "y": [
          -0.2909377200686813,
          -0.2909377200686813
         ],
         "type": "scatter"
        },
        {
         "line": {
          "color": "darkblue",
          "dash": "solid",
          "width": 6.439847364463761
         },
         "mode": "lines",
         "showlegend": false,
         "x": [
          -0.13062233735094514,
          -0.08713686283744723
         ],
         "y": [
          -0.2909377200686813,
          -0.2909377200686813
         ],
         "type": "scatter"
        },
        {
         "line": {
          "color": "darkblue",
          "dash": "solid",
          "width": 1.1129093837515307
         },
         "mode": "lines",
         "showlegend": false,
         "x": [
          -0.08713686283744723,
          0.00853118109224812
         ],
         "y": [
          -0.2909377200686813,
          -0.2909377200686813
         ],
         "type": "scatter"
        },
        {
         "line": {
          "color": "darkblue",
          "dash": "solid",
          "width": 6.32693798071223
         },
         "mode": "lines",
         "showlegend": false,
         "x": [
          -0.08713686283744723,
          -0.08713686283744723
         ],
         "y": [
          -0.2909377200686813,
          -0.11092648420253053
         ],
         "type": "scatter"
        },
        {
         "line": {
          "color": "darkblue",
          "dash": "solid",
          "width": 1.056953644362828
         },
         "mode": "lines",
         "showlegend": false,
         "x": [
          0.00853118109224812,
          0.10419922502194348
         ],
         "y": [
          -0.2909377200686813,
          -0.2909377200686813
         ],
         "type": "scatter"
        },
        {
         "line": {
          "color": "darkblue",
          "dash": "solid",
          "width": 1.1152931642091293
         },
         "mode": "lines",
         "showlegend": false,
         "x": [
          -0.08713686283744723,
          -0.17410781186444302
         ],
         "y": [
          -0.11092648420253053,
          -0.11092648420253053
         ],
         "type": "scatter"
        },
        {
         "line": {
          "color": "darkblue",
          "dash": "solid",
          "width": 6.2116448165030995
         },
         "mode": "lines",
         "showlegend": false,
         "x": [
          -0.08713686283744723,
          0.1737759842435401
         ],
         "y": [
          -0.11092648420253053,
          -0.11092648420253053
         ],
         "type": "scatter"
        },
        {
         "line": {
          "color": "darkblue",
          "dash": "solid",
          "width": 1.0569534259123972
         },
         "mode": "lines",
         "showlegend": false,
         "x": [
          -0.17410781186444302,
          -0.2610787608914388
         ],
         "y": [
          -0.11092648420253053,
          -0.11092648420253053
         ],
         "type": "scatter"
        },
        {
         "line": {
          "color": "darkblue",
          "dash": "solid",
          "width": 1.0000000000000027
         },
         "mode": "lines",
         "showlegend": false,
         "x": [
          0.1737759842435401,
          0.1737759842435401
         ],
         "y": [
          -0.11092648420253053,
          -0.3938012834207675
         ],
         "type": "scatter"
        },
        {
         "line": {
          "color": "darkblue",
          "dash": "solid",
          "width": 2.0513158395657958
         },
         "mode": "lines",
         "showlegend": false,
         "x": [
          0.1737759842435401,
          0.1737759842435401
         ],
         "y": [
          -0.11092648420253053,
          0.01765296998757717
         ],
         "type": "scatter"
        },
        {
         "line": {
          "color": "darkblue",
          "dash": "solid",
          "width": 1.9380425741836282
         },
         "mode": "lines",
         "showlegend": false,
         "x": [
          0.1737759842435401,
          0.1737759842435401
         ],
         "y": [
          0.01765296998757717,
          0.10765858792065255
         ],
         "type": "scatter"
        },
        {
         "line": {
          "color": "darkblue",
          "dash": "solid",
          "width": 1.8241279916648814
         },
         "mode": "lines",
         "showlegend": false,
         "x": [
          0.1737759842435401,
          0.1737759842435401
         ],
         "y": [
          0.10765858792065255,
          0.28766982378680334
         ],
         "type": "scatter"
        },
        {
         "line": {
          "color": "darkblue",
          "dash": "solid",
          "width": 1.6071165890562726
         },
         "mode": "lines",
         "showlegend": false,
         "x": [
          0.1737759842435401,
          0.025925370897647276
         ],
         "y": [
          0.28766982378680334,
          0.28766982378680334
         ],
         "type": "scatter"
        },
        {
         "line": {
          "color": "darkblue",
          "dash": "solid",
          "width": 1.2135862550594223
         },
         "mode": "lines",
         "showlegend": false,
         "x": [
          0.025925370897647276,
          0.025925370897647276
         ],
         "y": [
          0.28766982378680334,
          0.12051653333966333
         ],
         "type": "scatter"
        },
        {
         "line": {
          "color": "darkblue",
          "dash": "solid",
          "width": 5.1033717445152025
         },
         "mode": "lines",
         "showlegend": false,
         "x": [
          0.2085643638543384,
          0.3303236924921325
         ],
         "y": [
          -0.11092648420253053,
          -0.11092648420253053
         ],
         "type": "scatter"
        },
        {
         "line": {
          "color": "darkblue",
          "dash": "solid",
          "width": 1.341745569017316
         },
         "mode": "lines",
         "showlegend": false,
         "x": [
          0.3303236924921325,
          0.3999004517137291
         ],
         "y": [
          -0.11092648420253053,
          -0.11092648420253053
         ],
         "type": "scatter"
        },
        {
         "line": {
          "color": "darkblue",
          "dash": "solid",
          "width": 3.498021155076144
         },
         "mode": "lines",
         "showlegend": false,
         "x": [
          0.3303236924921325,
          0.3303236924921325
         ],
         "y": [
          -0.11092648420253053,
          -0.252363883811649
         ],
         "type": "scatter"
        },
        {
         "line": {
          "color": "darkblue",
          "dash": "solid",
          "width": 2.2636050204217417
         },
         "mode": "lines",
         "showlegend": false,
         "x": [
          0.3303236924921325,
          0.3303236924921325
         ],
         "y": [
          -0.11092648420253053,
          0.01765296998757717
         ],
         "type": "scatter"
        },
        {
         "line": {
          "color": "darkblue",
          "dash": "solid",
          "width": 1.2847880981346396
         },
         "mode": "lines",
         "showlegend": false,
         "x": [
          0.3999004517137291,
          0.4955684956434245
         ],
         "y": [
          -0.11092648420253053,
          -0.11092648420253053
         ],
         "type": "scatter"
        },
        {
         "line": {
          "color": "darkblue",
          "dash": "solid",
          "width": 1.1708729699364442
         },
         "mode": "lines",
         "showlegend": false,
         "x": [
          0.4955684956434245,
          0.608630729378519
         ],
         "y": [
          -0.11092648420253053,
          -0.11092648420253053
         ],
         "type": "scatter"
        },
        {
         "line": {
          "color": "darkblue",
          "dash": "solid",
          "width": 1.1139153386920342
         },
         "mode": "lines",
         "showlegend": false,
         "x": [
          0.608630729378519,
          0.7042987733082143
         ],
         "y": [
          -0.11092648420253053,
          -0.11092648420253053
         ],
         "type": "scatter"
        },
        {
         "line": {
          "color": "darkblue",
          "dash": "solid",
          "width": 1.3472712880716942
         },
         "mode": "lines",
         "showlegend": false,
         "x": [
          0.3303236924921325,
          0.42599173642182786
         ],
         "y": [
          -0.252363883811649,
          -0.252363883811649
         ],
         "type": "scatter"
        },
        {
         "line": {
          "color": "darkblue",
          "dash": "solid",
          "width": 3.150749867004449
         },
         "mode": "lines",
         "showlegend": false,
         "x": [
          0.3303236924921325,
          0.3303236924921325
         ],
         "y": [
          -0.252363883811649,
          -0.35522744716373517
         ],
         "type": "scatter"
        },
        {
         "line": {
          "color": "darkblue",
          "dash": "solid",
          "width": 1.2333581398324658
         },
         "mode": "lines",
         "showlegend": false,
         "x": [
          0.42599173642182786,
          0.5477510650596219
         ],
         "y": [
          -0.252363883811649,
          -0.252363883811649
         ],
         "type": "scatter"
        },
        {
         "line": {
          "color": "darkblue",
          "dash": "solid",
          "width": 1.113913145051481
         },
         "mode": "lines",
         "showlegend": false,
         "x": [
          0.5477510650596219,
          0.6869045835028152
         ],
         "y": [
          -0.252363883811649,
          -0.252363883811649
         ],
         "type": "scatter"
        },
        {
         "line": {
          "color": "darkblue",
          "dash": "solid",
          "width": 1.6904167180147058
         },
         "mode": "lines",
         "showlegend": false,
         "x": [
          0.3303236924921325,
          0.46947721093532574
         ],
         "y": [
          -0.35522744716373517,
          -0.35522744716373517
         ],
         "type": "scatter"
        },
        {
         "line": {
          "color": "darkblue",
          "dash": "solid",
          "width": 1.7435344846175853
         },
         "mode": "lines",
         "showlegend": false,
         "x": [
          0.3303236924921325,
          0.23639506754297707
         ],
         "y": [
          -0.35522744716373517,
          -0.6895340280580152
         ],
         "type": "scatter"
        },
        {
         "line": {
          "color": "darkblue",
          "dash": "solid",
          "width": 1.5765113869806529
         },
         "mode": "lines",
         "showlegend": false,
         "x": [
          0.46947721093532574,
          0.5042655905461241
         ],
         "y": [
          -0.35522744716373517,
          -0.35522744716373517
         ],
         "type": "scatter"
        },
        {
         "line": {
          "color": "darkblue",
          "dash": "solid",
          "width": 1.120864353214565
         },
         "mode": "lines",
         "showlegend": false,
         "x": [
          0.5042655905461241,
          0.5825394446704203
         ],
         "y": [
          -0.35522744716373517,
          -0.35522744716373517
         ],
         "type": "scatter"
        },
        {
         "line": {
          "color": "darkblue",
          "dash": "solid",
          "width": 1.4556470337660872
         },
         "mode": "lines",
         "showlegend": false,
         "x": [
          0.5042655905461241,
          0.5042655905461241
         ],
         "y": [
          -0.35522744716373517,
          -0.5995284101249398
         ],
         "type": "scatter"
        },
        {
         "line": {
          "color": "darkblue",
          "dash": "solid",
          "width": 1.3417418009920692
         },
         "mode": "lines",
         "showlegend": false,
         "x": [
          0.5042655905461241,
          0.5042655905461241
         ],
         "y": [
          -0.5995284101249398,
          -0.8438293730861445
         ],
         "type": "scatter"
        },
        {
         "line": {
          "color": "darkblue",
          "dash": "solid",
          "width": 1.1708717945255032
         },
         "mode": "lines",
         "showlegend": false,
         "x": [
          0.5042655905461241,
          0.5042655905461241
         ],
         "y": [
          -0.8438293730861445,
          -0.9724088272762521
         ],
         "type": "scatter"
        },
        {
         "line": {
          "color": "darkblue",
          "dash": "solid",
          "width": 1.170870006466565
         },
         "mode": "lines",
         "showlegend": false,
         "x": [
          0.5042655905461241,
          0.7390871529190126
         ],
         "y": [
          -0.8438293730861445,
          -0.8438293730861445
         ],
         "type": "scatter"
        },
        {
         "line": {
          "color": "darkblue",
          "dash": "solid",
          "width": 1.0569566866777573
         },
         "mode": "lines",
         "showlegend": false,
         "x": [
          0.5042655905461241,
          0.5912365395731198
         ],
         "y": [
          -0.9724088272762521,
          -0.9724088272762521
         ],
         "type": "scatter"
        },
        {
         "line": {
          "color": "darkblue",
          "dash": "solid",
          "width": 1.1139133369044196
         },
         "mode": "lines",
         "showlegend": false,
         "x": [
          0.7390871529190126,
          0.7390871529190126
         ],
         "y": [
          -0.8438293730861445,
          -0.5995284101249398
         ],
         "type": "scatter"
        },
        {
         "line": {
          "color": "darkblue",
          "dash": "solid",
          "width": 1.6865818762543028
         },
         "mode": "lines",
         "showlegend": false,
         "x": [
          0.23639506754297707,
          0.16507888934084053
         ],
         "y": [
          -0.6895340280580152,
          -0.48380690135384286
         ],
         "type": "scatter"
        },
        {
         "line": {
          "color": "darkblue",
          "dash": "solid",
          "width": 1.1139151848959512
         },
         "mode": "lines",
         "showlegend": false,
         "x": [
          0.16507888934084053,
          0.13029050973004222
         ],
         "y": [
          -0.48380690135384286,
          -0.3938012834207675
         ],
         "type": "scatter"
        },
        {
         "line": {
          "color": "darkblue",
          "dash": "solid",
          "width": 1.4587615909140053
         },
         "mode": "lines",
         "showlegend": false,
         "x": [
          0.16507888934084053,
          0.06941084541114516
         ],
         "y": [
          -0.48380690135384286,
          -0.48380690135384286
         ],
         "type": "scatter"
        },
        {
         "line": {
          "color": "darkblue",
          "dash": "solid",
          "width": 1.1170278272396696
         },
         "mode": "lines",
         "showlegend": false,
         "x": [
          0.06941084541114516,
          0.06941084541114516
         ],
         "y": [
          -0.48380690135384286,
          -0.5995284101249398
         ],
         "type": "scatter"
        },
        {
         "line": {
          "color": "darkblue",
          "dash": "solid",
          "width": 1.3417337636743347
         },
         "mode": "lines",
         "showlegend": false,
         "x": [
          0.06941084541114516,
          -0.008863008713151037
         ],
         "y": [
          -0.48380690135384286,
          -0.48380690135384286
         ],
         "type": "scatter"
        },
        {
         "line": {
          "color": "darkblue",
          "dash": "solid",
          "width": 1.1139134841890228
         },
         "mode": "lines",
         "showlegend": false,
         "x": [
          -0.008863008713151037,
          -0.008863008713151037
         ],
         "y": [
          -0.48380690135384286,
          -0.6381022463819721
         ],
         "type": "scatter"
        },
        {
         "line": {
          "color": "darkblue",
          "dash": "solid",
          "width": 1.227820279485311
         },
         "mode": "lines",
         "showlegend": false,
         "x": [
          -0.008863008713151037,
          -0.08713686283744723
         ],
         "y": [
          -0.48380690135384286,
          -0.48380690135384286
         ],
         "type": "scatter"
        },
        {
         "line": {
          "color": "darkblue",
          "dash": "solid",
          "width": 1.1139152839260267
         },
         "mode": "lines",
         "showlegend": false,
         "x": [
          -0.08713686283744723,
          -0.08713686283744723
         ],
         "y": [
          -0.48380690135384286,
          -0.6252443009629614
         ],
         "type": "scatter"
        },
        {
         "line": {
          "color": "darkblue",
          "dash": "solid",
          "width": 1.1139049955592835
         },
         "mode": "lines",
         "showlegend": false,
         "x": [
          -0.08713686283744723,
          -0.19150200166984216
         ],
         "y": [
          -0.48380690135384286,
          -0.48380690135384286
         ],
         "type": "scatter"
        },
        {
         "line": {
          "color": "darkblue",
          "dash": "solid",
          "width": 1.0569524955164415
         },
         "mode": "lines",
         "showlegend": false,
         "x": [
          -0.19150200166984216,
          -0.19150200166984216
         ],
         "y": [
          -0.48380690135384286,
          -0.586670464705929
         ],
         "type": "scatter"
        },
        {
         "line": {
          "color": "darkblue",
          "dash": "solid",
          "width": 1.347862634325812
         },
         "mode": "lines",
         "showlegend": false,
         "x": [
          0.3303236924921325,
          0.42599173642182786
         ],
         "y": [
          0.01765296998757717,
          0.01765296998757717
         ],
         "type": "scatter"
        },
        {
         "line": {
          "color": "darkblue",
          "dash": "solid",
          "width": 1.2339477624440545
         },
         "mode": "lines",
         "showlegend": false,
         "x": [
          0.42599173642182786,
          0.6173278242812186
         ],
         "y": [
          0.01765296998757717,
          0.01765296998757717
         ],
         "type": "scatter"
        },
        {
         "line": {
          "color": "darkblue",
          "dash": "solid",
          "width": 1.1200422750468968
         },
         "mode": "lines",
         "showlegend": false,
         "x": [
          0.6173278242812186,
          0.7216929631136135
         ],
         "y": [
          0.01765296998757717,
          0.01765296998757717
         ],
         "type": "scatter"
        },
        {
         "line": {
          "color": "darkblue",
          "dash": "solid",
          "width": 1.0000000000000009
         },
         "mode": "lines",
         "showlegend": false,
         "x": [
          0.7216929631136135,
          1.0
         ],
         "y": [
          0.01765296998757717,
          0.01765296998757717
         ],
         "type": "scatter"
        },
        {
         "line": {
          "color": "darkblue",
          "dash": "solid",
          "width": 1.9157423860959288
         },
         "mode": "lines",
         "showlegend": false,
         "x": [
          0.3303236924921325,
          0.3303236924921325
         ],
         "y": [
          0.01765296998757717,
          0.06908475166362026
         ],
         "type": "scatter"
        },
        {
         "line": {
          "color": "darkblue",
          "dash": "solid",
          "width": 1.915742386095928
         },
         "mode": "lines",
         "showlegend": false,
         "x": [
          0.3303236924921325,
          0.3303236924921325
         ],
         "y": [
          0.06908475166362026,
          0.19766420585372796
         ],
         "type": "scatter"
        },
        {
         "line": {
          "color": "darkblue",
          "dash": "solid",
          "width": 1.2847828891173192
         },
         "mode": "lines",
         "showlegend": false,
         "x": [
          0.3303236924921325,
          0.4085975466164287
         ],
         "y": [
          0.19766420585372796,
          0.19766420585372796
         ],
         "type": "scatter"
        },
        {
         "line": {
          "color": "darkblue",
          "dash": "solid",
          "width": 1.6309594969786079
         },
         "mode": "lines",
         "showlegend": false,
         "x": [
          0.3303236924921325,
          0.3303236924921325
         ],
         "y": [
          0.19766420585372796,
          0.3391016054628464
         ],
         "type": "scatter"
        },
        {
         "line": {
          "color": "darkblue",
          "dash": "solid",
          "width": 1.2278263096630082
         },
         "mode": "lines",
         "showlegend": false,
         "x": [
          0.4085975466164287,
          0.5216597803515232
         ],
         "y": [
          0.19766420585372796,
          0.19766420585372796
         ],
         "type": "scatter"
        },
        {
         "line": {
          "color": "darkblue",
          "dash": "solid",
          "width": 1.113913153359966
         },
         "mode": "lines",
         "showlegend": false,
         "x": [
          0.5216597803515232,
          0.7651784376271114
         ],
         "y": [
          0.19766420585372796,
          0.19766420585372796
         ],
         "type": "scatter"
        },
        {
         "line": {
          "color": "darkblue",
          "dash": "solid",
          "width": 1.227810689553158
         },
         "mode": "lines",
         "showlegend": false,
         "x": [
          0.3303236924921325,
          0.4085975466164287
         ],
         "y": [
          0.3391016054628464,
          0.3391016054628464
         ],
         "type": "scatter"
        },
        {
         "line": {
          "color": "darkblue",
          "dash": "solid",
          "width": 1.403148807425449
         },
         "mode": "lines",
         "showlegend": false,
         "x": [
          0.3303236924921325,
          0.3303236924921325
         ],
         "y": [
          0.3391016054628464,
          0.5062548959099864
         ],
         "type": "scatter"
        },
        {
         "line": {
          "color": "darkblue",
          "dash": "solid",
          "width": 1.1139053204085079
         },
         "mode": "lines",
         "showlegend": false,
         "x": [
          0.4085975466164287,
          0.608630729378519
         ],
         "y": [
          0.3391016054628464,
          0.3391016054628464
         ],
         "type": "scatter"
        },
        {
         "line": {
          "color": "darkblue",
          "dash": "solid",
          "width": 1.4031488074254472
         },
         "mode": "lines",
         "showlegend": false,
         "x": [
          0.3303236924921325,
          0.4868714007407249
         ],
         "y": [
          0.5062548959099864,
          0.5062548959099864
         ],
         "type": "scatter"
        },
        {
         "line": {
          "color": "darkblue",
          "dash": "solid",
          "width": 1.0000000000000009
         },
         "mode": "lines",
         "showlegend": false,
         "x": [
          0.3303236924921325,
          0.23291622958189723
         ],
         "y": [
          0.5062548959099864,
          1.0
         ],
         "type": "scatter"
        },
        {
         "line": {
          "color": "darkblue",
          "dash": "solid",
          "width": 1.2892334800362333
         },
         "mode": "lines",
         "showlegend": false,
         "x": [
          0.4868714007407249,
          0.5912365395731198
         ],
         "y": [
          0.5062548959099864,
          0.5062548959099864
         ],
         "type": "scatter"
        },
        {
         "line": {
          "color": "darkblue",
          "dash": "solid",
          "width": 1.056957761225213
         },
         "mode": "lines",
         "showlegend": false,
         "x": [
          0.5912365395731198,
          0.5912365395731198
         ],
         "y": [
          0.5062548959099864,
          0.8019876405472341
         ],
         "type": "scatter"
        },
        {
         "line": {
          "color": "darkblue",
          "dash": "solid",
          "width": 1.2322757188110192
         },
         "mode": "lines",
         "showlegend": false,
         "x": [
          0.5912365395731198,
          0.5912365395731198
         ],
         "y": [
          0.5062548959099864,
          0.4419651688149326
         ],
         "type": "scatter"
        },
        {
         "line": {
          "color": "darkblue",
          "dash": "solid",
          "width": 1.174339177435318
         },
         "mode": "lines",
         "showlegend": false,
         "x": [
          0.5912365395731198,
          0.773875532529811
         ],
         "y": [
          0.4419651688149326,
          0.4419651688149326
         ],
         "type": "scatter"
        },
        {
         "line": {
          "color": "darkblue",
          "dash": "solid",
          "width": 1.0569577962173142
         },
         "mode": "lines",
         "showlegend": false,
         "x": [
          0.773875532529811,
          0.8869377662649055
         ],
         "y": [
          0.4419651688149326,
          0.4419651688149326
         ],
         "type": "scatter"
        },
        {
         "line": {
          "color": "darkblue",
          "dash": "solid",
          "width": 3.154187995950802
         },
         "mode": "lines",
         "showlegend": false,
         "x": [
          -0.37414099462653333,
          -0.339352615015735
         ],
         "y": [
          0.1333744787586741,
          0.1333744787586741
         ],
         "type": "scatter"
        },
        {
         "line": {
          "color": "darkblue",
          "dash": "solid",
          "width": 6.667673293423691
         },
         "mode": "lines",
         "showlegend": false,
         "x": [
          -0.37414099462653333,
          -0.339352615015735
         ],
         "y": [
          -0.2909377200686813,
          -0.2909377200686813
         ],
         "type": "scatter"
        },
        {
         "line": {
          "color": "darkblue",
          "dash": "solid",
          "width": 5.103371744515203
         },
         "mode": "lines",
         "showlegend": false,
         "x": [
          0.2085643638543384,
          0.2085643638543384
         ],
         "y": [
          -0.11092648420253053,
          -0.11092648420253053
         ],
         "type": "scatter"
        },
        {
         "line": {
          "color": "darkblue",
          "dash": "solid",
          "width": 5.103371744515204
         },
         "mode": "lines",
         "showlegend": false,
         "x": [
          0.1737759842435401,
          0.2085643638543384
         ],
         "y": [
          -0.11092648420253053,
          -0.11092648420253053
         ],
         "type": "scatter"
        },
        {
         "line": {
          "color": "darkblue",
          "dash": "solid",
          "width": 1.0000000000000018
         },
         "mode": "lines",
         "showlegend": false,
         "x": [
          0.1737759842435401,
          0.2085643638543384
         ],
         "y": [
          -0.3938012834207675,
          -0.3938012834207675
         ],
         "type": "scatter"
        },
        {
         "line": {
          "color": "darkblue",
          "dash": "solid",
          "width": 1.0000000000000009
         },
         "mode": "lines",
         "showlegend": false,
         "x": [
          0.2085643638543384,
          0.24335274346513672
         ],
         "y": [
          -0.3938012834207675,
          -0.3938012834207675
         ],
         "type": "scatter"
        },
        {
         "hoverinfo": "none",
         "marker": {
          "color": "black",
          "line": {
           "color": "black",
           "width": 1
          },
          "size": 20,
          "symbol": "square"
         },
         "mode": "markers",
         "name": "Substation",
         "showlegend": true,
         "x": [
          -0.8611783091777097
         ],
         "y": [
          -0.2909377200686813
         ],
         "type": "scatter"
        },
        {
         "hoverinfo": "none",
         "marker": {
          "color": "orange",
          "line": {
           "color": "black",
           "width": 0.5
          },
          "size": 10,
          "symbol": "star-triangle-up"
         },
         "mode": "markers",
         "name": "Reverse Power Flow",
         "showlegend": true,
         "x": [],
         "y": [],
         "type": "scatter"
        },
        {
         "hoverinfo": "none",
         "marker": {
          "color": "white",
          "line": {
           "color": "black",
           "width": 1
          },
          "size": 20,
          "symbol": "star-diamond"
         },
         "mode": "markers",
         "name": "Capacitors",
         "showlegend": true,
         "x": [
          0.5912365395731198,
          0.13029050973004222,
          0.06941084541114516,
          -0.008863008713151037
         ],
         "y": [
          -0.9724088272762521,
          -0.3938012834207675,
          -0.5995284101249398,
          -0.6381022463819721
         ],
         "type": "scatter"
        },
        {
         "hoverinfo": "none",
         "marker": {
          "color": "white",
          "line": {
           "color": "black",
           "width": 1
          },
          "size": 20,
          "symbol": "square"
         },
         "mode": "markers",
         "name": "Generators",
         "showlegend": true,
         "x": [],
         "y": [],
         "type": "scatter"
        },
        {
         "hovertemplate": "%{text}",
         "marker": {
          "cmax": 1.05,
          "cmin": 0.95,
          "color": [
           0.9999999999999986,
           1.0374999999999972,
           1.0372415328063123,
           1.0298465988742371,
           1.0345824051093788,
           1.0272089949736902,
           1.024585930472247,
           1.0266967120498112,
           1.025906003098644,
           1.0252317226546768,
           1.0210824050540588,
           1.0314676010589696,
           1.01020810167159,
           1.0160165480964787,
           1.0102081016715898,
           1.0085296050552055,
           1.0133765524628047,
           1.0092234949605032,
           1.0078693466413484,
           1.0082014213698458,
           1.012987118733623,
           1.0120128787841558,
           1.0125325900722644,
           0.9941295989262501,
           1.0086656822142714,
           0.9932772722117431,
           1.0238962738166815,
           1.008274653367095,
           1.0031990211366204,
           1.0079053941281335,
           1.0050084923336753,
           1.0046317246940963,
           1.0077417165940061,
           1.0044355680878634,
           1.002659895621781,
           1.0043440511064052,
           1.0075857755176334,
           1.0075074447371521,
           1.0075074447371521,
           1.002266298188697,
           1.0070465481037276,
           1.0069409004934236,
           1.0058174079685787,
           0.9909651992421727,
           1.0214882405330474,
           1.021069705405203,
           1.0043938775577614,
           1.0046226784669041,
           1.0189684885805326,
           1.0037492659178584,
           0.9880136390704143,
           1.002715397618562,
           0.9876141879802571,
           1.0024560729481398,
           1.0023349066252836,
           1.0022229491136894,
           1.0021886951448227,
           1.0021886951448227,
           1.0125661334446616,
           1.0109473065871581,
           1.009963487502773,
           1.009892421884664,
           1.0072451206055408,
           1.0098532671170286,
           1.0231927014431759,
           1.0015625807112307,
           1.0228713067693924,
           1.0015625807112307,
           1.0002507948893633,
           0.9994315424795537,
           0.9979842354827543,
           0.9966431619646784,
           0.9962940882708993,
           1.0309423639358546,
           1.0313153503928643,
           1.0307219748625007,
           1.030201745549794,
           1.0295601778696368,
           1.0283137845769894,
           1.0276100237890426,
           1.0271178391328821,
           1.0307359090005843,
           1.0252799697536874,
           1.0242532212927447,
           1.031812259954022,
           1.0303349018631944,
           1.0321068429726095,
           1.0320341896469458,
           1.0336579388591687,
           1.034273518258343,
           1.0352375247527912,
           1.0294455896285,
           1.03627634975773,
           1.0282311515680689,
           1.0300835841554983,
           1.0318579434923325,
           1.029986567621527,
           1.026176909379391,
           1.0298827088070406,
           1.032335385854846,
           1.0297558368884936,
           1.0302771639748147,
           1.029678061730333,
           1.0251437501450158,
           1.029980287926556,
           1.0296929278558105,
           1.0296023748056222,
           1.0296023748056222,
           1.0301746954638187,
           1.0296349166142675,
           1.0267150637796127,
           1.0292373922923845,
           1.0250484113197897,
           1.0232505190045682,
           1.028410679819935,
           1.0289103998597329,
           1.0269389631682626,
           1.024194656592903,
           1.0289103998597329,
           1.0222363028669375,
           1.021496160753851,
           1.0215801721770486,
           1.0195090259350499,
           1.0190896308829962,
           1.0091532498908242,
           1.0158875159729135,
           1.0325686406394554,
           1.001480644805415,
           1.0015625807112307,
           1.0015625807112303
          ],
          "colorscale": [
           [
            0.0,
            "#440154"
           ],
           [
            0.1111111111111111,
            "#482878"
           ],
           [
            0.2222222222222222,
            "#3e4989"
           ],
           [
            0.3333333333333333,
            "#31688e"
           ],
           [
            0.4444444444444444,
            "#26828e"
           ],
           [
            0.5555555555555556,
            "#1f9e89"
           ],
           [
            0.6666666666666666,
            "#35b779"
           ],
           [
            0.7777777777777778,
            "#6ece58"
           ],
           [
            0.8888888888888888,
            "#b5de2b"
           ],
           [
            1.0,
            "#fde725"
           ]
          ],
          "line": {
           "color": "black",
           "width": 2.0
          },
          "reversescale": false,
          "showscale": true,
          "size": 10
         },
         "mode": "markers",
         "showlegend": false,
         "text": [
          "Bus: '150'      A   ||   B   ||   C<br>    |V|:      1.000  1.000  1.000<br>    P-Load: 0.000  0.000  0.000<br>    Q-Load: 0.000  0.000  0.000",
          "Bus: '150r'      A   ||   B   ||   C<br>    |V|:      1.037  1.037  1.037<br>    P-Load: 0.000  0.000  0.000<br>    Q-Load: 0.000  0.000  0.000<br>Branch 150→150r<br>    P flow:  1.408  0.950  1.153<br>    Q flow:  0.478  0.304  0.347",
          "Bus: '149'      A   ||   B   ||   C<br>    |V|:      1.037  1.037  1.037<br>    P-Load: 0.000  0.000  0.000<br>    Q-Load: 0.000  0.000  0.000<br>Branch 150r→149<br>    P flow:  1.408  0.950  1.153<br>    Q flow:  0.478  0.304  0.347",
          "Bus: '1'      A   ||   B   ||   C<br>    |V|:      1.026  1.035  1.029<br>    P-Load: 0.040  0.000  0.000<br>    Q-Load: 0.020  0.000  0.000<br>Branch 149→1<br>    P flow:  1.408  0.950  1.153<br>    Q flow:  0.478  0.304  0.347",
          "Bus: '2'      A   ||   B   ||   C<br>    |V|:      nan  1.035  nan<br>    P-Load: 0.000  0.020  0.000<br>    Q-Load: 0.000  0.010  0.000<br>Branch 1→2<br>    P flow:  nan  0.020  nan<br>    Q flow:  0.000  0.010  0.000",
          "Bus: '3'      A   ||   B   ||   C<br>    |V|:      nan  nan  1.027<br>    P-Load: 0.000  0.000  0.000<br>    Q-Load: 0.000  0.000  0.000<br>Branch 1→3<br>    P flow:  nan  nan  0.103<br>    Q flow:  0.000  0.000  0.051",
          "Bus: '7'      A   ||   B   ||   C<br>    |V|:      1.017  1.033  1.023<br>    P-Load: 0.020  0.000  0.000<br>    Q-Load: 0.010  0.000  0.000<br>Branch 1→7<br>    P flow:  1.368  0.930  1.051<br>    Q flow:  0.458  0.294  0.295",
          "Bus: '4'      A   ||   B   ||   C<br>    |V|:      nan  nan  1.027<br>    P-Load: 0.000  0.000  0.040<br>    Q-Load: 0.000  0.000  0.020<br>Branch 3→4<br>    P flow:  nan  nan  0.040<br>    Q flow:  0.000  0.000  0.020",
          "Bus: '5'      A   ||   B   ||   C<br>    |V|:      nan  nan  1.026<br>    P-Load: 0.000  0.000  0.021<br>    Q-Load: 0.000  0.000  0.010<br>Branch 3→5<br>    P flow:  nan  nan  0.063<br>    Q flow:  0.000  0.000  0.031",
          "Bus: '6'      A   ||   B   ||   C<br>    |V|:      nan  nan  1.025<br>    P-Load: 0.000  0.000  0.042<br>    Q-Load: 0.000  0.000  0.021<br>Branch 5→6<br>    P flow:  nan  nan  0.042<br>    Q flow:  0.000  0.000  0.021",
          "Bus: '8'      A   ||   B   ||   C<br>    |V|:      1.012  1.032  1.020<br>    P-Load: 0.000  0.000  0.000<br>    Q-Load: 0.000  0.000  0.000<br>Branch 7→8<br>    P flow:  1.348  0.930  1.051<br>    Q flow:  0.448  0.294  0.295",
          "Bus: '12'      A   ||   B   ||   C<br>    |V|:      nan  1.031  nan<br>    P-Load: 0.000  0.020  0.000<br>    Q-Load: 0.000  0.010  0.000<br>Branch 8→12<br>    P flow:  nan  0.020  nan<br>    Q flow:  0.000  0.010  0.000",
          "Bus: '9'      A   ||   B   ||   C<br>    |V|:      1.010  nan  nan<br>    P-Load: 0.040  0.000  0.000<br>    Q-Load: 0.020  0.000  0.000<br>Branch 8→9<br>    P flow:  0.101  nan  nan<br>    Q flow:  0.050  0.000  0.000",
          "Bus: '13'      A   ||   B   ||   C<br>    |V|:      1.004  1.029  1.014<br>    P-Load: 0.000  0.000  0.000<br>    Q-Load: 0.000  0.000  0.000<br>Branch 8→13<br>    P flow:  1.247  0.910  1.051<br>    Q flow:  0.398  0.284  0.295",
          "Bus: '9r'      A   ||   B   ||   C<br>    |V|:      1.010  nan  nan<br>    P-Load: 0.000  0.000  0.000<br>    Q-Load: 0.000  0.000  0.000<br>Branch 9→9r<br>    P flow:  0.061  nan  nan<br>    Q flow:  0.030  0.000  0.000",
          "Bus: '14'      A   ||   B   ||   C<br>    |V|:      1.009  nan  nan<br>    P-Load: 0.000  0.000  0.000<br>    Q-Load: 0.000  0.000  0.000<br>Branch 9r→14<br>    P flow:  0.061  nan  nan<br>    Q flow:  0.030  0.000  0.000",
          "Bus: '34'      A   ||   B   ||   C<br>    |V|:      nan  nan  1.013<br>    P-Load: 0.000  0.000  0.041<br>    Q-Load: 0.000  0.000  0.021<br>Branch 13→34<br>    P flow:  nan  nan  0.101<br>    Q flow:  0.000  0.000  0.051",
          "Bus: '18'      A   ||   B   ||   C<br>    |V|:      0.995  1.025  1.007<br>    P-Load: 0.000  0.000  0.000<br>    Q-Load: 0.000  0.000  0.000<br>Branch 13→18<br>    P flow:  0.480  0.317  0.320<br>    Q flow:  0.255  0.211  0.185",
          "Bus: '11'      A   ||   B   ||   C<br>    |V|:      1.008  nan  nan<br>    P-Load: 0.040  0.000  0.000<br>    Q-Load: 0.020  0.000  0.000<br>Branch 14→11<br>    P flow:  0.040  nan  nan<br>    Q flow:  0.020  0.000  0.000",
          "Bus: '10'      A   ||   B   ||   C<br>    |V|:      1.008  nan  nan<br>    P-Load: 0.020  0.000  0.000<br>    Q-Load: 0.010  0.000  0.000<br>Branch 14→10<br>    P flow:  0.020  nan  nan<br>    Q flow:  0.010  0.000  0.000",
          "Bus: '15'      A   ||   B   ||   C<br>    |V|:      nan  nan  1.013<br>    P-Load: 0.000  0.000  0.000<br>    Q-Load: 0.000  0.000  0.000<br>Branch 34→15<br>    P flow:  nan  nan  0.060<br>    Q flow:  0.000  0.000  0.030",
          "Bus: '16'      A   ||   B   ||   C<br>    |V|:      nan  nan  1.012<br>    P-Load: 0.000  0.000  0.040<br>    Q-Load: 0.000  0.000  0.020<br>Branch 15→16<br>    P flow:  nan  nan  0.040<br>    Q flow:  0.000  0.000  0.020",
          "Bus: '17'      A   ||   B   ||   C<br>    |V|:      nan  nan  1.013<br>    P-Load: 0.000  0.000  0.020<br>    Q-Load: 0.000  0.000  0.010<br>Branch 15→17<br>    P flow:  nan  nan  0.020<br>    Q flow:  0.000  0.000  0.010",
          "Bus: '19'      A   ||   B   ||   C<br>    |V|:      0.994  nan  nan<br>    P-Load: 0.040  0.000  0.000<br>    Q-Load: 0.020  0.000  0.000<br>Branch 18→19<br>    P flow:  0.080  nan  nan<br>    Q flow:  0.040  0.000  0.000",
          "Bus: '21'      A   ||   B   ||   C<br>    |V|:      0.995  1.025  1.006<br>    P-Load: 0.000  0.000  0.000<br>    Q-Load: 0.000  0.000  0.000<br>Branch 18→21<br>    P flow:  0.119  0.042  0.120<br>    Q flow:  0.059  0.021  0.060",
          "Bus: '20'      A   ||   B   ||   C<br>    |V|:      0.993  nan  nan<br>    P-Load: 0.040  0.000  0.000<br>    Q-Load: 0.020  0.000  0.000<br>Branch 19→20<br>    P flow:  0.040  nan  nan<br>    Q flow:  0.020  0.000  0.000",
          "Bus: '22'      A   ||   B   ||   C<br>    |V|:      nan  1.024  nan<br>    P-Load: 0.000  0.042  0.000<br>    Q-Load: 0.000  0.021  0.000<br>Branch 21→22<br>    P flow:  nan  0.042  nan<br>    Q flow:  0.000  0.021  0.000",
          "Bus: '23'      A   ||   B   ||   C<br>    |V|:      0.995  1.026  1.005<br>    P-Load: 0.000  0.000  0.000<br>    Q-Load: 0.000  0.000  0.000<br>Branch 21→23<br>    P flow:  0.119  0.000  0.120<br>    Q flow:  0.059  -0.000  0.060",
          "Bus: '24'      A   ||   B   ||   C<br>    |V|:      nan  nan  1.003<br>    P-Load: 0.000  0.000  0.040<br>    Q-Load: 0.000  0.000  0.020<br>Branch 23→24<br>    P flow:  nan  nan  0.040<br>    Q flow:  0.000  0.000  0.020",
          "Bus: '25'      A   ||   B   ||   C<br>    |V|:      0.994  1.026  1.004<br>    P-Load: 0.000  0.000  0.000<br>    Q-Load: 0.000  0.000  0.000<br>Branch 23→25<br>    P flow:  0.119  0.000  0.080<br>    Q flow:  0.059  -0.000  0.040",
          "Bus: '25r'      A   ||   B   ||   C<br>    |V|:      1.006  nan  1.004<br>    P-Load: 0.000  0.000  0.000<br>    Q-Load: 0.000  0.000  0.000<br>Branch 25→25r<br>    P flow:  0.040  nan  0.040<br>    Q flow:  0.020  0.000  0.020",
          "Bus: '26'      A   ||   B   ||   C<br>    |V|:      1.006  nan  1.003<br>    P-Load: 0.000  0.000  0.000<br>    Q-Load: 0.000  0.000  0.000<br>Branch 25r→26<br>    P flow:  0.040  nan  0.040<br>    Q flow:  0.020  0.000  0.020",
          "Bus: '28'      A   ||   B   ||   C<br>    |V|:      0.993  1.026  1.003<br>    P-Load: 0.040  0.000  0.000<br>    Q-Load: 0.020  0.000  0.000<br>Branch 25→28<br>    P flow:  0.079  0.000  0.040<br>    Q flow:  0.039  -0.000  0.020",
          "Bus: '27'      A   ||   B   ||   C<br>    |V|:      1.006  nan  1.003<br>    P-Load: 0.000  0.000  0.000<br>    Q-Load: 0.000  0.000  0.000<br>Branch 26→27<br>    P flow:  0.040  nan  -0.000<br>    Q flow:  0.020  0.000  0.000",
          "Bus: '31'      A   ||   B   ||   C<br>    |V|:      nan  nan  1.003<br>    P-Load: 0.000  0.000  0.020<br>    Q-Load: 0.000  0.000  0.010<br>Branch 26→31<br>    P flow:  nan  nan  0.040<br>    Q flow:  0.000  0.000  0.020",
          "Bus: '33'      A   ||   B   ||   C<br>    |V|:      1.004  nan  nan<br>    P-Load: 0.040  0.000  0.000<br>    Q-Load: 0.020  0.000  0.000<br>Branch 27→33<br>    P flow:  0.040  nan  nan<br>    Q flow:  0.020  0.000  0.000",
          "Bus: '29'      A   ||   B   ||   C<br>    |V|:      0.993  1.026  1.003<br>    P-Load: 0.039  0.000  0.000<br>    Q-Load: 0.020  0.000  0.000<br>Branch 28→29<br>    P flow:  0.039  0.000  0.040<br>    Q flow:  0.020  -0.000  0.020",
          "Bus: '30'      A   ||   B   ||   C<br>    |V|:      0.994  1.026  1.002<br>    P-Load: 0.000  0.000  0.040<br>    Q-Load: 0.000  0.000  0.020<br>Branch 29→30<br>    P flow:  0.000  0.000  0.040<br>    Q flow:  0.000  -0.000  0.020",
          "Bus: '250'      A   ||   B   ||   C<br>    |V|:      0.994  1.026  1.002<br>    P-Load: 0.000  0.000  0.000<br>    Q-Load: 0.000  0.000  0.000<br>Branch 30→250<br>    P flow:  0.000  0.000  -0.000<br>    Q flow:  0.000  -0.000  0.000",
          "Bus: '32'      A   ||   B   ||   C<br>    |V|:      nan  nan  1.002<br>    P-Load: 0.000  0.000  0.020<br>    Q-Load: 0.000  0.000  0.010<br>Branch 31→32<br>    P flow:  nan  nan  0.020<br>    Q flow:  0.000  0.000  0.010",
          "Bus: '35'      A   ||   B   ||   C<br>    |V|:      0.993  1.023  1.006<br>    P-Load: 0.025  0.015  0.000<br>    Q-Load: -0.002  0.022  0.000<br>Branch 135→35<br>    P flow:  0.281  0.275  0.200<br>    Q flow:  0.155  0.190  0.125",
          "Bus: '36'      A   ||   B   ||   C<br>    |V|:      0.992  1.022  nan<br>    P-Load: 0.000  0.000  0.000<br>    Q-Load: 0.000  0.000  0.000<br>Branch 35→36<br>    P flow:  0.039  0.040  nan<br>    Q flow:  0.020  0.020  0.000",
          "Bus: '40'      A   ||   B   ||   C<br>    |V|:      0.991  1.021  1.005<br>    P-Load: 0.000  0.000  0.000<br>    Q-Load: 0.000  0.000  0.000<br>Branch 35→40<br>    P flow:  0.217  0.220  0.200<br>    Q flow:  0.138  0.148  0.125",
          "Bus: '37'      A   ||   B   ||   C<br>    |V|:      0.991  nan  nan<br>    P-Load: 0.039  0.000  0.000<br>    Q-Load: 0.020  0.000  0.000<br>Branch 36→37<br>    P flow:  0.039  nan  nan<br>    Q flow:  0.020  0.000  0.000",
          "Bus: '38'      A   ||   B   ||   C<br>    |V|:      nan  1.021  nan<br>    P-Load: 0.000  0.020  0.000<br>    Q-Load: 0.000  0.010  0.000<br>Branch 36→38<br>    P flow:  nan  0.040  nan<br>    Q flow:  0.000  0.020  0.000",
          "Bus: '39'      A   ||   B   ||   C<br>    |V|:      nan  1.021  nan<br>    P-Load: 0.000  0.020  0.000<br>    Q-Load: 0.000  0.010  0.000<br>Branch 38→39<br>    P flow:  nan  0.020  nan<br>    Q flow:  0.000  0.010  0.000",
          "Bus: '41'      A   ||   B   ||   C<br>    |V|:      nan  nan  1.004<br>    P-Load: 0.000  0.000  0.020<br>    Q-Load: 0.000  0.000  0.010<br>Branch 40→41<br>    P flow:  nan  nan  0.020<br>    Q flow:  0.000  0.000  0.010",
          "Bus: '42'      A   ||   B   ||   C<br>    |V|:      0.990  1.020  1.004<br>    P-Load: 0.020  0.000  0.000<br>    Q-Load: 0.010  0.000  0.000<br>Branch 40→42<br>    P flow:  0.217  0.220  0.180<br>    Q flow:  0.138  0.148  0.115",
          "Bus: '43'      A   ||   B   ||   C<br>    |V|:      nan  1.019  nan<br>    P-Load: 0.000  0.042  0.000<br>    Q-Load: 0.000  0.021  0.000<br>Branch 42→43<br>    P flow:  nan  0.042  nan<br>    Q flow:  0.000  0.021  0.000",
          "Bus: '44'      A   ||   B   ||   C<br>    |V|:      0.989  1.020  1.003<br>    P-Load: 0.000  0.000  0.000<br>    Q-Load: 0.000  0.000  0.000<br>Branch 42→44<br>    P flow:  0.197  0.178  0.180<br>    Q flow:  0.128  0.127  0.115",
          "Bus: '45'      A   ||   B   ||   C<br>    |V|:      0.988  nan  nan<br>    P-Load: 0.020  0.000  0.000<br>    Q-Load: 0.010  0.000  0.000<br>Branch 44→45<br>    P flow:  0.040  nan  nan<br>    Q flow:  0.020  0.000  0.000",
          "Bus: '47'      A   ||   B   ||   C<br>    |V|:      0.988  1.018  1.002<br>    P-Load: 0.034  0.036  0.035<br>    Q-Load: 0.025  0.025  0.025<br>Branch 44→47<br>    P flow:  0.157  0.178  0.180<br>    Q flow:  0.108  0.127  0.115",
          "Bus: '46'      A   ||   B   ||   C<br>    |V|:      0.988  nan  nan<br>    P-Load: 0.020  0.000  0.000<br>    Q-Load: 0.010  0.000  0.000<br>Branch 45→46<br>    P flow:  0.020  nan  nan<br>    Q flow:  0.010  0.000  0.000",
          "Bus: '48'      A   ||   B   ||   C<br>    |V|:      0.987  1.018  1.002<br>    P-Load: 0.068  0.073  0.070<br>    Q-Load: 0.048  0.052  0.050<br>Branch 47→48<br>    P flow:  0.068  0.073  0.070<br>    Q flow:  0.048  0.052  0.050",
          "Bus: '49'      A   ||   B   ||   C<br>    |V|:      0.987  1.018  1.002<br>    P-Load: 0.035  0.070  0.035<br>    Q-Load: 0.025  0.050  0.020<br>Branch 47→49<br>    P flow:  0.055  0.070  0.075<br>    Q flow:  0.035  0.050  0.040",
          "Bus: '50'      A   ||   B   ||   C<br>    |V|:      0.987  1.018  1.001<br>    P-Load: 0.000  0.000  0.040<br>    Q-Load: 0.000  0.000  0.020<br>Branch 49→50<br>    P flow:  0.020  0.000  0.040<br>    Q flow:  0.010  -0.000  0.020",
          "Bus: '51'      A   ||   B   ||   C<br>    |V|:      0.987  1.018  1.001<br>    P-Load: 0.020  0.000  0.000<br>    Q-Load: 0.010  0.000  0.000<br>Branch 50→51<br>    P flow:  0.020  0.000  -0.000<br>    Q flow:  0.010  -0.000  0.000",
          "Bus: '151'      A   ||   B   ||   C<br>    |V|:      0.987  1.018  1.001<br>    P-Load: 0.000  0.000  0.000<br>    Q-Load: 0.000  0.000  0.000<br>Branch 51→151<br>    P flow:  0.000  0.000  -0.000<br>    Q flow:  0.000  -0.000  0.000",
          "Bus: '52'      A   ||   B   ||   C<br>    |V|:      0.998  1.028  1.011<br>    P-Load: 0.040  0.000  0.000<br>    Q-Load: 0.020  0.000  0.000<br>Branch 152→52<br>    P flow:  0.767  0.593  0.629<br>    Q flow:  0.143  0.072  0.060",
          "Bus: '53'      A   ||   B   ||   C<br>    |V|:      0.996  1.027  1.010<br>    P-Load: 0.040  0.000  0.000<br>    Q-Load: 0.020  0.000  0.000<br>Branch 52→53<br>    P flow:  0.727  0.593  0.629<br>    Q flow:  0.123  0.072  0.060",
          "Bus: '54'      A   ||   B   ||   C<br>    |V|:      0.994  1.027  1.009<br>    P-Load: 0.000  0.000  0.000<br>    Q-Load: 0.000  0.000  0.000<br>Branch 53→54<br>    P flow:  0.687  0.593  0.629<br>    Q flow:  0.103  0.072  0.060",
          "Bus: '55'      A   ||   B   ||   C<br>    |V|:      0.994  1.027  1.009<br>    P-Load: 0.020  0.000  0.000<br>    Q-Load: 0.010  0.000  0.000<br>Branch 54→55<br>    P flow:  0.020  0.020  -0.000<br>    Q flow:  0.010  0.010  0.000",
          "Bus: '57'      A   ||   B   ||   C<br>    |V|:      0.992  1.024  1.006<br>    P-Load: 0.000  0.000  0.000<br>    Q-Load: 0.000  0.000  0.000<br>Branch 54→57<br>    P flow:  0.668  0.573  0.629<br>    Q flow:  0.093  0.062  0.060",
          "Bus: '56'      A   ||   B   ||   C<br>    |V|:      0.994  1.026  1.009<br>    P-Load: 0.000  0.020  0.000<br>    Q-Load: 0.000  0.010  0.000<br>Branch 55→56<br>    P flow:  0.000  0.020  -0.000<br>    Q flow:  0.000  0.010  0.000",
          "Bus: '58'      A   ||   B   ||   C<br>    |V|:      nan  1.023  nan<br>    P-Load: 0.000  0.020  0.000<br>    Q-Load: 0.000  0.010  0.000<br>Branch 57→58<br>    P flow:  nan  0.040  nan<br>    Q flow:  0.000  0.020  0.000",
          "Bus: '60'      A   ||   B   ||   C<br>    |V|:      0.985  1.019  1.000<br>    P-Load: 0.020  0.000  0.000<br>    Q-Load: 0.010  0.000  0.000<br>Branch 57→60<br>    P flow:  0.668  0.533  0.629<br>    Q flow:  0.093  0.042  0.060",
          "Bus: '59'      A   ||   B   ||   C<br>    |V|:      nan  1.023  nan<br>    P-Load: 0.000  0.020  0.000<br>    Q-Load: 0.000  0.010  0.000<br>Branch 58→59<br>    P flow:  nan  0.020  nan<br>    Q flow:  0.000  0.010  0.000",
          "Bus: '61'      A   ||   B   ||   C<br>    |V|:      0.985  1.019  1.000<br>    P-Load: 0.000  0.000  0.000<br>    Q-Load: 0.000  0.000  0.000<br>Branch 60→61<br>    P flow:  0.000  0.000  -0.000<br>    Q flow:  0.000  -0.000  0.000",
          "Bus: '62'      A   ||   B   ||   C<br>    |V|:      0.985  1.018  0.998<br>    P-Load: 0.000  0.000  0.040<br>    Q-Load: 0.000  0.000  0.020<br>Branch 60→62<br>    P flow:  0.084  0.112  0.173<br>    Q flow:  0.065  0.061  0.083",
          "Bus: '63'      A   ||   B   ||   C<br>    |V|:      0.984  1.017  0.997<br>    P-Load: 0.040  0.000  0.000<br>    Q-Load: 0.020  0.000  0.000<br>Branch 62→63<br>    P flow:  0.084  0.112  0.134<br>    Q flow:  0.065  0.061  0.063",
          "Bus: '64'      A   ||   B   ||   C<br>    |V|:      0.984  1.015  0.995<br>    P-Load: 0.000  0.076  0.000<br>    Q-Load: 0.000  0.036  0.000<br>Branch 63→64<br>    P flow:  0.044  0.112  0.134<br>    Q flow:  0.045  0.061  0.063",
          "Bus: '65'      A   ||   B   ||   C<br>    |V|:      0.983  1.015  0.992<br>    P-Load: 0.044  0.035  0.059<br>    Q-Load: 0.045  0.025  0.028<br>Branch 64→65<br>    P flow:  0.044  0.035  0.134<br>    Q flow:  0.045  0.025  0.063",
          "Bus: '66'      A   ||   B   ||   C<br>    |V|:      0.983  1.015  0.991<br>    P-Load: 0.000  0.000  0.075<br>    Q-Load: 0.000  0.000  0.035<br>Branch 65→66<br>    P flow:  0.000  0.000  0.075<br>    Q flow:  0.000  -0.000  0.035",
          "Bus: '67'      A   ||   B   ||   C<br>    |V|:      1.033  1.031  1.029<br>    P-Load: 0.000  0.000  0.000<br>    Q-Load: 0.000  0.000  0.000<br>Branch 160r→67<br>    P flow:  0.564  0.421  0.456<br>    Q flow:  0.018  -0.019  -0.023",
          "Bus: '68'      A   ||   B   ||   C<br>    |V|:      1.031  nan  nan<br>    P-Load: 0.020  0.000  0.000<br>    Q-Load: 0.010  0.000  0.000<br>Branch 67→68<br>    P flow:  0.120  nan  nan<br>    Q flow:  0.060  0.000  0.000",
          "Bus: '72'      A   ||   B   ||   C<br>    |V|:      1.033  1.030  1.029<br>    P-Load: 0.000  0.000  0.000<br>    Q-Load: 0.000  0.000  0.000<br>Branch 67→72<br>    P flow:  0.262  0.301  0.314<br>    Q flow:  -0.133  -0.079  -0.094",
          "Bus: '97'      A   ||   B   ||   C<br>    |V|:      1.032  1.030  1.029<br>    P-Load: 0.000  0.000  0.000<br>    Q-Load: 0.000  0.000  0.000<br>Branch 67→97<br>    P flow:  0.182  0.120  0.142<br>    Q flow:  0.091  0.060  0.071",
          "Bus: '69'      A   ||   B   ||   C<br>    |V|:      1.030  nan  nan<br>    P-Load: 0.040  0.000  0.000<br>    Q-Load: 0.020  0.000  0.000<br>Branch 68→69<br>    P flow:  0.100  nan  nan<br>    Q flow:  0.050  0.000  0.000",
          "Bus: '70'      A   ||   B   ||   C<br>    |V|:      1.028  nan  nan<br>    P-Load: 0.020  0.000  0.000<br>    Q-Load: 0.010  0.000  0.000<br>Branch 69→70<br>    P flow:  0.060  nan  nan<br>    Q flow:  0.030  0.000  0.000",
          "Bus: '71'      A   ||   B   ||   C<br>    |V|:      1.028  nan  nan<br>    P-Load: 0.040  0.000  0.000<br>    Q-Load: 0.020  0.000  0.000<br>Branch 70→71<br>    P flow:  0.040  nan  nan<br>    Q flow:  0.020  0.000  0.000",
          "Bus: '73'      A   ||   B   ||   C<br>    |V|:      nan  nan  1.027<br>    P-Load: 0.000  0.000  0.040<br>    Q-Load: 0.000  0.000  0.020<br>Branch 72→73<br>    P flow:  nan  nan  0.122<br>    Q flow:  0.000  0.000  0.061",
          "Bus: '76'      A   ||   B   ||   C<br>    |V|:      1.033  1.029  1.030<br>    P-Load: 0.100  0.080  0.072<br>    Q-Load: 0.055  0.078  0.052<br>Branch 72→76<br>    P flow:  0.262  0.301  0.192<br>    Q flow:  -0.133  -0.079  -0.155",
          "Bus: '74'      A   ||   B   ||   C<br>    |V|:      nan  nan  1.025<br>    P-Load: 0.000  0.000  0.042<br>    Q-Load: 0.000  0.000  0.021<br>Branch 73→74<br>    P flow:  nan  nan  0.082<br>    Q flow:  0.000  0.000  0.041",
          "Bus: '75'      A   ||   B   ||   C<br>    |V|:      nan  nan  1.024<br>    P-Load: 0.000  0.000  0.040<br>    Q-Load: 0.000  0.000  0.020<br>Branch 74→75<br>    P flow:  nan  nan  0.040<br>    Q flow:  0.000  0.000  0.020",
          "Bus: '77'      A   ||   B   ||   C<br>    |V|:      1.034  1.030  1.031<br>    P-Load: 0.000  0.040  0.000<br>    Q-Load: 0.000  0.020  0.000<br>Branch 76→77<br>    P flow:  0.082  0.080  0.080<br>    Q flow:  -0.175  -0.174  -0.174",
          "Bus: '86'      A   ||   B   ||   C<br>    |V|:      1.032  1.027  1.031<br>    P-Load: 0.000  0.020  0.000<br>    Q-Load: 0.000  0.010  0.000<br>Branch 76→86<br>    P flow:  0.080  0.141  0.040<br>    Q flow:  -0.013  0.018  -0.033",
          "Bus: '78'      A   ||   B   ||   C<br>    |V|:      1.035  1.031  1.031<br>    P-Load: 0.000  0.000  0.000<br>    Q-Load: 0.000  0.000  0.000<br>Branch 77→78<br>    P flow:  0.082  0.040  0.080<br>    Q flow:  -0.175  -0.194  -0.174",
          "Bus: '79'      A   ||   B   ||   C<br>    |V|:      1.034  1.031  1.031<br>    P-Load: 0.042  0.000  0.000<br>    Q-Load: 0.021  0.000  0.000<br>Branch 78→79<br>    P flow:  0.042  0.000  -0.000<br>    Q flow:  0.021  -0.000  0.000",
          "Bus: '80'      A   ||   B   ||   C<br>    |V|:      1.037  1.032  1.032<br>    P-Load: 0.000  0.040  0.000<br>    Q-Load: 0.000  0.020  0.000<br>Branch 78→80<br>    P flow:  0.040  0.040  0.080<br>    Q flow:  -0.196  -0.194  -0.174",
          "Bus: '81'      A   ||   B   ||   C<br>    |V|:      1.038  1.033  1.032<br>    P-Load: 0.000  0.000  0.000<br>    Q-Load: 0.000  0.000  0.000<br>Branch 80→81<br>    P flow:  0.040  0.000  0.080<br>    Q flow:  -0.196  -0.214  -0.174",
          "Bus: '82'      A   ||   B   ||   C<br>    |V|:      1.039  1.034  1.033<br>    P-Load: 0.040  0.000  0.000<br>    Q-Load: 0.020  0.000  0.000<br>Branch 81→82<br>    P flow:  0.040  0.000  0.020<br>    Q flow:  -0.196  -0.214  -0.204",
          "Bus: '84'      A   ||   B   ||   C<br>    |V|:      nan  nan  1.029<br>    P-Load: 0.000  0.000  0.020<br>    Q-Load: 0.000  0.000  0.010<br>Branch 81→84<br>    P flow:  nan  nan  0.060<br>    Q flow:  0.000  0.000  0.030",
          "Bus: '83'      A   ||   B   ||   C<br>    |V|:      1.040  1.035  1.034<br>    P-Load: 0.000  0.000  0.020<br>    Q-Load: 0.000  0.000  0.010<br>    Q-Cap:  0.200  0.200  0.200<br>Branch 82→83<br>    P flow:  0.000  0.000  0.020<br>    Q flow:  -0.216  -0.214  -0.204",
          "Bus: '85'      A   ||   B   ||   C<br>    |V|:      nan  nan  1.028<br>    P-Load: 0.000  0.000  0.040<br>    Q-Load: 0.000  0.000  0.020<br>Branch 84→85<br>    P flow:  nan  nan  0.040<br>    Q flow:  0.000  0.000  0.020",
          "Bus: '87'      A   ||   B   ||   C<br>    |V|:      1.032  1.027  1.032<br>    P-Load: 0.000  0.040  0.000<br>    Q-Load: 0.000  0.020  0.000<br>Branch 86→87<br>    P flow:  0.080  0.121  0.040<br>    Q flow:  -0.013  0.008  -0.033",
          "Bus: '88'      A   ||   B   ||   C<br>    |V|:      1.032  nan  nan<br>    P-Load: 0.040  0.000  0.000<br>    Q-Load: 0.020  0.000  0.000<br>    Q-Cap:  0.050  0.000  0.000<br>Branch 87→88<br>    P flow:  0.040  nan  nan<br>    Q flow:  -0.033  0.000  0.000",
          "Bus: '89'      A   ||   B   ||   C<br>    |V|:      1.031  1.026  1.032<br>    P-Load: 0.000  0.000  0.000<br>    Q-Load: 0.000  0.000  0.000<br>Branch 87→89<br>    P flow:  0.040  0.081  0.040<br>    Q flow:  0.020  -0.012  -0.033",
          "Bus: '90'      A   ||   B   ||   C<br>    |V|:      nan  1.026  nan<br>    P-Load: 0.000  0.041  0.000<br>    Q-Load: 0.000  0.021  0.000<br>    Q-Cap:  0.000  0.050  0.000<br>Branch 89→90<br>    P flow:  nan  0.041  nan<br>    Q flow:  0.000  -0.032  0.000",
          "Bus: '91'      A   ||   B   ||   C<br>    |V|:      1.031  1.026  1.032<br>    P-Load: 0.000  0.000  0.000<br>    Q-Load: 0.000  0.000  0.000<br>Branch 89→91<br>    P flow:  0.040  0.040  0.040<br>    Q flow:  0.020  0.020  -0.033",
          "Bus: '92'      A   ||   B   ||   C<br>    |V|:      nan  nan  1.032<br>    P-Load: 0.000  0.000  0.040<br>    Q-Load: 0.000  0.000  0.020<br>    Q-Cap:  0.000  0.000  0.050<br>Branch 91→92<br>    P flow:  nan  nan  0.040<br>    Q flow:  0.000  0.000  -0.033",
          "Bus: '93'      A   ||   B   ||   C<br>    |V|:      1.031  1.026  1.033<br>    P-Load: 0.000  0.000  0.000<br>    Q-Load: 0.000  0.000  0.000<br>Branch 91→93<br>    P flow:  0.040  0.040  -0.000<br>    Q flow:  0.020  0.020  0.000",
          "Bus: '94'      A   ||   B   ||   C<br>    |V|:      1.030  nan  nan<br>    P-Load: 0.040  0.000  0.000<br>    Q-Load: 0.020  0.000  0.000<br>Branch 93→94<br>    P flow:  0.040  nan  nan<br>    Q flow:  0.020  0.000  0.000",
          "Bus: '95'      A   ||   B   ||   C<br>    |V|:      1.031  1.025  1.033<br>    P-Load: 0.000  0.020  0.000<br>    Q-Load: 0.000  0.010  0.000<br>Branch 93→95<br>    P flow:  0.000  0.040  -0.000<br>    Q flow:  0.000  0.020  0.000",
          "Bus: '96'      A   ||   B   ||   C<br>    |V|:      nan  1.025  nan<br>    P-Load: 0.000  0.020  0.000<br>    Q-Load: 0.000  0.010  0.000<br>Branch 95→96<br>    P flow:  nan  0.020  nan<br>    Q flow:  0.000  0.010  0.000",
          "Bus: '98'      A   ||   B   ||   C<br>    |V|:      1.032  1.030  1.029<br>    P-Load: 0.040  0.000  0.000<br>    Q-Load: 0.020  0.000  0.000<br>Branch 97→98<br>    P flow:  0.040  0.040  0.042<br>    Q flow:  0.020  0.020  0.021",
          "Bus: '99'      A   ||   B   ||   C<br>    |V|:      1.032  1.029  1.028<br>    P-Load: 0.000  0.040  0.000<br>    Q-Load: 0.000  0.020  0.000<br>Branch 98→99<br>    P flow:  0.000  0.040  0.042<br>    Q flow:  0.000  0.020  0.021",
          "Bus: '100'      A   ||   B   ||   C<br>    |V|:      1.032  1.029  1.028<br>    P-Load: 0.000  0.000  0.042<br>    Q-Load: 0.000  0.000  0.021<br>Branch 99→100<br>    P flow:  0.000  0.000  0.042<br>    Q flow:  0.000  -0.000  0.021",
          "Bus: '450'      A   ||   B   ||   C<br>    |V|:      1.032  1.029  1.028<br>    P-Load: 0.000  0.000  0.000<br>    Q-Load: 0.000  0.000  0.000<br>Branch 100→450<br>    P flow:  0.000  0.000  -0.000<br>    Q flow:  0.000  -0.000  0.000",
          "Bus: '197'      A   ||   B   ||   C<br>    |V|:      1.032  1.030  1.029<br>    P-Load: 0.000  0.000  0.000<br>    Q-Load: 0.000  0.000  0.000<br>Branch 97→197<br>    P flow:  0.142  0.080  0.100<br>    Q flow:  0.071  0.040  0.050",
          "Bus: '101'      A   ||   B   ||   C<br>    |V|:      1.031  1.030  1.028<br>    P-Load: 0.000  0.000  0.000<br>    Q-Load: 0.000  0.000  0.000<br>Branch 197→101<br>    P flow:  0.142  0.080  0.100<br>    Q flow:  0.071  0.040  0.050",
          "Bus: '102'      A   ||   B   ||   C<br>    |V|:      nan  nan  1.027<br>    P-Load: 0.000  0.000  0.020<br>    Q-Load: 0.000  0.000  0.010<br>Branch 101→102<br>    P flow:  nan  nan  0.100<br>    Q flow:  0.000  0.000  0.050",
          "Bus: '105'      A   ||   B   ||   C<br>    |V|:      1.030  1.030  1.028<br>    P-Load: 0.000  0.000  0.000<br>    Q-Load: 0.000  0.000  0.000<br>Branch 101→105<br>    P flow:  0.142  0.080  -0.000<br>    Q flow:  0.071  0.040  0.000",
          "Bus: '103'      A   ||   B   ||   C<br>    |V|:      nan  nan  1.025<br>    P-Load: 0.000  0.000  0.040<br>    Q-Load: 0.000  0.000  0.020<br>Branch 102→103<br>    P flow:  nan  nan  0.080<br>    Q flow:  0.000  0.000  0.040",
          "Bus: '104'      A   ||   B   ||   C<br>    |V|:      nan  nan  1.023<br>    P-Load: 0.000  0.000  0.040<br>    Q-Load: 0.000  0.000  0.020<br>Branch 103→104<br>    P flow:  nan  nan  0.040<br>    Q flow:  0.000  0.000  0.020",
          "Bus: '106'      A   ||   B   ||   C<br>    |V|:      nan  1.028  nan<br>    P-Load: 0.000  0.040  0.000<br>    Q-Load: 0.000  0.020  0.000<br>Branch 105→106<br>    P flow:  nan  0.080  nan<br>    Q flow:  0.000  0.040  0.000",
          "Bus: '108'      A   ||   B   ||   C<br>    |V|:      1.028  1.030  1.028<br>    P-Load: 0.000  0.000  0.000<br>    Q-Load: 0.000  0.000  0.000<br>Branch 105→108<br>    P flow:  0.142  0.000  -0.000<br>    Q flow:  0.071  -0.000  0.000",
          "Bus: '107'      A   ||   B   ||   C<br>    |V|:      nan  1.027  nan<br>    P-Load: 0.000  0.040  0.000<br>    Q-Load: 0.000  0.020  0.000<br>Branch 106→107<br>    P flow:  nan  0.040  nan<br>    Q flow:  0.000  0.020  0.000",
          "Bus: '109'      A   ||   B   ||   C<br>    |V|:      1.024  nan  nan<br>    P-Load: 0.040  0.000  0.000<br>    Q-Load: 0.020  0.000  0.000<br>Branch 108→109<br>    P flow:  0.142  nan  nan<br>    Q flow:  0.071  0.000  0.000",
          "Bus: '300'      A   ||   B   ||   C<br>    |V|:      1.028  1.030  1.028<br>    P-Load: 0.000  0.000  0.000<br>    Q-Load: 0.000  0.000  0.000<br>Branch 108→300<br>    P flow:  0.000  0.000  -0.000<br>    Q flow:  0.000  -0.000  0.000",
          "Bus: '110'      A   ||   B   ||   C<br>    |V|:      1.022  nan  nan<br>    P-Load: 0.000  0.000  0.000<br>    Q-Load: 0.000  0.000  0.000<br>Branch 109→110<br>    P flow:  0.102  nan  nan<br>    Q flow:  0.051  0.000  0.000",
          "Bus: '111'      A   ||   B   ||   C<br>    |V|:      1.021  nan  nan<br>    P-Load: 0.020  0.000  0.000<br>    Q-Load: 0.010  0.000  0.000<br>Branch 110→111<br>    P flow:  0.020  nan  nan<br>    Q flow:  0.010  0.000  0.000",
          "Bus: '112'      A   ||   B   ||   C<br>    |V|:      1.022  nan  nan<br>    P-Load: 0.020  0.000  0.000<br>    Q-Load: 0.010  0.000  0.000<br>Branch 110→112<br>    P flow:  0.082  nan  nan<br>    Q flow:  0.041  0.000  0.000",
          "Bus: '113'      A   ||   B   ||   C<br>    |V|:      1.020  nan  nan<br>    P-Load: 0.041  0.000  0.000<br>    Q-Load: 0.021  0.000  0.000<br>Branch 112→113<br>    P flow:  0.061  nan  nan<br>    Q flow:  0.031  0.000  0.000",
          "Bus: '114'      A   ||   B   ||   C<br>    |V|:      1.019  nan  nan<br>    P-Load: 0.020  0.000  0.000<br>    Q-Load: 0.010  0.000  0.000<br>Branch 113→114<br>    P flow:  0.020  nan  nan<br>    Q flow:  0.010  0.000  0.000",
          "Bus: '135'      A   ||   B   ||   C<br>    |V|:      0.995  1.025  1.007<br>    P-Load: 0.000  0.000  0.000<br>    Q-Load: 0.000  0.000  0.000<br>Branch 18→135<br>    P flow:  0.281  0.275  0.200<br>    Q flow:  0.155  0.190  0.125",
          "Bus: '152'      A   ||   B   ||   C<br>    |V|:      1.004  1.029  1.014<br>    P-Load: 0.000  0.000  0.000<br>    Q-Load: 0.000  0.000  0.000<br>Branch 13→152<br>    P flow:  0.767  0.593  0.629<br>    Q flow:  0.143  0.072  0.060",
          "Bus: '160r'      A   ||   B   ||   C<br>    |V|:      1.035  1.031  1.032<br>    P-Load: 0.000  0.000  0.000<br>    Q-Load: 0.000  0.000  0.000<br>Branch 160→160r<br>    P flow:  0.564  0.421  0.456<br>    Q flow:  0.018  -0.019  -0.023",
          "Bus: '160'      A   ||   B   ||   C<br>    |V|:      0.985  1.019  1.000<br>    P-Load: 0.000  0.000  0.000<br>    Q-Load: 0.000  0.000  0.000<br>Branch 60→160<br>    P flow:  0.564  0.421  0.456<br>    Q flow:  0.018  -0.019  -0.023",
          "Bus: '61s'      A   ||   B   ||   C<br>    |V|:      0.985  1.019  1.000<br>    P-Load: 0.000  0.000  0.000<br>    Q-Load: 0.000  0.000  0.000<br>Branch 61→61s<br>    P flow:  0.000  0.000  -0.000<br>    Q flow:  0.000  -0.000  0.000",
          "Bus: '610'      A   ||   B   ||   C<br>    |V|:      0.985  1.019  1.000<br>    P-Load: 0.000  0.000  0.000<br>    Q-Load: 0.000  0.000  0.000<br>Branch 61s→610<br>    P flow:  0.000  0.000  -0.000<br>    Q flow:  0.000  -0.000  0.000"
         ],
         "textposition": "top center",
         "x": [
          -0.8611783091777097,
          -0.8611783091777097,
          -0.7916015499561131,
          -0.6524480315129197,
          -0.6524480315129197,
          -0.6524480315129197,
          -0.5480828926805249,
          -0.6524480315129197,
          -0.5393857977778252,
          -0.4524148487508295,
          -0.47850613345892823,
          -0.47850613345892823,
          -0.47850613345892823,
          -0.37414099462653333,
          -0.47850613345892823,
          -0.47850613345892823,
          -0.37414099462653333,
          -0.37414099462653333,
          -0.565477082485924,
          -0.39153518443193247,
          -0.37414099462653333,
          -0.37414099462653333,
          -0.25238166598873923,
          -0.4611119436535291,
          -0.37414099462653333,
          -0.5741741773886236,
          -0.5567799875832244,
          -0.37414099462653333,
          -0.565477082485924,
          -0.37414099462653333,
          -0.37414099462653333,
          -0.4959003232643274,
          -0.37414099462653333,
          -0.5915683671940227,
          -0.4959003232643274,
          -0.5915683671940227,
          -0.37414099462653333,
          -0.25238166598873923,
          -0.1828049067671426,
          -0.4959003232643274,
          -0.20889619147524133,
          -0.17410781186444302,
          -0.20889619147524133,
          -0.278472950696838,
          -0.08713686283744723,
          0.025925370897647276,
          -0.09583395774014682,
          -0.20889619147524133,
          -0.03495429342124977,
          -0.20889619147524133,
          -0.1393194322536447,
          -0.20889619147524133,
          -0.03495429342124977,
          -0.2610787608914388,
          -0.12192524244824555,
          -0.03495429342124977,
          0.05201665560574601,
          0.2127389694076342,
          -0.20019909657254176,
          -0.13062233735094514,
          -0.08713686283744723,
          0.00853118109224812,
          -0.08713686283744723,
          0.10419922502194348,
          -0.17410781186444302,
          0.1737759842435401,
          -0.2610787608914388,
          0.1737759842435401,
          0.1737759842435401,
          0.1737759842435401,
          0.1737759842435401,
          0.025925370897647276,
          0.025925370897647276,
          0.3303236924921325,
          0.3999004517137291,
          0.3303236924921325,
          0.3303236924921325,
          0.4955684956434245,
          0.608630729378519,
          0.7042987733082143,
          0.42599173642182786,
          0.3303236924921325,
          0.5477510650596219,
          0.6869045835028152,
          0.46947721093532574,
          0.23639506754297707,
          0.5042655905461241,
          0.5825394446704203,
          0.5042655905461241,
          0.5042655905461241,
          0.5042655905461241,
          0.7390871529190126,
          0.5912365395731198,
          0.7390871529190126,
          0.16507888934084053,
          0.13029050973004222,
          0.06941084541114516,
          0.06941084541114516,
          -0.008863008713151037,
          -0.008863008713151037,
          -0.08713686283744723,
          -0.08713686283744723,
          -0.19150200166984216,
          -0.19150200166984216,
          0.42599173642182786,
          0.6173278242812186,
          0.7216929631136135,
          1.0,
          0.3303236924921325,
          0.3303236924921325,
          0.4085975466164287,
          0.3303236924921325,
          0.5216597803515232,
          0.7651784376271114,
          0.4085975466164287,
          0.3303236924921325,
          0.608630729378519,
          0.4868714007407249,
          0.23291622958189723,
          0.5912365395731198,
          0.5912365395731198,
          0.5912365395731198,
          0.773875532529811,
          0.8869377662649055,
          -0.339352615015735,
          -0.339352615015735,
          0.2085643638543384,
          0.2085643638543384,
          0.2085643638543384,
          0.24335274346513672
         ],
         "y": [
          -0.2909377200686813,
          -0.2909377200686813,
          -0.2909377200686813,
          -0.2909377200686813,
          -0.20093210213560592,
          -0.41951717425878904,
          -0.2909377200686813,
          -0.5223807376108752,
          -0.41951717425878904,
          -0.4709489559348321,
          -0.2909377200686813,
          -0.40665922883977823,
          -0.17521621129758438,
          -0.2909377200686813,
          -0.17521621129758438,
          0.04336886082559871,
          -0.3680853925827459,
          0.1333744787586741,
          0.04336886082559871,
          0.04336886082559871,
          -0.41951717425878904,
          -0.6123863555439506,
          -0.41951717425878904,
          0.1333744787586741,
          0.28766982378680334,
          0.1333744787586741,
          0.28766982378680334,
          0.416249277976911,
          0.416249277976911,
          0.5576866775860295,
          0.5576866775860295,
          0.5576866775860295,
          0.6605502409381157,
          0.5576866775860295,
          0.6734081863571264,
          0.8148455859662449,
          0.8148455859662449,
          0.8148455859662449,
          0.8148455859662449,
          0.8277035313852557,
          0.1333744787586741,
          -0.03377881168846591,
          0.2619539329487818,
          -0.03377881168846591,
          -0.03377881168846591,
          -0.03377881168846591,
          0.2619539329487818,
          0.3905333871388895,
          0.3905333871388895,
          0.49339695049097565,
          0.49339695049097565,
          0.6219764046810834,
          0.49339695049097565,
          0.6219764046810834,
          0.6219764046810834,
          0.6219764046810834,
          0.6219764046810834,
          0.9578259390256447,
          -0.2909377200686813,
          -0.2909377200686813,
          -0.2909377200686813,
          -0.2909377200686813,
          -0.11092648420253053,
          -0.2909377200686813,
          -0.11092648420253053,
          -0.11092648420253053,
          -0.11092648420253053,
          -0.3938012834207675,
          0.01765296998757717,
          0.10765858792065255,
          0.28766982378680334,
          0.28766982378680334,
          0.12051653333966333,
          -0.11092648420253053,
          -0.11092648420253053,
          -0.252363883811649,
          0.01765296998757717,
          -0.11092648420253053,
          -0.11092648420253053,
          -0.11092648420253053,
          -0.252363883811649,
          -0.35522744716373517,
          -0.252363883811649,
          -0.252363883811649,
          -0.35522744716373517,
          -0.6895340280580152,
          -0.35522744716373517,
          -0.35522744716373517,
          -0.5995284101249398,
          -0.8438293730861445,
          -0.9724088272762521,
          -0.8438293730861445,
          -0.9724088272762521,
          -0.5995284101249398,
          -0.48380690135384286,
          -0.3938012834207675,
          -0.48380690135384286,
          -0.5995284101249398,
          -0.48380690135384286,
          -0.6381022463819721,
          -0.48380690135384286,
          -0.6252443009629614,
          -0.48380690135384286,
          -0.586670464705929,
          0.01765296998757717,
          0.01765296998757717,
          0.01765296998757717,
          0.01765296998757717,
          0.06908475166362026,
          0.19766420585372796,
          0.19766420585372796,
          0.3391016054628464,
          0.19766420585372796,
          0.19766420585372796,
          0.3391016054628464,
          0.5062548959099864,
          0.3391016054628464,
          0.5062548959099864,
          1.0,
          0.5062548959099864,
          0.8019876405472341,
          0.4419651688149326,
          0.4419651688149326,
          0.4419651688149326,
          0.1333744787586741,
          -0.2909377200686813,
          -0.11092648420253053,
          -0.11092648420253053,
          -0.3938012834207675,
          -0.3938012834207675
         ],
         "type": "scatter"
        }
       ],
       "layout": {
        "template": {
         "data": {
          "histogram2dcontour": [
           {
            "type": "histogram2dcontour",
            "colorbar": {
             "outlinewidth": 0,
             "ticks": ""
            },
            "colorscale": [
             [
              0.0,
              "#0d0887"
             ],
             [
              0.1111111111111111,
              "#46039f"
             ],
             [
              0.2222222222222222,
              "#7201a8"
             ],
             [
              0.3333333333333333,
              "#9c179e"
             ],
             [
              0.4444444444444444,
              "#bd3786"
             ],
             [
              0.5555555555555556,
              "#d8576b"
             ],
             [
              0.6666666666666666,
              "#ed7953"
             ],
             [
              0.7777777777777778,
              "#fb9f3a"
             ],
             [
              0.8888888888888888,
              "#fdca26"
             ],
             [
              1.0,
              "#f0f921"
             ]
            ]
           }
          ],
          "choropleth": [
           {
            "type": "choropleth",
            "colorbar": {
             "outlinewidth": 0,
             "ticks": ""
            }
           }
          ],
          "histogram2d": [
           {
            "type": "histogram2d",
            "colorbar": {
             "outlinewidth": 0,
             "ticks": ""
            },
            "colorscale": [
             [
              0.0,
              "#0d0887"
             ],
             [
              0.1111111111111111,
              "#46039f"
             ],
             [
              0.2222222222222222,
              "#7201a8"
             ],
             [
              0.3333333333333333,
              "#9c179e"
             ],
             [
              0.4444444444444444,
              "#bd3786"
             ],
             [
              0.5555555555555556,
              "#d8576b"
             ],
             [
              0.6666666666666666,
              "#ed7953"
             ],
             [
              0.7777777777777778,
              "#fb9f3a"
             ],
             [
              0.8888888888888888,
              "#fdca26"
             ],
             [
              1.0,
              "#f0f921"
             ]
            ]
           }
          ],
          "heatmap": [
           {
            "type": "heatmap",
            "colorbar": {
             "outlinewidth": 0,
             "ticks": ""
            },
            "colorscale": [
             [
              0.0,
              "#0d0887"
             ],
             [
              0.1111111111111111,
              "#46039f"
             ],
             [
              0.2222222222222222,
              "#7201a8"
             ],
             [
              0.3333333333333333,
              "#9c179e"
             ],
             [
              0.4444444444444444,
              "#bd3786"
             ],
             [
              0.5555555555555556,
              "#d8576b"
             ],
             [
              0.6666666666666666,
              "#ed7953"
             ],
             [
              0.7777777777777778,
              "#fb9f3a"
             ],
             [
              0.8888888888888888,
              "#fdca26"
             ],
             [
              1.0,
              "#f0f921"
             ]
            ]
           }
          ],
          "heatmapgl": [
           {
            "type": "heatmapgl",
            "colorbar": {
             "outlinewidth": 0,
             "ticks": ""
            },
            "colorscale": [
             [
              0.0,
              "#0d0887"
             ],
             [
              0.1111111111111111,
              "#46039f"
             ],
             [
              0.2222222222222222,
              "#7201a8"
             ],
             [
              0.3333333333333333,
              "#9c179e"
             ],
             [
              0.4444444444444444,
              "#bd3786"
             ],
             [
              0.5555555555555556,
              "#d8576b"
             ],
             [
              0.6666666666666666,
              "#ed7953"
             ],
             [
              0.7777777777777778,
              "#fb9f3a"
             ],
             [
              0.8888888888888888,
              "#fdca26"
             ],
             [
              1.0,
              "#f0f921"
             ]
            ]
           }
          ],
          "contourcarpet": [
           {
            "type": "contourcarpet",
            "colorbar": {
             "outlinewidth": 0,
             "ticks": ""
            }
           }
          ],
          "contour": [
           {
            "type": "contour",
            "colorbar": {
             "outlinewidth": 0,
             "ticks": ""
            },
            "colorscale": [
             [
              0.0,
              "#0d0887"
             ],
             [
              0.1111111111111111,
              "#46039f"
             ],
             [
              0.2222222222222222,
              "#7201a8"
             ],
             [
              0.3333333333333333,
              "#9c179e"
             ],
             [
              0.4444444444444444,
              "#bd3786"
             ],
             [
              0.5555555555555556,
              "#d8576b"
             ],
             [
              0.6666666666666666,
              "#ed7953"
             ],
             [
              0.7777777777777778,
              "#fb9f3a"
             ],
             [
              0.8888888888888888,
              "#fdca26"
             ],
             [
              1.0,
              "#f0f921"
             ]
            ]
           }
          ],
          "surface": [
           {
            "type": "surface",
            "colorbar": {
             "outlinewidth": 0,
             "ticks": ""
            },
            "colorscale": [
             [
              0.0,
              "#0d0887"
             ],
             [
              0.1111111111111111,
              "#46039f"
             ],
             [
              0.2222222222222222,
              "#7201a8"
             ],
             [
              0.3333333333333333,
              "#9c179e"
             ],
             [
              0.4444444444444444,
              "#bd3786"
             ],
             [
              0.5555555555555556,
              "#d8576b"
             ],
             [
              0.6666666666666666,
              "#ed7953"
             ],
             [
              0.7777777777777778,
              "#fb9f3a"
             ],
             [
              0.8888888888888888,
              "#fdca26"
             ],
             [
              1.0,
              "#f0f921"
             ]
            ]
           }
          ],
          "mesh3d": [
           {
            "type": "mesh3d",
            "colorbar": {
             "outlinewidth": 0,
             "ticks": ""
            }
           }
          ],
          "scatter": [
           {
            "fillpattern": {
             "fillmode": "overlay",
             "size": 10,
             "solidity": 0.2
            },
            "type": "scatter"
           }
          ],
          "parcoords": [
           {
            "type": "parcoords",
            "line": {
             "colorbar": {
              "outlinewidth": 0,
              "ticks": ""
             }
            }
           }
          ],
          "scatterpolargl": [
           {
            "type": "scatterpolargl",
            "marker": {
             "colorbar": {
              "outlinewidth": 0,
              "ticks": ""
             }
            }
           }
          ],
          "bar": [
           {
            "error_x": {
             "color": "#2a3f5f"
            },
            "error_y": {
             "color": "#2a3f5f"
            },
            "marker": {
             "line": {
              "color": "#E5ECF6",
              "width": 0.5
             },
             "pattern": {
              "fillmode": "overlay",
              "size": 10,
              "solidity": 0.2
             }
            },
            "type": "bar"
           }
          ],
          "scattergeo": [
           {
            "type": "scattergeo",
            "marker": {
             "colorbar": {
              "outlinewidth": 0,
              "ticks": ""
             }
            }
           }
          ],
          "scatterpolar": [
           {
            "type": "scatterpolar",
            "marker": {
             "colorbar": {
              "outlinewidth": 0,
              "ticks": ""
             }
            }
           }
          ],
          "histogram": [
           {
            "marker": {
             "pattern": {
              "fillmode": "overlay",
              "size": 10,
              "solidity": 0.2
             }
            },
            "type": "histogram"
           }
          ],
          "scattergl": [
           {
            "type": "scattergl",
            "marker": {
             "colorbar": {
              "outlinewidth": 0,
              "ticks": ""
             }
            }
           }
          ],
          "scatter3d": [
           {
            "type": "scatter3d",
            "line": {
             "colorbar": {
              "outlinewidth": 0,
              "ticks": ""
             }
            },
            "marker": {
             "colorbar": {
              "outlinewidth": 0,
              "ticks": ""
             }
            }
           }
          ],
          "scattermapbox": [
           {
            "type": "scattermapbox",
            "marker": {
             "colorbar": {
              "outlinewidth": 0,
              "ticks": ""
             }
            }
           }
          ],
          "scatterternary": [
           {
            "type": "scatterternary",
            "marker": {
             "colorbar": {
              "outlinewidth": 0,
              "ticks": ""
             }
            }
           }
          ],
          "scattercarpet": [
           {
            "type": "scattercarpet",
            "marker": {
             "colorbar": {
              "outlinewidth": 0,
              "ticks": ""
             }
            }
           }
          ],
          "carpet": [
           {
            "aaxis": {
             "endlinecolor": "#2a3f5f",
             "gridcolor": "white",
             "linecolor": "white",
             "minorgridcolor": "white",
             "startlinecolor": "#2a3f5f"
            },
            "baxis": {
             "endlinecolor": "#2a3f5f",
             "gridcolor": "white",
             "linecolor": "white",
             "minorgridcolor": "white",
             "startlinecolor": "#2a3f5f"
            },
            "type": "carpet"
           }
          ],
          "table": [
           {
            "cells": {
             "fill": {
              "color": "#EBF0F8"
             },
             "line": {
              "color": "white"
             }
            },
            "header": {
             "fill": {
              "color": "#C8D4E3"
             },
             "line": {
              "color": "white"
             }
            },
            "type": "table"
           }
          ],
          "barpolar": [
           {
            "marker": {
             "line": {
              "color": "#E5ECF6",
              "width": 0.5
             },
             "pattern": {
              "fillmode": "overlay",
              "size": 10,
              "solidity": 0.2
             }
            },
            "type": "barpolar"
           }
          ],
          "pie": [
           {
            "automargin": true,
            "type": "pie"
           }
          ]
         },
         "layout": {
          "autotypenumbers": "strict",
          "colorway": [
           "#636efa",
           "#EF553B",
           "#00cc96",
           "#ab63fa",
           "#FFA15A",
           "#19d3f3",
           "#FF6692",
           "#B6E880",
           "#FF97FF",
           "#FECB52"
          ],
          "font": {
           "color": "#2a3f5f"
          },
          "hovermode": "closest",
          "hoverlabel": {
           "align": "left"
          },
          "paper_bgcolor": "white",
          "plot_bgcolor": "#E5ECF6",
          "polar": {
           "bgcolor": "#E5ECF6",
           "angularaxis": {
            "gridcolor": "white",
            "linecolor": "white",
            "ticks": ""
           },
           "radialaxis": {
            "gridcolor": "white",
            "linecolor": "white",
            "ticks": ""
           }
          },
          "ternary": {
           "bgcolor": "#E5ECF6",
           "aaxis": {
            "gridcolor": "white",
            "linecolor": "white",
            "ticks": ""
           },
           "baxis": {
            "gridcolor": "white",
            "linecolor": "white",
            "ticks": ""
           },
           "caxis": {
            "gridcolor": "white",
            "linecolor": "white",
            "ticks": ""
           }
          },
          "coloraxis": {
           "colorbar": {
            "outlinewidth": 0,
            "ticks": ""
           }
          },
          "colorscale": {
           "sequential": [
            [
             0.0,
             "#0d0887"
            ],
            [
             0.1111111111111111,
             "#46039f"
            ],
            [
             0.2222222222222222,
             "#7201a8"
            ],
            [
             0.3333333333333333,
             "#9c179e"
            ],
            [
             0.4444444444444444,
             "#bd3786"
            ],
            [
             0.5555555555555556,
             "#d8576b"
            ],
            [
             0.6666666666666666,
             "#ed7953"
            ],
            [
             0.7777777777777778,
             "#fb9f3a"
            ],
            [
             0.8888888888888888,
             "#fdca26"
            ],
            [
             1.0,
             "#f0f921"
            ]
           ],
           "sequentialminus": [
            [
             0.0,
             "#0d0887"
            ],
            [
             0.1111111111111111,
             "#46039f"
            ],
            [
             0.2222222222222222,
             "#7201a8"
            ],
            [
             0.3333333333333333,
             "#9c179e"
            ],
            [
             0.4444444444444444,
             "#bd3786"
            ],
            [
             0.5555555555555556,
             "#d8576b"
            ],
            [
             0.6666666666666666,
             "#ed7953"
            ],
            [
             0.7777777777777778,
             "#fb9f3a"
            ],
            [
             0.8888888888888888,
             "#fdca26"
            ],
            [
             1.0,
             "#f0f921"
            ]
           ],
           "diverging": [
            [
             0,
             "#8e0152"
            ],
            [
             0.1,
             "#c51b7d"
            ],
            [
             0.2,
             "#de77ae"
            ],
            [
             0.3,
             "#f1b6da"
            ],
            [
             0.4,
             "#fde0ef"
            ],
            [
             0.5,
             "#f7f7f7"
            ],
            [
             0.6,
             "#e6f5d0"
            ],
            [
             0.7,
             "#b8e186"
            ],
            [
             0.8,
             "#7fbc41"
            ],
            [
             0.9,
             "#4d9221"
            ],
            [
             1,
             "#276419"
            ]
           ]
          },
          "xaxis": {
           "gridcolor": "white",
           "linecolor": "white",
           "ticks": "",
           "title": {
            "standoff": 15
           },
           "zerolinecolor": "white",
           "automargin": true,
           "zerolinewidth": 2
          },
          "yaxis": {
           "gridcolor": "white",
           "linecolor": "white",
           "ticks": "",
           "title": {
            "standoff": 15
           },
           "zerolinecolor": "white",
           "automargin": true,
           "zerolinewidth": 2
          },
          "scene": {
           "xaxis": {
            "backgroundcolor": "#E5ECF6",
            "gridcolor": "white",
            "linecolor": "white",
            "showbackground": true,
            "ticks": "",
            "zerolinecolor": "white",
            "gridwidth": 2
           },
           "yaxis": {
            "backgroundcolor": "#E5ECF6",
            "gridcolor": "white",
            "linecolor": "white",
            "showbackground": true,
            "ticks": "",
            "zerolinecolor": "white",
            "gridwidth": 2
           },
           "zaxis": {
            "backgroundcolor": "#E5ECF6",
            "gridcolor": "white",
            "linecolor": "white",
            "showbackground": true,
            "ticks": "",
            "zerolinecolor": "white",
            "gridwidth": 2
           }
          },
          "shapedefaults": {
           "line": {
            "color": "#2a3f5f"
           }
          },
          "annotationdefaults": {
           "arrowcolor": "#2a3f5f",
           "arrowhead": 0,
           "arrowwidth": 1
          },
          "geo": {
           "bgcolor": "white",
           "landcolor": "#E5ECF6",
           "subunitcolor": "white",
           "showland": true,
           "showlakes": true,
           "lakecolor": "white"
          },
          "title": {
           "x": 0.05
          },
          "mapbox": {
           "style": "light"
          }
         }
        },
        "title": {
         "text": "<b>Network Plot (P.U.)</b><br>Node color: Average voltage magnitude<br>Line width: Total <i>active</i> power flow (reverse flow in red).",
         "font": {
          "color": "Black"
         }
        },
        "legend": {
         "font": {
          "color": "Black"
         },
         "bgcolor": "White",
         "x": 0.8,
         "y": 0.9
        },
        "margin": {
         "t": 50,
         "b": 10,
         "l": 10,
         "r": 10
        },
        "xaxis": {
         "visible": false
        },
        "yaxis": {
         "visible": false
        },
        "font": {
         "family": "Droid Sans Mono",
         "color": "Black"
        },
        "plot_bgcolor": "White",
        "paper_bgcolor": "White"
       },
       "config": {
        "plotlyServerURL": "https://plot.ly"
       }
      },
      "text/html": [
       "<div>                            <div id=\"742a3b0f-5b3b-49cd-b45c-fa19114be199\" class=\"plotly-graph-div\" style=\"height:525px; width:100%;\"></div>            <script type=\"text/javascript\">                require([\"plotly\"], function(Plotly) {                    window.PLOTLYENV=window.PLOTLYENV || {};                                    if (document.getElementById(\"742a3b0f-5b3b-49cd-b45c-fa19114be199\")) {                    Plotly.newPlot(                        \"742a3b0f-5b3b-49cd-b45c-fa19114be199\",                        [{\"line\":{\"color\":\"darkblue\",\"dash\":\"solid\",\"width\":11.0},\"mode\":\"lines\",\"showlegend\":false,\"x\":[-0.8611783091777097,-0.8611783091777097],\"y\":[-0.2909377200686813,-0.2909377200686813],\"type\":\"scatter\"},{\"line\":{\"color\":\"darkblue\",\"dash\":\"solid\",\"width\":11.0},\"mode\":\"lines\",\"showlegend\":false,\"x\":[-0.8611783091777097,-0.7916015499561131],\"y\":[-0.2909377200686813,-0.2909377200686813],\"type\":\"scatter\"},{\"line\":{\"color\":\"darkblue\",\"dash\":\"solid\",\"width\":11.0},\"mode\":\"lines\",\"showlegend\":false,\"x\":[-0.7916015499561131,-0.6524480315129197],\"y\":[-0.2909377200686813,-0.2909377200686813],\"type\":\"scatter\"},{\"line\":{\"color\":\"darkblue\",\"dash\":\"solid\",\"width\":1.0569548907375206},\"mode\":\"lines\",\"showlegend\":false,\"x\":[-0.6524480315129197,-0.6524480315129197],\"y\":[-0.2909377200686813,-0.20093210213560592],\"type\":\"scatter\"},{\"line\":{\"color\":\"darkblue\",\"dash\":\"solid\",\"width\":1.2921388303210826},\"mode\":\"lines\",\"showlegend\":false,\"x\":[-0.6524480315129197,-0.6524480315129197],\"y\":[-0.2909377200686813,-0.41951717425878904],\"type\":\"scatter\"},{\"line\":{\"color\":\"darkblue\",\"dash\":\"solid\",\"width\":10.536995140655938},\"mode\":\"lines\",\"showlegend\":false,\"x\":[-0.6524480315129197,-0.5480828926805249],\"y\":[-0.2909377200686813,-0.2909377200686813],\"type\":\"scatter\"},{\"line\":{\"color\":\"darkblue\",\"dash\":\"solid\",\"width\":1.1139107790982357},\"mode\":\"lines\",\"showlegend\":false,\"x\":[-0.6524480315129197,-0.6524480315129197],\"y\":[-0.41951717425878904,-0.5223807376108752],\"type\":\"scatter\"},{\"line\":{\"color\":\"darkblue\",\"dash\":\"solid\",\"width\":1.1782280512228471},\"mode\":\"lines\",\"showlegend\":false,\"x\":[-0.6524480315129197,-0.5393857977778252],\"y\":[-0.41951717425878904,-0.41951717425878904],\"type\":\"scatter\"},{\"line\":{\"color\":\"darkblue\",\"dash\":\"solid\",\"width\":1.1197842765361592},\"mode\":\"lines\",\"showlegend\":false,\"x\":[-0.5393857977778252,-0.4524148487508295],\"y\":[-0.41951717425878904,-0.4709489559348321],\"type\":\"scatter\"},{\"line\":{\"color\":\"darkblue\",\"dash\":\"solid\",\"width\":10.480039340783545},\"mode\":\"lines\",\"showlegend\":false,\"x\":[-0.5480828926805249,-0.47850613345892823],\"y\":[-0.2909377200686813,-0.2909377200686813],\"type\":\"scatter\"},{\"line\":{\"color\":\"darkblue\",\"dash\":\"solid\",\"width\":1.0569544523761691},\"mode\":\"lines\",\"showlegend\":false,\"x\":[-0.47850613345892823,-0.47850613345892823],\"y\":[-0.2909377200686813,-0.40665922883977823],\"type\":\"scatter\"},{\"line\":{\"color\":\"darkblue\",\"dash\":\"solid\",\"width\":1.2865389708054613},\"mode\":\"lines\",\"showlegend\":false,\"x\":[-0.47850613345892823,-0.47850613345892823],\"y\":[-0.2909377200686813,-0.17521621129758438],\"type\":\"scatter\"},{\"line\":{\"color\":\"darkblue\",\"dash\":\"solid\",\"width\":10.136545917601913},\"mode\":\"lines\",\"showlegend\":false,\"x\":[-0.47850613345892823,-0.37414099462653333],\"y\":[-0.2909377200686813,-0.2909377200686813],\"type\":\"scatter\"},{\"line\":{\"color\":\"darkblue\",\"dash\":\"solid\",\"width\":1.172627050567686},\"mode\":\"lines\",\"showlegend\":false,\"x\":[-0.47850613345892823,-0.47850613345892823],\"y\":[-0.17521621129758438,-0.17521621129758438],\"type\":\"scatter\"},{\"line\":{\"color\":\"darkblue\",\"dash\":\"solid\",\"width\":1.1726270505676852},\"mode\":\"lines\",\"showlegend\":false,\"x\":[-0.47850613345892823,-0.47850613345892823],\"y\":[-0.17521621129758438,0.04336886082559871],\"type\":\"scatter\"},{\"line\":{\"color\":\"darkblue\",\"dash\":\"solid\",\"width\":1.2877339530290515},\"mode\":\"lines\",\"showlegend\":false,\"x\":[-0.37414099462653333,-0.37414099462653333],\"y\":[-0.2909377200686813,-0.3680853925827459],\"type\":\"scatter\"},{\"line\":{\"color\":\"darkblue\",\"dash\":\"solid\",\"width\":4.181138671149169},\"mode\":\"lines\",\"showlegend\":false,\"x\":[-0.37414099462653333,-0.37414099462653333],\"y\":[-0.2909377200686813,0.1333744787586741],\"type\":\"scatter\"},{\"line\":{\"color\":\"darkblue\",\"dash\":\"solid\",\"width\":1.1153049138857642},\"mode\":\"lines\",\"showlegend\":false,\"x\":[-0.47850613345892823,-0.565477082485924],\"y\":[0.04336886082559871,0.04336886082559871],\"type\":\"scatter\"},{\"line\":{\"color\":\"darkblue\",\"dash\":\"solid\",\"width\":1.0573221366819205},\"mode\":\"lines\",\"showlegend\":false,\"x\":[-0.47850613345892823,-0.39153518443193247],\"y\":[0.04336886082559871,0.04336886082559871],\"type\":\"scatter\"},{\"line\":{\"color\":\"darkblue\",\"dash\":\"solid\",\"width\":1.1708670635071896},\"mode\":\"lines\",\"showlegend\":false,\"x\":[-0.37414099462653333,-0.37414099462653333],\"y\":[-0.3680853925827459,-0.41951717425878904],\"type\":\"scatter\"},{\"line\":{\"color\":\"darkblue\",\"dash\":\"solid\",\"width\":1.113911375363241},\"mode\":\"lines\",\"showlegend\":false,\"x\":[-0.37414099462653333,-0.37414099462653333],\"y\":[-0.41951717425878904,-0.6123863555439506],\"type\":\"scatter\"},{\"line\":{\"color\":\"darkblue\",\"dash\":\"solid\",\"width\":1.0569556881439488},\"mode\":\"lines\",\"showlegend\":false,\"x\":[-0.37414099462653333,-0.25238166598873923],\"y\":[-0.41951717425878904,-0.41951717425878904],\"type\":\"scatter\"},{\"line\":{\"color\":\"darkblue\",\"dash\":\"solid\",\"width\":1.22676328964241},\"mode\":\"lines\",\"showlegend\":false,\"x\":[-0.37414099462653333,-0.4611119436535291],\"y\":[0.1333744787586741,0.1333744787586741],\"type\":\"scatter\"},{\"line\":{\"color\":\"darkblue\",\"dash\":\"solid\",\"width\":1.8001873855559558},\"mode\":\"lines\",\"showlegend\":false,\"x\":[-0.37414099462653333,-0.37414099462653333],\"y\":[0.1333744787586741,0.28766982378680334],\"type\":\"scatter\"},{\"line\":{\"color\":\"darkblue\",\"dash\":\"solid\",\"width\":1.1128507464208692},\"mode\":\"lines\",\"showlegend\":false,\"x\":[-0.4611119436535291,-0.5741741773886236],\"y\":[0.1333744787586741,0.1333744787586741],\"type\":\"scatter\"},{\"line\":{\"color\":\"darkblue\",\"dash\":\"solid\",\"width\":1.1196739427299767},\"mode\":\"lines\",\"showlegend\":false,\"x\":[-0.37414099462653333,-0.5567799875832244],\"y\":[0.28766982378680334,0.28766982378680334],\"type\":\"scatter\"},{\"line\":{\"color\":\"darkblue\",\"dash\":\"solid\",\"width\":1.6805134428259783},\"mode\":\"lines\",\"showlegend\":false,\"x\":[-0.37414099462653333,-0.37414099462653333],\"y\":[0.28766982378680334,0.416249277976911],\"type\":\"scatter\"},{\"line\":{\"color\":\"darkblue\",\"dash\":\"solid\",\"width\":1.1139114351741641},\"mode\":\"lines\",\"showlegend\":false,\"x\":[-0.37414099462653333,-0.565477082485924],\"y\":[0.416249277976911,0.416249277976911],\"type\":\"scatter\"},{\"line\":{\"color\":\"darkblue\",\"dash\":\"solid\",\"width\":1.5666020076518135},\"mode\":\"lines\",\"showlegend\":false,\"x\":[-0.37414099462653333,-0.37414099462653333],\"y\":[0.416249277976911,0.5576866775860295],\"type\":\"scatter\"},{\"line\":{\"color\":\"darkblue\",\"dash\":\"solid\",\"width\":1.2280158525024014},\"mode\":\"lines\",\"showlegend\":false,\"x\":[-0.37414099462653333,-0.37414099462653333],\"y\":[0.5576866775860295,0.5576866775860295],\"type\":\"scatter\"},{\"line\":{\"color\":\"darkblue\",\"dash\":\"solid\",\"width\":1.2280158525024008},\"mode\":\"lines\",\"showlegend\":false,\"x\":[-0.37414099462653333,-0.4959003232643274],\"y\":[0.5576866775860295,0.5576866775860295],\"type\":\"scatter\"},{\"line\":{\"color\":\"darkblue\",\"dash\":\"solid\",\"width\":1.3385861551494111},\"mode\":\"lines\",\"showlegend\":false,\"x\":[-0.37414099462653333,-0.37414099462653333],\"y\":[0.5576866775860295,0.6605502409381157],\"type\":\"scatter\"},{\"line\":{\"color\":\"darkblue\",\"dash\":\"solid\",\"width\":1.1141044133949023},\"mode\":\"lines\",\"showlegend\":false,\"x\":[-0.4959003232643274,-0.5915683671940227],\"y\":[0.5576866775860295,0.5576866775860295],\"type\":\"scatter\"},{\"line\":{\"color\":\"darkblue\",\"dash\":\"solid\",\"width\":1.113911439107498},\"mode\":\"lines\",\"showlegend\":false,\"x\":[-0.4959003232643274,-0.4959003232643274],\"y\":[0.5576866775860295,0.6734081863571264],\"type\":\"scatter\"},{\"line\":{\"color\":\"darkblue\",\"dash\":\"solid\",\"width\":1.1141044133949016},\"mode\":\"lines\",\"showlegend\":false,\"x\":[-0.5915683671940227,-0.5915683671940227],\"y\":[0.5576866775860295,0.8148455859662449],\"type\":\"scatter\"},{\"line\":{\"color\":\"darkblue\",\"dash\":\"solid\",\"width\":1.2257147537052557},\"mode\":\"lines\",\"showlegend\":false,\"x\":[-0.37414099462653333,-0.37414099462653333],\"y\":[0.6605502409381157,0.8148455859662449],\"type\":\"scatter\"},{\"line\":{\"color\":\"darkblue\",\"dash\":\"solid\",\"width\":1.1139114374741486},\"mode\":\"lines\",\"showlegend\":false,\"x\":[-0.37414099462653333,-0.25238166598873923],\"y\":[0.8148455859662449,0.8148455859662449],\"type\":\"scatter\"},{\"line\":{\"color\":\"darkblue\",\"dash\":\"solid\",\"width\":1.0000000000000009},\"mode\":\"lines\",\"showlegend\":false,\"x\":[-0.25238166598873923,-0.1828049067671426],\"y\":[0.8148455859662449,0.8148455859662449],\"type\":\"scatter\"},{\"line\":{\"color\":\"darkblue\",\"dash\":\"solid\",\"width\":1.0569557193139236},\"mode\":\"lines\",\"showlegend\":false,\"x\":[-0.4959003232643274,-0.4959003232643274],\"y\":[0.6734081863571264,0.8277035313852557],\"type\":\"scatter\"},{\"line\":{\"color\":\"darkblue\",\"dash\":\"solid\",\"width\":3.1541879959508012},\"mode\":\"lines\",\"showlegend\":false,\"x\":[-0.339352615015735,-0.20889619147524133],\"y\":[0.1333744787586741,0.1333744787586741],\"type\":\"scatter\"},{\"line\":{\"color\":\"darkblue\",\"dash\":\"solid\",\"width\":1.2264574990535702},\"mode\":\"lines\",\"showlegend\":false,\"x\":[-0.20889619147524133,-0.17410781186444302],\"y\":[0.1333744787586741,-0.03377881168846591],\"type\":\"scatter\"},{\"line\":{\"color\":\"darkblue\",\"dash\":\"solid\",\"width\":2.813818683286523},\"mode\":\"lines\",\"showlegend\":false,\"x\":[-0.20889619147524133,-0.20889619147524133],\"y\":[0.1333744787586741,0.2619539329487818],\"type\":\"scatter\"},{\"line\":{\"color\":\"darkblue\",\"dash\":\"solid\",\"width\":1.111261713122213},\"mode\":\"lines\",\"showlegend\":false,\"x\":[-0.17410781186444302,-0.278472950696838],\"y\":[-0.03377881168846591,-0.03377881168846591],\"type\":\"scatter\"},{\"line\":{\"color\":\"darkblue\",\"dash\":\"solid\",\"width\":1.115195785931356},\"mode\":\"lines\",\"showlegend\":false,\"x\":[-0.17410781186444302,-0.08713686283744723],\"y\":[-0.03377881168846591,-0.03377881168846591],\"type\":\"scatter\"},{\"line\":{\"color\":\"darkblue\",\"dash\":\"solid\",\"width\":1.0569541063774435},\"mode\":\"lines\",\"showlegend\":false,\"x\":[-0.08713686283744723,0.025925370897647276],\"y\":[-0.03377881168846591,-0.03377881168846591],\"type\":\"scatter\"},{\"line\":{\"color\":\"darkblue\",\"dash\":\"solid\",\"width\":1.0569557276336339},\"mode\":\"lines\",\"showlegend\":false,\"x\":[-0.20889619147524133,-0.09583395774014682],\"y\":[0.2619539329487818,0.2619539329487818],\"type\":\"scatter\"},{\"line\":{\"color\":\"darkblue\",\"dash\":\"solid\",\"width\":2.7568629556528883},\"mode\":\"lines\",\"showlegend\":false,\"x\":[-0.20889619147524133,-0.20889619147524133],\"y\":[0.2619539329487818,0.3905333871388895],\"type\":\"scatter\"},{\"line\":{\"color\":\"darkblue\",\"dash\":\"solid\",\"width\":1.1185377688417688},\"mode\":\"lines\",\"showlegend\":false,\"x\":[-0.20889619147524133,-0.03495429342124977],\"y\":[0.3905333871388895,0.3905333871388895],\"type\":\"scatter\"},{\"line\":{\"color\":\"darkblue\",\"dash\":\"solid\",\"width\":2.5813688786270097},\"mode\":\"lines\",\"showlegend\":false,\"x\":[-0.20889619147524133,-0.20889619147524133],\"y\":[0.3905333871388895,0.49339695049097565],\"type\":\"scatter\"},{\"line\":{\"color\":\"darkblue\",\"dash\":\"solid\",\"width\":1.1130735141110746},\"mode\":\"lines\",\"showlegend\":false,\"x\":[-0.20889619147524133,-0.1393194322536447],\"y\":[0.49339695049097565,0.49339695049097565],\"type\":\"scatter\"},{\"line\":{\"color\":\"darkblue\",\"dash\":\"solid\",\"width\":2.4682953645159342},\"mode\":\"lines\",\"showlegend\":false,\"x\":[-0.20889619147524133,-0.20889619147524133],\"y\":[0.49339695049097565,0.6219764046810834],\"type\":\"scatter\"},{\"line\":{\"color\":\"darkblue\",\"dash\":\"solid\",\"width\":1.0569563319228317},\"mode\":\"lines\",\"showlegend\":false,\"x\":[-0.1393194322536447,-0.03495429342124977],\"y\":[0.49339695049097565,0.49339695049097565],\"type\":\"scatter\"},{\"line\":{\"color\":\"darkblue\",\"dash\":\"solid\",\"width\":1.5993501293181283},\"mode\":\"lines\",\"showlegend\":false,\"x\":[-0.20889619147524133,-0.2610787608914388],\"y\":[0.6219764046810834,0.6219764046810834],\"type\":\"scatter\"},{\"line\":{\"color\":\"darkblue\",\"dash\":\"solid\",\"width\":1.569552642371137},\"mode\":\"lines\",\"showlegend\":false,\"x\":[-0.20889619147524133,-0.12192524244824555],\"y\":[0.6219764046810834,0.6219764046810834],\"type\":\"scatter\"},{\"line\":{\"color\":\"darkblue\",\"dash\":\"solid\",\"width\":1.1708678205134697},\"mode\":\"lines\",\"showlegend\":false,\"x\":[-0.12192524244824555,-0.03495429342124977],\"y\":[0.6219764046810834,0.6219764046810834],\"type\":\"scatter\"},{\"line\":{\"color\":\"darkblue\",\"dash\":\"solid\",\"width\":1.0569563391571792},\"mode\":\"lines\",\"showlegend\":false,\"x\":[-0.03495429342124977,0.05201665560574601],\"y\":[0.6219764046810834,0.6219764046810834],\"type\":\"scatter\"},{\"line\":{\"color\":\"darkblue\",\"dash\":\"solid\",\"width\":1.0000000000000009},\"mode\":\"lines\",\"showlegend\":false,\"x\":[0.05201665560574601,0.2127389694076342],\"y\":[0.6219764046810834,0.9578259390256447],\"type\":\"scatter\"},{\"line\":{\"color\":\"darkblue\",\"dash\":\"solid\",\"width\":6.667673293423691},\"mode\":\"lines\",\"showlegend\":false,\"x\":[-0.339352615015735,-0.20019909657254176],\"y\":[-0.2909377200686813,-0.2909377200686813],\"type\":\"scatter\"},{\"line\":{\"color\":\"darkblue\",\"dash\":\"solid\",\"width\":6.553760446227485},\"mode\":\"lines\",\"showlegend\":false,\"x\":[-0.20019909657254176,-0.13062233735094514],\"y\":[-0.2909377200686813,-0.2909377200686813],\"type\":\"scatter\"},{\"line\":{\"color\":\"darkblue\",\"dash\":\"solid\",\"width\":6.439847364463761},\"mode\":\"lines\",\"showlegend\":false,\"x\":[-0.13062233735094514,-0.08713686283744723],\"y\":[-0.2909377200686813,-0.2909377200686813],\"type\":\"scatter\"},{\"line\":{\"color\":\"darkblue\",\"dash\":\"solid\",\"width\":1.1129093837515307},\"mode\":\"lines\",\"showlegend\":false,\"x\":[-0.08713686283744723,0.00853118109224812],\"y\":[-0.2909377200686813,-0.2909377200686813],\"type\":\"scatter\"},{\"line\":{\"color\":\"darkblue\",\"dash\":\"solid\",\"width\":6.32693798071223},\"mode\":\"lines\",\"showlegend\":false,\"x\":[-0.08713686283744723,-0.08713686283744723],\"y\":[-0.2909377200686813,-0.11092648420253053],\"type\":\"scatter\"},{\"line\":{\"color\":\"darkblue\",\"dash\":\"solid\",\"width\":1.056953644362828},\"mode\":\"lines\",\"showlegend\":false,\"x\":[0.00853118109224812,0.10419922502194348],\"y\":[-0.2909377200686813,-0.2909377200686813],\"type\":\"scatter\"},{\"line\":{\"color\":\"darkblue\",\"dash\":\"solid\",\"width\":1.1152931642091293},\"mode\":\"lines\",\"showlegend\":false,\"x\":[-0.08713686283744723,-0.17410781186444302],\"y\":[-0.11092648420253053,-0.11092648420253053],\"type\":\"scatter\"},{\"line\":{\"color\":\"darkblue\",\"dash\":\"solid\",\"width\":6.2116448165030995},\"mode\":\"lines\",\"showlegend\":false,\"x\":[-0.08713686283744723,0.1737759842435401],\"y\":[-0.11092648420253053,-0.11092648420253053],\"type\":\"scatter\"},{\"line\":{\"color\":\"darkblue\",\"dash\":\"solid\",\"width\":1.0569534259123972},\"mode\":\"lines\",\"showlegend\":false,\"x\":[-0.17410781186444302,-0.2610787608914388],\"y\":[-0.11092648420253053,-0.11092648420253053],\"type\":\"scatter\"},{\"line\":{\"color\":\"darkblue\",\"dash\":\"solid\",\"width\":1.0000000000000027},\"mode\":\"lines\",\"showlegend\":false,\"x\":[0.1737759842435401,0.1737759842435401],\"y\":[-0.11092648420253053,-0.3938012834207675],\"type\":\"scatter\"},{\"line\":{\"color\":\"darkblue\",\"dash\":\"solid\",\"width\":2.0513158395657958},\"mode\":\"lines\",\"showlegend\":false,\"x\":[0.1737759842435401,0.1737759842435401],\"y\":[-0.11092648420253053,0.01765296998757717],\"type\":\"scatter\"},{\"line\":{\"color\":\"darkblue\",\"dash\":\"solid\",\"width\":1.9380425741836282},\"mode\":\"lines\",\"showlegend\":false,\"x\":[0.1737759842435401,0.1737759842435401],\"y\":[0.01765296998757717,0.10765858792065255],\"type\":\"scatter\"},{\"line\":{\"color\":\"darkblue\",\"dash\":\"solid\",\"width\":1.8241279916648814},\"mode\":\"lines\",\"showlegend\":false,\"x\":[0.1737759842435401,0.1737759842435401],\"y\":[0.10765858792065255,0.28766982378680334],\"type\":\"scatter\"},{\"line\":{\"color\":\"darkblue\",\"dash\":\"solid\",\"width\":1.6071165890562726},\"mode\":\"lines\",\"showlegend\":false,\"x\":[0.1737759842435401,0.025925370897647276],\"y\":[0.28766982378680334,0.28766982378680334],\"type\":\"scatter\"},{\"line\":{\"color\":\"darkblue\",\"dash\":\"solid\",\"width\":1.2135862550594223},\"mode\":\"lines\",\"showlegend\":false,\"x\":[0.025925370897647276,0.025925370897647276],\"y\":[0.28766982378680334,0.12051653333966333],\"type\":\"scatter\"},{\"line\":{\"color\":\"darkblue\",\"dash\":\"solid\",\"width\":5.1033717445152025},\"mode\":\"lines\",\"showlegend\":false,\"x\":[0.2085643638543384,0.3303236924921325],\"y\":[-0.11092648420253053,-0.11092648420253053],\"type\":\"scatter\"},{\"line\":{\"color\":\"darkblue\",\"dash\":\"solid\",\"width\":1.341745569017316},\"mode\":\"lines\",\"showlegend\":false,\"x\":[0.3303236924921325,0.3999004517137291],\"y\":[-0.11092648420253053,-0.11092648420253053],\"type\":\"scatter\"},{\"line\":{\"color\":\"darkblue\",\"dash\":\"solid\",\"width\":3.498021155076144},\"mode\":\"lines\",\"showlegend\":false,\"x\":[0.3303236924921325,0.3303236924921325],\"y\":[-0.11092648420253053,-0.252363883811649],\"type\":\"scatter\"},{\"line\":{\"color\":\"darkblue\",\"dash\":\"solid\",\"width\":2.2636050204217417},\"mode\":\"lines\",\"showlegend\":false,\"x\":[0.3303236924921325,0.3303236924921325],\"y\":[-0.11092648420253053,0.01765296998757717],\"type\":\"scatter\"},{\"line\":{\"color\":\"darkblue\",\"dash\":\"solid\",\"width\":1.2847880981346396},\"mode\":\"lines\",\"showlegend\":false,\"x\":[0.3999004517137291,0.4955684956434245],\"y\":[-0.11092648420253053,-0.11092648420253053],\"type\":\"scatter\"},{\"line\":{\"color\":\"darkblue\",\"dash\":\"solid\",\"width\":1.1708729699364442},\"mode\":\"lines\",\"showlegend\":false,\"x\":[0.4955684956434245,0.608630729378519],\"y\":[-0.11092648420253053,-0.11092648420253053],\"type\":\"scatter\"},{\"line\":{\"color\":\"darkblue\",\"dash\":\"solid\",\"width\":1.1139153386920342},\"mode\":\"lines\",\"showlegend\":false,\"x\":[0.608630729378519,0.7042987733082143],\"y\":[-0.11092648420253053,-0.11092648420253053],\"type\":\"scatter\"},{\"line\":{\"color\":\"darkblue\",\"dash\":\"solid\",\"width\":1.3472712880716942},\"mode\":\"lines\",\"showlegend\":false,\"x\":[0.3303236924921325,0.42599173642182786],\"y\":[-0.252363883811649,-0.252363883811649],\"type\":\"scatter\"},{\"line\":{\"color\":\"darkblue\",\"dash\":\"solid\",\"width\":3.150749867004449},\"mode\":\"lines\",\"showlegend\":false,\"x\":[0.3303236924921325,0.3303236924921325],\"y\":[-0.252363883811649,-0.35522744716373517],\"type\":\"scatter\"},{\"line\":{\"color\":\"darkblue\",\"dash\":\"solid\",\"width\":1.2333581398324658},\"mode\":\"lines\",\"showlegend\":false,\"x\":[0.42599173642182786,0.5477510650596219],\"y\":[-0.252363883811649,-0.252363883811649],\"type\":\"scatter\"},{\"line\":{\"color\":\"darkblue\",\"dash\":\"solid\",\"width\":1.113913145051481},\"mode\":\"lines\",\"showlegend\":false,\"x\":[0.5477510650596219,0.6869045835028152],\"y\":[-0.252363883811649,-0.252363883811649],\"type\":\"scatter\"},{\"line\":{\"color\":\"darkblue\",\"dash\":\"solid\",\"width\":1.6904167180147058},\"mode\":\"lines\",\"showlegend\":false,\"x\":[0.3303236924921325,0.46947721093532574],\"y\":[-0.35522744716373517,-0.35522744716373517],\"type\":\"scatter\"},{\"line\":{\"color\":\"darkblue\",\"dash\":\"solid\",\"width\":1.7435344846175853},\"mode\":\"lines\",\"showlegend\":false,\"x\":[0.3303236924921325,0.23639506754297707],\"y\":[-0.35522744716373517,-0.6895340280580152],\"type\":\"scatter\"},{\"line\":{\"color\":\"darkblue\",\"dash\":\"solid\",\"width\":1.5765113869806529},\"mode\":\"lines\",\"showlegend\":false,\"x\":[0.46947721093532574,0.5042655905461241],\"y\":[-0.35522744716373517,-0.35522744716373517],\"type\":\"scatter\"},{\"line\":{\"color\":\"darkblue\",\"dash\":\"solid\",\"width\":1.120864353214565},\"mode\":\"lines\",\"showlegend\":false,\"x\":[0.5042655905461241,0.5825394446704203],\"y\":[-0.35522744716373517,-0.35522744716373517],\"type\":\"scatter\"},{\"line\":{\"color\":\"darkblue\",\"dash\":\"solid\",\"width\":1.4556470337660872},\"mode\":\"lines\",\"showlegend\":false,\"x\":[0.5042655905461241,0.5042655905461241],\"y\":[-0.35522744716373517,-0.5995284101249398],\"type\":\"scatter\"},{\"line\":{\"color\":\"darkblue\",\"dash\":\"solid\",\"width\":1.3417418009920692},\"mode\":\"lines\",\"showlegend\":false,\"x\":[0.5042655905461241,0.5042655905461241],\"y\":[-0.5995284101249398,-0.8438293730861445],\"type\":\"scatter\"},{\"line\":{\"color\":\"darkblue\",\"dash\":\"solid\",\"width\":1.1708717945255032},\"mode\":\"lines\",\"showlegend\":false,\"x\":[0.5042655905461241,0.5042655905461241],\"y\":[-0.8438293730861445,-0.9724088272762521],\"type\":\"scatter\"},{\"line\":{\"color\":\"darkblue\",\"dash\":\"solid\",\"width\":1.170870006466565},\"mode\":\"lines\",\"showlegend\":false,\"x\":[0.5042655905461241,0.7390871529190126],\"y\":[-0.8438293730861445,-0.8438293730861445],\"type\":\"scatter\"},{\"line\":{\"color\":\"darkblue\",\"dash\":\"solid\",\"width\":1.0569566866777573},\"mode\":\"lines\",\"showlegend\":false,\"x\":[0.5042655905461241,0.5912365395731198],\"y\":[-0.9724088272762521,-0.9724088272762521],\"type\":\"scatter\"},{\"line\":{\"color\":\"darkblue\",\"dash\":\"solid\",\"width\":1.1139133369044196},\"mode\":\"lines\",\"showlegend\":false,\"x\":[0.7390871529190126,0.7390871529190126],\"y\":[-0.8438293730861445,-0.5995284101249398],\"type\":\"scatter\"},{\"line\":{\"color\":\"darkblue\",\"dash\":\"solid\",\"width\":1.6865818762543028},\"mode\":\"lines\",\"showlegend\":false,\"x\":[0.23639506754297707,0.16507888934084053],\"y\":[-0.6895340280580152,-0.48380690135384286],\"type\":\"scatter\"},{\"line\":{\"color\":\"darkblue\",\"dash\":\"solid\",\"width\":1.1139151848959512},\"mode\":\"lines\",\"showlegend\":false,\"x\":[0.16507888934084053,0.13029050973004222],\"y\":[-0.48380690135384286,-0.3938012834207675],\"type\":\"scatter\"},{\"line\":{\"color\":\"darkblue\",\"dash\":\"solid\",\"width\":1.4587615909140053},\"mode\":\"lines\",\"showlegend\":false,\"x\":[0.16507888934084053,0.06941084541114516],\"y\":[-0.48380690135384286,-0.48380690135384286],\"type\":\"scatter\"},{\"line\":{\"color\":\"darkblue\",\"dash\":\"solid\",\"width\":1.1170278272396696},\"mode\":\"lines\",\"showlegend\":false,\"x\":[0.06941084541114516,0.06941084541114516],\"y\":[-0.48380690135384286,-0.5995284101249398],\"type\":\"scatter\"},{\"line\":{\"color\":\"darkblue\",\"dash\":\"solid\",\"width\":1.3417337636743347},\"mode\":\"lines\",\"showlegend\":false,\"x\":[0.06941084541114516,-0.008863008713151037],\"y\":[-0.48380690135384286,-0.48380690135384286],\"type\":\"scatter\"},{\"line\":{\"color\":\"darkblue\",\"dash\":\"solid\",\"width\":1.1139134841890228},\"mode\":\"lines\",\"showlegend\":false,\"x\":[-0.008863008713151037,-0.008863008713151037],\"y\":[-0.48380690135384286,-0.6381022463819721],\"type\":\"scatter\"},{\"line\":{\"color\":\"darkblue\",\"dash\":\"solid\",\"width\":1.227820279485311},\"mode\":\"lines\",\"showlegend\":false,\"x\":[-0.008863008713151037,-0.08713686283744723],\"y\":[-0.48380690135384286,-0.48380690135384286],\"type\":\"scatter\"},{\"line\":{\"color\":\"darkblue\",\"dash\":\"solid\",\"width\":1.1139152839260267},\"mode\":\"lines\",\"showlegend\":false,\"x\":[-0.08713686283744723,-0.08713686283744723],\"y\":[-0.48380690135384286,-0.6252443009629614],\"type\":\"scatter\"},{\"line\":{\"color\":\"darkblue\",\"dash\":\"solid\",\"width\":1.1139049955592835},\"mode\":\"lines\",\"showlegend\":false,\"x\":[-0.08713686283744723,-0.19150200166984216],\"y\":[-0.48380690135384286,-0.48380690135384286],\"type\":\"scatter\"},{\"line\":{\"color\":\"darkblue\",\"dash\":\"solid\",\"width\":1.0569524955164415},\"mode\":\"lines\",\"showlegend\":false,\"x\":[-0.19150200166984216,-0.19150200166984216],\"y\":[-0.48380690135384286,-0.586670464705929],\"type\":\"scatter\"},{\"line\":{\"color\":\"darkblue\",\"dash\":\"solid\",\"width\":1.347862634325812},\"mode\":\"lines\",\"showlegend\":false,\"x\":[0.3303236924921325,0.42599173642182786],\"y\":[0.01765296998757717,0.01765296998757717],\"type\":\"scatter\"},{\"line\":{\"color\":\"darkblue\",\"dash\":\"solid\",\"width\":1.2339477624440545},\"mode\":\"lines\",\"showlegend\":false,\"x\":[0.42599173642182786,0.6173278242812186],\"y\":[0.01765296998757717,0.01765296998757717],\"type\":\"scatter\"},{\"line\":{\"color\":\"darkblue\",\"dash\":\"solid\",\"width\":1.1200422750468968},\"mode\":\"lines\",\"showlegend\":false,\"x\":[0.6173278242812186,0.7216929631136135],\"y\":[0.01765296998757717,0.01765296998757717],\"type\":\"scatter\"},{\"line\":{\"color\":\"darkblue\",\"dash\":\"solid\",\"width\":1.0000000000000009},\"mode\":\"lines\",\"showlegend\":false,\"x\":[0.7216929631136135,1.0],\"y\":[0.01765296998757717,0.01765296998757717],\"type\":\"scatter\"},{\"line\":{\"color\":\"darkblue\",\"dash\":\"solid\",\"width\":1.9157423860959288},\"mode\":\"lines\",\"showlegend\":false,\"x\":[0.3303236924921325,0.3303236924921325],\"y\":[0.01765296998757717,0.06908475166362026],\"type\":\"scatter\"},{\"line\":{\"color\":\"darkblue\",\"dash\":\"solid\",\"width\":1.915742386095928},\"mode\":\"lines\",\"showlegend\":false,\"x\":[0.3303236924921325,0.3303236924921325],\"y\":[0.06908475166362026,0.19766420585372796],\"type\":\"scatter\"},{\"line\":{\"color\":\"darkblue\",\"dash\":\"solid\",\"width\":1.2847828891173192},\"mode\":\"lines\",\"showlegend\":false,\"x\":[0.3303236924921325,0.4085975466164287],\"y\":[0.19766420585372796,0.19766420585372796],\"type\":\"scatter\"},{\"line\":{\"color\":\"darkblue\",\"dash\":\"solid\",\"width\":1.6309594969786079},\"mode\":\"lines\",\"showlegend\":false,\"x\":[0.3303236924921325,0.3303236924921325],\"y\":[0.19766420585372796,0.3391016054628464],\"type\":\"scatter\"},{\"line\":{\"color\":\"darkblue\",\"dash\":\"solid\",\"width\":1.2278263096630082},\"mode\":\"lines\",\"showlegend\":false,\"x\":[0.4085975466164287,0.5216597803515232],\"y\":[0.19766420585372796,0.19766420585372796],\"type\":\"scatter\"},{\"line\":{\"color\":\"darkblue\",\"dash\":\"solid\",\"width\":1.113913153359966},\"mode\":\"lines\",\"showlegend\":false,\"x\":[0.5216597803515232,0.7651784376271114],\"y\":[0.19766420585372796,0.19766420585372796],\"type\":\"scatter\"},{\"line\":{\"color\":\"darkblue\",\"dash\":\"solid\",\"width\":1.227810689553158},\"mode\":\"lines\",\"showlegend\":false,\"x\":[0.3303236924921325,0.4085975466164287],\"y\":[0.3391016054628464,0.3391016054628464],\"type\":\"scatter\"},{\"line\":{\"color\":\"darkblue\",\"dash\":\"solid\",\"width\":1.403148807425449},\"mode\":\"lines\",\"showlegend\":false,\"x\":[0.3303236924921325,0.3303236924921325],\"y\":[0.3391016054628464,0.5062548959099864],\"type\":\"scatter\"},{\"line\":{\"color\":\"darkblue\",\"dash\":\"solid\",\"width\":1.1139053204085079},\"mode\":\"lines\",\"showlegend\":false,\"x\":[0.4085975466164287,0.608630729378519],\"y\":[0.3391016054628464,0.3391016054628464],\"type\":\"scatter\"},{\"line\":{\"color\":\"darkblue\",\"dash\":\"solid\",\"width\":1.4031488074254472},\"mode\":\"lines\",\"showlegend\":false,\"x\":[0.3303236924921325,0.4868714007407249],\"y\":[0.5062548959099864,0.5062548959099864],\"type\":\"scatter\"},{\"line\":{\"color\":\"darkblue\",\"dash\":\"solid\",\"width\":1.0000000000000009},\"mode\":\"lines\",\"showlegend\":false,\"x\":[0.3303236924921325,0.23291622958189723],\"y\":[0.5062548959099864,1.0],\"type\":\"scatter\"},{\"line\":{\"color\":\"darkblue\",\"dash\":\"solid\",\"width\":1.2892334800362333},\"mode\":\"lines\",\"showlegend\":false,\"x\":[0.4868714007407249,0.5912365395731198],\"y\":[0.5062548959099864,0.5062548959099864],\"type\":\"scatter\"},{\"line\":{\"color\":\"darkblue\",\"dash\":\"solid\",\"width\":1.056957761225213},\"mode\":\"lines\",\"showlegend\":false,\"x\":[0.5912365395731198,0.5912365395731198],\"y\":[0.5062548959099864,0.8019876405472341],\"type\":\"scatter\"},{\"line\":{\"color\":\"darkblue\",\"dash\":\"solid\",\"width\":1.2322757188110192},\"mode\":\"lines\",\"showlegend\":false,\"x\":[0.5912365395731198,0.5912365395731198],\"y\":[0.5062548959099864,0.4419651688149326],\"type\":\"scatter\"},{\"line\":{\"color\":\"darkblue\",\"dash\":\"solid\",\"width\":1.174339177435318},\"mode\":\"lines\",\"showlegend\":false,\"x\":[0.5912365395731198,0.773875532529811],\"y\":[0.4419651688149326,0.4419651688149326],\"type\":\"scatter\"},{\"line\":{\"color\":\"darkblue\",\"dash\":\"solid\",\"width\":1.0569577962173142},\"mode\":\"lines\",\"showlegend\":false,\"x\":[0.773875532529811,0.8869377662649055],\"y\":[0.4419651688149326,0.4419651688149326],\"type\":\"scatter\"},{\"line\":{\"color\":\"darkblue\",\"dash\":\"solid\",\"width\":3.154187995950802},\"mode\":\"lines\",\"showlegend\":false,\"x\":[-0.37414099462653333,-0.339352615015735],\"y\":[0.1333744787586741,0.1333744787586741],\"type\":\"scatter\"},{\"line\":{\"color\":\"darkblue\",\"dash\":\"solid\",\"width\":6.667673293423691},\"mode\":\"lines\",\"showlegend\":false,\"x\":[-0.37414099462653333,-0.339352615015735],\"y\":[-0.2909377200686813,-0.2909377200686813],\"type\":\"scatter\"},{\"line\":{\"color\":\"darkblue\",\"dash\":\"solid\",\"width\":5.103371744515203},\"mode\":\"lines\",\"showlegend\":false,\"x\":[0.2085643638543384,0.2085643638543384],\"y\":[-0.11092648420253053,-0.11092648420253053],\"type\":\"scatter\"},{\"line\":{\"color\":\"darkblue\",\"dash\":\"solid\",\"width\":5.103371744515204},\"mode\":\"lines\",\"showlegend\":false,\"x\":[0.1737759842435401,0.2085643638543384],\"y\":[-0.11092648420253053,-0.11092648420253053],\"type\":\"scatter\"},{\"line\":{\"color\":\"darkblue\",\"dash\":\"solid\",\"width\":1.0000000000000018},\"mode\":\"lines\",\"showlegend\":false,\"x\":[0.1737759842435401,0.2085643638543384],\"y\":[-0.3938012834207675,-0.3938012834207675],\"type\":\"scatter\"},{\"line\":{\"color\":\"darkblue\",\"dash\":\"solid\",\"width\":1.0000000000000009},\"mode\":\"lines\",\"showlegend\":false,\"x\":[0.2085643638543384,0.24335274346513672],\"y\":[-0.3938012834207675,-0.3938012834207675],\"type\":\"scatter\"},{\"hoverinfo\":\"none\",\"marker\":{\"color\":\"black\",\"line\":{\"color\":\"black\",\"width\":1},\"size\":20,\"symbol\":\"square\"},\"mode\":\"markers\",\"name\":\"Substation\",\"showlegend\":true,\"x\":[-0.8611783091777097],\"y\":[-0.2909377200686813],\"type\":\"scatter\"},{\"hoverinfo\":\"none\",\"marker\":{\"color\":\"orange\",\"line\":{\"color\":\"black\",\"width\":0.5},\"size\":10,\"symbol\":\"star-triangle-up\"},\"mode\":\"markers\",\"name\":\"Reverse Power Flow\",\"showlegend\":true,\"x\":[],\"y\":[],\"type\":\"scatter\"},{\"hoverinfo\":\"none\",\"marker\":{\"color\":\"white\",\"line\":{\"color\":\"black\",\"width\":1},\"size\":20,\"symbol\":\"star-diamond\"},\"mode\":\"markers\",\"name\":\"Capacitors\",\"showlegend\":true,\"x\":[0.5912365395731198,0.13029050973004222,0.06941084541114516,-0.008863008713151037],\"y\":[-0.9724088272762521,-0.3938012834207675,-0.5995284101249398,-0.6381022463819721],\"type\":\"scatter\"},{\"hoverinfo\":\"none\",\"marker\":{\"color\":\"white\",\"line\":{\"color\":\"black\",\"width\":1},\"size\":20,\"symbol\":\"square\"},\"mode\":\"markers\",\"name\":\"Generators\",\"showlegend\":true,\"x\":[],\"y\":[],\"type\":\"scatter\"},{\"hovertemplate\":\"%{text}\",\"marker\":{\"cmax\":1.05,\"cmin\":0.95,\"color\":[0.9999999999999986,1.0374999999999972,1.0372415328063123,1.0298465988742371,1.0345824051093788,1.0272089949736902,1.024585930472247,1.0266967120498112,1.025906003098644,1.0252317226546768,1.0210824050540588,1.0314676010589696,1.01020810167159,1.0160165480964787,1.0102081016715898,1.0085296050552055,1.0133765524628047,1.0092234949605032,1.0078693466413484,1.0082014213698458,1.012987118733623,1.0120128787841558,1.0125325900722644,0.9941295989262501,1.0086656822142714,0.9932772722117431,1.0238962738166815,1.008274653367095,1.0031990211366204,1.0079053941281335,1.0050084923336753,1.0046317246940963,1.0077417165940061,1.0044355680878634,1.002659895621781,1.0043440511064052,1.0075857755176334,1.0075074447371521,1.0075074447371521,1.002266298188697,1.0070465481037276,1.0069409004934236,1.0058174079685787,0.9909651992421727,1.0214882405330474,1.021069705405203,1.0043938775577614,1.0046226784669041,1.0189684885805326,1.0037492659178584,0.9880136390704143,1.002715397618562,0.9876141879802571,1.0024560729481398,1.0023349066252836,1.0022229491136894,1.0021886951448227,1.0021886951448227,1.0125661334446616,1.0109473065871581,1.009963487502773,1.009892421884664,1.0072451206055408,1.0098532671170286,1.0231927014431759,1.0015625807112307,1.0228713067693924,1.0015625807112307,1.0002507948893633,0.9994315424795537,0.9979842354827543,0.9966431619646784,0.9962940882708993,1.0309423639358546,1.0313153503928643,1.0307219748625007,1.030201745549794,1.0295601778696368,1.0283137845769894,1.0276100237890426,1.0271178391328821,1.0307359090005843,1.0252799697536874,1.0242532212927447,1.031812259954022,1.0303349018631944,1.0321068429726095,1.0320341896469458,1.0336579388591687,1.034273518258343,1.0352375247527912,1.0294455896285,1.03627634975773,1.0282311515680689,1.0300835841554983,1.0318579434923325,1.029986567621527,1.026176909379391,1.0298827088070406,1.032335385854846,1.0297558368884936,1.0302771639748147,1.029678061730333,1.0251437501450158,1.029980287926556,1.0296929278558105,1.0296023748056222,1.0296023748056222,1.0301746954638187,1.0296349166142675,1.0267150637796127,1.0292373922923845,1.0250484113197897,1.0232505190045682,1.028410679819935,1.0289103998597329,1.0269389631682626,1.024194656592903,1.0289103998597329,1.0222363028669375,1.021496160753851,1.0215801721770486,1.0195090259350499,1.0190896308829962,1.0091532498908242,1.0158875159729135,1.0325686406394554,1.001480644805415,1.0015625807112307,1.0015625807112303],\"colorscale\":[[0.0,\"#440154\"],[0.1111111111111111,\"#482878\"],[0.2222222222222222,\"#3e4989\"],[0.3333333333333333,\"#31688e\"],[0.4444444444444444,\"#26828e\"],[0.5555555555555556,\"#1f9e89\"],[0.6666666666666666,\"#35b779\"],[0.7777777777777778,\"#6ece58\"],[0.8888888888888888,\"#b5de2b\"],[1.0,\"#fde725\"]],\"line\":{\"color\":\"black\",\"width\":2.0},\"reversescale\":false,\"showscale\":true,\"size\":10},\"mode\":\"markers\",\"showlegend\":false,\"text\":[\"Bus: '150'      A   ||   B   ||   C\\u003cbr\\u003e    |V|:      1.000  1.000  1.000\\u003cbr\\u003e    P-Load: 0.000  0.000  0.000\\u003cbr\\u003e    Q-Load: 0.000  0.000  0.000\",\"Bus: '150r'      A   ||   B   ||   C\\u003cbr\\u003e    |V|:      1.037  1.037  1.037\\u003cbr\\u003e    P-Load: 0.000  0.000  0.000\\u003cbr\\u003e    Q-Load: 0.000  0.000  0.000\\u003cbr\\u003eBranch 150\\u2192150r\\u003cbr\\u003e    P flow:  1.408  0.950  1.153\\u003cbr\\u003e    Q flow:  0.478  0.304  0.347\",\"Bus: '149'      A   ||   B   ||   C\\u003cbr\\u003e    |V|:      1.037  1.037  1.037\\u003cbr\\u003e    P-Load: 0.000  0.000  0.000\\u003cbr\\u003e    Q-Load: 0.000  0.000  0.000\\u003cbr\\u003eBranch 150r\\u2192149\\u003cbr\\u003e    P flow:  1.408  0.950  1.153\\u003cbr\\u003e    Q flow:  0.478  0.304  0.347\",\"Bus: '1'      A   ||   B   ||   C\\u003cbr\\u003e    |V|:      1.026  1.035  1.029\\u003cbr\\u003e    P-Load: 0.040  0.000  0.000\\u003cbr\\u003e    Q-Load: 0.020  0.000  0.000\\u003cbr\\u003eBranch 149\\u21921\\u003cbr\\u003e    P flow:  1.408  0.950  1.153\\u003cbr\\u003e    Q flow:  0.478  0.304  0.347\",\"Bus: '2'      A   ||   B   ||   C\\u003cbr\\u003e    |V|:      nan  1.035  nan\\u003cbr\\u003e    P-Load: 0.000  0.020  0.000\\u003cbr\\u003e    Q-Load: 0.000  0.010  0.000\\u003cbr\\u003eBranch 1\\u21922\\u003cbr\\u003e    P flow:  nan  0.020  nan\\u003cbr\\u003e    Q flow:  0.000  0.010  0.000\",\"Bus: '3'      A   ||   B   ||   C\\u003cbr\\u003e    |V|:      nan  nan  1.027\\u003cbr\\u003e    P-Load: 0.000  0.000  0.000\\u003cbr\\u003e    Q-Load: 0.000  0.000  0.000\\u003cbr\\u003eBranch 1\\u21923\\u003cbr\\u003e    P flow:  nan  nan  0.103\\u003cbr\\u003e    Q flow:  0.000  0.000  0.051\",\"Bus: '7'      A   ||   B   ||   C\\u003cbr\\u003e    |V|:      1.017  1.033  1.023\\u003cbr\\u003e    P-Load: 0.020  0.000  0.000\\u003cbr\\u003e    Q-Load: 0.010  0.000  0.000\\u003cbr\\u003eBranch 1\\u21927\\u003cbr\\u003e    P flow:  1.368  0.930  1.051\\u003cbr\\u003e    Q flow:  0.458  0.294  0.295\",\"Bus: '4'      A   ||   B   ||   C\\u003cbr\\u003e    |V|:      nan  nan  1.027\\u003cbr\\u003e    P-Load: 0.000  0.000  0.040\\u003cbr\\u003e    Q-Load: 0.000  0.000  0.020\\u003cbr\\u003eBranch 3\\u21924\\u003cbr\\u003e    P flow:  nan  nan  0.040\\u003cbr\\u003e    Q flow:  0.000  0.000  0.020\",\"Bus: '5'      A   ||   B   ||   C\\u003cbr\\u003e    |V|:      nan  nan  1.026\\u003cbr\\u003e    P-Load: 0.000  0.000  0.021\\u003cbr\\u003e    Q-Load: 0.000  0.000  0.010\\u003cbr\\u003eBranch 3\\u21925\\u003cbr\\u003e    P flow:  nan  nan  0.063\\u003cbr\\u003e    Q flow:  0.000  0.000  0.031\",\"Bus: '6'      A   ||   B   ||   C\\u003cbr\\u003e    |V|:      nan  nan  1.025\\u003cbr\\u003e    P-Load: 0.000  0.000  0.042\\u003cbr\\u003e    Q-Load: 0.000  0.000  0.021\\u003cbr\\u003eBranch 5\\u21926\\u003cbr\\u003e    P flow:  nan  nan  0.042\\u003cbr\\u003e    Q flow:  0.000  0.000  0.021\",\"Bus: '8'      A   ||   B   ||   C\\u003cbr\\u003e    |V|:      1.012  1.032  1.020\\u003cbr\\u003e    P-Load: 0.000  0.000  0.000\\u003cbr\\u003e    Q-Load: 0.000  0.000  0.000\\u003cbr\\u003eBranch 7\\u21928\\u003cbr\\u003e    P flow:  1.348  0.930  1.051\\u003cbr\\u003e    Q flow:  0.448  0.294  0.295\",\"Bus: '12'      A   ||   B   ||   C\\u003cbr\\u003e    |V|:      nan  1.031  nan\\u003cbr\\u003e    P-Load: 0.000  0.020  0.000\\u003cbr\\u003e    Q-Load: 0.000  0.010  0.000\\u003cbr\\u003eBranch 8\\u219212\\u003cbr\\u003e    P flow:  nan  0.020  nan\\u003cbr\\u003e    Q flow:  0.000  0.010  0.000\",\"Bus: '9'      A   ||   B   ||   C\\u003cbr\\u003e    |V|:      1.010  nan  nan\\u003cbr\\u003e    P-Load: 0.040  0.000  0.000\\u003cbr\\u003e    Q-Load: 0.020  0.000  0.000\\u003cbr\\u003eBranch 8\\u21929\\u003cbr\\u003e    P flow:  0.101  nan  nan\\u003cbr\\u003e    Q flow:  0.050  0.000  0.000\",\"Bus: '13'      A   ||   B   ||   C\\u003cbr\\u003e    |V|:      1.004  1.029  1.014\\u003cbr\\u003e    P-Load: 0.000  0.000  0.000\\u003cbr\\u003e    Q-Load: 0.000  0.000  0.000\\u003cbr\\u003eBranch 8\\u219213\\u003cbr\\u003e    P flow:  1.247  0.910  1.051\\u003cbr\\u003e    Q flow:  0.398  0.284  0.295\",\"Bus: '9r'      A   ||   B   ||   C\\u003cbr\\u003e    |V|:      1.010  nan  nan\\u003cbr\\u003e    P-Load: 0.000  0.000  0.000\\u003cbr\\u003e    Q-Load: 0.000  0.000  0.000\\u003cbr\\u003eBranch 9\\u21929r\\u003cbr\\u003e    P flow:  0.061  nan  nan\\u003cbr\\u003e    Q flow:  0.030  0.000  0.000\",\"Bus: '14'      A   ||   B   ||   C\\u003cbr\\u003e    |V|:      1.009  nan  nan\\u003cbr\\u003e    P-Load: 0.000  0.000  0.000\\u003cbr\\u003e    Q-Load: 0.000  0.000  0.000\\u003cbr\\u003eBranch 9r\\u219214\\u003cbr\\u003e    P flow:  0.061  nan  nan\\u003cbr\\u003e    Q flow:  0.030  0.000  0.000\",\"Bus: '34'      A   ||   B   ||   C\\u003cbr\\u003e    |V|:      nan  nan  1.013\\u003cbr\\u003e    P-Load: 0.000  0.000  0.041\\u003cbr\\u003e    Q-Load: 0.000  0.000  0.021\\u003cbr\\u003eBranch 13\\u219234\\u003cbr\\u003e    P flow:  nan  nan  0.101\\u003cbr\\u003e    Q flow:  0.000  0.000  0.051\",\"Bus: '18'      A   ||   B   ||   C\\u003cbr\\u003e    |V|:      0.995  1.025  1.007\\u003cbr\\u003e    P-Load: 0.000  0.000  0.000\\u003cbr\\u003e    Q-Load: 0.000  0.000  0.000\\u003cbr\\u003eBranch 13\\u219218\\u003cbr\\u003e    P flow:  0.480  0.317  0.320\\u003cbr\\u003e    Q flow:  0.255  0.211  0.185\",\"Bus: '11'      A   ||   B   ||   C\\u003cbr\\u003e    |V|:      1.008  nan  nan\\u003cbr\\u003e    P-Load: 0.040  0.000  0.000\\u003cbr\\u003e    Q-Load: 0.020  0.000  0.000\\u003cbr\\u003eBranch 14\\u219211\\u003cbr\\u003e    P flow:  0.040  nan  nan\\u003cbr\\u003e    Q flow:  0.020  0.000  0.000\",\"Bus: '10'      A   ||   B   ||   C\\u003cbr\\u003e    |V|:      1.008  nan  nan\\u003cbr\\u003e    P-Load: 0.020  0.000  0.000\\u003cbr\\u003e    Q-Load: 0.010  0.000  0.000\\u003cbr\\u003eBranch 14\\u219210\\u003cbr\\u003e    P flow:  0.020  nan  nan\\u003cbr\\u003e    Q flow:  0.010  0.000  0.000\",\"Bus: '15'      A   ||   B   ||   C\\u003cbr\\u003e    |V|:      nan  nan  1.013\\u003cbr\\u003e    P-Load: 0.000  0.000  0.000\\u003cbr\\u003e    Q-Load: 0.000  0.000  0.000\\u003cbr\\u003eBranch 34\\u219215\\u003cbr\\u003e    P flow:  nan  nan  0.060\\u003cbr\\u003e    Q flow:  0.000  0.000  0.030\",\"Bus: '16'      A   ||   B   ||   C\\u003cbr\\u003e    |V|:      nan  nan  1.012\\u003cbr\\u003e    P-Load: 0.000  0.000  0.040\\u003cbr\\u003e    Q-Load: 0.000  0.000  0.020\\u003cbr\\u003eBranch 15\\u219216\\u003cbr\\u003e    P flow:  nan  nan  0.040\\u003cbr\\u003e    Q flow:  0.000  0.000  0.020\",\"Bus: '17'      A   ||   B   ||   C\\u003cbr\\u003e    |V|:      nan  nan  1.013\\u003cbr\\u003e    P-Load: 0.000  0.000  0.020\\u003cbr\\u003e    Q-Load: 0.000  0.000  0.010\\u003cbr\\u003eBranch 15\\u219217\\u003cbr\\u003e    P flow:  nan  nan  0.020\\u003cbr\\u003e    Q flow:  0.000  0.000  0.010\",\"Bus: '19'      A   ||   B   ||   C\\u003cbr\\u003e    |V|:      0.994  nan  nan\\u003cbr\\u003e    P-Load: 0.040  0.000  0.000\\u003cbr\\u003e    Q-Load: 0.020  0.000  0.000\\u003cbr\\u003eBranch 18\\u219219\\u003cbr\\u003e    P flow:  0.080  nan  nan\\u003cbr\\u003e    Q flow:  0.040  0.000  0.000\",\"Bus: '21'      A   ||   B   ||   C\\u003cbr\\u003e    |V|:      0.995  1.025  1.006\\u003cbr\\u003e    P-Load: 0.000  0.000  0.000\\u003cbr\\u003e    Q-Load: 0.000  0.000  0.000\\u003cbr\\u003eBranch 18\\u219221\\u003cbr\\u003e    P flow:  0.119  0.042  0.120\\u003cbr\\u003e    Q flow:  0.059  0.021  0.060\",\"Bus: '20'      A   ||   B   ||   C\\u003cbr\\u003e    |V|:      0.993  nan  nan\\u003cbr\\u003e    P-Load: 0.040  0.000  0.000\\u003cbr\\u003e    Q-Load: 0.020  0.000  0.000\\u003cbr\\u003eBranch 19\\u219220\\u003cbr\\u003e    P flow:  0.040  nan  nan\\u003cbr\\u003e    Q flow:  0.020  0.000  0.000\",\"Bus: '22'      A   ||   B   ||   C\\u003cbr\\u003e    |V|:      nan  1.024  nan\\u003cbr\\u003e    P-Load: 0.000  0.042  0.000\\u003cbr\\u003e    Q-Load: 0.000  0.021  0.000\\u003cbr\\u003eBranch 21\\u219222\\u003cbr\\u003e    P flow:  nan  0.042  nan\\u003cbr\\u003e    Q flow:  0.000  0.021  0.000\",\"Bus: '23'      A   ||   B   ||   C\\u003cbr\\u003e    |V|:      0.995  1.026  1.005\\u003cbr\\u003e    P-Load: 0.000  0.000  0.000\\u003cbr\\u003e    Q-Load: 0.000  0.000  0.000\\u003cbr\\u003eBranch 21\\u219223\\u003cbr\\u003e    P flow:  0.119  0.000  0.120\\u003cbr\\u003e    Q flow:  0.059  -0.000  0.060\",\"Bus: '24'      A   ||   B   ||   C\\u003cbr\\u003e    |V|:      nan  nan  1.003\\u003cbr\\u003e    P-Load: 0.000  0.000  0.040\\u003cbr\\u003e    Q-Load: 0.000  0.000  0.020\\u003cbr\\u003eBranch 23\\u219224\\u003cbr\\u003e    P flow:  nan  nan  0.040\\u003cbr\\u003e    Q flow:  0.000  0.000  0.020\",\"Bus: '25'      A   ||   B   ||   C\\u003cbr\\u003e    |V|:      0.994  1.026  1.004\\u003cbr\\u003e    P-Load: 0.000  0.000  0.000\\u003cbr\\u003e    Q-Load: 0.000  0.000  0.000\\u003cbr\\u003eBranch 23\\u219225\\u003cbr\\u003e    P flow:  0.119  0.000  0.080\\u003cbr\\u003e    Q flow:  0.059  -0.000  0.040\",\"Bus: '25r'      A   ||   B   ||   C\\u003cbr\\u003e    |V|:      1.006  nan  1.004\\u003cbr\\u003e    P-Load: 0.000  0.000  0.000\\u003cbr\\u003e    Q-Load: 0.000  0.000  0.000\\u003cbr\\u003eBranch 25\\u219225r\\u003cbr\\u003e    P flow:  0.040  nan  0.040\\u003cbr\\u003e    Q flow:  0.020  0.000  0.020\",\"Bus: '26'      A   ||   B   ||   C\\u003cbr\\u003e    |V|:      1.006  nan  1.003\\u003cbr\\u003e    P-Load: 0.000  0.000  0.000\\u003cbr\\u003e    Q-Load: 0.000  0.000  0.000\\u003cbr\\u003eBranch 25r\\u219226\\u003cbr\\u003e    P flow:  0.040  nan  0.040\\u003cbr\\u003e    Q flow:  0.020  0.000  0.020\",\"Bus: '28'      A   ||   B   ||   C\\u003cbr\\u003e    |V|:      0.993  1.026  1.003\\u003cbr\\u003e    P-Load: 0.040  0.000  0.000\\u003cbr\\u003e    Q-Load: 0.020  0.000  0.000\\u003cbr\\u003eBranch 25\\u219228\\u003cbr\\u003e    P flow:  0.079  0.000  0.040\\u003cbr\\u003e    Q flow:  0.039  -0.000  0.020\",\"Bus: '27'      A   ||   B   ||   C\\u003cbr\\u003e    |V|:      1.006  nan  1.003\\u003cbr\\u003e    P-Load: 0.000  0.000  0.000\\u003cbr\\u003e    Q-Load: 0.000  0.000  0.000\\u003cbr\\u003eBranch 26\\u219227\\u003cbr\\u003e    P flow:  0.040  nan  -0.000\\u003cbr\\u003e    Q flow:  0.020  0.000  0.000\",\"Bus: '31'      A   ||   B   ||   C\\u003cbr\\u003e    |V|:      nan  nan  1.003\\u003cbr\\u003e    P-Load: 0.000  0.000  0.020\\u003cbr\\u003e    Q-Load: 0.000  0.000  0.010\\u003cbr\\u003eBranch 26\\u219231\\u003cbr\\u003e    P flow:  nan  nan  0.040\\u003cbr\\u003e    Q flow:  0.000  0.000  0.020\",\"Bus: '33'      A   ||   B   ||   C\\u003cbr\\u003e    |V|:      1.004  nan  nan\\u003cbr\\u003e    P-Load: 0.040  0.000  0.000\\u003cbr\\u003e    Q-Load: 0.020  0.000  0.000\\u003cbr\\u003eBranch 27\\u219233\\u003cbr\\u003e    P flow:  0.040  nan  nan\\u003cbr\\u003e    Q flow:  0.020  0.000  0.000\",\"Bus: '29'      A   ||   B   ||   C\\u003cbr\\u003e    |V|:      0.993  1.026  1.003\\u003cbr\\u003e    P-Load: 0.039  0.000  0.000\\u003cbr\\u003e    Q-Load: 0.020  0.000  0.000\\u003cbr\\u003eBranch 28\\u219229\\u003cbr\\u003e    P flow:  0.039  0.000  0.040\\u003cbr\\u003e    Q flow:  0.020  -0.000  0.020\",\"Bus: '30'      A   ||   B   ||   C\\u003cbr\\u003e    |V|:      0.994  1.026  1.002\\u003cbr\\u003e    P-Load: 0.000  0.000  0.040\\u003cbr\\u003e    Q-Load: 0.000  0.000  0.020\\u003cbr\\u003eBranch 29\\u219230\\u003cbr\\u003e    P flow:  0.000  0.000  0.040\\u003cbr\\u003e    Q flow:  0.000  -0.000  0.020\",\"Bus: '250'      A   ||   B   ||   C\\u003cbr\\u003e    |V|:      0.994  1.026  1.002\\u003cbr\\u003e    P-Load: 0.000  0.000  0.000\\u003cbr\\u003e    Q-Load: 0.000  0.000  0.000\\u003cbr\\u003eBranch 30\\u2192250\\u003cbr\\u003e    P flow:  0.000  0.000  -0.000\\u003cbr\\u003e    Q flow:  0.000  -0.000  0.000\",\"Bus: '32'      A   ||   B   ||   C\\u003cbr\\u003e    |V|:      nan  nan  1.002\\u003cbr\\u003e    P-Load: 0.000  0.000  0.020\\u003cbr\\u003e    Q-Load: 0.000  0.000  0.010\\u003cbr\\u003eBranch 31\\u219232\\u003cbr\\u003e    P flow:  nan  nan  0.020\\u003cbr\\u003e    Q flow:  0.000  0.000  0.010\",\"Bus: '35'      A   ||   B   ||   C\\u003cbr\\u003e    |V|:      0.993  1.023  1.006\\u003cbr\\u003e    P-Load: 0.025  0.015  0.000\\u003cbr\\u003e    Q-Load: -0.002  0.022  0.000\\u003cbr\\u003eBranch 135\\u219235\\u003cbr\\u003e    P flow:  0.281  0.275  0.200\\u003cbr\\u003e    Q flow:  0.155  0.190  0.125\",\"Bus: '36'      A   ||   B   ||   C\\u003cbr\\u003e    |V|:      0.992  1.022  nan\\u003cbr\\u003e    P-Load: 0.000  0.000  0.000\\u003cbr\\u003e    Q-Load: 0.000  0.000  0.000\\u003cbr\\u003eBranch 35\\u219236\\u003cbr\\u003e    P flow:  0.039  0.040  nan\\u003cbr\\u003e    Q flow:  0.020  0.020  0.000\",\"Bus: '40'      A   ||   B   ||   C\\u003cbr\\u003e    |V|:      0.991  1.021  1.005\\u003cbr\\u003e    P-Load: 0.000  0.000  0.000\\u003cbr\\u003e    Q-Load: 0.000  0.000  0.000\\u003cbr\\u003eBranch 35\\u219240\\u003cbr\\u003e    P flow:  0.217  0.220  0.200\\u003cbr\\u003e    Q flow:  0.138  0.148  0.125\",\"Bus: '37'      A   ||   B   ||   C\\u003cbr\\u003e    |V|:      0.991  nan  nan\\u003cbr\\u003e    P-Load: 0.039  0.000  0.000\\u003cbr\\u003e    Q-Load: 0.020  0.000  0.000\\u003cbr\\u003eBranch 36\\u219237\\u003cbr\\u003e    P flow:  0.039  nan  nan\\u003cbr\\u003e    Q flow:  0.020  0.000  0.000\",\"Bus: '38'      A   ||   B   ||   C\\u003cbr\\u003e    |V|:      nan  1.021  nan\\u003cbr\\u003e    P-Load: 0.000  0.020  0.000\\u003cbr\\u003e    Q-Load: 0.000  0.010  0.000\\u003cbr\\u003eBranch 36\\u219238\\u003cbr\\u003e    P flow:  nan  0.040  nan\\u003cbr\\u003e    Q flow:  0.000  0.020  0.000\",\"Bus: '39'      A   ||   B   ||   C\\u003cbr\\u003e    |V|:      nan  1.021  nan\\u003cbr\\u003e    P-Load: 0.000  0.020  0.000\\u003cbr\\u003e    Q-Load: 0.000  0.010  0.000\\u003cbr\\u003eBranch 38\\u219239\\u003cbr\\u003e    P flow:  nan  0.020  nan\\u003cbr\\u003e    Q flow:  0.000  0.010  0.000\",\"Bus: '41'      A   ||   B   ||   C\\u003cbr\\u003e    |V|:      nan  nan  1.004\\u003cbr\\u003e    P-Load: 0.000  0.000  0.020\\u003cbr\\u003e    Q-Load: 0.000  0.000  0.010\\u003cbr\\u003eBranch 40\\u219241\\u003cbr\\u003e    P flow:  nan  nan  0.020\\u003cbr\\u003e    Q flow:  0.000  0.000  0.010\",\"Bus: '42'      A   ||   B   ||   C\\u003cbr\\u003e    |V|:      0.990  1.020  1.004\\u003cbr\\u003e    P-Load: 0.020  0.000  0.000\\u003cbr\\u003e    Q-Load: 0.010  0.000  0.000\\u003cbr\\u003eBranch 40\\u219242\\u003cbr\\u003e    P flow:  0.217  0.220  0.180\\u003cbr\\u003e    Q flow:  0.138  0.148  0.115\",\"Bus: '43'      A   ||   B   ||   C\\u003cbr\\u003e    |V|:      nan  1.019  nan\\u003cbr\\u003e    P-Load: 0.000  0.042  0.000\\u003cbr\\u003e    Q-Load: 0.000  0.021  0.000\\u003cbr\\u003eBranch 42\\u219243\\u003cbr\\u003e    P flow:  nan  0.042  nan\\u003cbr\\u003e    Q flow:  0.000  0.021  0.000\",\"Bus: '44'      A   ||   B   ||   C\\u003cbr\\u003e    |V|:      0.989  1.020  1.003\\u003cbr\\u003e    P-Load: 0.000  0.000  0.000\\u003cbr\\u003e    Q-Load: 0.000  0.000  0.000\\u003cbr\\u003eBranch 42\\u219244\\u003cbr\\u003e    P flow:  0.197  0.178  0.180\\u003cbr\\u003e    Q flow:  0.128  0.127  0.115\",\"Bus: '45'      A   ||   B   ||   C\\u003cbr\\u003e    |V|:      0.988  nan  nan\\u003cbr\\u003e    P-Load: 0.020  0.000  0.000\\u003cbr\\u003e    Q-Load: 0.010  0.000  0.000\\u003cbr\\u003eBranch 44\\u219245\\u003cbr\\u003e    P flow:  0.040  nan  nan\\u003cbr\\u003e    Q flow:  0.020  0.000  0.000\",\"Bus: '47'      A   ||   B   ||   C\\u003cbr\\u003e    |V|:      0.988  1.018  1.002\\u003cbr\\u003e    P-Load: 0.034  0.036  0.035\\u003cbr\\u003e    Q-Load: 0.025  0.025  0.025\\u003cbr\\u003eBranch 44\\u219247\\u003cbr\\u003e    P flow:  0.157  0.178  0.180\\u003cbr\\u003e    Q flow:  0.108  0.127  0.115\",\"Bus: '46'      A   ||   B   ||   C\\u003cbr\\u003e    |V|:      0.988  nan  nan\\u003cbr\\u003e    P-Load: 0.020  0.000  0.000\\u003cbr\\u003e    Q-Load: 0.010  0.000  0.000\\u003cbr\\u003eBranch 45\\u219246\\u003cbr\\u003e    P flow:  0.020  nan  nan\\u003cbr\\u003e    Q flow:  0.010  0.000  0.000\",\"Bus: '48'      A   ||   B   ||   C\\u003cbr\\u003e    |V|:      0.987  1.018  1.002\\u003cbr\\u003e    P-Load: 0.068  0.073  0.070\\u003cbr\\u003e    Q-Load: 0.048  0.052  0.050\\u003cbr\\u003eBranch 47\\u219248\\u003cbr\\u003e    P flow:  0.068  0.073  0.070\\u003cbr\\u003e    Q flow:  0.048  0.052  0.050\",\"Bus: '49'      A   ||   B   ||   C\\u003cbr\\u003e    |V|:      0.987  1.018  1.002\\u003cbr\\u003e    P-Load: 0.035  0.070  0.035\\u003cbr\\u003e    Q-Load: 0.025  0.050  0.020\\u003cbr\\u003eBranch 47\\u219249\\u003cbr\\u003e    P flow:  0.055  0.070  0.075\\u003cbr\\u003e    Q flow:  0.035  0.050  0.040\",\"Bus: '50'      A   ||   B   ||   C\\u003cbr\\u003e    |V|:      0.987  1.018  1.001\\u003cbr\\u003e    P-Load: 0.000  0.000  0.040\\u003cbr\\u003e    Q-Load: 0.000  0.000  0.020\\u003cbr\\u003eBranch 49\\u219250\\u003cbr\\u003e    P flow:  0.020  0.000  0.040\\u003cbr\\u003e    Q flow:  0.010  -0.000  0.020\",\"Bus: '51'      A   ||   B   ||   C\\u003cbr\\u003e    |V|:      0.987  1.018  1.001\\u003cbr\\u003e    P-Load: 0.020  0.000  0.000\\u003cbr\\u003e    Q-Load: 0.010  0.000  0.000\\u003cbr\\u003eBranch 50\\u219251\\u003cbr\\u003e    P flow:  0.020  0.000  -0.000\\u003cbr\\u003e    Q flow:  0.010  -0.000  0.000\",\"Bus: '151'      A   ||   B   ||   C\\u003cbr\\u003e    |V|:      0.987  1.018  1.001\\u003cbr\\u003e    P-Load: 0.000  0.000  0.000\\u003cbr\\u003e    Q-Load: 0.000  0.000  0.000\\u003cbr\\u003eBranch 51\\u2192151\\u003cbr\\u003e    P flow:  0.000  0.000  -0.000\\u003cbr\\u003e    Q flow:  0.000  -0.000  0.000\",\"Bus: '52'      A   ||   B   ||   C\\u003cbr\\u003e    |V|:      0.998  1.028  1.011\\u003cbr\\u003e    P-Load: 0.040  0.000  0.000\\u003cbr\\u003e    Q-Load: 0.020  0.000  0.000\\u003cbr\\u003eBranch 152\\u219252\\u003cbr\\u003e    P flow:  0.767  0.593  0.629\\u003cbr\\u003e    Q flow:  0.143  0.072  0.060\",\"Bus: '53'      A   ||   B   ||   C\\u003cbr\\u003e    |V|:      0.996  1.027  1.010\\u003cbr\\u003e    P-Load: 0.040  0.000  0.000\\u003cbr\\u003e    Q-Load: 0.020  0.000  0.000\\u003cbr\\u003eBranch 52\\u219253\\u003cbr\\u003e    P flow:  0.727  0.593  0.629\\u003cbr\\u003e    Q flow:  0.123  0.072  0.060\",\"Bus: '54'      A   ||   B   ||   C\\u003cbr\\u003e    |V|:      0.994  1.027  1.009\\u003cbr\\u003e    P-Load: 0.000  0.000  0.000\\u003cbr\\u003e    Q-Load: 0.000  0.000  0.000\\u003cbr\\u003eBranch 53\\u219254\\u003cbr\\u003e    P flow:  0.687  0.593  0.629\\u003cbr\\u003e    Q flow:  0.103  0.072  0.060\",\"Bus: '55'      A   ||   B   ||   C\\u003cbr\\u003e    |V|:      0.994  1.027  1.009\\u003cbr\\u003e    P-Load: 0.020  0.000  0.000\\u003cbr\\u003e    Q-Load: 0.010  0.000  0.000\\u003cbr\\u003eBranch 54\\u219255\\u003cbr\\u003e    P flow:  0.020  0.020  -0.000\\u003cbr\\u003e    Q flow:  0.010  0.010  0.000\",\"Bus: '57'      A   ||   B   ||   C\\u003cbr\\u003e    |V|:      0.992  1.024  1.006\\u003cbr\\u003e    P-Load: 0.000  0.000  0.000\\u003cbr\\u003e    Q-Load: 0.000  0.000  0.000\\u003cbr\\u003eBranch 54\\u219257\\u003cbr\\u003e    P flow:  0.668  0.573  0.629\\u003cbr\\u003e    Q flow:  0.093  0.062  0.060\",\"Bus: '56'      A   ||   B   ||   C\\u003cbr\\u003e    |V|:      0.994  1.026  1.009\\u003cbr\\u003e    P-Load: 0.000  0.020  0.000\\u003cbr\\u003e    Q-Load: 0.000  0.010  0.000\\u003cbr\\u003eBranch 55\\u219256\\u003cbr\\u003e    P flow:  0.000  0.020  -0.000\\u003cbr\\u003e    Q flow:  0.000  0.010  0.000\",\"Bus: '58'      A   ||   B   ||   C\\u003cbr\\u003e    |V|:      nan  1.023  nan\\u003cbr\\u003e    P-Load: 0.000  0.020  0.000\\u003cbr\\u003e    Q-Load: 0.000  0.010  0.000\\u003cbr\\u003eBranch 57\\u219258\\u003cbr\\u003e    P flow:  nan  0.040  nan\\u003cbr\\u003e    Q flow:  0.000  0.020  0.000\",\"Bus: '60'      A   ||   B   ||   C\\u003cbr\\u003e    |V|:      0.985  1.019  1.000\\u003cbr\\u003e    P-Load: 0.020  0.000  0.000\\u003cbr\\u003e    Q-Load: 0.010  0.000  0.000\\u003cbr\\u003eBranch 57\\u219260\\u003cbr\\u003e    P flow:  0.668  0.533  0.629\\u003cbr\\u003e    Q flow:  0.093  0.042  0.060\",\"Bus: '59'      A   ||   B   ||   C\\u003cbr\\u003e    |V|:      nan  1.023  nan\\u003cbr\\u003e    P-Load: 0.000  0.020  0.000\\u003cbr\\u003e    Q-Load: 0.000  0.010  0.000\\u003cbr\\u003eBranch 58\\u219259\\u003cbr\\u003e    P flow:  nan  0.020  nan\\u003cbr\\u003e    Q flow:  0.000  0.010  0.000\",\"Bus: '61'      A   ||   B   ||   C\\u003cbr\\u003e    |V|:      0.985  1.019  1.000\\u003cbr\\u003e    P-Load: 0.000  0.000  0.000\\u003cbr\\u003e    Q-Load: 0.000  0.000  0.000\\u003cbr\\u003eBranch 60\\u219261\\u003cbr\\u003e    P flow:  0.000  0.000  -0.000\\u003cbr\\u003e    Q flow:  0.000  -0.000  0.000\",\"Bus: '62'      A   ||   B   ||   C\\u003cbr\\u003e    |V|:      0.985  1.018  0.998\\u003cbr\\u003e    P-Load: 0.000  0.000  0.040\\u003cbr\\u003e    Q-Load: 0.000  0.000  0.020\\u003cbr\\u003eBranch 60\\u219262\\u003cbr\\u003e    P flow:  0.084  0.112  0.173\\u003cbr\\u003e    Q flow:  0.065  0.061  0.083\",\"Bus: '63'      A   ||   B   ||   C\\u003cbr\\u003e    |V|:      0.984  1.017  0.997\\u003cbr\\u003e    P-Load: 0.040  0.000  0.000\\u003cbr\\u003e    Q-Load: 0.020  0.000  0.000\\u003cbr\\u003eBranch 62\\u219263\\u003cbr\\u003e    P flow:  0.084  0.112  0.134\\u003cbr\\u003e    Q flow:  0.065  0.061  0.063\",\"Bus: '64'      A   ||   B   ||   C\\u003cbr\\u003e    |V|:      0.984  1.015  0.995\\u003cbr\\u003e    P-Load: 0.000  0.076  0.000\\u003cbr\\u003e    Q-Load: 0.000  0.036  0.000\\u003cbr\\u003eBranch 63\\u219264\\u003cbr\\u003e    P flow:  0.044  0.112  0.134\\u003cbr\\u003e    Q flow:  0.045  0.061  0.063\",\"Bus: '65'      A   ||   B   ||   C\\u003cbr\\u003e    |V|:      0.983  1.015  0.992\\u003cbr\\u003e    P-Load: 0.044  0.035  0.059\\u003cbr\\u003e    Q-Load: 0.045  0.025  0.028\\u003cbr\\u003eBranch 64\\u219265\\u003cbr\\u003e    P flow:  0.044  0.035  0.134\\u003cbr\\u003e    Q flow:  0.045  0.025  0.063\",\"Bus: '66'      A   ||   B   ||   C\\u003cbr\\u003e    |V|:      0.983  1.015  0.991\\u003cbr\\u003e    P-Load: 0.000  0.000  0.075\\u003cbr\\u003e    Q-Load: 0.000  0.000  0.035\\u003cbr\\u003eBranch 65\\u219266\\u003cbr\\u003e    P flow:  0.000  0.000  0.075\\u003cbr\\u003e    Q flow:  0.000  -0.000  0.035\",\"Bus: '67'      A   ||   B   ||   C\\u003cbr\\u003e    |V|:      1.033  1.031  1.029\\u003cbr\\u003e    P-Load: 0.000  0.000  0.000\\u003cbr\\u003e    Q-Load: 0.000  0.000  0.000\\u003cbr\\u003eBranch 160r\\u219267\\u003cbr\\u003e    P flow:  0.564  0.421  0.456\\u003cbr\\u003e    Q flow:  0.018  -0.019  -0.023\",\"Bus: '68'      A   ||   B   ||   C\\u003cbr\\u003e    |V|:      1.031  nan  nan\\u003cbr\\u003e    P-Load: 0.020  0.000  0.000\\u003cbr\\u003e    Q-Load: 0.010  0.000  0.000\\u003cbr\\u003eBranch 67\\u219268\\u003cbr\\u003e    P flow:  0.120  nan  nan\\u003cbr\\u003e    Q flow:  0.060  0.000  0.000\",\"Bus: '72'      A   ||   B   ||   C\\u003cbr\\u003e    |V|:      1.033  1.030  1.029\\u003cbr\\u003e    P-Load: 0.000  0.000  0.000\\u003cbr\\u003e    Q-Load: 0.000  0.000  0.000\\u003cbr\\u003eBranch 67\\u219272\\u003cbr\\u003e    P flow:  0.262  0.301  0.314\\u003cbr\\u003e    Q flow:  -0.133  -0.079  -0.094\",\"Bus: '97'      A   ||   B   ||   C\\u003cbr\\u003e    |V|:      1.032  1.030  1.029\\u003cbr\\u003e    P-Load: 0.000  0.000  0.000\\u003cbr\\u003e    Q-Load: 0.000  0.000  0.000\\u003cbr\\u003eBranch 67\\u219297\\u003cbr\\u003e    P flow:  0.182  0.120  0.142\\u003cbr\\u003e    Q flow:  0.091  0.060  0.071\",\"Bus: '69'      A   ||   B   ||   C\\u003cbr\\u003e    |V|:      1.030  nan  nan\\u003cbr\\u003e    P-Load: 0.040  0.000  0.000\\u003cbr\\u003e    Q-Load: 0.020  0.000  0.000\\u003cbr\\u003eBranch 68\\u219269\\u003cbr\\u003e    P flow:  0.100  nan  nan\\u003cbr\\u003e    Q flow:  0.050  0.000  0.000\",\"Bus: '70'      A   ||   B   ||   C\\u003cbr\\u003e    |V|:      1.028  nan  nan\\u003cbr\\u003e    P-Load: 0.020  0.000  0.000\\u003cbr\\u003e    Q-Load: 0.010  0.000  0.000\\u003cbr\\u003eBranch 69\\u219270\\u003cbr\\u003e    P flow:  0.060  nan  nan\\u003cbr\\u003e    Q flow:  0.030  0.000  0.000\",\"Bus: '71'      A   ||   B   ||   C\\u003cbr\\u003e    |V|:      1.028  nan  nan\\u003cbr\\u003e    P-Load: 0.040  0.000  0.000\\u003cbr\\u003e    Q-Load: 0.020  0.000  0.000\\u003cbr\\u003eBranch 70\\u219271\\u003cbr\\u003e    P flow:  0.040  nan  nan\\u003cbr\\u003e    Q flow:  0.020  0.000  0.000\",\"Bus: '73'      A   ||   B   ||   C\\u003cbr\\u003e    |V|:      nan  nan  1.027\\u003cbr\\u003e    P-Load: 0.000  0.000  0.040\\u003cbr\\u003e    Q-Load: 0.000  0.000  0.020\\u003cbr\\u003eBranch 72\\u219273\\u003cbr\\u003e    P flow:  nan  nan  0.122\\u003cbr\\u003e    Q flow:  0.000  0.000  0.061\",\"Bus: '76'      A   ||   B   ||   C\\u003cbr\\u003e    |V|:      1.033  1.029  1.030\\u003cbr\\u003e    P-Load: 0.100  0.080  0.072\\u003cbr\\u003e    Q-Load: 0.055  0.078  0.052\\u003cbr\\u003eBranch 72\\u219276\\u003cbr\\u003e    P flow:  0.262  0.301  0.192\\u003cbr\\u003e    Q flow:  -0.133  -0.079  -0.155\",\"Bus: '74'      A   ||   B   ||   C\\u003cbr\\u003e    |V|:      nan  nan  1.025\\u003cbr\\u003e    P-Load: 0.000  0.000  0.042\\u003cbr\\u003e    Q-Load: 0.000  0.000  0.021\\u003cbr\\u003eBranch 73\\u219274\\u003cbr\\u003e    P flow:  nan  nan  0.082\\u003cbr\\u003e    Q flow:  0.000  0.000  0.041\",\"Bus: '75'      A   ||   B   ||   C\\u003cbr\\u003e    |V|:      nan  nan  1.024\\u003cbr\\u003e    P-Load: 0.000  0.000  0.040\\u003cbr\\u003e    Q-Load: 0.000  0.000  0.020\\u003cbr\\u003eBranch 74\\u219275\\u003cbr\\u003e    P flow:  nan  nan  0.040\\u003cbr\\u003e    Q flow:  0.000  0.000  0.020\",\"Bus: '77'      A   ||   B   ||   C\\u003cbr\\u003e    |V|:      1.034  1.030  1.031\\u003cbr\\u003e    P-Load: 0.000  0.040  0.000\\u003cbr\\u003e    Q-Load: 0.000  0.020  0.000\\u003cbr\\u003eBranch 76\\u219277\\u003cbr\\u003e    P flow:  0.082  0.080  0.080\\u003cbr\\u003e    Q flow:  -0.175  -0.174  -0.174\",\"Bus: '86'      A   ||   B   ||   C\\u003cbr\\u003e    |V|:      1.032  1.027  1.031\\u003cbr\\u003e    P-Load: 0.000  0.020  0.000\\u003cbr\\u003e    Q-Load: 0.000  0.010  0.000\\u003cbr\\u003eBranch 76\\u219286\\u003cbr\\u003e    P flow:  0.080  0.141  0.040\\u003cbr\\u003e    Q flow:  -0.013  0.018  -0.033\",\"Bus: '78'      A   ||   B   ||   C\\u003cbr\\u003e    |V|:      1.035  1.031  1.031\\u003cbr\\u003e    P-Load: 0.000  0.000  0.000\\u003cbr\\u003e    Q-Load: 0.000  0.000  0.000\\u003cbr\\u003eBranch 77\\u219278\\u003cbr\\u003e    P flow:  0.082  0.040  0.080\\u003cbr\\u003e    Q flow:  -0.175  -0.194  -0.174\",\"Bus: '79'      A   ||   B   ||   C\\u003cbr\\u003e    |V|:      1.034  1.031  1.031\\u003cbr\\u003e    P-Load: 0.042  0.000  0.000\\u003cbr\\u003e    Q-Load: 0.021  0.000  0.000\\u003cbr\\u003eBranch 78\\u219279\\u003cbr\\u003e    P flow:  0.042  0.000  -0.000\\u003cbr\\u003e    Q flow:  0.021  -0.000  0.000\",\"Bus: '80'      A   ||   B   ||   C\\u003cbr\\u003e    |V|:      1.037  1.032  1.032\\u003cbr\\u003e    P-Load: 0.000  0.040  0.000\\u003cbr\\u003e    Q-Load: 0.000  0.020  0.000\\u003cbr\\u003eBranch 78\\u219280\\u003cbr\\u003e    P flow:  0.040  0.040  0.080\\u003cbr\\u003e    Q flow:  -0.196  -0.194  -0.174\",\"Bus: '81'      A   ||   B   ||   C\\u003cbr\\u003e    |V|:      1.038  1.033  1.032\\u003cbr\\u003e    P-Load: 0.000  0.000  0.000\\u003cbr\\u003e    Q-Load: 0.000  0.000  0.000\\u003cbr\\u003eBranch 80\\u219281\\u003cbr\\u003e    P flow:  0.040  0.000  0.080\\u003cbr\\u003e    Q flow:  -0.196  -0.214  -0.174\",\"Bus: '82'      A   ||   B   ||   C\\u003cbr\\u003e    |V|:      1.039  1.034  1.033\\u003cbr\\u003e    P-Load: 0.040  0.000  0.000\\u003cbr\\u003e    Q-Load: 0.020  0.000  0.000\\u003cbr\\u003eBranch 81\\u219282\\u003cbr\\u003e    P flow:  0.040  0.000  0.020\\u003cbr\\u003e    Q flow:  -0.196  -0.214  -0.204\",\"Bus: '84'      A   ||   B   ||   C\\u003cbr\\u003e    |V|:      nan  nan  1.029\\u003cbr\\u003e    P-Load: 0.000  0.000  0.020\\u003cbr\\u003e    Q-Load: 0.000  0.000  0.010\\u003cbr\\u003eBranch 81\\u219284\\u003cbr\\u003e    P flow:  nan  nan  0.060\\u003cbr\\u003e    Q flow:  0.000  0.000  0.030\",\"Bus: '83'      A   ||   B   ||   C\\u003cbr\\u003e    |V|:      1.040  1.035  1.034\\u003cbr\\u003e    P-Load: 0.000  0.000  0.020\\u003cbr\\u003e    Q-Load: 0.000  0.000  0.010\\u003cbr\\u003e    Q-Cap:  0.200  0.200  0.200\\u003cbr\\u003eBranch 82\\u219283\\u003cbr\\u003e    P flow:  0.000  0.000  0.020\\u003cbr\\u003e    Q flow:  -0.216  -0.214  -0.204\",\"Bus: '85'      A   ||   B   ||   C\\u003cbr\\u003e    |V|:      nan  nan  1.028\\u003cbr\\u003e    P-Load: 0.000  0.000  0.040\\u003cbr\\u003e    Q-Load: 0.000  0.000  0.020\\u003cbr\\u003eBranch 84\\u219285\\u003cbr\\u003e    P flow:  nan  nan  0.040\\u003cbr\\u003e    Q flow:  0.000  0.000  0.020\",\"Bus: '87'      A   ||   B   ||   C\\u003cbr\\u003e    |V|:      1.032  1.027  1.032\\u003cbr\\u003e    P-Load: 0.000  0.040  0.000\\u003cbr\\u003e    Q-Load: 0.000  0.020  0.000\\u003cbr\\u003eBranch 86\\u219287\\u003cbr\\u003e    P flow:  0.080  0.121  0.040\\u003cbr\\u003e    Q flow:  -0.013  0.008  -0.033\",\"Bus: '88'      A   ||   B   ||   C\\u003cbr\\u003e    |V|:      1.032  nan  nan\\u003cbr\\u003e    P-Load: 0.040  0.000  0.000\\u003cbr\\u003e    Q-Load: 0.020  0.000  0.000\\u003cbr\\u003e    Q-Cap:  0.050  0.000  0.000\\u003cbr\\u003eBranch 87\\u219288\\u003cbr\\u003e    P flow:  0.040  nan  nan\\u003cbr\\u003e    Q flow:  -0.033  0.000  0.000\",\"Bus: '89'      A   ||   B   ||   C\\u003cbr\\u003e    |V|:      1.031  1.026  1.032\\u003cbr\\u003e    P-Load: 0.000  0.000  0.000\\u003cbr\\u003e    Q-Load: 0.000  0.000  0.000\\u003cbr\\u003eBranch 87\\u219289\\u003cbr\\u003e    P flow:  0.040  0.081  0.040\\u003cbr\\u003e    Q flow:  0.020  -0.012  -0.033\",\"Bus: '90'      A   ||   B   ||   C\\u003cbr\\u003e    |V|:      nan  1.026  nan\\u003cbr\\u003e    P-Load: 0.000  0.041  0.000\\u003cbr\\u003e    Q-Load: 0.000  0.021  0.000\\u003cbr\\u003e    Q-Cap:  0.000  0.050  0.000\\u003cbr\\u003eBranch 89\\u219290\\u003cbr\\u003e    P flow:  nan  0.041  nan\\u003cbr\\u003e    Q flow:  0.000  -0.032  0.000\",\"Bus: '91'      A   ||   B   ||   C\\u003cbr\\u003e    |V|:      1.031  1.026  1.032\\u003cbr\\u003e    P-Load: 0.000  0.000  0.000\\u003cbr\\u003e    Q-Load: 0.000  0.000  0.000\\u003cbr\\u003eBranch 89\\u219291\\u003cbr\\u003e    P flow:  0.040  0.040  0.040\\u003cbr\\u003e    Q flow:  0.020  0.020  -0.033\",\"Bus: '92'      A   ||   B   ||   C\\u003cbr\\u003e    |V|:      nan  nan  1.032\\u003cbr\\u003e    P-Load: 0.000  0.000  0.040\\u003cbr\\u003e    Q-Load: 0.000  0.000  0.020\\u003cbr\\u003e    Q-Cap:  0.000  0.000  0.050\\u003cbr\\u003eBranch 91\\u219292\\u003cbr\\u003e    P flow:  nan  nan  0.040\\u003cbr\\u003e    Q flow:  0.000  0.000  -0.033\",\"Bus: '93'      A   ||   B   ||   C\\u003cbr\\u003e    |V|:      1.031  1.026  1.033\\u003cbr\\u003e    P-Load: 0.000  0.000  0.000\\u003cbr\\u003e    Q-Load: 0.000  0.000  0.000\\u003cbr\\u003eBranch 91\\u219293\\u003cbr\\u003e    P flow:  0.040  0.040  -0.000\\u003cbr\\u003e    Q flow:  0.020  0.020  0.000\",\"Bus: '94'      A   ||   B   ||   C\\u003cbr\\u003e    |V|:      1.030  nan  nan\\u003cbr\\u003e    P-Load: 0.040  0.000  0.000\\u003cbr\\u003e    Q-Load: 0.020  0.000  0.000\\u003cbr\\u003eBranch 93\\u219294\\u003cbr\\u003e    P flow:  0.040  nan  nan\\u003cbr\\u003e    Q flow:  0.020  0.000  0.000\",\"Bus: '95'      A   ||   B   ||   C\\u003cbr\\u003e    |V|:      1.031  1.025  1.033\\u003cbr\\u003e    P-Load: 0.000  0.020  0.000\\u003cbr\\u003e    Q-Load: 0.000  0.010  0.000\\u003cbr\\u003eBranch 93\\u219295\\u003cbr\\u003e    P flow:  0.000  0.040  -0.000\\u003cbr\\u003e    Q flow:  0.000  0.020  0.000\",\"Bus: '96'      A   ||   B   ||   C\\u003cbr\\u003e    |V|:      nan  1.025  nan\\u003cbr\\u003e    P-Load: 0.000  0.020  0.000\\u003cbr\\u003e    Q-Load: 0.000  0.010  0.000\\u003cbr\\u003eBranch 95\\u219296\\u003cbr\\u003e    P flow:  nan  0.020  nan\\u003cbr\\u003e    Q flow:  0.000  0.010  0.000\",\"Bus: '98'      A   ||   B   ||   C\\u003cbr\\u003e    |V|:      1.032  1.030  1.029\\u003cbr\\u003e    P-Load: 0.040  0.000  0.000\\u003cbr\\u003e    Q-Load: 0.020  0.000  0.000\\u003cbr\\u003eBranch 97\\u219298\\u003cbr\\u003e    P flow:  0.040  0.040  0.042\\u003cbr\\u003e    Q flow:  0.020  0.020  0.021\",\"Bus: '99'      A   ||   B   ||   C\\u003cbr\\u003e    |V|:      1.032  1.029  1.028\\u003cbr\\u003e    P-Load: 0.000  0.040  0.000\\u003cbr\\u003e    Q-Load: 0.000  0.020  0.000\\u003cbr\\u003eBranch 98\\u219299\\u003cbr\\u003e    P flow:  0.000  0.040  0.042\\u003cbr\\u003e    Q flow:  0.000  0.020  0.021\",\"Bus: '100'      A   ||   B   ||   C\\u003cbr\\u003e    |V|:      1.032  1.029  1.028\\u003cbr\\u003e    P-Load: 0.000  0.000  0.042\\u003cbr\\u003e    Q-Load: 0.000  0.000  0.021\\u003cbr\\u003eBranch 99\\u2192100\\u003cbr\\u003e    P flow:  0.000  0.000  0.042\\u003cbr\\u003e    Q flow:  0.000  -0.000  0.021\",\"Bus: '450'      A   ||   B   ||   C\\u003cbr\\u003e    |V|:      1.032  1.029  1.028\\u003cbr\\u003e    P-Load: 0.000  0.000  0.000\\u003cbr\\u003e    Q-Load: 0.000  0.000  0.000\\u003cbr\\u003eBranch 100\\u2192450\\u003cbr\\u003e    P flow:  0.000  0.000  -0.000\\u003cbr\\u003e    Q flow:  0.000  -0.000  0.000\",\"Bus: '197'      A   ||   B   ||   C\\u003cbr\\u003e    |V|:      1.032  1.030  1.029\\u003cbr\\u003e    P-Load: 0.000  0.000  0.000\\u003cbr\\u003e    Q-Load: 0.000  0.000  0.000\\u003cbr\\u003eBranch 97\\u2192197\\u003cbr\\u003e    P flow:  0.142  0.080  0.100\\u003cbr\\u003e    Q flow:  0.071  0.040  0.050\",\"Bus: '101'      A   ||   B   ||   C\\u003cbr\\u003e    |V|:      1.031  1.030  1.028\\u003cbr\\u003e    P-Load: 0.000  0.000  0.000\\u003cbr\\u003e    Q-Load: 0.000  0.000  0.000\\u003cbr\\u003eBranch 197\\u2192101\\u003cbr\\u003e    P flow:  0.142  0.080  0.100\\u003cbr\\u003e    Q flow:  0.071  0.040  0.050\",\"Bus: '102'      A   ||   B   ||   C\\u003cbr\\u003e    |V|:      nan  nan  1.027\\u003cbr\\u003e    P-Load: 0.000  0.000  0.020\\u003cbr\\u003e    Q-Load: 0.000  0.000  0.010\\u003cbr\\u003eBranch 101\\u2192102\\u003cbr\\u003e    P flow:  nan  nan  0.100\\u003cbr\\u003e    Q flow:  0.000  0.000  0.050\",\"Bus: '105'      A   ||   B   ||   C\\u003cbr\\u003e    |V|:      1.030  1.030  1.028\\u003cbr\\u003e    P-Load: 0.000  0.000  0.000\\u003cbr\\u003e    Q-Load: 0.000  0.000  0.000\\u003cbr\\u003eBranch 101\\u2192105\\u003cbr\\u003e    P flow:  0.142  0.080  -0.000\\u003cbr\\u003e    Q flow:  0.071  0.040  0.000\",\"Bus: '103'      A   ||   B   ||   C\\u003cbr\\u003e    |V|:      nan  nan  1.025\\u003cbr\\u003e    P-Load: 0.000  0.000  0.040\\u003cbr\\u003e    Q-Load: 0.000  0.000  0.020\\u003cbr\\u003eBranch 102\\u2192103\\u003cbr\\u003e    P flow:  nan  nan  0.080\\u003cbr\\u003e    Q flow:  0.000  0.000  0.040\",\"Bus: '104'      A   ||   B   ||   C\\u003cbr\\u003e    |V|:      nan  nan  1.023\\u003cbr\\u003e    P-Load: 0.000  0.000  0.040\\u003cbr\\u003e    Q-Load: 0.000  0.000  0.020\\u003cbr\\u003eBranch 103\\u2192104\\u003cbr\\u003e    P flow:  nan  nan  0.040\\u003cbr\\u003e    Q flow:  0.000  0.000  0.020\",\"Bus: '106'      A   ||   B   ||   C\\u003cbr\\u003e    |V|:      nan  1.028  nan\\u003cbr\\u003e    P-Load: 0.000  0.040  0.000\\u003cbr\\u003e    Q-Load: 0.000  0.020  0.000\\u003cbr\\u003eBranch 105\\u2192106\\u003cbr\\u003e    P flow:  nan  0.080  nan\\u003cbr\\u003e    Q flow:  0.000  0.040  0.000\",\"Bus: '108'      A   ||   B   ||   C\\u003cbr\\u003e    |V|:      1.028  1.030  1.028\\u003cbr\\u003e    P-Load: 0.000  0.000  0.000\\u003cbr\\u003e    Q-Load: 0.000  0.000  0.000\\u003cbr\\u003eBranch 105\\u2192108\\u003cbr\\u003e    P flow:  0.142  0.000  -0.000\\u003cbr\\u003e    Q flow:  0.071  -0.000  0.000\",\"Bus: '107'      A   ||   B   ||   C\\u003cbr\\u003e    |V|:      nan  1.027  nan\\u003cbr\\u003e    P-Load: 0.000  0.040  0.000\\u003cbr\\u003e    Q-Load: 0.000  0.020  0.000\\u003cbr\\u003eBranch 106\\u2192107\\u003cbr\\u003e    P flow:  nan  0.040  nan\\u003cbr\\u003e    Q flow:  0.000  0.020  0.000\",\"Bus: '109'      A   ||   B   ||   C\\u003cbr\\u003e    |V|:      1.024  nan  nan\\u003cbr\\u003e    P-Load: 0.040  0.000  0.000\\u003cbr\\u003e    Q-Load: 0.020  0.000  0.000\\u003cbr\\u003eBranch 108\\u2192109\\u003cbr\\u003e    P flow:  0.142  nan  nan\\u003cbr\\u003e    Q flow:  0.071  0.000  0.000\",\"Bus: '300'      A   ||   B   ||   C\\u003cbr\\u003e    |V|:      1.028  1.030  1.028\\u003cbr\\u003e    P-Load: 0.000  0.000  0.000\\u003cbr\\u003e    Q-Load: 0.000  0.000  0.000\\u003cbr\\u003eBranch 108\\u2192300\\u003cbr\\u003e    P flow:  0.000  0.000  -0.000\\u003cbr\\u003e    Q flow:  0.000  -0.000  0.000\",\"Bus: '110'      A   ||   B   ||   C\\u003cbr\\u003e    |V|:      1.022  nan  nan\\u003cbr\\u003e    P-Load: 0.000  0.000  0.000\\u003cbr\\u003e    Q-Load: 0.000  0.000  0.000\\u003cbr\\u003eBranch 109\\u2192110\\u003cbr\\u003e    P flow:  0.102  nan  nan\\u003cbr\\u003e    Q flow:  0.051  0.000  0.000\",\"Bus: '111'      A   ||   B   ||   C\\u003cbr\\u003e    |V|:      1.021  nan  nan\\u003cbr\\u003e    P-Load: 0.020  0.000  0.000\\u003cbr\\u003e    Q-Load: 0.010  0.000  0.000\\u003cbr\\u003eBranch 110\\u2192111\\u003cbr\\u003e    P flow:  0.020  nan  nan\\u003cbr\\u003e    Q flow:  0.010  0.000  0.000\",\"Bus: '112'      A   ||   B   ||   C\\u003cbr\\u003e    |V|:      1.022  nan  nan\\u003cbr\\u003e    P-Load: 0.020  0.000  0.000\\u003cbr\\u003e    Q-Load: 0.010  0.000  0.000\\u003cbr\\u003eBranch 110\\u2192112\\u003cbr\\u003e    P flow:  0.082  nan  nan\\u003cbr\\u003e    Q flow:  0.041  0.000  0.000\",\"Bus: '113'      A   ||   B   ||   C\\u003cbr\\u003e    |V|:      1.020  nan  nan\\u003cbr\\u003e    P-Load: 0.041  0.000  0.000\\u003cbr\\u003e    Q-Load: 0.021  0.000  0.000\\u003cbr\\u003eBranch 112\\u2192113\\u003cbr\\u003e    P flow:  0.061  nan  nan\\u003cbr\\u003e    Q flow:  0.031  0.000  0.000\",\"Bus: '114'      A   ||   B   ||   C\\u003cbr\\u003e    |V|:      1.019  nan  nan\\u003cbr\\u003e    P-Load: 0.020  0.000  0.000\\u003cbr\\u003e    Q-Load: 0.010  0.000  0.000\\u003cbr\\u003eBranch 113\\u2192114\\u003cbr\\u003e    P flow:  0.020  nan  nan\\u003cbr\\u003e    Q flow:  0.010  0.000  0.000\",\"Bus: '135'      A   ||   B   ||   C\\u003cbr\\u003e    |V|:      0.995  1.025  1.007\\u003cbr\\u003e    P-Load: 0.000  0.000  0.000\\u003cbr\\u003e    Q-Load: 0.000  0.000  0.000\\u003cbr\\u003eBranch 18\\u2192135\\u003cbr\\u003e    P flow:  0.281  0.275  0.200\\u003cbr\\u003e    Q flow:  0.155  0.190  0.125\",\"Bus: '152'      A   ||   B   ||   C\\u003cbr\\u003e    |V|:      1.004  1.029  1.014\\u003cbr\\u003e    P-Load: 0.000  0.000  0.000\\u003cbr\\u003e    Q-Load: 0.000  0.000  0.000\\u003cbr\\u003eBranch 13\\u2192152\\u003cbr\\u003e    P flow:  0.767  0.593  0.629\\u003cbr\\u003e    Q flow:  0.143  0.072  0.060\",\"Bus: '160r'      A   ||   B   ||   C\\u003cbr\\u003e    |V|:      1.035  1.031  1.032\\u003cbr\\u003e    P-Load: 0.000  0.000  0.000\\u003cbr\\u003e    Q-Load: 0.000  0.000  0.000\\u003cbr\\u003eBranch 160\\u2192160r\\u003cbr\\u003e    P flow:  0.564  0.421  0.456\\u003cbr\\u003e    Q flow:  0.018  -0.019  -0.023\",\"Bus: '160'      A   ||   B   ||   C\\u003cbr\\u003e    |V|:      0.985  1.019  1.000\\u003cbr\\u003e    P-Load: 0.000  0.000  0.000\\u003cbr\\u003e    Q-Load: 0.000  0.000  0.000\\u003cbr\\u003eBranch 60\\u2192160\\u003cbr\\u003e    P flow:  0.564  0.421  0.456\\u003cbr\\u003e    Q flow:  0.018  -0.019  -0.023\",\"Bus: '61s'      A   ||   B   ||   C\\u003cbr\\u003e    |V|:      0.985  1.019  1.000\\u003cbr\\u003e    P-Load: 0.000  0.000  0.000\\u003cbr\\u003e    Q-Load: 0.000  0.000  0.000\\u003cbr\\u003eBranch 61\\u219261s\\u003cbr\\u003e    P flow:  0.000  0.000  -0.000\\u003cbr\\u003e    Q flow:  0.000  -0.000  0.000\",\"Bus: '610'      A   ||   B   ||   C\\u003cbr\\u003e    |V|:      0.985  1.019  1.000\\u003cbr\\u003e    P-Load: 0.000  0.000  0.000\\u003cbr\\u003e    Q-Load: 0.000  0.000  0.000\\u003cbr\\u003eBranch 61s\\u2192610\\u003cbr\\u003e    P flow:  0.000  0.000  -0.000\\u003cbr\\u003e    Q flow:  0.000  -0.000  0.000\"],\"textposition\":\"top center\",\"x\":[-0.8611783091777097,-0.8611783091777097,-0.7916015499561131,-0.6524480315129197,-0.6524480315129197,-0.6524480315129197,-0.5480828926805249,-0.6524480315129197,-0.5393857977778252,-0.4524148487508295,-0.47850613345892823,-0.47850613345892823,-0.47850613345892823,-0.37414099462653333,-0.47850613345892823,-0.47850613345892823,-0.37414099462653333,-0.37414099462653333,-0.565477082485924,-0.39153518443193247,-0.37414099462653333,-0.37414099462653333,-0.25238166598873923,-0.4611119436535291,-0.37414099462653333,-0.5741741773886236,-0.5567799875832244,-0.37414099462653333,-0.565477082485924,-0.37414099462653333,-0.37414099462653333,-0.4959003232643274,-0.37414099462653333,-0.5915683671940227,-0.4959003232643274,-0.5915683671940227,-0.37414099462653333,-0.25238166598873923,-0.1828049067671426,-0.4959003232643274,-0.20889619147524133,-0.17410781186444302,-0.20889619147524133,-0.278472950696838,-0.08713686283744723,0.025925370897647276,-0.09583395774014682,-0.20889619147524133,-0.03495429342124977,-0.20889619147524133,-0.1393194322536447,-0.20889619147524133,-0.03495429342124977,-0.2610787608914388,-0.12192524244824555,-0.03495429342124977,0.05201665560574601,0.2127389694076342,-0.20019909657254176,-0.13062233735094514,-0.08713686283744723,0.00853118109224812,-0.08713686283744723,0.10419922502194348,-0.17410781186444302,0.1737759842435401,-0.2610787608914388,0.1737759842435401,0.1737759842435401,0.1737759842435401,0.1737759842435401,0.025925370897647276,0.025925370897647276,0.3303236924921325,0.3999004517137291,0.3303236924921325,0.3303236924921325,0.4955684956434245,0.608630729378519,0.7042987733082143,0.42599173642182786,0.3303236924921325,0.5477510650596219,0.6869045835028152,0.46947721093532574,0.23639506754297707,0.5042655905461241,0.5825394446704203,0.5042655905461241,0.5042655905461241,0.5042655905461241,0.7390871529190126,0.5912365395731198,0.7390871529190126,0.16507888934084053,0.13029050973004222,0.06941084541114516,0.06941084541114516,-0.008863008713151037,-0.008863008713151037,-0.08713686283744723,-0.08713686283744723,-0.19150200166984216,-0.19150200166984216,0.42599173642182786,0.6173278242812186,0.7216929631136135,1.0,0.3303236924921325,0.3303236924921325,0.4085975466164287,0.3303236924921325,0.5216597803515232,0.7651784376271114,0.4085975466164287,0.3303236924921325,0.608630729378519,0.4868714007407249,0.23291622958189723,0.5912365395731198,0.5912365395731198,0.5912365395731198,0.773875532529811,0.8869377662649055,-0.339352615015735,-0.339352615015735,0.2085643638543384,0.2085643638543384,0.2085643638543384,0.24335274346513672],\"y\":[-0.2909377200686813,-0.2909377200686813,-0.2909377200686813,-0.2909377200686813,-0.20093210213560592,-0.41951717425878904,-0.2909377200686813,-0.5223807376108752,-0.41951717425878904,-0.4709489559348321,-0.2909377200686813,-0.40665922883977823,-0.17521621129758438,-0.2909377200686813,-0.17521621129758438,0.04336886082559871,-0.3680853925827459,0.1333744787586741,0.04336886082559871,0.04336886082559871,-0.41951717425878904,-0.6123863555439506,-0.41951717425878904,0.1333744787586741,0.28766982378680334,0.1333744787586741,0.28766982378680334,0.416249277976911,0.416249277976911,0.5576866775860295,0.5576866775860295,0.5576866775860295,0.6605502409381157,0.5576866775860295,0.6734081863571264,0.8148455859662449,0.8148455859662449,0.8148455859662449,0.8148455859662449,0.8277035313852557,0.1333744787586741,-0.03377881168846591,0.2619539329487818,-0.03377881168846591,-0.03377881168846591,-0.03377881168846591,0.2619539329487818,0.3905333871388895,0.3905333871388895,0.49339695049097565,0.49339695049097565,0.6219764046810834,0.49339695049097565,0.6219764046810834,0.6219764046810834,0.6219764046810834,0.6219764046810834,0.9578259390256447,-0.2909377200686813,-0.2909377200686813,-0.2909377200686813,-0.2909377200686813,-0.11092648420253053,-0.2909377200686813,-0.11092648420253053,-0.11092648420253053,-0.11092648420253053,-0.3938012834207675,0.01765296998757717,0.10765858792065255,0.28766982378680334,0.28766982378680334,0.12051653333966333,-0.11092648420253053,-0.11092648420253053,-0.252363883811649,0.01765296998757717,-0.11092648420253053,-0.11092648420253053,-0.11092648420253053,-0.252363883811649,-0.35522744716373517,-0.252363883811649,-0.252363883811649,-0.35522744716373517,-0.6895340280580152,-0.35522744716373517,-0.35522744716373517,-0.5995284101249398,-0.8438293730861445,-0.9724088272762521,-0.8438293730861445,-0.9724088272762521,-0.5995284101249398,-0.48380690135384286,-0.3938012834207675,-0.48380690135384286,-0.5995284101249398,-0.48380690135384286,-0.6381022463819721,-0.48380690135384286,-0.6252443009629614,-0.48380690135384286,-0.586670464705929,0.01765296998757717,0.01765296998757717,0.01765296998757717,0.01765296998757717,0.06908475166362026,0.19766420585372796,0.19766420585372796,0.3391016054628464,0.19766420585372796,0.19766420585372796,0.3391016054628464,0.5062548959099864,0.3391016054628464,0.5062548959099864,1.0,0.5062548959099864,0.8019876405472341,0.4419651688149326,0.4419651688149326,0.4419651688149326,0.1333744787586741,-0.2909377200686813,-0.11092648420253053,-0.11092648420253053,-0.3938012834207675,-0.3938012834207675],\"type\":\"scatter\"}],                        {\"template\":{\"data\":{\"histogram2dcontour\":[{\"type\":\"histogram2dcontour\",\"colorbar\":{\"outlinewidth\":0,\"ticks\":\"\"},\"colorscale\":[[0.0,\"#0d0887\"],[0.1111111111111111,\"#46039f\"],[0.2222222222222222,\"#7201a8\"],[0.3333333333333333,\"#9c179e\"],[0.4444444444444444,\"#bd3786\"],[0.5555555555555556,\"#d8576b\"],[0.6666666666666666,\"#ed7953\"],[0.7777777777777778,\"#fb9f3a\"],[0.8888888888888888,\"#fdca26\"],[1.0,\"#f0f921\"]]}],\"choropleth\":[{\"type\":\"choropleth\",\"colorbar\":{\"outlinewidth\":0,\"ticks\":\"\"}}],\"histogram2d\":[{\"type\":\"histogram2d\",\"colorbar\":{\"outlinewidth\":0,\"ticks\":\"\"},\"colorscale\":[[0.0,\"#0d0887\"],[0.1111111111111111,\"#46039f\"],[0.2222222222222222,\"#7201a8\"],[0.3333333333333333,\"#9c179e\"],[0.4444444444444444,\"#bd3786\"],[0.5555555555555556,\"#d8576b\"],[0.6666666666666666,\"#ed7953\"],[0.7777777777777778,\"#fb9f3a\"],[0.8888888888888888,\"#fdca26\"],[1.0,\"#f0f921\"]]}],\"heatmap\":[{\"type\":\"heatmap\",\"colorbar\":{\"outlinewidth\":0,\"ticks\":\"\"},\"colorscale\":[[0.0,\"#0d0887\"],[0.1111111111111111,\"#46039f\"],[0.2222222222222222,\"#7201a8\"],[0.3333333333333333,\"#9c179e\"],[0.4444444444444444,\"#bd3786\"],[0.5555555555555556,\"#d8576b\"],[0.6666666666666666,\"#ed7953\"],[0.7777777777777778,\"#fb9f3a\"],[0.8888888888888888,\"#fdca26\"],[1.0,\"#f0f921\"]]}],\"heatmapgl\":[{\"type\":\"heatmapgl\",\"colorbar\":{\"outlinewidth\":0,\"ticks\":\"\"},\"colorscale\":[[0.0,\"#0d0887\"],[0.1111111111111111,\"#46039f\"],[0.2222222222222222,\"#7201a8\"],[0.3333333333333333,\"#9c179e\"],[0.4444444444444444,\"#bd3786\"],[0.5555555555555556,\"#d8576b\"],[0.6666666666666666,\"#ed7953\"],[0.7777777777777778,\"#fb9f3a\"],[0.8888888888888888,\"#fdca26\"],[1.0,\"#f0f921\"]]}],\"contourcarpet\":[{\"type\":\"contourcarpet\",\"colorbar\":{\"outlinewidth\":0,\"ticks\":\"\"}}],\"contour\":[{\"type\":\"contour\",\"colorbar\":{\"outlinewidth\":0,\"ticks\":\"\"},\"colorscale\":[[0.0,\"#0d0887\"],[0.1111111111111111,\"#46039f\"],[0.2222222222222222,\"#7201a8\"],[0.3333333333333333,\"#9c179e\"],[0.4444444444444444,\"#bd3786\"],[0.5555555555555556,\"#d8576b\"],[0.6666666666666666,\"#ed7953\"],[0.7777777777777778,\"#fb9f3a\"],[0.8888888888888888,\"#fdca26\"],[1.0,\"#f0f921\"]]}],\"surface\":[{\"type\":\"surface\",\"colorbar\":{\"outlinewidth\":0,\"ticks\":\"\"},\"colorscale\":[[0.0,\"#0d0887\"],[0.1111111111111111,\"#46039f\"],[0.2222222222222222,\"#7201a8\"],[0.3333333333333333,\"#9c179e\"],[0.4444444444444444,\"#bd3786\"],[0.5555555555555556,\"#d8576b\"],[0.6666666666666666,\"#ed7953\"],[0.7777777777777778,\"#fb9f3a\"],[0.8888888888888888,\"#fdca26\"],[1.0,\"#f0f921\"]]}],\"mesh3d\":[{\"type\":\"mesh3d\",\"colorbar\":{\"outlinewidth\":0,\"ticks\":\"\"}}],\"scatter\":[{\"fillpattern\":{\"fillmode\":\"overlay\",\"size\":10,\"solidity\":0.2},\"type\":\"scatter\"}],\"parcoords\":[{\"type\":\"parcoords\",\"line\":{\"colorbar\":{\"outlinewidth\":0,\"ticks\":\"\"}}}],\"scatterpolargl\":[{\"type\":\"scatterpolargl\",\"marker\":{\"colorbar\":{\"outlinewidth\":0,\"ticks\":\"\"}}}],\"bar\":[{\"error_x\":{\"color\":\"#2a3f5f\"},\"error_y\":{\"color\":\"#2a3f5f\"},\"marker\":{\"line\":{\"color\":\"#E5ECF6\",\"width\":0.5},\"pattern\":{\"fillmode\":\"overlay\",\"size\":10,\"solidity\":0.2}},\"type\":\"bar\"}],\"scattergeo\":[{\"type\":\"scattergeo\",\"marker\":{\"colorbar\":{\"outlinewidth\":0,\"ticks\":\"\"}}}],\"scatterpolar\":[{\"type\":\"scatterpolar\",\"marker\":{\"colorbar\":{\"outlinewidth\":0,\"ticks\":\"\"}}}],\"histogram\":[{\"marker\":{\"pattern\":{\"fillmode\":\"overlay\",\"size\":10,\"solidity\":0.2}},\"type\":\"histogram\"}],\"scattergl\":[{\"type\":\"scattergl\",\"marker\":{\"colorbar\":{\"outlinewidth\":0,\"ticks\":\"\"}}}],\"scatter3d\":[{\"type\":\"scatter3d\",\"line\":{\"colorbar\":{\"outlinewidth\":0,\"ticks\":\"\"}},\"marker\":{\"colorbar\":{\"outlinewidth\":0,\"ticks\":\"\"}}}],\"scattermapbox\":[{\"type\":\"scattermapbox\",\"marker\":{\"colorbar\":{\"outlinewidth\":0,\"ticks\":\"\"}}}],\"scatterternary\":[{\"type\":\"scatterternary\",\"marker\":{\"colorbar\":{\"outlinewidth\":0,\"ticks\":\"\"}}}],\"scattercarpet\":[{\"type\":\"scattercarpet\",\"marker\":{\"colorbar\":{\"outlinewidth\":0,\"ticks\":\"\"}}}],\"carpet\":[{\"aaxis\":{\"endlinecolor\":\"#2a3f5f\",\"gridcolor\":\"white\",\"linecolor\":\"white\",\"minorgridcolor\":\"white\",\"startlinecolor\":\"#2a3f5f\"},\"baxis\":{\"endlinecolor\":\"#2a3f5f\",\"gridcolor\":\"white\",\"linecolor\":\"white\",\"minorgridcolor\":\"white\",\"startlinecolor\":\"#2a3f5f\"},\"type\":\"carpet\"}],\"table\":[{\"cells\":{\"fill\":{\"color\":\"#EBF0F8\"},\"line\":{\"color\":\"white\"}},\"header\":{\"fill\":{\"color\":\"#C8D4E3\"},\"line\":{\"color\":\"white\"}},\"type\":\"table\"}],\"barpolar\":[{\"marker\":{\"line\":{\"color\":\"#E5ECF6\",\"width\":0.5},\"pattern\":{\"fillmode\":\"overlay\",\"size\":10,\"solidity\":0.2}},\"type\":\"barpolar\"}],\"pie\":[{\"automargin\":true,\"type\":\"pie\"}]},\"layout\":{\"autotypenumbers\":\"strict\",\"colorway\":[\"#636efa\",\"#EF553B\",\"#00cc96\",\"#ab63fa\",\"#FFA15A\",\"#19d3f3\",\"#FF6692\",\"#B6E880\",\"#FF97FF\",\"#FECB52\"],\"font\":{\"color\":\"#2a3f5f\"},\"hovermode\":\"closest\",\"hoverlabel\":{\"align\":\"left\"},\"paper_bgcolor\":\"white\",\"plot_bgcolor\":\"#E5ECF6\",\"polar\":{\"bgcolor\":\"#E5ECF6\",\"angularaxis\":{\"gridcolor\":\"white\",\"linecolor\":\"white\",\"ticks\":\"\"},\"radialaxis\":{\"gridcolor\":\"white\",\"linecolor\":\"white\",\"ticks\":\"\"}},\"ternary\":{\"bgcolor\":\"#E5ECF6\",\"aaxis\":{\"gridcolor\":\"white\",\"linecolor\":\"white\",\"ticks\":\"\"},\"baxis\":{\"gridcolor\":\"white\",\"linecolor\":\"white\",\"ticks\":\"\"},\"caxis\":{\"gridcolor\":\"white\",\"linecolor\":\"white\",\"ticks\":\"\"}},\"coloraxis\":{\"colorbar\":{\"outlinewidth\":0,\"ticks\":\"\"}},\"colorscale\":{\"sequential\":[[0.0,\"#0d0887\"],[0.1111111111111111,\"#46039f\"],[0.2222222222222222,\"#7201a8\"],[0.3333333333333333,\"#9c179e\"],[0.4444444444444444,\"#bd3786\"],[0.5555555555555556,\"#d8576b\"],[0.6666666666666666,\"#ed7953\"],[0.7777777777777778,\"#fb9f3a\"],[0.8888888888888888,\"#fdca26\"],[1.0,\"#f0f921\"]],\"sequentialminus\":[[0.0,\"#0d0887\"],[0.1111111111111111,\"#46039f\"],[0.2222222222222222,\"#7201a8\"],[0.3333333333333333,\"#9c179e\"],[0.4444444444444444,\"#bd3786\"],[0.5555555555555556,\"#d8576b\"],[0.6666666666666666,\"#ed7953\"],[0.7777777777777778,\"#fb9f3a\"],[0.8888888888888888,\"#fdca26\"],[1.0,\"#f0f921\"]],\"diverging\":[[0,\"#8e0152\"],[0.1,\"#c51b7d\"],[0.2,\"#de77ae\"],[0.3,\"#f1b6da\"],[0.4,\"#fde0ef\"],[0.5,\"#f7f7f7\"],[0.6,\"#e6f5d0\"],[0.7,\"#b8e186\"],[0.8,\"#7fbc41\"],[0.9,\"#4d9221\"],[1,\"#276419\"]]},\"xaxis\":{\"gridcolor\":\"white\",\"linecolor\":\"white\",\"ticks\":\"\",\"title\":{\"standoff\":15},\"zerolinecolor\":\"white\",\"automargin\":true,\"zerolinewidth\":2},\"yaxis\":{\"gridcolor\":\"white\",\"linecolor\":\"white\",\"ticks\":\"\",\"title\":{\"standoff\":15},\"zerolinecolor\":\"white\",\"automargin\":true,\"zerolinewidth\":2},\"scene\":{\"xaxis\":{\"backgroundcolor\":\"#E5ECF6\",\"gridcolor\":\"white\",\"linecolor\":\"white\",\"showbackground\":true,\"ticks\":\"\",\"zerolinecolor\":\"white\",\"gridwidth\":2},\"yaxis\":{\"backgroundcolor\":\"#E5ECF6\",\"gridcolor\":\"white\",\"linecolor\":\"white\",\"showbackground\":true,\"ticks\":\"\",\"zerolinecolor\":\"white\",\"gridwidth\":2},\"zaxis\":{\"backgroundcolor\":\"#E5ECF6\",\"gridcolor\":\"white\",\"linecolor\":\"white\",\"showbackground\":true,\"ticks\":\"\",\"zerolinecolor\":\"white\",\"gridwidth\":2}},\"shapedefaults\":{\"line\":{\"color\":\"#2a3f5f\"}},\"annotationdefaults\":{\"arrowcolor\":\"#2a3f5f\",\"arrowhead\":0,\"arrowwidth\":1},\"geo\":{\"bgcolor\":\"white\",\"landcolor\":\"#E5ECF6\",\"subunitcolor\":\"white\",\"showland\":true,\"showlakes\":true,\"lakecolor\":\"white\"},\"title\":{\"x\":0.05},\"mapbox\":{\"style\":\"light\"}}},\"title\":{\"text\":\"\\u003cb\\u003eNetwork Plot (P.U.)\\u003c\\u002fb\\u003e\\u003cbr\\u003eNode color: Average voltage magnitude\\u003cbr\\u003eLine width: Total \\u003ci\\u003eactive\\u003c\\u002fi\\u003e power flow (reverse flow in red).\",\"font\":{\"color\":\"Black\"}},\"legend\":{\"font\":{\"color\":\"Black\"},\"bgcolor\":\"White\",\"x\":0.8,\"y\":0.9},\"margin\":{\"t\":50,\"b\":10,\"l\":10,\"r\":10},\"xaxis\":{\"visible\":false},\"yaxis\":{\"visible\":false},\"font\":{\"family\":\"Droid Sans Mono\",\"color\":\"Black\"},\"plot_bgcolor\":\"White\",\"paper_bgcolor\":\"White\"},                        {\"responsive\": true}                    ).then(function(){\n",
       "                            \n",
       "var gd = document.getElementById('742a3b0f-5b3b-49cd-b45c-fa19114be199');\n",
       "var x = new MutationObserver(function (mutations, observer) {{\n",
       "        var display = window.getComputedStyle(gd).display;\n",
       "        if (!display || display === 'none') {{\n",
       "            console.log([gd, 'removed!']);\n",
       "            Plotly.purge(gd);\n",
       "            observer.disconnect();\n",
       "        }}\n",
       "}});\n",
       "\n",
       "// Listen for the removal of the full notebook cells\n",
       "var notebookContainer = gd.closest('#notebook-container');\n",
       "if (notebookContainer) {{\n",
       "    x.observe(notebookContainer, {childList: true});\n",
       "}}\n",
       "\n",
       "// Listen for the clearing of the current output cell\n",
       "var outputEl = gd.closest('.output');\n",
       "if (outputEl) {{\n",
       "    x.observe(outputEl, {childList: true});\n",
       "}}\n",
       "\n",
       "                        })                };                });            </script>        </div>"
      ]
     },
     "metadata": {},
     "output_type": "display_data"
    }
   ],
   "execution_count": 8
  },
  {
   "cell_type": "code",
   "id": "79cb28ee0a5f40f0",
   "metadata": {
    "ExecuteTime": {
     "end_time": "2025-01-07T18:38:56.922978Z",
     "start_time": "2025-01-07T18:38:56.466250Z"
    }
   },
   "source": [
    "case.add_generator(\"13\", phases=\"ab\", p=0.02, q=0.0)\n",
    "case.control_variable=\"P\"\n",
    "s, v, g = case.run()\n",
    "case.plot_network()"
   ],
   "outputs": [
    {
     "data": {
      "application/vnd.plotly.v1+json": {
       "data": [
        {
         "line": {
          "color": "darkblue",
          "dash": "solid",
          "width": 11.0
         },
         "mode": "lines",
         "showlegend": false,
         "x": [
          -0.8611783091777097,
          -0.8611783091777097
         ],
         "y": [
          -0.2909377200686813,
          -0.2909377200686813
         ],
         "type": "scatter"
        },
        {
         "line": {
          "color": "darkblue",
          "dash": "solid",
          "width": 11.0
         },
         "mode": "lines",
         "showlegend": false,
         "x": [
          -0.8611783091777097,
          -0.7916015499561131
         ],
         "y": [
          -0.2909377200686813,
          -0.2909377200686813
         ],
         "type": "scatter"
        },
        {
         "line": {
          "color": "darkblue",
          "dash": "solid",
          "width": 11.0
         },
         "mode": "lines",
         "showlegend": false,
         "x": [
          -0.7916015499561131,
          -0.6524480315129197
         ],
         "y": [
          -0.2909377200686813,
          -0.2909377200686813
         ],
         "type": "scatter"
        },
        {
         "line": {
          "color": "darkblue",
          "dash": "solid",
          "width": 1.0572811368481885
         },
         "mode": "lines",
         "showlegend": false,
         "x": [
          -0.6524480315129197,
          -0.6524480315129197
         ],
         "y": [
          -0.2909377200686813,
          -0.20093210213560592
         ],
         "type": "scatter"
        },
        {
         "line": {
          "color": "darkblue",
          "dash": "solid",
          "width": 1.2938122451223957
         },
         "mode": "lines",
         "showlegend": false,
         "x": [
          -0.6524480315129197,
          -0.6524480315129197
         ],
         "y": [
          -0.2909377200686813,
          -0.41951717425878904
         ],
         "type": "scatter"
        },
        {
         "line": {
          "color": "darkblue",
          "dash": "solid",
          "width": 10.53434297975061
         },
         "mode": "lines",
         "showlegend": false,
         "x": [
          -0.6524480315129197,
          -0.5480828926805249
         ],
         "y": [
          -0.2909377200686813,
          -0.2909377200686813
         ],
         "type": "scatter"
        },
        {
         "line": {
          "color": "darkblue",
          "dash": "solid",
          "width": 1.114563277034106
         },
         "mode": "lines",
         "showlegend": false,
         "x": [
          -0.6524480315129197,
          -0.6524480315129197
         ],
         "y": [
          -0.41951717425878904,
          -0.5223807376108752
         ],
         "type": "scatter"
        },
        {
         "line": {
          "color": "darkblue",
          "dash": "solid",
          "width": 1.1792489680882898
         },
         "mode": "lines",
         "showlegend": false,
         "x": [
          -0.6524480315129197,
          -0.5393857977778252
         ],
         "y": [
          -0.41951717425878904,
          -0.41951717425878904
         ],
         "type": "scatter"
        },
        {
         "line": {
          "color": "darkblue",
          "dash": "solid",
          "width": 1.1204704187415615
         },
         "mode": "lines",
         "showlegend": false,
         "x": [
          -0.5393857977778252,
          -0.4524148487508295
         ],
         "y": [
          -0.41951717425878904,
          -0.4709489559348321
         ],
         "type": "scatter"
        },
        {
         "line": {
          "color": "darkblue",
          "dash": "solid",
          "width": 10.477060928559888
         },
         "mode": "lines",
         "showlegend": false,
         "x": [
          -0.5480828926805249,
          -0.47850613345892823
         ],
         "y": [
          -0.2909377200686813,
          -0.2909377200686813
         ],
         "type": "scatter"
        },
        {
         "line": {
          "color": "darkblue",
          "dash": "solid",
          "width": 1.0572806959758378
         },
         "mode": "lines",
         "showlegend": false,
         "x": [
          -0.47850613345892823,
          -0.47850613345892823
         ],
         "y": [
          -0.2909377200686813,
          -0.40665922883977823
         ],
         "type": "scatter"
        },
        {
         "line": {
          "color": "darkblue",
          "dash": "solid",
          "width": 1.2881803087760817
         },
         "mode": "lines",
         "showlegend": false,
         "x": [
          -0.47850613345892823,
          -0.47850613345892823
         ],
         "y": [
          -0.2909377200686813,
          -0.17521621129758438
         ],
         "type": "scatter"
        },
        {
         "line": {
          "color": "darkblue",
          "dash": "solid",
          "width": 10.131599923807968
         },
         "mode": "lines",
         "showlegend": false,
         "x": [
          -0.47850613345892823,
          -0.37414099462653333
         ],
         "y": [
          -0.2909377200686813,
          -0.2909377200686813
         ],
         "type": "scatter"
        },
        {
         "line": {
          "color": "darkblue",
          "dash": "solid",
          "width": 1.1736158840658186
         },
         "mode": "lines",
         "showlegend": false,
         "x": [
          -0.47850613345892823,
          -0.47850613345892823
         ],
         "y": [
          -0.17521621129758438,
          -0.17521621129758438
         ],
         "type": "scatter"
        },
        {
         "line": {
          "color": "darkblue",
          "dash": "solid",
          "width": 1.1736158840658182
         },
         "mode": "lines",
         "showlegend": false,
         "x": [
          -0.47850613345892823,
          -0.47850613345892823
         ],
         "y": [
          -0.17521621129758438,
          0.04336886082559871
         ],
         "type": "scatter"
        },
        {
         "line": {
          "color": "darkblue",
          "dash": "solid",
          "width": 1.2893821360361168
         },
         "mode": "lines",
         "showlegend": false,
         "x": [
          -0.37414099462653333,
          -0.37414099462653333
         ],
         "y": [
          -0.2909377200686813,
          -0.3680853925827459
         ],
         "type": "scatter"
        },
        {
         "line": {
          "color": "darkblue",
          "dash": "solid",
          "width": 4.199360708019375
         },
         "mode": "lines",
         "showlegend": false,
         "x": [
          -0.37414099462653333,
          -0.37414099462653333
         ],
         "y": [
          -0.2909377200686813,
          0.1333744787586741
         ],
         "type": "scatter"
        },
        {
         "line": {
          "color": "darkblue",
          "dash": "solid",
          "width": 1.1159653976336743
         },
         "mode": "lines",
         "showlegend": false,
         "x": [
          -0.47850613345892823,
          -0.565477082485924
         ],
         "y": [
          0.04336886082559871,
          0.04336886082559871
         ],
         "type": "scatter"
        },
        {
         "line": {
          "color": "darkblue",
          "dash": "solid",
          "width": 1.0576504864321434
         },
         "mode": "lines",
         "showlegend": false,
         "x": [
          -0.47850613345892823,
          -0.39153518443193247
         ],
         "y": [
          0.04336886082559871,
          0.04336886082559871
         ],
         "type": "scatter"
        },
        {
         "line": {
          "color": "darkblue",
          "dash": "solid",
          "width": 1.171845815536886
         },
         "mode": "lines",
         "showlegend": false,
         "x": [
          -0.37414099462653333,
          -0.37414099462653333
         ],
         "y": [
          -0.3680853925827459,
          -0.41951717425878904
         ],
         "type": "scatter"
        },
        {
         "line": {
          "color": "darkblue",
          "dash": "solid",
          "width": 1.1145638767146062
         },
         "mode": "lines",
         "showlegend": false,
         "x": [
          -0.37414099462653333,
          -0.37414099462653333
         ],
         "y": [
          -0.41951717425878904,
          -0.6123863555439506
         ],
         "type": "scatter"
        },
        {
         "line": {
          "color": "darkblue",
          "dash": "solid",
          "width": 1.0572819388222798
         },
         "mode": "lines",
         "showlegend": false,
         "x": [
          -0.37414099462653333,
          -0.25238166598873923
         ],
         "y": [
          -0.41951717425878904,
          -0.41951717425878904
         ],
         "type": "scatter"
        },
        {
         "line": {
          "color": "darkblue",
          "dash": "solid",
          "width": 1.2280622235940002
         },
         "mode": "lines",
         "showlegend": false,
         "x": [
          -0.37414099462653333,
          -0.4611119436535291
         ],
         "y": [
          0.1333744787586741,
          0.1333744787586741
         ],
         "type": "scatter"
        },
        {
         "line": {
          "color": "darkblue",
          "dash": "solid",
          "width": 1.8047709782722732
         },
         "mode": "lines",
         "showlegend": false,
         "x": [
          -0.37414099462653333,
          -0.37414099462653333
         ],
         "y": [
          0.1333744787586741,
          0.28766982378680334
         ],
         "type": "scatter"
        },
        {
         "line": {
          "color": "darkblue",
          "dash": "solid",
          "width": 1.113497172331428
         },
         "mode": "lines",
         "showlegend": false,
         "x": [
          -0.4611119436535291,
          -0.5741741773886236
         ],
         "y": [
          0.1333744787586741,
          0.1333744787586741
         ],
         "type": "scatter"
        },
        {
         "line": {
          "color": "darkblue",
          "dash": "solid",
          "width": 1.1203594529268779
         },
         "mode": "lines",
         "showlegend": false,
         "x": [
          -0.37414099462653333,
          -0.5567799875832244
         ],
         "y": [
          0.28766982378680334,
          0.28766982378680334
         ],
         "type": "scatter"
        },
        {
         "line": {
          "color": "darkblue",
          "dash": "solid",
          "width": 1.6844115253453946
         },
         "mode": "lines",
         "showlegend": false,
         "x": [
          -0.37414099462653333,
          -0.37414099462653333
         ],
         "y": [
          0.28766982378680334,
          0.416249277976911
         ],
         "type": "scatter"
        },
        {
         "line": {
          "color": "darkblue",
          "dash": "solid",
          "width": 1.1145639368681353
         },
         "mode": "lines",
         "showlegend": false,
         "x": [
          -0.37414099462653333,
          -0.565477082485924
         ],
         "y": [
          0.416249277976911,
          0.416249277976911
         ],
         "type": "scatter"
        },
        {
         "line": {
          "color": "darkblue",
          "dash": "solid",
          "width": 1.5698475884772585
         },
         "mode": "lines",
         "showlegend": false,
         "x": [
          -0.37414099462653333,
          -0.37414099462653333
         ],
         "y": [
          0.416249277976911,
          0.5576866775860295
         ],
         "type": "scatter"
        },
        {
         "line": {
          "color": "darkblue",
          "dash": "solid",
          "width": 1.229321961320911
         },
         "mode": "lines",
         "showlegend": false,
         "x": [
          -0.37414099462653333,
          -0.37414099462653333
         ],
         "y": [
          0.5576866775860295,
          0.5576866775860295
         ],
         "type": "scatter"
        },
        {
         "line": {
          "color": "darkblue",
          "dash": "solid",
          "width": 1.2293219613209105
         },
         "mode": "lines",
         "showlegend": false,
         "x": [
          -0.37414099462653333,
          -0.4959003232643274
         ],
         "y": [
          0.5576866775860295,
          0.5576866775860295
         ],
         "type": "scatter"
        },
        {
         "line": {
          "color": "darkblue",
          "dash": "solid",
          "width": 1.3405256271563468
         },
         "mode": "lines",
         "showlegend": false,
         "x": [
          -0.37414099462653333,
          -0.37414099462653333
         ],
         "y": [
          0.5576866775860295,
          0.6605502409381157
         ],
         "type": "scatter"
        },
        {
         "line": {
          "color": "darkblue",
          "dash": "solid",
          "width": 1.1147580204969099
         },
         "mode": "lines",
         "showlegend": false,
         "x": [
          -0.4959003232643274,
          -0.5915683671940227
         ],
         "y": [
          0.5576866775860295,
          0.5576866775860295
         ],
         "type": "scatter"
        },
        {
         "line": {
          "color": "darkblue",
          "dash": "solid",
          "width": 1.1145639408240002
         },
         "mode": "lines",
         "showlegend": false,
         "x": [
          -0.4959003232643274,
          -0.4959003232643274
         ],
         "y": [
          0.5576866775860295,
          0.6734081863571264
         ],
         "type": "scatter"
        },
        {
         "line": {
          "color": "darkblue",
          "dash": "solid",
          "width": 1.1147580204969094
         },
         "mode": "lines",
         "showlegend": false,
         "x": [
          -0.5915683671940227,
          -0.5915683671940227
         ],
         "y": [
          0.5576866775860295,
          0.8148455859662449
         ],
         "type": "scatter"
        },
        {
         "line": {
          "color": "darkblue",
          "dash": "solid",
          "width": 1.2270076814865778
         },
         "mode": "lines",
         "showlegend": false,
         "x": [
          -0.37414099462653333,
          -0.37414099462653333
         ],
         "y": [
          0.6605502409381157,
          0.8148455859662449
         ],
         "type": "scatter"
        },
        {
         "line": {
          "color": "darkblue",
          "dash": "solid",
          "width": 1.1145639391812943
         },
         "mode": "lines",
         "showlegend": false,
         "x": [
          -0.37414099462653333,
          -0.25238166598873923
         ],
         "y": [
          0.8148455859662449,
          0.8148455859662449
         ],
         "type": "scatter"
        },
        {
         "line": {
          "color": "darkblue",
          "dash": "solid",
          "width": 1.0000000000000009
         },
         "mode": "lines",
         "showlegend": false,
         "x": [
          -0.25238166598873923,
          -0.1828049067671426
         ],
         "y": [
          0.8148455859662449,
          0.8148455859662449
         ],
         "type": "scatter"
        },
        {
         "line": {
          "color": "darkblue",
          "dash": "solid",
          "width": 1.057281970170801
         },
         "mode": "lines",
         "showlegend": false,
         "x": [
          -0.4959003232643274,
          -0.4959003232643274
         ],
         "y": [
          0.6734081863571264,
          0.8277035313852557
         ],
         "type": "scatter"
        },
        {
         "line": {
          "color": "darkblue",
          "dash": "solid",
          "width": 3.1665275061530997
         },
         "mode": "lines",
         "showlegend": false,
         "x": [
          -0.339352615015735,
          -0.20889619147524133
         ],
         "y": [
          0.1333744787586741,
          0.1333744787586741
         ],
         "type": "scatter"
        },
        {
         "line": {
          "color": "darkblue",
          "dash": "solid",
          "width": 1.2277546813910498
         },
         "mode": "lines",
         "showlegend": false,
         "x": [
          -0.20889619147524133,
          -0.17410781186444302
         ],
         "y": [
          0.1333744787586741,
          -0.03377881168846591
         ],
         "type": "scatter"
        },
        {
         "line": {
          "color": "darkblue",
          "dash": "solid",
          "width": 2.8242085072896295
         },
         "mode": "lines",
         "showlegend": false,
         "x": [
          -0.20889619147524133,
          -0.20889619147524133
         ],
         "y": [
          0.1333744787586741,
          0.2619539329487818
         ],
         "type": "scatter"
        },
        {
         "line": {
          "color": "darkblue",
          "dash": "solid",
          "width": 1.111899036812985
         },
         "mode": "lines",
         "showlegend": false,
         "x": [
          -0.17410781186444302,
          -0.278472950696838
         ],
         "y": [
          -0.03377881168846591,
          -0.03377881168846591
         ],
         "type": "scatter"
        },
        {
         "line": {
          "color": "darkblue",
          "dash": "solid",
          "width": 1.1158556445780639
         },
         "mode": "lines",
         "showlegend": false,
         "x": [
          -0.17410781186444302,
          -0.08713686283744723
         ],
         "y": [
          -0.03377881168846591,
          -0.03377881168846591
         ],
         "type": "scatter"
        },
        {
         "line": {
          "color": "darkblue",
          "dash": "solid",
          "width": 1.05728034799518
         },
         "mode": "lines",
         "showlegend": false,
         "x": [
          -0.08713686283744723,
          0.025925370897647276
         ],
         "y": [
          -0.03377881168846591,
          -0.03377881168846591
         ],
         "type": "scatter"
        },
        {
         "line": {
          "color": "darkblue",
          "dash": "solid",
          "width": 1.0572819785381677
         },
         "mode": "lines",
         "showlegend": false,
         "x": [
          -0.20889619147524133,
          -0.09583395774014682
         ],
         "y": [
          0.2619539329487818,
          0.2619539329487818
         ],
         "type": "scatter"
        },
        {
         "line": {
          "color": "darkblue",
          "dash": "solid",
          "width": 2.766926528751461
         },
         "mode": "lines",
         "showlegend": false,
         "x": [
          -0.20889619147524133,
          -0.20889619147524133
         ],
         "y": [
          0.2619539329487818,
          0.3905333871388895
         ],
         "type": "scatter"
        },
        {
         "line": {
          "color": "darkblue",
          "dash": "solid",
          "width": 1.119216770865144
         },
         "mode": "lines",
         "showlegend": false,
         "x": [
          -0.20889619147524133,
          -0.03495429342124977
         ],
         "y": [
          0.3905333871388895,
          0.3905333871388895
         ],
         "type": "scatter"
        },
        {
         "line": {
          "color": "darkblue",
          "dash": "solid",
          "width": 2.590427195472194
         },
         "mode": "lines",
         "showlegend": false,
         "x": [
          -0.20889619147524133,
          -0.20889619147524133
         ],
         "y": [
          0.3905333871388895,
          0.49339695049097565
         ],
         "type": "scatter"
        },
        {
         "line": {
          "color": "darkblue",
          "dash": "solid",
          "width": 1.1137212160681949
         },
         "mode": "lines",
         "showlegend": false,
         "x": [
          -0.20889619147524133,
          -0.1393194322536447
         ],
         "y": [
          0.49339695049097565,
          0.49339695049097565
         ],
         "type": "scatter"
        },
        {
         "line": {
          "color": "darkblue",
          "dash": "solid",
          "width": 2.4767059794039987
         },
         "mode": "lines",
         "showlegend": false,
         "x": [
          -0.20889619147524133,
          -0.20889619147524133
         ],
         "y": [
          0.49339695049097565,
          0.6219764046810834
         ],
         "type": "scatter"
        },
        {
         "line": {
          "color": "darkblue",
          "dash": "solid",
          "width": 1.0572825862888238
         },
         "mode": "lines",
         "showlegend": false,
         "x": [
          -0.1393194322536447,
          -0.03495429342124977
         ],
         "y": [
          0.49339695049097565,
          0.49339695049097565
         ],
         "type": "scatter"
        },
        {
         "line": {
          "color": "darkblue",
          "dash": "solid",
          "width": 1.602783296269839
         },
         "mode": "lines",
         "showlegend": false,
         "x": [
          -0.20889619147524133,
          -0.2610787608914388
         ],
         "y": [
          0.6219764046810834,
          0.6219764046810834
         ],
         "type": "scatter"
        },
        {
         "line": {
          "color": "darkblue",
          "dash": "solid",
          "width": 1.5728151248724298
         },
         "mode": "lines",
         "showlegend": false,
         "x": [
          -0.20889619147524133,
          -0.12192524244824555
         ],
         "y": [
          0.6219764046810834,
          0.6219764046810834
         ],
         "type": "scatter"
        },
        {
         "line": {
          "color": "darkblue",
          "dash": "solid",
          "width": 1.1718465768794106
         },
         "mode": "lines",
         "showlegend": false,
         "x": [
          -0.12192524244824555,
          -0.03495429342124977
         ],
         "y": [
          0.6219764046810834,
          0.6219764046810834
         ],
         "type": "scatter"
        },
        {
         "line": {
          "color": "darkblue",
          "dash": "solid",
          "width": 1.057282593564611
         },
         "mode": "lines",
         "showlegend": false,
         "x": [
          -0.03495429342124977,
          0.05201665560574601
         ],
         "y": [
          0.6219764046810834,
          0.6219764046810834
         ],
         "type": "scatter"
        },
        {
         "line": {
          "color": "darkblue",
          "dash": "solid",
          "width": 1.0000000000000009
         },
         "mode": "lines",
         "showlegend": false,
         "x": [
          0.05201665560574601,
          0.2127389694076342
         ],
         "y": [
          0.6219764046810834,
          0.9578259390256447
         ],
         "type": "scatter"
        },
        {
         "line": {
          "color": "darkblue",
          "dash": "solid",
          "width": 6.700138571551206
         },
         "mode": "lines",
         "showlegend": false,
         "x": [
          -0.339352615015735,
          -0.20019909657254176
         ],
         "y": [
          -0.2909377200686813,
          -0.2909377200686813
         ],
         "type": "scatter"
        },
        {
         "line": {
          "color": "darkblue",
          "dash": "solid",
          "width": 6.585573214572755
         },
         "mode": "lines",
         "showlegend": false,
         "x": [
          -0.20019909657254176,
          -0.13062233735094514
         ],
         "y": [
          -0.2909377200686813,
          -0.2909377200686813
         ],
         "type": "scatter"
        },
        {
         "line": {
          "color": "darkblue",
          "dash": "solid",
          "width": 6.47100762168315
         },
         "mode": "lines",
         "showlegend": false,
         "x": [
          -0.13062233735094514,
          -0.08713686283744723
         ],
         "y": [
          -0.2909377200686813,
          -0.2909377200686813
         ],
         "type": "scatter"
        },
        {
         "line": {
          "color": "darkblue",
          "dash": "solid",
          "width": 1.1135561455454672
         },
         "mode": "lines",
         "showlegend": false,
         "x": [
          -0.08713686283744723,
          0.00853118109224812
         ],
         "y": [
          -0.2909377200686813,
          -0.2909377200686813
         ],
         "type": "scatter"
        },
        {
         "line": {
          "color": "darkblue",
          "dash": "solid",
          "width": 6.35745147613768
         },
         "mode": "lines",
         "showlegend": false,
         "x": [
          -0.08713686283744723,
          -0.08713686283744723
         ],
         "y": [
          -0.2909377200686813,
          -0.11092648420253053
         ],
         "type": "scatter"
        },
        {
         "line": {
          "color": "darkblue",
          "dash": "solid",
          "width": 1.057279883334076
         },
         "mode": "lines",
         "showlegend": false,
         "x": [
          0.00853118109224812,
          0.10419922502194348
         ],
         "y": [
          -0.2909377200686813,
          -0.2909377200686813
         ],
         "type": "scatter"
        },
        {
         "line": {
          "color": "darkblue",
          "dash": "solid",
          "width": 1.1159535806531389
         },
         "mode": "lines",
         "showlegend": false,
         "x": [
          -0.08713686283744723,
          -0.17410781186444302
         ],
         "y": [
          -0.11092648420253053,
          -0.11092648420253053
         ],
         "type": "scatter"
        },
        {
         "line": {
          "color": "darkblue",
          "dash": "solid",
          "width": 6.2414978954845415
         },
         "mode": "lines",
         "showlegend": false,
         "x": [
          -0.08713686283744723,
          0.1737759842435401
         ],
         "y": [
          -0.11092648420253053,
          -0.11092648420253053
         ],
         "type": "scatter"
        },
        {
         "line": {
          "color": "darkblue",
          "dash": "solid",
          "width": 1.0572796636323283
         },
         "mode": "lines",
         "showlegend": false,
         "x": [
          -0.17410781186444302,
          -0.2610787608914388
         ],
         "y": [
          -0.11092648420253053,
          -0.11092648420253053
         ],
         "type": "scatter"
        },
        {
         "line": {
          "color": "darkblue",
          "dash": "solid",
          "width": 1.0000000000000027
         },
         "mode": "lines",
         "showlegend": false,
         "x": [
          0.1737759842435401,
          0.1737759842435401
         ],
         "y": [
          -0.11092648420253053,
          -0.3938012834207675
         ],
         "type": "scatter"
        },
        {
         "line": {
          "color": "darkblue",
          "dash": "solid",
          "width": 2.0573379335299924
         },
         "mode": "lines",
         "showlegend": false,
         "x": [
          0.1737759842435401,
          0.1737759842435401
         ],
         "y": [
          -0.11092648420253053,
          0.01765296998757717
         ],
         "type": "scatter"
        },
        {
         "line": {
          "color": "darkblue",
          "dash": "solid",
          "width": 1.9434158219856243
         },
         "mode": "lines",
         "showlegend": false,
         "x": [
          0.1737759842435401,
          0.1737759842435401
         ],
         "y": [
          0.01765296998757717,
          0.10765858792065255
         ],
         "type": "scatter"
        },
        {
         "line": {
          "color": "darkblue",
          "dash": "solid",
          "width": 1.8288487197444474
         },
         "mode": "lines",
         "showlegend": false,
         "x": [
          0.1737759842435401,
          0.1737759842435401
         ],
         "y": [
          0.10765858792065255,
          0.28766982378680334
         ],
         "type": "scatter"
        },
        {
         "line": {
          "color": "darkblue",
          "dash": "solid",
          "width": 1.610594243447963
         },
         "mode": "lines",
         "showlegend": false,
         "x": [
          0.1737759842435401,
          0.025925370897647276
         ],
         "y": [
          0.28766982378680334,
          0.28766982378680334
         ],
         "type": "scatter"
        },
        {
         "line": {
          "color": "darkblue",
          "dash": "solid",
          "width": 1.2148097089911731
         },
         "mode": "lines",
         "showlegend": false,
         "x": [
          0.025925370897647276,
          0.025925370897647276
         ],
         "y": [
          0.28766982378680334,
          0.12051653333966333
         ],
         "type": "scatter"
        },
        {
         "line": {
          "color": "darkblue",
          "dash": "solid",
          "width": 5.126876470008261
         },
         "mode": "lines",
         "showlegend": false,
         "x": [
          0.2085643638543384,
          0.3303236924921325
         ],
         "y": [
          -0.11092648420253053,
          -0.11092648420253053
         ],
         "type": "scatter"
        },
        {
         "line": {
          "color": "darkblue",
          "dash": "solid",
          "width": 1.3437031386182068
         },
         "mode": "lines",
         "showlegend": false,
         "x": [
          0.3303236924921325,
          0.3999004517137291
         ],
         "y": [
          -0.11092648420253053,
          -0.11092648420253053
         ],
         "type": "scatter"
        },
        {
         "line": {
          "color": "darkblue",
          "dash": "solid",
          "width": 3.5123301929069006
         },
         "mode": "lines",
         "showlegend": false,
         "x": [
          0.3303236924921325,
          0.3303236924921325
         ],
         "y": [
          -0.11092648420253053,
          -0.252363883811649
         ],
         "type": "scatter"
        },
        {
         "line": {
          "color": "darkblue",
          "dash": "solid",
          "width": 2.270843138483153
         },
         "mode": "lines",
         "showlegend": false,
         "x": [
          0.3303236924921325,
          0.3303236924921325
         ],
         "y": [
          -0.11092648420253053,
          0.01765296998757717
         ],
         "type": "scatter"
        },
        {
         "line": {
          "color": "darkblue",
          "dash": "solid",
          "width": 1.2864194068454065
         },
         "mode": "lines",
         "showlegend": false,
         "x": [
          0.3999004517137291,
          0.4955684956434245
         ],
         "y": [
          -0.11092648420253053,
          -0.11092648420253053
         ],
         "type": "scatter"
        },
        {
         "line": {
          "color": "darkblue",
          "dash": "solid",
          "width": 1.1718517557990475
         },
         "mode": "lines",
         "showlegend": false,
         "x": [
          0.4955684956434245,
          0.608630729378519
         ],
         "y": [
          -0.11092648420253053,
          -0.11092648420253053
         ],
         "type": "scatter"
        },
        {
         "line": {
          "color": "darkblue",
          "dash": "solid",
          "width": 1.1145678627459377
         },
         "mode": "lines",
         "showlegend": false,
         "x": [
          0.608630729378519,
          0.7042987733082143
         ],
         "y": [
          -0.11092648420253053,
          -0.11092648420253053
         ],
         "type": "scatter"
        },
        {
         "line": {
          "color": "darkblue",
          "dash": "solid",
          "width": 1.349260509815656
         },
         "mode": "lines",
         "showlegend": false,
         "x": [
          0.3303236924921325,
          0.42599173642182786
         ],
         "y": [
          -0.252363883811649,
          -0.252363883811649
         ],
         "type": "scatter"
        },
        {
         "line": {
          "color": "darkblue",
          "dash": "solid",
          "width": 3.1630696830912437
         },
         "mode": "lines",
         "showlegend": false,
         "x": [
          0.3303236924921325,
          0.3303236924921325
         ],
         "y": [
          -0.252363883811649,
          -0.35522744716373517
         ],
         "type": "scatter"
        },
        {
         "line": {
          "color": "darkblue",
          "dash": "solid",
          "width": 1.2346948500697643
         },
         "mode": "lines",
         "showlegend": false,
         "x": [
          0.42599173642182786,
          0.5477510650596219
         ],
         "y": [
          -0.252363883811649,
          -0.252363883811649
         ],
         "type": "scatter"
        },
        {
         "line": {
          "color": "darkblue",
          "dash": "solid",
          "width": 1.1145656565398847
         },
         "mode": "lines",
         "showlegend": false,
         "x": [
          0.5477510650596219,
          0.6869045835028152
         ],
         "y": [
          -0.252363883811649,
          -0.252363883811649
         ],
         "type": "scatter"
        },
        {
         "line": {
          "color": "darkblue",
          "dash": "solid",
          "width": 1.6943715279717728
         },
         "mode": "lines",
         "showlegend": false,
         "x": [
          0.3303236924921325,
          0.46947721093532574
         ],
         "y": [
          -0.35522744716373517,
          -0.35522744716373517
         ],
         "type": "scatter"
        },
        {
         "line": {
          "color": "darkblue",
          "dash": "solid",
          "width": 1.7477935610658548
         },
         "mode": "lines",
         "showlegend": false,
         "x": [
          0.3303236924921325,
          0.23639506754297707
         ],
         "y": [
          -0.35522744716373517,
          -0.6895340280580152
         ],
         "type": "scatter"
        },
        {
         "line": {
          "color": "darkblue",
          "dash": "solid",
          "width": 1.579813730209174
         },
         "mode": "lines",
         "showlegend": false,
         "x": [
          0.46947721093532574,
          0.5042655905461241
         ],
         "y": [
          -0.35522744716373517,
          -0.35522744716373517
         ],
         "type": "scatter"
        },
        {
         "line": {
          "color": "darkblue",
          "dash": "solid",
          "width": 1.121556682260307
         },
         "mode": "lines",
         "showlegend": false,
         "x": [
          0.5042655905461241,
          0.5825394446704203
         ],
         "y": [
          -0.35522744716373517,
          -0.35522744716373517
         ],
         "type": "scatter"
        },
        {
         "line": {
          "color": "darkblue",
          "dash": "solid",
          "width": 1.4582570479488663
         },
         "mode": "lines",
         "showlegend": false,
         "x": [
          0.5042655905461241,
          0.5042655905461241
         ],
         "y": [
          -0.35522744716373517,
          -0.5995284101249398
         ],
         "type": "scatter"
        },
        {
         "line": {
          "color": "darkblue",
          "dash": "solid",
          "width": 1.3436993490091507
         },
         "mode": "lines",
         "showlegend": false,
         "x": [
          0.5042655905461241,
          0.5042655905461241
         ],
         "y": [
          -0.5995284101249398,
          -0.8438293730861445
         ],
         "type": "scatter"
        },
        {
         "line": {
          "color": "darkblue",
          "dash": "solid",
          "width": 1.171850573655178
         },
         "mode": "lines",
         "showlegend": false,
         "x": [
          0.5042655905461241,
          0.5042655905461241
         ],
         "y": [
          -0.8438293730861445,
          -0.9724088272762521
         ],
         "type": "scatter"
        },
        {
         "line": {
          "color": "darkblue",
          "dash": "solid",
          "width": 1.1718487753539717
         },
         "mode": "lines",
         "showlegend": false,
         "x": [
          0.5042655905461241,
          0.7390871529190126
         ],
         "y": [
          -0.8438293730861445,
          -0.8438293730861445
         ],
         "type": "scatter"
        },
        {
         "line": {
          "color": "darkblue",
          "dash": "solid",
          "width": 1.0572829430758388
         },
         "mode": "lines",
         "showlegend": false,
         "x": [
          0.5042655905461241,
          0.5912365395731198
         ],
         "y": [
          -0.9724088272762521,
          -0.9724088272762521
         ],
         "type": "scatter"
        },
        {
         "line": {
          "color": "darkblue",
          "dash": "solid",
          "width": 1.1145658494917854
         },
         "mode": "lines",
         "showlegend": false,
         "x": [
          0.7390871529190126,
          0.7390871529190126
         ],
         "y": [
          -0.8438293730861445,
          -0.5995284101249398
         ],
         "type": "scatter"
        },
        {
         "line": {
          "color": "darkblue",
          "dash": "solid",
          "width": 1.6905147196656847
         },
         "mode": "lines",
         "showlegend": false,
         "x": [
          0.23639506754297707,
          0.16507888934084053
         ],
         "y": [
          -0.6895340280580152,
          -0.48380690135384286
         ],
         "type": "scatter"
        },
        {
         "line": {
          "color": "darkblue",
          "dash": "solid",
          "width": 1.1145677080688876
         },
         "mode": "lines",
         "showlegend": false,
         "x": [
          0.16507888934084053,
          0.13029050973004222
         ],
         "y": [
          -0.48380690135384286,
          -0.3938012834207675
         ],
         "type": "scatter"
        },
        {
         "line": {
          "color": "darkblue",
          "dash": "solid",
          "width": 1.4613894457447567
         },
         "mode": "lines",
         "showlegend": false,
         "x": [
          0.16507888934084053,
          0.06941084541114516
         ],
         "y": [
          -0.48380690135384286,
          -0.48380690135384286
         ],
         "type": "scatter"
        },
        {
         "line": {
          "color": "darkblue",
          "dash": "solid",
          "width": 1.1176981800922952
         },
         "mode": "lines",
         "showlegend": false,
         "x": [
          0.06941084541114516,
          0.06941084541114516
         ],
         "y": [
          -0.48380690135384286,
          -0.5995284101249398
         ],
         "type": "scatter"
        },
        {
         "line": {
          "color": "darkblue",
          "dash": "solid",
          "width": 1.3436912656524609
         },
         "mode": "lines",
         "showlegend": false,
         "x": [
          0.06941084541114516,
          -0.008863008713151037
         ],
         "y": [
          -0.48380690135384286,
          -0.48380690135384286
         ],
         "type": "scatter"
        },
        {
         "line": {
          "color": "darkblue",
          "dash": "solid",
          "width": 1.114565997620057
         },
         "mode": "lines",
         "showlegend": false,
         "x": [
          -0.008863008713151037,
          -0.008863008713151037
         ],
         "y": [
          -0.48380690135384286,
          -0.6381022463819721
         ],
         "type": "scatter"
        },
        {
         "line": {
          "color": "darkblue",
          "dash": "solid",
          "width": 1.2291252680324032
         },
         "mode": "lines",
         "showlegend": false,
         "x": [
          -0.008863008713151037,
          -0.08713686283744723
         ],
         "y": [
          -0.48380690135384286,
          -0.48380690135384286
         ],
         "type": "scatter"
        },
        {
         "line": {
          "color": "darkblue",
          "dash": "solid",
          "width": 1.1145678076662222
         },
         "mode": "lines",
         "showlegend": false,
         "x": [
          -0.08713686283744723,
          -0.08713686283744723
         ],
         "y": [
          -0.48380690135384286,
          -0.6252443009629614
         ],
         "type": "scatter"
        },
        {
         "line": {
          "color": "darkblue",
          "dash": "solid",
          "width": 1.1145574603661799
         },
         "mode": "lines",
         "showlegend": false,
         "x": [
          -0.08713686283744723,
          -0.19150200166984216
         ],
         "y": [
          -0.48380690135384286,
          -0.48380690135384286
         ],
         "type": "scatter"
        },
        {
         "line": {
          "color": "darkblue",
          "dash": "solid",
          "width": 1.0572787279069258
         },
         "mode": "lines",
         "showlegend": false,
         "x": [
          -0.19150200166984216,
          -0.19150200166984216
         ],
         "y": [
          -0.48380690135384286,
          -0.586670464705929
         ],
         "type": "scatter"
        },
        {
         "line": {
          "color": "darkblue",
          "dash": "solid",
          "width": 1.349855243389334
         },
         "mode": "lines",
         "showlegend": false,
         "x": [
          0.3303236924921325,
          0.42599173642182786
         ],
         "y": [
          0.01765296998757717,
          0.01765296998757717
         ],
         "type": "scatter"
        },
        {
         "line": {
          "color": "darkblue",
          "dash": "solid",
          "width": 1.2352878501276316
         },
         "mode": "lines",
         "showlegend": false,
         "x": [
          0.42599173642182786,
          0.6173278242812186
         ],
         "y": [
          0.01765296998757717,
          0.01765296998757717
         ],
         "type": "scatter"
        },
        {
         "line": {
          "color": "darkblue",
          "dash": "solid",
          "width": 1.1207298951062568
         },
         "mode": "lines",
         "showlegend": false,
         "x": [
          0.6173278242812186,
          0.7216929631136135
         ],
         "y": [
          0.01765296998757717,
          0.01765296998757717
         ],
         "type": "scatter"
        },
        {
         "line": {
          "color": "darkblue",
          "dash": "solid",
          "width": 1.0000000000000009
         },
         "mode": "lines",
         "showlegend": false,
         "x": [
          0.7216929631136135,
          1.0
         ],
         "y": [
          0.01765296998757717,
          0.01765296998757717
         ],
         "type": "scatter"
        },
        {
         "line": {
          "color": "darkblue",
          "dash": "solid",
          "width": 1.9209878950938186
         },
         "mode": "lines",
         "showlegend": false,
         "x": [
          0.3303236924921325,
          0.3303236924921325
         ],
         "y": [
          0.01765296998757717,
          0.06908475166362026
         ],
         "type": "scatter"
        },
        {
         "line": {
          "color": "darkblue",
          "dash": "solid",
          "width": 1.920987895093818
         },
         "mode": "lines",
         "showlegend": false,
         "x": [
          0.3303236924921325,
          0.3303236924921325
         ],
         "y": [
          0.06908475166362026,
          0.19766420585372796
         ],
         "type": "scatter"
        },
        {
         "line": {
          "color": "darkblue",
          "dash": "solid",
          "width": 1.2864141679900591
         },
         "mode": "lines",
         "showlegend": false,
         "x": [
          0.3303236924921325,
          0.4085975466164287
         ],
         "y": [
          0.19766420585372796,
          0.19766420585372796
         ],
         "type": "scatter"
        },
        {
         "line": {
          "color": "darkblue",
          "dash": "solid",
          "width": 1.6345737271037577
         },
         "mode": "lines",
         "showlegend": false,
         "x": [
          0.3303236924921325,
          0.3303236924921325
         ],
         "y": [
          0.19766420585372796,
          0.3391016054628464
         ],
         "type": "scatter"
        },
        {
         "line": {
          "color": "darkblue",
          "dash": "solid",
          "width": 1.2291313327518583
         },
         "mode": "lines",
         "showlegend": false,
         "x": [
          0.4085975466164287,
          0.5216597803515232
         ],
         "y": [
          0.19766420585372796,
          0.19766420585372796
         ],
         "type": "scatter"
        },
        {
         "line": {
          "color": "darkblue",
          "dash": "solid",
          "width": 1.1145656648959619
         },
         "mode": "lines",
         "showlegend": false,
         "x": [
          0.5216597803515232,
          0.7651784376271114
         ],
         "y": [
          0.19766420585372796,
          0.19766420585372796
         ],
         "type": "scatter"
        },
        {
         "line": {
          "color": "darkblue",
          "dash": "solid",
          "width": 1.2291156231676885
         },
         "mode": "lines",
         "showlegend": false,
         "x": [
          0.3303236924921325,
          0.4085975466164287
         ],
         "y": [
          0.3391016054628464,
          0.3391016054628464
         ],
         "type": "scatter"
        },
        {
         "line": {
          "color": "darkblue",
          "dash": "solid",
          "width": 1.4054581039360685
         },
         "mode": "lines",
         "showlegend": false,
         "x": [
          0.3303236924921325,
          0.3303236924921325
         ],
         "y": [
          0.3391016054628464,
          0.5062548959099864
         ],
         "type": "scatter"
        },
        {
         "line": {
          "color": "darkblue",
          "dash": "solid",
          "width": 1.1145577870761891
         },
         "mode": "lines",
         "showlegend": false,
         "x": [
          0.4085975466164287,
          0.608630729378519
         ],
         "y": [
          0.3391016054628464,
          0.3391016054628464
         ],
         "type": "scatter"
        },
        {
         "line": {
          "color": "darkblue",
          "dash": "solid",
          "width": 1.4054581039360667
         },
         "mode": "lines",
         "showlegend": false,
         "x": [
          0.3303236924921325,
          0.4868714007407249
         ],
         "y": [
          0.5062548959099864,
          0.5062548959099864
         ],
         "type": "scatter"
        },
        {
         "line": {
          "color": "darkblue",
          "dash": "solid",
          "width": 1.0000000000000009
         },
         "mode": "lines",
         "showlegend": false,
         "x": [
          0.3303236924921325,
          0.23291622958189723
         ],
         "y": [
          0.5062548959099864,
          1.0
         ],
         "type": "scatter"
        },
        {
         "line": {
          "color": "darkblue",
          "dash": "solid",
          "width": 1.2908902525576933
         },
         "mode": "lines",
         "showlegend": false,
         "x": [
          0.4868714007407249,
          0.5912365395731198
         ],
         "y": [
          0.5062548959099864,
          0.5062548959099864
         ],
         "type": "scatter"
        },
        {
         "line": {
          "color": "darkblue",
          "dash": "solid",
          "width": 1.0572840237784624
         },
         "mode": "lines",
         "showlegend": false,
         "x": [
          0.5912365395731198,
          0.5912365395731198
         ],
         "y": [
          0.5062548959099864,
          0.8019876405472341
         ],
         "type": "scatter"
        },
        {
         "line": {
          "color": "darkblue",
          "dash": "solid",
          "width": 1.2336062287792302
         },
         "mode": "lines",
         "showlegend": false,
         "x": [
          0.5912365395731198,
          0.5912365395731198
         ],
         "y": [
          0.5062548959099864,
          0.4419651688149326
         ],
         "type": "scatter"
        },
        {
         "line": {
          "color": "darkblue",
          "dash": "solid",
          "width": 1.1753378182515632
         },
         "mode": "lines",
         "showlegend": false,
         "x": [
          0.5912365395731198,
          0.773875532529811
         ],
         "y": [
          0.4419651688149326,
          0.4419651688149326
         ],
         "type": "scatter"
        },
        {
         "line": {
          "color": "darkblue",
          "dash": "solid",
          "width": 1.0572840589710035
         },
         "mode": "lines",
         "showlegend": false,
         "x": [
          0.773875532529811,
          0.8869377662649055
         ],
         "y": [
          0.4419651688149326,
          0.4419651688149326
         ],
         "type": "scatter"
        },
        {
         "line": {
          "color": "darkblue",
          "dash": "solid",
          "width": 3.1665275061531006
         },
         "mode": "lines",
         "showlegend": false,
         "x": [
          -0.37414099462653333,
          -0.339352615015735
         ],
         "y": [
          0.1333744787586741,
          0.1333744787586741
         ],
         "type": "scatter"
        },
        {
         "line": {
          "color": "darkblue",
          "dash": "solid",
          "width": 6.700138571551206
         },
         "mode": "lines",
         "showlegend": false,
         "x": [
          -0.37414099462653333,
          -0.339352615015735
         ],
         "y": [
          -0.2909377200686813,
          -0.2909377200686813
         ],
         "type": "scatter"
        },
        {
         "line": {
          "color": "darkblue",
          "dash": "solid",
          "width": 5.126876470008262
         },
         "mode": "lines",
         "showlegend": false,
         "x": [
          0.2085643638543384,
          0.2085643638543384
         ],
         "y": [
          -0.11092648420253053,
          -0.11092648420253053
         ],
         "type": "scatter"
        },
        {
         "line": {
          "color": "darkblue",
          "dash": "solid",
          "width": 5.126876470008264
         },
         "mode": "lines",
         "showlegend": false,
         "x": [
          0.1737759842435401,
          0.2085643638543384
         ],
         "y": [
          -0.11092648420253053,
          -0.11092648420253053
         ],
         "type": "scatter"
        },
        {
         "line": {
          "color": "darkblue",
          "dash": "solid",
          "width": 1.0000000000000018
         },
         "mode": "lines",
         "showlegend": false,
         "x": [
          0.1737759842435401,
          0.2085643638543384
         ],
         "y": [
          -0.3938012834207675,
          -0.3938012834207675
         ],
         "type": "scatter"
        },
        {
         "line": {
          "color": "darkblue",
          "dash": "solid",
          "width": 1.0000000000000009
         },
         "mode": "lines",
         "showlegend": false,
         "x": [
          0.2085643638543384,
          0.24335274346513672
         ],
         "y": [
          -0.3938012834207675,
          -0.3938012834207675
         ],
         "type": "scatter"
        },
        {
         "hoverinfo": "none",
         "marker": {
          "color": "black",
          "line": {
           "color": "black",
           "width": 1
          },
          "size": 20,
          "symbol": "square"
         },
         "mode": "markers",
         "name": "Substation",
         "showlegend": true,
         "x": [
          -0.8611783091777097
         ],
         "y": [
          -0.2909377200686813
         ],
         "type": "scatter"
        },
        {
         "hoverinfo": "none",
         "marker": {
          "color": "orange",
          "line": {
           "color": "black",
           "width": 0.5
          },
          "size": 10,
          "symbol": "star-triangle-up"
         },
         "mode": "markers",
         "name": "Reverse Power Flow",
         "showlegend": true,
         "x": [],
         "y": [],
         "type": "scatter"
        },
        {
         "hoverinfo": "none",
         "marker": {
          "color": "white",
          "line": {
           "color": "black",
           "width": 1
          },
          "size": 20,
          "symbol": "star-diamond"
         },
         "mode": "markers",
         "name": "Capacitors",
         "showlegend": true,
         "x": [
          0.5912365395731198,
          0.13029050973004222,
          0.06941084541114516,
          -0.008863008713151037
         ],
         "y": [
          -0.9724088272762521,
          -0.3938012834207675,
          -0.5995284101249398,
          -0.6381022463819721
         ],
         "type": "scatter"
        },
        {
         "hoverinfo": "none",
         "marker": {
          "color": "white",
          "line": {
           "color": "black",
           "width": 1
          },
          "size": 20,
          "symbol": "square"
         },
         "mode": "markers",
         "name": "Generators",
         "showlegend": true,
         "x": [
          -0.37414099462653333
         ],
         "y": [
          -0.2909377200686813
         ],
         "type": "scatter"
        },
        {
         "hovertemplate": "%{text}",
         "marker": {
          "cmax": 1.05,
          "cmin": 0.95,
          "color": [
           0.9999999999999991,
           1.037499999999998,
           1.0372426546891866,
           1.0298728447728567,
           1.0345780664568534,
           1.0271832994755024,
           1.0246314577116977,
           1.026671003730218,
           1.02588027496407,
           1.0252059775986466,
           1.0211409933348374,
           1.0314557106357456,
           1.0104543365386478,
           1.0160949432224948,
           1.0104543365386478,
           1.0087762496310322,
           1.0132984287842077,
           1.0093026417661215,
           1.0081161527552767,
           1.0084481462122974,
           1.012908965018768,
           1.011934649826825,
           1.0124544012712833,
           0.9944626142258718,
           1.008744858241648,
           0.9936105731744654,
           1.023879738790968,
           1.008353847190768,
           1.0031201048252492,
           1.0079846401901429,
           1.0051376929446865,
           1.004760948466996,
           1.0078209956546649,
           1.0045648506338771,
           1.002580936874139,
           1.0046819715158624,
           1.0076650612679645,
           1.0075866887737157,
           1.0075866887737155,
           1.0021873084309239,
           1.0071259628234777,
           1.0070995270246992,
           1.0058969558788722,
           0.991299277585114,
           1.0214716665274062,
           1.0210531246057883,
           1.0043150551349214,
           1.0047023727872517,
           1.0189518735892638,
           1.003829055763349,
           0.9883487150904048,
           1.0027952699238345,
           0.9879493994793428,
           1.0025359683526418,
           1.002414797930869,
           1.0023028337119204,
           1.0022685984770063,
           1.0022685984770063,
           1.012645471852225,
           1.0110270825802055,
           1.0100435201181652,
           1.0099724794842804,
           1.0073257699355425,
           1.0099333294520798,
           1.0231757844231788,
           1.001644545928437,
           1.022854384433839,
           1.001644545928437,
           1.0003327839370082,
           0.9995135678050842,
           0.9980662230509889,
           0.9967251407884715,
           0.9963759967509147,
           1.0310296699171826,
           1.0316856949980018,
           1.030809489347828,
           1.0302891437922859,
           1.0299311536032454,
           1.0286852097987045,
           1.027981703290127,
           1.0270260167957788,
           1.030823643506831,
           1.0251879828053605,
           1.024161142125089,
           1.031900184641582,
           1.0304229078096205,
           1.032194812524988,
           1.0321221949448334,
           1.033746045351393,
           1.0343616702746725,
           1.0353257893600771,
           1.0293494455781913,
           1.0363646893069678,
           1.028134893951935,
           1.0301717449943224,
           1.0322332198163222,
           1.0300747697860915,
           1.0261594552336621,
           1.0299709254295968,
           1.0322421049133064,
           1.0298440932613016,
           1.0306527478020662,
           1.0297663258380838,
           1.0251263219246565,
           1.0300677028969822,
           1.0297802936760714,
           1.0296897052544702,
           1.0296897052544702,
           1.0302620971153555,
           1.0297223955693227,
           1.0266242593623398,
           1.0293250337345865,
           1.024957459248199,
           1.0231594071123113,
           1.0283933268469378,
           1.0289982154290305,
           1.026921585326123,
           1.0245675750779002,
           1.0289982154290305,
           1.0226099355113951,
           1.0218700640210632,
           1.0219540447069246,
           1.019883657713265,
           1.019464416780103,
           1.0092324032857372,
           1.0159659326469734,
           1.0326554748272003,
           1.0015626276988168,
           1.0016445459284369,
           1.0016445459284367
          ],
          "colorscale": [
           [
            0.0,
            "#440154"
           ],
           [
            0.1111111111111111,
            "#482878"
           ],
           [
            0.2222222222222222,
            "#3e4989"
           ],
           [
            0.3333333333333333,
            "#31688e"
           ],
           [
            0.4444444444444444,
            "#26828e"
           ],
           [
            0.5555555555555556,
            "#1f9e89"
           ],
           [
            0.6666666666666666,
            "#35b779"
           ],
           [
            0.7777777777777778,
            "#6ece58"
           ],
           [
            0.8888888888888888,
            "#b5de2b"
           ],
           [
            1.0,
            "#fde725"
           ]
          ],
          "line": {
           "color": "black",
           "width": 2.0
          },
          "reversescale": false,
          "showscale": true,
          "size": 10
         },
         "mode": "markers",
         "showlegend": false,
         "text": [
          "Bus: '150'      A   ||   B   ||   C<br>    |V|:      1.000  1.000  1.000<br>    P-Load: 0.000  0.000  0.000<br>    Q-Load: 0.000  0.000  0.000",
          "Bus: '150r'      A   ||   B   ||   C<br>    |V|:      1.037  1.037  1.037<br>    P-Load: 0.000  0.000  0.000<br>    Q-Load: 0.000  0.000  0.000<br>Branch 150→150r<br>    P flow:  1.398  0.940  1.153<br>    Q flow:  0.478  0.304  0.347",
          "Bus: '149'      A   ||   B   ||   C<br>    |V|:      1.037  1.037  1.037<br>    P-Load: 0.000  0.000  0.000<br>    Q-Load: 0.000  0.000  0.000<br>Branch 150r→149<br>    P flow:  1.398  0.940  1.153<br>    Q flow:  0.478  0.304  0.347",
          "Bus: '1'      A   ||   B   ||   C<br>    |V|:      1.026  1.035  1.029<br>    P-Load: 0.040  0.000  0.000<br>    Q-Load: 0.020  0.000  0.000<br>Branch 149→1<br>    P flow:  1.398  0.940  1.153<br>    Q flow:  0.478  0.304  0.347",
          "Bus: '2'      A   ||   B   ||   C<br>    |V|:      nan  1.035  nan<br>    P-Load: 0.000  0.020  0.000<br>    Q-Load: 0.000  0.010  0.000<br>Branch 1→2<br>    P flow:  nan  0.020  nan<br>    Q flow:  0.000  0.010  0.000",
          "Bus: '3'      A   ||   B   ||   C<br>    |V|:      nan  nan  1.027<br>    P-Load: 0.000  0.000  0.000<br>    Q-Load: 0.000  0.000  0.000<br>Branch 1→3<br>    P flow:  nan  nan  0.103<br>    Q flow:  0.000  0.000  0.051",
          "Bus: '7'      A   ||   B   ||   C<br>    |V|:      1.017  1.033  1.023<br>    P-Load: 0.020  0.000  0.000<br>    Q-Load: 0.010  0.000  0.000<br>Branch 1→7<br>    P flow:  1.358  0.920  1.051<br>    Q flow:  0.458  0.294  0.295",
          "Bus: '4'      A   ||   B   ||   C<br>    |V|:      nan  nan  1.027<br>    P-Load: 0.000  0.000  0.040<br>    Q-Load: 0.000  0.000  0.020<br>Branch 3→4<br>    P flow:  nan  nan  0.040<br>    Q flow:  0.000  0.000  0.020",
          "Bus: '5'      A   ||   B   ||   C<br>    |V|:      nan  nan  1.026<br>    P-Load: 0.000  0.000  0.021<br>    Q-Load: 0.000  0.000  0.010<br>Branch 3→5<br>    P flow:  nan  nan  0.063<br>    Q flow:  0.000  0.000  0.031",
          "Bus: '6'      A   ||   B   ||   C<br>    |V|:      nan  nan  1.025<br>    P-Load: 0.000  0.000  0.042<br>    Q-Load: 0.000  0.000  0.021<br>Branch 5→6<br>    P flow:  nan  nan  0.042<br>    Q flow:  0.000  0.000  0.021",
          "Bus: '8'      A   ||   B   ||   C<br>    |V|:      1.012  1.032  1.020<br>    P-Load: 0.000  0.000  0.000<br>    Q-Load: 0.000  0.000  0.000<br>Branch 7→8<br>    P flow:  1.338  0.920  1.051<br>    Q flow:  0.448  0.294  0.295",
          "Bus: '12'      A   ||   B   ||   C<br>    |V|:      nan  1.031  nan<br>    P-Load: 0.000  0.020  0.000<br>    Q-Load: 0.000  0.010  0.000<br>Branch 8→12<br>    P flow:  nan  0.020  nan<br>    Q flow:  0.000  0.010  0.000",
          "Bus: '9'      A   ||   B   ||   C<br>    |V|:      1.010  nan  nan<br>    P-Load: 0.040  0.000  0.000<br>    Q-Load: 0.020  0.000  0.000<br>Branch 8→9<br>    P flow:  0.101  nan  nan<br>    Q flow:  0.050  0.000  0.000",
          "Bus: '13'      A   ||   B   ||   C<br>    |V|:      1.005  1.029  1.014<br>    P-Load: 0.000  0.000  0.000<br>    Q-Load: 0.000  0.000  0.000<br>    P-Gen:  0.010  0.010  nan<br>    Q-Gen:  0.000  0.000  0.000<br>Branch 8→13<br>    P flow:  1.237  0.900  1.051<br>    Q flow:  0.397  0.284  0.295",
          "Bus: '9r'      A   ||   B   ||   C<br>    |V|:      1.010  nan  nan<br>    P-Load: 0.000  0.000  0.000<br>    Q-Load: 0.000  0.000  0.000<br>Branch 9→9r<br>    P flow:  0.061  nan  nan<br>    Q flow:  0.030  0.000  0.000",
          "Bus: '14'      A   ||   B   ||   C<br>    |V|:      1.009  nan  nan<br>    P-Load: 0.000  0.000  0.000<br>    Q-Load: 0.000  0.000  0.000<br>Branch 9r→14<br>    P flow:  0.061  nan  nan<br>    Q flow:  0.030  0.000  0.000",
          "Bus: '34'      A   ||   B   ||   C<br>    |V|:      nan  nan  1.013<br>    P-Load: 0.000  0.000  0.041<br>    Q-Load: 0.000  0.000  0.021<br>Branch 13→34<br>    P flow:  nan  nan  0.101<br>    Q flow:  0.000  0.000  0.051",
          "Bus: '18'      A   ||   B   ||   C<br>    |V|:      0.996  1.025  1.007<br>    P-Load: 0.000  0.000  0.000<br>    Q-Load: 0.000  0.000  0.000<br>Branch 13→18<br>    P flow:  0.480  0.317  0.320<br>    Q flow:  0.255  0.211  0.185",
          "Bus: '11'      A   ||   B   ||   C<br>    |V|:      1.008  nan  nan<br>    P-Load: 0.040  0.000  0.000<br>    Q-Load: 0.020  0.000  0.000<br>Branch 14→11<br>    P flow:  0.040  nan  nan<br>    Q flow:  0.020  0.000  0.000",
          "Bus: '10'      A   ||   B   ||   C<br>    |V|:      1.008  nan  nan<br>    P-Load: 0.020  0.000  0.000<br>    Q-Load: 0.010  0.000  0.000<br>Branch 14→10<br>    P flow:  0.020  nan  nan<br>    Q flow:  0.010  0.000  0.000",
          "Bus: '15'      A   ||   B   ||   C<br>    |V|:      nan  nan  1.013<br>    P-Load: 0.000  0.000  0.000<br>    Q-Load: 0.000  0.000  0.000<br>Branch 34→15<br>    P flow:  nan  nan  0.060<br>    Q flow:  0.000  0.000  0.030",
          "Bus: '16'      A   ||   B   ||   C<br>    |V|:      nan  nan  1.012<br>    P-Load: 0.000  0.000  0.040<br>    Q-Load: 0.000  0.000  0.020<br>Branch 15→16<br>    P flow:  nan  nan  0.040<br>    Q flow:  0.000  0.000  0.020",
          "Bus: '17'      A   ||   B   ||   C<br>    |V|:      nan  nan  1.012<br>    P-Load: 0.000  0.000  0.020<br>    Q-Load: 0.000  0.000  0.010<br>Branch 15→17<br>    P flow:  nan  nan  0.020<br>    Q flow:  0.000  0.000  0.010",
          "Bus: '19'      A   ||   B   ||   C<br>    |V|:      0.994  nan  nan<br>    P-Load: 0.040  0.000  0.000<br>    Q-Load: 0.020  0.000  0.000<br>Branch 18→19<br>    P flow:  0.080  nan  nan<br>    Q flow:  0.040  0.000  0.000",
          "Bus: '21'      A   ||   B   ||   C<br>    |V|:      0.995  1.025  1.006<br>    P-Load: 0.000  0.000  0.000<br>    Q-Load: 0.000  0.000  0.000<br>Branch 18→21<br>    P flow:  0.119  0.042  0.120<br>    Q flow:  0.059  0.021  0.060",
          "Bus: '20'      A   ||   B   ||   C<br>    |V|:      0.994  nan  nan<br>    P-Load: 0.040  0.000  0.000<br>    Q-Load: 0.020  0.000  0.000<br>Branch 19→20<br>    P flow:  0.040  nan  nan<br>    Q flow:  0.020  0.000  0.000",
          "Bus: '22'      A   ||   B   ||   C<br>    |V|:      nan  1.024  nan<br>    P-Load: 0.000  0.042  0.000<br>    Q-Load: 0.000  0.021  0.000<br>Branch 21→22<br>    P flow:  nan  0.042  nan<br>    Q flow:  0.000  0.021  0.000",
          "Bus: '23'      A   ||   B   ||   C<br>    |V|:      0.995  1.026  1.005<br>    P-Load: 0.000  0.000  0.000<br>    Q-Load: 0.000  0.000  0.000<br>Branch 21→23<br>    P flow:  0.119  0.000  0.120<br>    Q flow:  0.059  -0.000  0.060",
          "Bus: '24'      A   ||   B   ||   C<br>    |V|:      nan  nan  1.003<br>    P-Load: 0.000  0.000  0.040<br>    Q-Load: 0.000  0.000  0.020<br>Branch 23→24<br>    P flow:  nan  nan  0.040<br>    Q flow:  0.000  0.000  0.020",
          "Bus: '25'      A   ||   B   ||   C<br>    |V|:      0.994  1.026  1.004<br>    P-Load: 0.000  0.000  0.000<br>    Q-Load: 0.000  0.000  0.000<br>Branch 23→25<br>    P flow:  0.119  0.000  0.080<br>    Q flow:  0.059  -0.000  0.040",
          "Bus: '25r'      A   ||   B   ||   C<br>    |V|:      1.007  nan  1.004<br>    P-Load: 0.000  0.000  0.000<br>    Q-Load: 0.000  0.000  0.000<br>Branch 25→25r<br>    P flow:  0.040  nan  0.040<br>    Q flow:  0.020  0.000  0.020",
          "Bus: '26'      A   ||   B   ||   C<br>    |V|:      1.006  nan  1.003<br>    P-Load: 0.000  0.000  0.000<br>    Q-Load: 0.000  0.000  0.000<br>Branch 25r→26<br>    P flow:  0.040  nan  0.040<br>    Q flow:  0.020  0.000  0.020",
          "Bus: '28'      A   ||   B   ||   C<br>    |V|:      0.994  1.026  1.003<br>    P-Load: 0.040  0.000  0.000<br>    Q-Load: 0.020  0.000  0.000<br>Branch 25→28<br>    P flow:  0.079  0.000  0.040<br>    Q flow:  0.039  -0.000  0.020",
          "Bus: '27'      A   ||   B   ||   C<br>    |V|:      1.006  nan  1.003<br>    P-Load: 0.000  0.000  0.000<br>    Q-Load: 0.000  0.000  0.000<br>Branch 26→27<br>    P flow:  0.040  nan  -0.000<br>    Q flow:  0.020  0.000  0.000",
          "Bus: '31'      A   ||   B   ||   C<br>    |V|:      nan  nan  1.003<br>    P-Load: 0.000  0.000  0.020<br>    Q-Load: 0.000  0.000  0.010<br>Branch 26→31<br>    P flow:  nan  nan  0.040<br>    Q flow:  0.000  0.000  0.020",
          "Bus: '33'      A   ||   B   ||   C<br>    |V|:      1.005  nan  nan<br>    P-Load: 0.040  0.000  0.000<br>    Q-Load: 0.020  0.000  0.000<br>Branch 27→33<br>    P flow:  0.040  nan  nan<br>    Q flow:  0.020  0.000  0.000",
          "Bus: '29'      A   ||   B   ||   C<br>    |V|:      0.994  1.026  1.003<br>    P-Load: 0.039  0.000  0.000<br>    Q-Load: 0.020  0.000  0.000<br>Branch 28→29<br>    P flow:  0.039  0.000  0.040<br>    Q flow:  0.020  -0.000  0.020",
          "Bus: '30'      A   ||   B   ||   C<br>    |V|:      0.994  1.026  1.002<br>    P-Load: 0.000  0.000  0.040<br>    Q-Load: 0.000  0.000  0.020<br>Branch 29→30<br>    P flow:  0.000  0.000  0.040<br>    Q flow:  0.000  -0.000  0.020",
          "Bus: '250'      A   ||   B   ||   C<br>    |V|:      0.994  1.026  1.002<br>    P-Load: 0.000  0.000  0.000<br>    Q-Load: 0.000  0.000  0.000<br>Branch 30→250<br>    P flow:  0.000  0.000  -0.000<br>    Q flow:  0.000  -0.000  0.000",
          "Bus: '32'      A   ||   B   ||   C<br>    |V|:      nan  nan  1.002<br>    P-Load: 0.000  0.000  0.020<br>    Q-Load: 0.000  0.000  0.010<br>Branch 31→32<br>    P flow:  nan  nan  0.020<br>    Q flow:  0.000  0.000  0.010",
          "Bus: '35'      A   ||   B   ||   C<br>    |V|:      0.993  1.023  1.006<br>    P-Load: 0.025  0.015  0.000<br>    Q-Load: -0.002  0.022  0.000<br>Branch 135→35<br>    P flow:  0.281  0.275  0.200<br>    Q flow:  0.155  0.190  0.125",
          "Bus: '36'      A   ||   B   ||   C<br>    |V|:      0.992  1.022  nan<br>    P-Load: 0.000  0.000  0.000<br>    Q-Load: 0.000  0.000  0.000<br>Branch 35→36<br>    P flow:  0.039  0.040  nan<br>    Q flow:  0.020  0.020  0.000",
          "Bus: '40'      A   ||   B   ||   C<br>    |V|:      0.992  1.021  1.005<br>    P-Load: 0.000  0.000  0.000<br>    Q-Load: 0.000  0.000  0.000<br>Branch 35→40<br>    P flow:  0.217  0.220  0.200<br>    Q flow:  0.138  0.148  0.125",
          "Bus: '37'      A   ||   B   ||   C<br>    |V|:      0.991  nan  nan<br>    P-Load: 0.039  0.000  0.000<br>    Q-Load: 0.020  0.000  0.000<br>Branch 36→37<br>    P flow:  0.039  nan  nan<br>    Q flow:  0.020  0.000  0.000",
          "Bus: '38'      A   ||   B   ||   C<br>    |V|:      nan  1.021  nan<br>    P-Load: 0.000  0.020  0.000<br>    Q-Load: 0.000  0.010  0.000<br>Branch 36→38<br>    P flow:  nan  0.040  nan<br>    Q flow:  0.000  0.020  0.000",
          "Bus: '39'      A   ||   B   ||   C<br>    |V|:      nan  1.021  nan<br>    P-Load: 0.000  0.020  0.000<br>    Q-Load: 0.000  0.010  0.000<br>Branch 38→39<br>    P flow:  nan  0.020  nan<br>    Q flow:  0.000  0.010  0.000",
          "Bus: '41'      A   ||   B   ||   C<br>    |V|:      nan  nan  1.004<br>    P-Load: 0.000  0.000  0.020<br>    Q-Load: 0.000  0.000  0.010<br>Branch 40→41<br>    P flow:  nan  nan  0.020<br>    Q flow:  0.000  0.000  0.010",
          "Bus: '42'      A   ||   B   ||   C<br>    |V|:      0.990  1.020  1.004<br>    P-Load: 0.020  0.000  0.000<br>    Q-Load: 0.010  0.000  0.000<br>Branch 40→42<br>    P flow:  0.217  0.220  0.180<br>    Q flow:  0.138  0.148  0.115",
          "Bus: '43'      A   ||   B   ||   C<br>    |V|:      nan  1.019  nan<br>    P-Load: 0.000  0.042  0.000<br>    Q-Load: 0.000  0.021  0.000<br>Branch 42→43<br>    P flow:  nan  0.042  nan<br>    Q flow:  0.000  0.021  0.000",
          "Bus: '44'      A   ||   B   ||   C<br>    |V|:      0.989  1.020  1.003<br>    P-Load: 0.000  0.000  0.000<br>    Q-Load: 0.000  0.000  0.000<br>Branch 42→44<br>    P flow:  0.197  0.178  0.180<br>    Q flow:  0.128  0.127  0.115",
          "Bus: '45'      A   ||   B   ||   C<br>    |V|:      0.988  nan  nan<br>    P-Load: 0.020  0.000  0.000<br>    Q-Load: 0.010  0.000  0.000<br>Branch 44→45<br>    P flow:  0.040  nan  nan<br>    Q flow:  0.020  0.000  0.000",
          "Bus: '47'      A   ||   B   ||   C<br>    |V|:      0.988  1.018  1.002<br>    P-Load: 0.034  0.036  0.035<br>    Q-Load: 0.025  0.025  0.025<br>Branch 44→47<br>    P flow:  0.157  0.178  0.180<br>    Q flow:  0.108  0.127  0.115",
          "Bus: '46'      A   ||   B   ||   C<br>    |V|:      0.988  nan  nan<br>    P-Load: 0.020  0.000  0.000<br>    Q-Load: 0.010  0.000  0.000<br>Branch 45→46<br>    P flow:  0.020  nan  nan<br>    Q flow:  0.010  0.000  0.000",
          "Bus: '48'      A   ||   B   ||   C<br>    |V|:      0.988  1.018  1.002<br>    P-Load: 0.068  0.073  0.070<br>    Q-Load: 0.048  0.052  0.050<br>Branch 47→48<br>    P flow:  0.068  0.073  0.070<br>    Q flow:  0.048  0.052  0.050",
          "Bus: '49'      A   ||   B   ||   C<br>    |V|:      0.988  1.018  1.002<br>    P-Load: 0.035  0.070  0.035<br>    Q-Load: 0.025  0.050  0.020<br>Branch 47→49<br>    P flow:  0.055  0.070  0.075<br>    Q flow:  0.035  0.050  0.040",
          "Bus: '50'      A   ||   B   ||   C<br>    |V|:      0.988  1.018  1.001<br>    P-Load: 0.000  0.000  0.040<br>    Q-Load: 0.000  0.000  0.020<br>Branch 49→50<br>    P flow:  0.020  0.000  0.040<br>    Q flow:  0.010  -0.000  0.020",
          "Bus: '51'      A   ||   B   ||   C<br>    |V|:      0.987  1.018  1.001<br>    P-Load: 0.020  0.000  0.000<br>    Q-Load: 0.010  0.000  0.000<br>Branch 50→51<br>    P flow:  0.020  0.000  -0.000<br>    Q flow:  0.010  -0.000  0.000",
          "Bus: '151'      A   ||   B   ||   C<br>    |V|:      0.987  1.018  1.001<br>    P-Load: 0.000  0.000  0.000<br>    Q-Load: 0.000  0.000  0.000<br>Branch 51→151<br>    P flow:  0.000  0.000  -0.000<br>    Q flow:  0.000  -0.000  0.000",
          "Bus: '52'      A   ||   B   ||   C<br>    |V|:      0.999  1.028  1.011<br>    P-Load: 0.040  0.000  0.000<br>    Q-Load: 0.020  0.000  0.000<br>Branch 152→52<br>    P flow:  0.767  0.593  0.629<br>    Q flow:  0.143  0.072  0.060",
          "Bus: '53'      A   ||   B   ||   C<br>    |V|:      0.996  1.027  1.010<br>    P-Load: 0.040  0.000  0.000<br>    Q-Load: 0.020  0.000  0.000<br>Branch 52→53<br>    P flow:  0.727  0.593  0.629<br>    Q flow:  0.123  0.072  0.060",
          "Bus: '54'      A   ||   B   ||   C<br>    |V|:      0.995  1.027  1.009<br>    P-Load: 0.000  0.000  0.000<br>    Q-Load: 0.000  0.000  0.000<br>Branch 53→54<br>    P flow:  0.687  0.593  0.629<br>    Q flow:  0.103  0.072  0.060",
          "Bus: '55'      A   ||   B   ||   C<br>    |V|:      0.995  1.027  1.009<br>    P-Load: 0.020  0.000  0.000<br>    Q-Load: 0.010  0.000  0.000<br>Branch 54→55<br>    P flow:  0.020  0.020  -0.000<br>    Q flow:  0.010  0.010  0.000",
          "Bus: '57'      A   ||   B   ||   C<br>    |V|:      0.992  1.024  1.006<br>    P-Load: 0.000  0.000  0.000<br>    Q-Load: 0.000  0.000  0.000<br>Branch 54→57<br>    P flow:  0.668  0.573  0.629<br>    Q flow:  0.093  0.062  0.060",
          "Bus: '56'      A   ||   B   ||   C<br>    |V|:      0.995  1.026  1.009<br>    P-Load: 0.000  0.020  0.000<br>    Q-Load: 0.000  0.010  0.000<br>Branch 55→56<br>    P flow:  0.000  0.020  -0.000<br>    Q flow:  0.000  0.010  0.000",
          "Bus: '58'      A   ||   B   ||   C<br>    |V|:      nan  1.023  nan<br>    P-Load: 0.000  0.020  0.000<br>    Q-Load: 0.000  0.010  0.000<br>Branch 57→58<br>    P flow:  nan  0.040  nan<br>    Q flow:  0.000  0.020  0.000",
          "Bus: '60'      A   ||   B   ||   C<br>    |V|:      0.986  1.019  1.000<br>    P-Load: 0.020  0.000  0.000<br>    Q-Load: 0.010  0.000  0.000<br>Branch 57→60<br>    P flow:  0.668  0.533  0.629<br>    Q flow:  0.093  0.042  0.060",
          "Bus: '59'      A   ||   B   ||   C<br>    |V|:      nan  1.023  nan<br>    P-Load: 0.000  0.020  0.000<br>    Q-Load: 0.000  0.010  0.000<br>Branch 58→59<br>    P flow:  nan  0.020  nan<br>    Q flow:  0.000  0.010  0.000",
          "Bus: '61'      A   ||   B   ||   C<br>    |V|:      0.986  1.019  1.000<br>    P-Load: 0.000  0.000  0.000<br>    Q-Load: 0.000  0.000  0.000<br>Branch 60→61<br>    P flow:  0.000  0.000  -0.000<br>    Q flow:  0.000  -0.000  0.000",
          "Bus: '62'      A   ||   B   ||   C<br>    |V|:      0.985  1.018  0.998<br>    P-Load: 0.000  0.000  0.040<br>    Q-Load: 0.000  0.000  0.020<br>Branch 60→62<br>    P flow:  0.084  0.112  0.173<br>    Q flow:  0.065  0.061  0.083",
          "Bus: '63'      A   ||   B   ||   C<br>    |V|:      0.984  1.017  0.997<br>    P-Load: 0.040  0.000  0.000<br>    Q-Load: 0.020  0.000  0.000<br>Branch 62→63<br>    P flow:  0.084  0.112  0.134<br>    Q flow:  0.065  0.061  0.063",
          "Bus: '64'      A   ||   B   ||   C<br>    |V|:      0.984  1.015  0.995<br>    P-Load: 0.000  0.076  0.000<br>    Q-Load: 0.000  0.036  0.000<br>Branch 63→64<br>    P flow:  0.044  0.112  0.134<br>    Q flow:  0.045  0.061  0.063",
          "Bus: '65'      A   ||   B   ||   C<br>    |V|:      0.983  1.014  0.992<br>    P-Load: 0.044  0.035  0.059<br>    Q-Load: 0.045  0.025  0.028<br>Branch 64→65<br>    P flow:  0.044  0.035  0.134<br>    Q flow:  0.045  0.025  0.063",
          "Bus: '66'      A   ||   B   ||   C<br>    |V|:      0.984  1.015  0.991<br>    P-Load: 0.000  0.000  0.075<br>    Q-Load: 0.000  0.000  0.035<br>Branch 65→66<br>    P flow:  0.000  0.000  0.075<br>    Q flow:  0.000  -0.000  0.035",
          "Bus: '67'      A   ||   B   ||   C<br>    |V|:      1.033  1.030  1.029<br>    P-Load: 0.000  0.000  0.000<br>    Q-Load: 0.000  0.000  0.000<br>Branch 160r→67<br>    P flow:  0.564  0.421  0.456<br>    Q flow:  0.018  -0.019  -0.023",
          "Bus: '68'      A   ||   B   ||   C<br>    |V|:      1.032  nan  nan<br>    P-Load: 0.020  0.000  0.000<br>    Q-Load: 0.010  0.000  0.000<br>Branch 67→68<br>    P flow:  0.120  nan  nan<br>    Q flow:  0.060  0.000  0.000",
          "Bus: '72'      A   ||   B   ||   C<br>    |V|:      1.034  1.030  1.029<br>    P-Load: 0.000  0.000  0.000<br>    Q-Load: 0.000  0.000  0.000<br>Branch 67→72<br>    P flow:  0.262  0.301  0.314<br>    Q flow:  -0.133  -0.079  -0.094",
          "Bus: '97'      A   ||   B   ||   C<br>    |V|:      1.032  1.030  1.029<br>    P-Load: 0.000  0.000  0.000<br>    Q-Load: 0.000  0.000  0.000<br>Branch 67→97<br>    P flow:  0.182  0.120  0.142<br>    Q flow:  0.091  0.060  0.071",
          "Bus: '69'      A   ||   B   ||   C<br>    |V|:      1.030  nan  nan<br>    P-Load: 0.040  0.000  0.000<br>    Q-Load: 0.020  0.000  0.000<br>Branch 68→69<br>    P flow:  0.100  nan  nan<br>    Q flow:  0.050  0.000  0.000",
          "Bus: '70'      A   ||   B   ||   C<br>    |V|:      1.029  nan  nan<br>    P-Load: 0.020  0.000  0.000<br>    Q-Load: 0.010  0.000  0.000<br>Branch 69→70<br>    P flow:  0.060  nan  nan<br>    Q flow:  0.030  0.000  0.000",
          "Bus: '71'      A   ||   B   ||   C<br>    |V|:      1.028  nan  nan<br>    P-Load: 0.040  0.000  0.000<br>    Q-Load: 0.020  0.000  0.000<br>Branch 70→71<br>    P flow:  0.040  nan  nan<br>    Q flow:  0.020  0.000  0.000",
          "Bus: '73'      A   ||   B   ||   C<br>    |V|:      nan  nan  1.027<br>    P-Load: 0.000  0.000  0.040<br>    Q-Load: 0.000  0.000  0.020<br>Branch 72→73<br>    P flow:  nan  nan  0.122<br>    Q flow:  0.000  0.000  0.061",
          "Bus: '76'      A   ||   B   ||   C<br>    |V|:      1.034  1.029  1.030<br>    P-Load: 0.100  0.080  0.072<br>    Q-Load: 0.055  0.078  0.052<br>Branch 72→76<br>    P flow:  0.262  0.301  0.192<br>    Q flow:  -0.133  -0.079  -0.155",
          "Bus: '74'      A   ||   B   ||   C<br>    |V|:      nan  nan  1.025<br>    P-Load: 0.000  0.000  0.042<br>    Q-Load: 0.000  0.000  0.021<br>Branch 73→74<br>    P flow:  nan  nan  0.082<br>    Q flow:  0.000  0.000  0.041",
          "Bus: '75'      A   ||   B   ||   C<br>    |V|:      nan  nan  1.024<br>    P-Load: 0.000  0.000  0.040<br>    Q-Load: 0.000  0.000  0.020<br>Branch 74→75<br>    P flow:  nan  nan  0.040<br>    Q flow:  0.000  0.000  0.020",
          "Bus: '77'      A   ||   B   ||   C<br>    |V|:      1.035  1.030  1.031<br>    P-Load: 0.000  0.040  0.000<br>    Q-Load: 0.000  0.020  0.000<br>Branch 76→77<br>    P flow:  0.082  0.080  0.080<br>    Q flow:  -0.175  -0.174  -0.174",
          "Bus: '86'      A   ||   B   ||   C<br>    |V|:      1.033  1.027  1.031<br>    P-Load: 0.000  0.020  0.000<br>    Q-Load: 0.000  0.010  0.000<br>Branch 76→86<br>    P flow:  0.080  0.141  0.040<br>    Q flow:  -0.013  0.018  -0.033",
          "Bus: '78'      A   ||   B   ||   C<br>    |V|:      1.035  1.031  1.031<br>    P-Load: 0.000  0.000  0.000<br>    Q-Load: 0.000  0.000  0.000<br>Branch 77→78<br>    P flow:  0.082  0.040  0.080<br>    Q flow:  -0.175  -0.194  -0.174",
          "Bus: '79'      A   ||   B   ||   C<br>    |V|:      1.035  1.031  1.031<br>    P-Load: 0.042  0.000  0.000<br>    Q-Load: 0.021  0.000  0.000<br>Branch 78→79<br>    P flow:  0.042  0.000  -0.000<br>    Q flow:  0.021  -0.000  0.000",
          "Bus: '80'      A   ||   B   ||   C<br>    |V|:      1.037  1.032  1.032<br>    P-Load: 0.000  0.040  0.000<br>    Q-Load: 0.000  0.020  0.000<br>Branch 78→80<br>    P flow:  0.040  0.040  0.080<br>    Q flow:  -0.196  -0.194  -0.174",
          "Bus: '81'      A   ||   B   ||   C<br>    |V|:      1.038  1.033  1.032<br>    P-Load: 0.000  0.000  0.000<br>    Q-Load: 0.000  0.000  0.000<br>Branch 80→81<br>    P flow:  0.040  0.000  0.080<br>    Q flow:  -0.196  -0.214  -0.174",
          "Bus: '82'      A   ||   B   ||   C<br>    |V|:      1.039  1.034  1.033<br>    P-Load: 0.040  0.000  0.000<br>    Q-Load: 0.020  0.000  0.000<br>Branch 81→82<br>    P flow:  0.040  0.000  0.020<br>    Q flow:  -0.196  -0.214  -0.204",
          "Bus: '84'      A   ||   B   ||   C<br>    |V|:      nan  nan  1.029<br>    P-Load: 0.000  0.000  0.020<br>    Q-Load: 0.000  0.000  0.010<br>Branch 81→84<br>    P flow:  nan  nan  0.060<br>    Q flow:  0.000  0.000  0.030",
          "Bus: '83'      A   ||   B   ||   C<br>    |V|:      1.040  1.035  1.034<br>    P-Load: 0.000  0.000  0.020<br>    Q-Load: 0.000  0.000  0.010<br>    Q-Cap:  0.200  0.200  0.200<br>Branch 82→83<br>    P flow:  0.000  0.000  0.020<br>    Q flow:  -0.216  -0.214  -0.204",
          "Bus: '85'      A   ||   B   ||   C<br>    |V|:      nan  nan  1.028<br>    P-Load: 0.000  0.000  0.040<br>    Q-Load: 0.000  0.000  0.020<br>Branch 84→85<br>    P flow:  nan  nan  0.040<br>    Q flow:  0.000  0.000  0.020",
          "Bus: '87'      A   ||   B   ||   C<br>    |V|:      1.032  1.027  1.032<br>    P-Load: 0.000  0.040  0.000<br>    Q-Load: 0.000  0.020  0.000<br>Branch 86→87<br>    P flow:  0.080  0.121  0.040<br>    Q flow:  -0.013  0.008  -0.033",
          "Bus: '88'      A   ||   B   ||   C<br>    |V|:      1.032  nan  nan<br>    P-Load: 0.040  0.000  0.000<br>    Q-Load: 0.020  0.000  0.000<br>    Q-Cap:  0.050  0.000  0.000<br>Branch 87→88<br>    P flow:  0.040  nan  nan<br>    Q flow:  -0.033  0.000  0.000",
          "Bus: '89'      A   ||   B   ||   C<br>    |V|:      1.032  1.026  1.032<br>    P-Load: 0.000  0.000  0.000<br>    Q-Load: 0.000  0.000  0.000<br>Branch 87→89<br>    P flow:  0.040  0.081  0.040<br>    Q flow:  0.020  -0.012  -0.033",
          "Bus: '90'      A   ||   B   ||   C<br>    |V|:      nan  1.026  nan<br>    P-Load: 0.000  0.041  0.000<br>    Q-Load: 0.000  0.021  0.000<br>    Q-Cap:  0.000  0.050  0.000<br>Branch 89→90<br>    P flow:  nan  0.041  nan<br>    Q flow:  0.000  -0.032  0.000",
          "Bus: '91'      A   ||   B   ||   C<br>    |V|:      1.032  1.026  1.032<br>    P-Load: 0.000  0.000  0.000<br>    Q-Load: 0.000  0.000  0.000<br>Branch 89→91<br>    P flow:  0.040  0.040  0.040<br>    Q flow:  0.020  0.020  -0.033",
          "Bus: '92'      A   ||   B   ||   C<br>    |V|:      nan  nan  1.032<br>    P-Load: 0.000  0.000  0.040<br>    Q-Load: 0.000  0.000  0.020<br>    Q-Cap:  0.000  0.000  0.050<br>Branch 91→92<br>    P flow:  nan  nan  0.040<br>    Q flow:  0.000  0.000  -0.033",
          "Bus: '93'      A   ||   B   ||   C<br>    |V|:      1.031  1.026  1.032<br>    P-Load: 0.000  0.000  0.000<br>    Q-Load: 0.000  0.000  0.000<br>Branch 91→93<br>    P flow:  0.040  0.040  -0.000<br>    Q flow:  0.020  0.020  0.000",
          "Bus: '94'      A   ||   B   ||   C<br>    |V|:      1.031  nan  nan<br>    P-Load: 0.040  0.000  0.000<br>    Q-Load: 0.020  0.000  0.000<br>Branch 93→94<br>    P flow:  0.040  nan  nan<br>    Q flow:  0.020  0.000  0.000",
          "Bus: '95'      A   ||   B   ||   C<br>    |V|:      1.031  1.025  1.033<br>    P-Load: 0.000  0.020  0.000<br>    Q-Load: 0.000  0.010  0.000<br>Branch 93→95<br>    P flow:  0.000  0.040  -0.000<br>    Q flow:  0.000  0.020  0.000",
          "Bus: '96'      A   ||   B   ||   C<br>    |V|:      nan  1.025  nan<br>    P-Load: 0.000  0.020  0.000<br>    Q-Load: 0.000  0.010  0.000<br>Branch 95→96<br>    P flow:  nan  0.020  nan<br>    Q flow:  0.000  0.010  0.000",
          "Bus: '98'      A   ||   B   ||   C<br>    |V|:      1.032  1.030  1.028<br>    P-Load: 0.040  0.000  0.000<br>    Q-Load: 0.020  0.000  0.000<br>Branch 97→98<br>    P flow:  0.040  0.040  0.042<br>    Q flow:  0.020  0.020  0.021",
          "Bus: '99'      A   ||   B   ||   C<br>    |V|:      1.032  1.029  1.028<br>    P-Load: 0.000  0.040  0.000<br>    Q-Load: 0.000  0.020  0.000<br>Branch 98→99<br>    P flow:  0.000  0.040  0.042<br>    Q flow:  0.000  0.020  0.021",
          "Bus: '100'      A   ||   B   ||   C<br>    |V|:      1.033  1.029  1.028<br>    P-Load: 0.000  0.000  0.042<br>    Q-Load: 0.000  0.000  0.021<br>Branch 99→100<br>    P flow:  0.000  0.000  0.042<br>    Q flow:  0.000  -0.000  0.021",
          "Bus: '450'      A   ||   B   ||   C<br>    |V|:      1.033  1.029  1.028<br>    P-Load: 0.000  0.000  0.000<br>    Q-Load: 0.000  0.000  0.000<br>Branch 100→450<br>    P flow:  0.000  0.000  -0.000<br>    Q flow:  0.000  -0.000  0.000",
          "Bus: '197'      A   ||   B   ||   C<br>    |V|:      1.032  1.030  1.029<br>    P-Load: 0.000  0.000  0.000<br>    Q-Load: 0.000  0.000  0.000<br>Branch 97→197<br>    P flow:  0.142  0.080  0.100<br>    Q flow:  0.071  0.040  0.050",
          "Bus: '101'      A   ||   B   ||   C<br>    |V|:      1.031  1.030  1.028<br>    P-Load: 0.000  0.000  0.000<br>    Q-Load: 0.000  0.000  0.000<br>Branch 197→101<br>    P flow:  0.142  0.080  0.100<br>    Q flow:  0.071  0.040  0.050",
          "Bus: '102'      A   ||   B   ||   C<br>    |V|:      nan  nan  1.027<br>    P-Load: 0.000  0.000  0.020<br>    Q-Load: 0.000  0.000  0.010<br>Branch 101→102<br>    P flow:  nan  nan  0.100<br>    Q flow:  0.000  0.000  0.050",
          "Bus: '105'      A   ||   B   ||   C<br>    |V|:      1.030  1.030  1.028<br>    P-Load: 0.000  0.000  0.000<br>    Q-Load: 0.000  0.000  0.000<br>Branch 101→105<br>    P flow:  0.142  0.080  -0.000<br>    Q flow:  0.071  0.040  0.000",
          "Bus: '103'      A   ||   B   ||   C<br>    |V|:      nan  nan  1.025<br>    P-Load: 0.000  0.000  0.040<br>    Q-Load: 0.000  0.000  0.020<br>Branch 102→103<br>    P flow:  nan  nan  0.080<br>    Q flow:  0.000  0.000  0.040",
          "Bus: '104'      A   ||   B   ||   C<br>    |V|:      nan  nan  1.023<br>    P-Load: 0.000  0.000  0.040<br>    Q-Load: 0.000  0.000  0.020<br>Branch 103→104<br>    P flow:  nan  nan  0.040<br>    Q flow:  0.000  0.000  0.020",
          "Bus: '106'      A   ||   B   ||   C<br>    |V|:      nan  1.028  nan<br>    P-Load: 0.000  0.040  0.000<br>    Q-Load: 0.000  0.020  0.000<br>Branch 105→106<br>    P flow:  nan  0.080  nan<br>    Q flow:  0.000  0.040  0.000",
          "Bus: '108'      A   ||   B   ||   C<br>    |V|:      1.029  1.030  1.028<br>    P-Load: 0.000  0.000  0.000<br>    Q-Load: 0.000  0.000  0.000<br>Branch 105→108<br>    P flow:  0.142  0.000  -0.000<br>    Q flow:  0.071  -0.000  0.000",
          "Bus: '107'      A   ||   B   ||   C<br>    |V|:      nan  1.027  nan<br>    P-Load: 0.000  0.040  0.000<br>    Q-Load: 0.000  0.020  0.000<br>Branch 106→107<br>    P flow:  nan  0.040  nan<br>    Q flow:  0.000  0.020  0.000",
          "Bus: '109'      A   ||   B   ||   C<br>    |V|:      1.025  nan  nan<br>    P-Load: 0.040  0.000  0.000<br>    Q-Load: 0.020  0.000  0.000<br>Branch 108→109<br>    P flow:  0.142  nan  nan<br>    Q flow:  0.071  0.000  0.000",
          "Bus: '300'      A   ||   B   ||   C<br>    |V|:      1.029  1.030  1.028<br>    P-Load: 0.000  0.000  0.000<br>    Q-Load: 0.000  0.000  0.000<br>Branch 108→300<br>    P flow:  0.000  0.000  -0.000<br>    Q flow:  0.000  -0.000  0.000",
          "Bus: '110'      A   ||   B   ||   C<br>    |V|:      1.023  nan  nan<br>    P-Load: 0.000  0.000  0.000<br>    Q-Load: 0.000  0.000  0.000<br>Branch 109→110<br>    P flow:  0.102  nan  nan<br>    Q flow:  0.051  0.000  0.000",
          "Bus: '111'      A   ||   B   ||   C<br>    |V|:      1.022  nan  nan<br>    P-Load: 0.020  0.000  0.000<br>    Q-Load: 0.010  0.000  0.000<br>Branch 110→111<br>    P flow:  0.020  nan  nan<br>    Q flow:  0.010  0.000  0.000",
          "Bus: '112'      A   ||   B   ||   C<br>    |V|:      1.022  nan  nan<br>    P-Load: 0.020  0.000  0.000<br>    Q-Load: 0.010  0.000  0.000<br>Branch 110→112<br>    P flow:  0.082  nan  nan<br>    Q flow:  0.041  0.000  0.000",
          "Bus: '113'      A   ||   B   ||   C<br>    |V|:      1.020  nan  nan<br>    P-Load: 0.041  0.000  0.000<br>    Q-Load: 0.021  0.000  0.000<br>Branch 112→113<br>    P flow:  0.061  nan  nan<br>    Q flow:  0.031  0.000  0.000",
          "Bus: '114'      A   ||   B   ||   C<br>    |V|:      1.019  nan  nan<br>    P-Load: 0.020  0.000  0.000<br>    Q-Load: 0.010  0.000  0.000<br>Branch 113→114<br>    P flow:  0.020  nan  nan<br>    Q flow:  0.010  0.000  0.000",
          "Bus: '135'      A   ||   B   ||   C<br>    |V|:      0.996  1.025  1.007<br>    P-Load: 0.000  0.000  0.000<br>    Q-Load: 0.000  0.000  0.000<br>Branch 18→135<br>    P flow:  0.281  0.275  0.200<br>    Q flow:  0.155  0.190  0.125",
          "Bus: '152'      A   ||   B   ||   C<br>    |V|:      1.004  1.029  1.014<br>    P-Load: 0.000  0.000  0.000<br>    Q-Load: 0.000  0.000  0.000<br>Branch 13→152<br>    P flow:  0.767  0.593  0.629<br>    Q flow:  0.143  0.072  0.060",
          "Bus: '160r'      A   ||   B   ||   C<br>    |V|:      1.035  1.031  1.032<br>    P-Load: 0.000  0.000  0.000<br>    Q-Load: 0.000  0.000  0.000<br>Branch 160→160r<br>    P flow:  0.564  0.421  0.456<br>    Q flow:  0.018  -0.019  -0.023",
          "Bus: '160'      A   ||   B   ||   C<br>    |V|:      0.986  1.019  1.000<br>    P-Load: 0.000  0.000  0.000<br>    Q-Load: 0.000  0.000  0.000<br>Branch 60→160<br>    P flow:  0.564  0.421  0.456<br>    Q flow:  0.018  -0.019  -0.023",
          "Bus: '61s'      A   ||   B   ||   C<br>    |V|:      0.986  1.019  1.000<br>    P-Load: 0.000  0.000  0.000<br>    Q-Load: 0.000  0.000  0.000<br>Branch 61→61s<br>    P flow:  0.000  0.000  -0.000<br>    Q flow:  0.000  -0.000  0.000",
          "Bus: '610'      A   ||   B   ||   C<br>    |V|:      0.986  1.019  1.000<br>    P-Load: 0.000  0.000  0.000<br>    Q-Load: 0.000  0.000  0.000<br>Branch 61s→610<br>    P flow:  0.000  0.000  -0.000<br>    Q flow:  0.000  -0.000  0.000"
         ],
         "textposition": "top center",
         "x": [
          -0.8611783091777097,
          -0.8611783091777097,
          -0.7916015499561131,
          -0.6524480315129197,
          -0.6524480315129197,
          -0.6524480315129197,
          -0.5480828926805249,
          -0.6524480315129197,
          -0.5393857977778252,
          -0.4524148487508295,
          -0.47850613345892823,
          -0.47850613345892823,
          -0.47850613345892823,
          -0.37414099462653333,
          -0.47850613345892823,
          -0.47850613345892823,
          -0.37414099462653333,
          -0.37414099462653333,
          -0.565477082485924,
          -0.39153518443193247,
          -0.37414099462653333,
          -0.37414099462653333,
          -0.25238166598873923,
          -0.4611119436535291,
          -0.37414099462653333,
          -0.5741741773886236,
          -0.5567799875832244,
          -0.37414099462653333,
          -0.565477082485924,
          -0.37414099462653333,
          -0.37414099462653333,
          -0.4959003232643274,
          -0.37414099462653333,
          -0.5915683671940227,
          -0.4959003232643274,
          -0.5915683671940227,
          -0.37414099462653333,
          -0.25238166598873923,
          -0.1828049067671426,
          -0.4959003232643274,
          -0.20889619147524133,
          -0.17410781186444302,
          -0.20889619147524133,
          -0.278472950696838,
          -0.08713686283744723,
          0.025925370897647276,
          -0.09583395774014682,
          -0.20889619147524133,
          -0.03495429342124977,
          -0.20889619147524133,
          -0.1393194322536447,
          -0.20889619147524133,
          -0.03495429342124977,
          -0.2610787608914388,
          -0.12192524244824555,
          -0.03495429342124977,
          0.05201665560574601,
          0.2127389694076342,
          -0.20019909657254176,
          -0.13062233735094514,
          -0.08713686283744723,
          0.00853118109224812,
          -0.08713686283744723,
          0.10419922502194348,
          -0.17410781186444302,
          0.1737759842435401,
          -0.2610787608914388,
          0.1737759842435401,
          0.1737759842435401,
          0.1737759842435401,
          0.1737759842435401,
          0.025925370897647276,
          0.025925370897647276,
          0.3303236924921325,
          0.3999004517137291,
          0.3303236924921325,
          0.3303236924921325,
          0.4955684956434245,
          0.608630729378519,
          0.7042987733082143,
          0.42599173642182786,
          0.3303236924921325,
          0.5477510650596219,
          0.6869045835028152,
          0.46947721093532574,
          0.23639506754297707,
          0.5042655905461241,
          0.5825394446704203,
          0.5042655905461241,
          0.5042655905461241,
          0.5042655905461241,
          0.7390871529190126,
          0.5912365395731198,
          0.7390871529190126,
          0.16507888934084053,
          0.13029050973004222,
          0.06941084541114516,
          0.06941084541114516,
          -0.008863008713151037,
          -0.008863008713151037,
          -0.08713686283744723,
          -0.08713686283744723,
          -0.19150200166984216,
          -0.19150200166984216,
          0.42599173642182786,
          0.6173278242812186,
          0.7216929631136135,
          1.0,
          0.3303236924921325,
          0.3303236924921325,
          0.4085975466164287,
          0.3303236924921325,
          0.5216597803515232,
          0.7651784376271114,
          0.4085975466164287,
          0.3303236924921325,
          0.608630729378519,
          0.4868714007407249,
          0.23291622958189723,
          0.5912365395731198,
          0.5912365395731198,
          0.5912365395731198,
          0.773875532529811,
          0.8869377662649055,
          -0.339352615015735,
          -0.339352615015735,
          0.2085643638543384,
          0.2085643638543384,
          0.2085643638543384,
          0.24335274346513672
         ],
         "y": [
          -0.2909377200686813,
          -0.2909377200686813,
          -0.2909377200686813,
          -0.2909377200686813,
          -0.20093210213560592,
          -0.41951717425878904,
          -0.2909377200686813,
          -0.5223807376108752,
          -0.41951717425878904,
          -0.4709489559348321,
          -0.2909377200686813,
          -0.40665922883977823,
          -0.17521621129758438,
          -0.2909377200686813,
          -0.17521621129758438,
          0.04336886082559871,
          -0.3680853925827459,
          0.1333744787586741,
          0.04336886082559871,
          0.04336886082559871,
          -0.41951717425878904,
          -0.6123863555439506,
          -0.41951717425878904,
          0.1333744787586741,
          0.28766982378680334,
          0.1333744787586741,
          0.28766982378680334,
          0.416249277976911,
          0.416249277976911,
          0.5576866775860295,
          0.5576866775860295,
          0.5576866775860295,
          0.6605502409381157,
          0.5576866775860295,
          0.6734081863571264,
          0.8148455859662449,
          0.8148455859662449,
          0.8148455859662449,
          0.8148455859662449,
          0.8277035313852557,
          0.1333744787586741,
          -0.03377881168846591,
          0.2619539329487818,
          -0.03377881168846591,
          -0.03377881168846591,
          -0.03377881168846591,
          0.2619539329487818,
          0.3905333871388895,
          0.3905333871388895,
          0.49339695049097565,
          0.49339695049097565,
          0.6219764046810834,
          0.49339695049097565,
          0.6219764046810834,
          0.6219764046810834,
          0.6219764046810834,
          0.6219764046810834,
          0.9578259390256447,
          -0.2909377200686813,
          -0.2909377200686813,
          -0.2909377200686813,
          -0.2909377200686813,
          -0.11092648420253053,
          -0.2909377200686813,
          -0.11092648420253053,
          -0.11092648420253053,
          -0.11092648420253053,
          -0.3938012834207675,
          0.01765296998757717,
          0.10765858792065255,
          0.28766982378680334,
          0.28766982378680334,
          0.12051653333966333,
          -0.11092648420253053,
          -0.11092648420253053,
          -0.252363883811649,
          0.01765296998757717,
          -0.11092648420253053,
          -0.11092648420253053,
          -0.11092648420253053,
          -0.252363883811649,
          -0.35522744716373517,
          -0.252363883811649,
          -0.252363883811649,
          -0.35522744716373517,
          -0.6895340280580152,
          -0.35522744716373517,
          -0.35522744716373517,
          -0.5995284101249398,
          -0.8438293730861445,
          -0.9724088272762521,
          -0.8438293730861445,
          -0.9724088272762521,
          -0.5995284101249398,
          -0.48380690135384286,
          -0.3938012834207675,
          -0.48380690135384286,
          -0.5995284101249398,
          -0.48380690135384286,
          -0.6381022463819721,
          -0.48380690135384286,
          -0.6252443009629614,
          -0.48380690135384286,
          -0.586670464705929,
          0.01765296998757717,
          0.01765296998757717,
          0.01765296998757717,
          0.01765296998757717,
          0.06908475166362026,
          0.19766420585372796,
          0.19766420585372796,
          0.3391016054628464,
          0.19766420585372796,
          0.19766420585372796,
          0.3391016054628464,
          0.5062548959099864,
          0.3391016054628464,
          0.5062548959099864,
          1.0,
          0.5062548959099864,
          0.8019876405472341,
          0.4419651688149326,
          0.4419651688149326,
          0.4419651688149326,
          0.1333744787586741,
          -0.2909377200686813,
          -0.11092648420253053,
          -0.11092648420253053,
          -0.3938012834207675,
          -0.3938012834207675
         ],
         "type": "scatter"
        }
       ],
       "layout": {
        "template": {
         "data": {
          "histogram2dcontour": [
           {
            "type": "histogram2dcontour",
            "colorbar": {
             "outlinewidth": 0,
             "ticks": ""
            },
            "colorscale": [
             [
              0.0,
              "#0d0887"
             ],
             [
              0.1111111111111111,
              "#46039f"
             ],
             [
              0.2222222222222222,
              "#7201a8"
             ],
             [
              0.3333333333333333,
              "#9c179e"
             ],
             [
              0.4444444444444444,
              "#bd3786"
             ],
             [
              0.5555555555555556,
              "#d8576b"
             ],
             [
              0.6666666666666666,
              "#ed7953"
             ],
             [
              0.7777777777777778,
              "#fb9f3a"
             ],
             [
              0.8888888888888888,
              "#fdca26"
             ],
             [
              1.0,
              "#f0f921"
             ]
            ]
           }
          ],
          "choropleth": [
           {
            "type": "choropleth",
            "colorbar": {
             "outlinewidth": 0,
             "ticks": ""
            }
           }
          ],
          "histogram2d": [
           {
            "type": "histogram2d",
            "colorbar": {
             "outlinewidth": 0,
             "ticks": ""
            },
            "colorscale": [
             [
              0.0,
              "#0d0887"
             ],
             [
              0.1111111111111111,
              "#46039f"
             ],
             [
              0.2222222222222222,
              "#7201a8"
             ],
             [
              0.3333333333333333,
              "#9c179e"
             ],
             [
              0.4444444444444444,
              "#bd3786"
             ],
             [
              0.5555555555555556,
              "#d8576b"
             ],
             [
              0.6666666666666666,
              "#ed7953"
             ],
             [
              0.7777777777777778,
              "#fb9f3a"
             ],
             [
              0.8888888888888888,
              "#fdca26"
             ],
             [
              1.0,
              "#f0f921"
             ]
            ]
           }
          ],
          "heatmap": [
           {
            "type": "heatmap",
            "colorbar": {
             "outlinewidth": 0,
             "ticks": ""
            },
            "colorscale": [
             [
              0.0,
              "#0d0887"
             ],
             [
              0.1111111111111111,
              "#46039f"
             ],
             [
              0.2222222222222222,
              "#7201a8"
             ],
             [
              0.3333333333333333,
              "#9c179e"
             ],
             [
              0.4444444444444444,
              "#bd3786"
             ],
             [
              0.5555555555555556,
              "#d8576b"
             ],
             [
              0.6666666666666666,
              "#ed7953"
             ],
             [
              0.7777777777777778,
              "#fb9f3a"
             ],
             [
              0.8888888888888888,
              "#fdca26"
             ],
             [
              1.0,
              "#f0f921"
             ]
            ]
           }
          ],
          "heatmapgl": [
           {
            "type": "heatmapgl",
            "colorbar": {
             "outlinewidth": 0,
             "ticks": ""
            },
            "colorscale": [
             [
              0.0,
              "#0d0887"
             ],
             [
              0.1111111111111111,
              "#46039f"
             ],
             [
              0.2222222222222222,
              "#7201a8"
             ],
             [
              0.3333333333333333,
              "#9c179e"
             ],
             [
              0.4444444444444444,
              "#bd3786"
             ],
             [
              0.5555555555555556,
              "#d8576b"
             ],
             [
              0.6666666666666666,
              "#ed7953"
             ],
             [
              0.7777777777777778,
              "#fb9f3a"
             ],
             [
              0.8888888888888888,
              "#fdca26"
             ],
             [
              1.0,
              "#f0f921"
             ]
            ]
           }
          ],
          "contourcarpet": [
           {
            "type": "contourcarpet",
            "colorbar": {
             "outlinewidth": 0,
             "ticks": ""
            }
           }
          ],
          "contour": [
           {
            "type": "contour",
            "colorbar": {
             "outlinewidth": 0,
             "ticks": ""
            },
            "colorscale": [
             [
              0.0,
              "#0d0887"
             ],
             [
              0.1111111111111111,
              "#46039f"
             ],
             [
              0.2222222222222222,
              "#7201a8"
             ],
             [
              0.3333333333333333,
              "#9c179e"
             ],
             [
              0.4444444444444444,
              "#bd3786"
             ],
             [
              0.5555555555555556,
              "#d8576b"
             ],
             [
              0.6666666666666666,
              "#ed7953"
             ],
             [
              0.7777777777777778,
              "#fb9f3a"
             ],
             [
              0.8888888888888888,
              "#fdca26"
             ],
             [
              1.0,
              "#f0f921"
             ]
            ]
           }
          ],
          "surface": [
           {
            "type": "surface",
            "colorbar": {
             "outlinewidth": 0,
             "ticks": ""
            },
            "colorscale": [
             [
              0.0,
              "#0d0887"
             ],
             [
              0.1111111111111111,
              "#46039f"
             ],
             [
              0.2222222222222222,
              "#7201a8"
             ],
             [
              0.3333333333333333,
              "#9c179e"
             ],
             [
              0.4444444444444444,
              "#bd3786"
             ],
             [
              0.5555555555555556,
              "#d8576b"
             ],
             [
              0.6666666666666666,
              "#ed7953"
             ],
             [
              0.7777777777777778,
              "#fb9f3a"
             ],
             [
              0.8888888888888888,
              "#fdca26"
             ],
             [
              1.0,
              "#f0f921"
             ]
            ]
           }
          ],
          "mesh3d": [
           {
            "type": "mesh3d",
            "colorbar": {
             "outlinewidth": 0,
             "ticks": ""
            }
           }
          ],
          "scatter": [
           {
            "fillpattern": {
             "fillmode": "overlay",
             "size": 10,
             "solidity": 0.2
            },
            "type": "scatter"
           }
          ],
          "parcoords": [
           {
            "type": "parcoords",
            "line": {
             "colorbar": {
              "outlinewidth": 0,
              "ticks": ""
             }
            }
           }
          ],
          "scatterpolargl": [
           {
            "type": "scatterpolargl",
            "marker": {
             "colorbar": {
              "outlinewidth": 0,
              "ticks": ""
             }
            }
           }
          ],
          "bar": [
           {
            "error_x": {
             "color": "#2a3f5f"
            },
            "error_y": {
             "color": "#2a3f5f"
            },
            "marker": {
             "line": {
              "color": "#E5ECF6",
              "width": 0.5
             },
             "pattern": {
              "fillmode": "overlay",
              "size": 10,
              "solidity": 0.2
             }
            },
            "type": "bar"
           }
          ],
          "scattergeo": [
           {
            "type": "scattergeo",
            "marker": {
             "colorbar": {
              "outlinewidth": 0,
              "ticks": ""
             }
            }
           }
          ],
          "scatterpolar": [
           {
            "type": "scatterpolar",
            "marker": {
             "colorbar": {
              "outlinewidth": 0,
              "ticks": ""
             }
            }
           }
          ],
          "histogram": [
           {
            "marker": {
             "pattern": {
              "fillmode": "overlay",
              "size": 10,
              "solidity": 0.2
             }
            },
            "type": "histogram"
           }
          ],
          "scattergl": [
           {
            "type": "scattergl",
            "marker": {
             "colorbar": {
              "outlinewidth": 0,
              "ticks": ""
             }
            }
           }
          ],
          "scatter3d": [
           {
            "type": "scatter3d",
            "line": {
             "colorbar": {
              "outlinewidth": 0,
              "ticks": ""
             }
            },
            "marker": {
             "colorbar": {
              "outlinewidth": 0,
              "ticks": ""
             }
            }
           }
          ],
          "scattermapbox": [
           {
            "type": "scattermapbox",
            "marker": {
             "colorbar": {
              "outlinewidth": 0,
              "ticks": ""
             }
            }
           }
          ],
          "scatterternary": [
           {
            "type": "scatterternary",
            "marker": {
             "colorbar": {
              "outlinewidth": 0,
              "ticks": ""
             }
            }
           }
          ],
          "scattercarpet": [
           {
            "type": "scattercarpet",
            "marker": {
             "colorbar": {
              "outlinewidth": 0,
              "ticks": ""
             }
            }
           }
          ],
          "carpet": [
           {
            "aaxis": {
             "endlinecolor": "#2a3f5f",
             "gridcolor": "white",
             "linecolor": "white",
             "minorgridcolor": "white",
             "startlinecolor": "#2a3f5f"
            },
            "baxis": {
             "endlinecolor": "#2a3f5f",
             "gridcolor": "white",
             "linecolor": "white",
             "minorgridcolor": "white",
             "startlinecolor": "#2a3f5f"
            },
            "type": "carpet"
           }
          ],
          "table": [
           {
            "cells": {
             "fill": {
              "color": "#EBF0F8"
             },
             "line": {
              "color": "white"
             }
            },
            "header": {
             "fill": {
              "color": "#C8D4E3"
             },
             "line": {
              "color": "white"
             }
            },
            "type": "table"
           }
          ],
          "barpolar": [
           {
            "marker": {
             "line": {
              "color": "#E5ECF6",
              "width": 0.5
             },
             "pattern": {
              "fillmode": "overlay",
              "size": 10,
              "solidity": 0.2
             }
            },
            "type": "barpolar"
           }
          ],
          "pie": [
           {
            "automargin": true,
            "type": "pie"
           }
          ]
         },
         "layout": {
          "autotypenumbers": "strict",
          "colorway": [
           "#636efa",
           "#EF553B",
           "#00cc96",
           "#ab63fa",
           "#FFA15A",
           "#19d3f3",
           "#FF6692",
           "#B6E880",
           "#FF97FF",
           "#FECB52"
          ],
          "font": {
           "color": "#2a3f5f"
          },
          "hovermode": "closest",
          "hoverlabel": {
           "align": "left"
          },
          "paper_bgcolor": "white",
          "plot_bgcolor": "#E5ECF6",
          "polar": {
           "bgcolor": "#E5ECF6",
           "angularaxis": {
            "gridcolor": "white",
            "linecolor": "white",
            "ticks": ""
           },
           "radialaxis": {
            "gridcolor": "white",
            "linecolor": "white",
            "ticks": ""
           }
          },
          "ternary": {
           "bgcolor": "#E5ECF6",
           "aaxis": {
            "gridcolor": "white",
            "linecolor": "white",
            "ticks": ""
           },
           "baxis": {
            "gridcolor": "white",
            "linecolor": "white",
            "ticks": ""
           },
           "caxis": {
            "gridcolor": "white",
            "linecolor": "white",
            "ticks": ""
           }
          },
          "coloraxis": {
           "colorbar": {
            "outlinewidth": 0,
            "ticks": ""
           }
          },
          "colorscale": {
           "sequential": [
            [
             0.0,
             "#0d0887"
            ],
            [
             0.1111111111111111,
             "#46039f"
            ],
            [
             0.2222222222222222,
             "#7201a8"
            ],
            [
             0.3333333333333333,
             "#9c179e"
            ],
            [
             0.4444444444444444,
             "#bd3786"
            ],
            [
             0.5555555555555556,
             "#d8576b"
            ],
            [
             0.6666666666666666,
             "#ed7953"
            ],
            [
             0.7777777777777778,
             "#fb9f3a"
            ],
            [
             0.8888888888888888,
             "#fdca26"
            ],
            [
             1.0,
             "#f0f921"
            ]
           ],
           "sequentialminus": [
            [
             0.0,
             "#0d0887"
            ],
            [
             0.1111111111111111,
             "#46039f"
            ],
            [
             0.2222222222222222,
             "#7201a8"
            ],
            [
             0.3333333333333333,
             "#9c179e"
            ],
            [
             0.4444444444444444,
             "#bd3786"
            ],
            [
             0.5555555555555556,
             "#d8576b"
            ],
            [
             0.6666666666666666,
             "#ed7953"
            ],
            [
             0.7777777777777778,
             "#fb9f3a"
            ],
            [
             0.8888888888888888,
             "#fdca26"
            ],
            [
             1.0,
             "#f0f921"
            ]
           ],
           "diverging": [
            [
             0,
             "#8e0152"
            ],
            [
             0.1,
             "#c51b7d"
            ],
            [
             0.2,
             "#de77ae"
            ],
            [
             0.3,
             "#f1b6da"
            ],
            [
             0.4,
             "#fde0ef"
            ],
            [
             0.5,
             "#f7f7f7"
            ],
            [
             0.6,
             "#e6f5d0"
            ],
            [
             0.7,
             "#b8e186"
            ],
            [
             0.8,
             "#7fbc41"
            ],
            [
             0.9,
             "#4d9221"
            ],
            [
             1,
             "#276419"
            ]
           ]
          },
          "xaxis": {
           "gridcolor": "white",
           "linecolor": "white",
           "ticks": "",
           "title": {
            "standoff": 15
           },
           "zerolinecolor": "white",
           "automargin": true,
           "zerolinewidth": 2
          },
          "yaxis": {
           "gridcolor": "white",
           "linecolor": "white",
           "ticks": "",
           "title": {
            "standoff": 15
           },
           "zerolinecolor": "white",
           "automargin": true,
           "zerolinewidth": 2
          },
          "scene": {
           "xaxis": {
            "backgroundcolor": "#E5ECF6",
            "gridcolor": "white",
            "linecolor": "white",
            "showbackground": true,
            "ticks": "",
            "zerolinecolor": "white",
            "gridwidth": 2
           },
           "yaxis": {
            "backgroundcolor": "#E5ECF6",
            "gridcolor": "white",
            "linecolor": "white",
            "showbackground": true,
            "ticks": "",
            "zerolinecolor": "white",
            "gridwidth": 2
           },
           "zaxis": {
            "backgroundcolor": "#E5ECF6",
            "gridcolor": "white",
            "linecolor": "white",
            "showbackground": true,
            "ticks": "",
            "zerolinecolor": "white",
            "gridwidth": 2
           }
          },
          "shapedefaults": {
           "line": {
            "color": "#2a3f5f"
           }
          },
          "annotationdefaults": {
           "arrowcolor": "#2a3f5f",
           "arrowhead": 0,
           "arrowwidth": 1
          },
          "geo": {
           "bgcolor": "white",
           "landcolor": "#E5ECF6",
           "subunitcolor": "white",
           "showland": true,
           "showlakes": true,
           "lakecolor": "white"
          },
          "title": {
           "x": 0.05
          },
          "mapbox": {
           "style": "light"
          }
         }
        },
        "title": {
         "text": "<b>Network Plot (P.U.)</b><br>Node color: Average voltage magnitude<br>Line width: Total <i>active</i> power flow (reverse flow in red).",
         "font": {
          "color": "Black"
         }
        },
        "legend": {
         "font": {
          "color": "Black"
         },
         "bgcolor": "White",
         "x": 0.8,
         "y": 0.9
        },
        "margin": {
         "t": 50,
         "b": 10,
         "l": 10,
         "r": 10
        },
        "xaxis": {
         "visible": false
        },
        "yaxis": {
         "visible": false
        },
        "font": {
         "family": "Droid Sans Mono",
         "color": "Black"
        },
        "plot_bgcolor": "White",
        "paper_bgcolor": "White"
       },
       "config": {
        "plotlyServerURL": "https://plot.ly"
       }
      },
      "text/html": [
       "<div>                            <div id=\"b5d2fb37-b681-48bf-b840-c6cd3e33a2b3\" class=\"plotly-graph-div\" style=\"height:525px; width:100%;\"></div>            <script type=\"text/javascript\">                require([\"plotly\"], function(Plotly) {                    window.PLOTLYENV=window.PLOTLYENV || {};                                    if (document.getElementById(\"b5d2fb37-b681-48bf-b840-c6cd3e33a2b3\")) {                    Plotly.newPlot(                        \"b5d2fb37-b681-48bf-b840-c6cd3e33a2b3\",                        [{\"line\":{\"color\":\"darkblue\",\"dash\":\"solid\",\"width\":11.0},\"mode\":\"lines\",\"showlegend\":false,\"x\":[-0.8611783091777097,-0.8611783091777097],\"y\":[-0.2909377200686813,-0.2909377200686813],\"type\":\"scatter\"},{\"line\":{\"color\":\"darkblue\",\"dash\":\"solid\",\"width\":11.0},\"mode\":\"lines\",\"showlegend\":false,\"x\":[-0.8611783091777097,-0.7916015499561131],\"y\":[-0.2909377200686813,-0.2909377200686813],\"type\":\"scatter\"},{\"line\":{\"color\":\"darkblue\",\"dash\":\"solid\",\"width\":11.0},\"mode\":\"lines\",\"showlegend\":false,\"x\":[-0.7916015499561131,-0.6524480315129197],\"y\":[-0.2909377200686813,-0.2909377200686813],\"type\":\"scatter\"},{\"line\":{\"color\":\"darkblue\",\"dash\":\"solid\",\"width\":1.0572811368481885},\"mode\":\"lines\",\"showlegend\":false,\"x\":[-0.6524480315129197,-0.6524480315129197],\"y\":[-0.2909377200686813,-0.20093210213560592],\"type\":\"scatter\"},{\"line\":{\"color\":\"darkblue\",\"dash\":\"solid\",\"width\":1.2938122451223957},\"mode\":\"lines\",\"showlegend\":false,\"x\":[-0.6524480315129197,-0.6524480315129197],\"y\":[-0.2909377200686813,-0.41951717425878904],\"type\":\"scatter\"},{\"line\":{\"color\":\"darkblue\",\"dash\":\"solid\",\"width\":10.53434297975061},\"mode\":\"lines\",\"showlegend\":false,\"x\":[-0.6524480315129197,-0.5480828926805249],\"y\":[-0.2909377200686813,-0.2909377200686813],\"type\":\"scatter\"},{\"line\":{\"color\":\"darkblue\",\"dash\":\"solid\",\"width\":1.114563277034106},\"mode\":\"lines\",\"showlegend\":false,\"x\":[-0.6524480315129197,-0.6524480315129197],\"y\":[-0.41951717425878904,-0.5223807376108752],\"type\":\"scatter\"},{\"line\":{\"color\":\"darkblue\",\"dash\":\"solid\",\"width\":1.1792489680882898},\"mode\":\"lines\",\"showlegend\":false,\"x\":[-0.6524480315129197,-0.5393857977778252],\"y\":[-0.41951717425878904,-0.41951717425878904],\"type\":\"scatter\"},{\"line\":{\"color\":\"darkblue\",\"dash\":\"solid\",\"width\":1.1204704187415615},\"mode\":\"lines\",\"showlegend\":false,\"x\":[-0.5393857977778252,-0.4524148487508295],\"y\":[-0.41951717425878904,-0.4709489559348321],\"type\":\"scatter\"},{\"line\":{\"color\":\"darkblue\",\"dash\":\"solid\",\"width\":10.477060928559888},\"mode\":\"lines\",\"showlegend\":false,\"x\":[-0.5480828926805249,-0.47850613345892823],\"y\":[-0.2909377200686813,-0.2909377200686813],\"type\":\"scatter\"},{\"line\":{\"color\":\"darkblue\",\"dash\":\"solid\",\"width\":1.0572806959758378},\"mode\":\"lines\",\"showlegend\":false,\"x\":[-0.47850613345892823,-0.47850613345892823],\"y\":[-0.2909377200686813,-0.40665922883977823],\"type\":\"scatter\"},{\"line\":{\"color\":\"darkblue\",\"dash\":\"solid\",\"width\":1.2881803087760817},\"mode\":\"lines\",\"showlegend\":false,\"x\":[-0.47850613345892823,-0.47850613345892823],\"y\":[-0.2909377200686813,-0.17521621129758438],\"type\":\"scatter\"},{\"line\":{\"color\":\"darkblue\",\"dash\":\"solid\",\"width\":10.131599923807968},\"mode\":\"lines\",\"showlegend\":false,\"x\":[-0.47850613345892823,-0.37414099462653333],\"y\":[-0.2909377200686813,-0.2909377200686813],\"type\":\"scatter\"},{\"line\":{\"color\":\"darkblue\",\"dash\":\"solid\",\"width\":1.1736158840658186},\"mode\":\"lines\",\"showlegend\":false,\"x\":[-0.47850613345892823,-0.47850613345892823],\"y\":[-0.17521621129758438,-0.17521621129758438],\"type\":\"scatter\"},{\"line\":{\"color\":\"darkblue\",\"dash\":\"solid\",\"width\":1.1736158840658182},\"mode\":\"lines\",\"showlegend\":false,\"x\":[-0.47850613345892823,-0.47850613345892823],\"y\":[-0.17521621129758438,0.04336886082559871],\"type\":\"scatter\"},{\"line\":{\"color\":\"darkblue\",\"dash\":\"solid\",\"width\":1.2893821360361168},\"mode\":\"lines\",\"showlegend\":false,\"x\":[-0.37414099462653333,-0.37414099462653333],\"y\":[-0.2909377200686813,-0.3680853925827459],\"type\":\"scatter\"},{\"line\":{\"color\":\"darkblue\",\"dash\":\"solid\",\"width\":4.199360708019375},\"mode\":\"lines\",\"showlegend\":false,\"x\":[-0.37414099462653333,-0.37414099462653333],\"y\":[-0.2909377200686813,0.1333744787586741],\"type\":\"scatter\"},{\"line\":{\"color\":\"darkblue\",\"dash\":\"solid\",\"width\":1.1159653976336743},\"mode\":\"lines\",\"showlegend\":false,\"x\":[-0.47850613345892823,-0.565477082485924],\"y\":[0.04336886082559871,0.04336886082559871],\"type\":\"scatter\"},{\"line\":{\"color\":\"darkblue\",\"dash\":\"solid\",\"width\":1.0576504864321434},\"mode\":\"lines\",\"showlegend\":false,\"x\":[-0.47850613345892823,-0.39153518443193247],\"y\":[0.04336886082559871,0.04336886082559871],\"type\":\"scatter\"},{\"line\":{\"color\":\"darkblue\",\"dash\":\"solid\",\"width\":1.171845815536886},\"mode\":\"lines\",\"showlegend\":false,\"x\":[-0.37414099462653333,-0.37414099462653333],\"y\":[-0.3680853925827459,-0.41951717425878904],\"type\":\"scatter\"},{\"line\":{\"color\":\"darkblue\",\"dash\":\"solid\",\"width\":1.1145638767146062},\"mode\":\"lines\",\"showlegend\":false,\"x\":[-0.37414099462653333,-0.37414099462653333],\"y\":[-0.41951717425878904,-0.6123863555439506],\"type\":\"scatter\"},{\"line\":{\"color\":\"darkblue\",\"dash\":\"solid\",\"width\":1.0572819388222798},\"mode\":\"lines\",\"showlegend\":false,\"x\":[-0.37414099462653333,-0.25238166598873923],\"y\":[-0.41951717425878904,-0.41951717425878904],\"type\":\"scatter\"},{\"line\":{\"color\":\"darkblue\",\"dash\":\"solid\",\"width\":1.2280622235940002},\"mode\":\"lines\",\"showlegend\":false,\"x\":[-0.37414099462653333,-0.4611119436535291],\"y\":[0.1333744787586741,0.1333744787586741],\"type\":\"scatter\"},{\"line\":{\"color\":\"darkblue\",\"dash\":\"solid\",\"width\":1.8047709782722732},\"mode\":\"lines\",\"showlegend\":false,\"x\":[-0.37414099462653333,-0.37414099462653333],\"y\":[0.1333744787586741,0.28766982378680334],\"type\":\"scatter\"},{\"line\":{\"color\":\"darkblue\",\"dash\":\"solid\",\"width\":1.113497172331428},\"mode\":\"lines\",\"showlegend\":false,\"x\":[-0.4611119436535291,-0.5741741773886236],\"y\":[0.1333744787586741,0.1333744787586741],\"type\":\"scatter\"},{\"line\":{\"color\":\"darkblue\",\"dash\":\"solid\",\"width\":1.1203594529268779},\"mode\":\"lines\",\"showlegend\":false,\"x\":[-0.37414099462653333,-0.5567799875832244],\"y\":[0.28766982378680334,0.28766982378680334],\"type\":\"scatter\"},{\"line\":{\"color\":\"darkblue\",\"dash\":\"solid\",\"width\":1.6844115253453946},\"mode\":\"lines\",\"showlegend\":false,\"x\":[-0.37414099462653333,-0.37414099462653333],\"y\":[0.28766982378680334,0.416249277976911],\"type\":\"scatter\"},{\"line\":{\"color\":\"darkblue\",\"dash\":\"solid\",\"width\":1.1145639368681353},\"mode\":\"lines\",\"showlegend\":false,\"x\":[-0.37414099462653333,-0.565477082485924],\"y\":[0.416249277976911,0.416249277976911],\"type\":\"scatter\"},{\"line\":{\"color\":\"darkblue\",\"dash\":\"solid\",\"width\":1.5698475884772585},\"mode\":\"lines\",\"showlegend\":false,\"x\":[-0.37414099462653333,-0.37414099462653333],\"y\":[0.416249277976911,0.5576866775860295],\"type\":\"scatter\"},{\"line\":{\"color\":\"darkblue\",\"dash\":\"solid\",\"width\":1.229321961320911},\"mode\":\"lines\",\"showlegend\":false,\"x\":[-0.37414099462653333,-0.37414099462653333],\"y\":[0.5576866775860295,0.5576866775860295],\"type\":\"scatter\"},{\"line\":{\"color\":\"darkblue\",\"dash\":\"solid\",\"width\":1.2293219613209105},\"mode\":\"lines\",\"showlegend\":false,\"x\":[-0.37414099462653333,-0.4959003232643274],\"y\":[0.5576866775860295,0.5576866775860295],\"type\":\"scatter\"},{\"line\":{\"color\":\"darkblue\",\"dash\":\"solid\",\"width\":1.3405256271563468},\"mode\":\"lines\",\"showlegend\":false,\"x\":[-0.37414099462653333,-0.37414099462653333],\"y\":[0.5576866775860295,0.6605502409381157],\"type\":\"scatter\"},{\"line\":{\"color\":\"darkblue\",\"dash\":\"solid\",\"width\":1.1147580204969099},\"mode\":\"lines\",\"showlegend\":false,\"x\":[-0.4959003232643274,-0.5915683671940227],\"y\":[0.5576866775860295,0.5576866775860295],\"type\":\"scatter\"},{\"line\":{\"color\":\"darkblue\",\"dash\":\"solid\",\"width\":1.1145639408240002},\"mode\":\"lines\",\"showlegend\":false,\"x\":[-0.4959003232643274,-0.4959003232643274],\"y\":[0.5576866775860295,0.6734081863571264],\"type\":\"scatter\"},{\"line\":{\"color\":\"darkblue\",\"dash\":\"solid\",\"width\":1.1147580204969094},\"mode\":\"lines\",\"showlegend\":false,\"x\":[-0.5915683671940227,-0.5915683671940227],\"y\":[0.5576866775860295,0.8148455859662449],\"type\":\"scatter\"},{\"line\":{\"color\":\"darkblue\",\"dash\":\"solid\",\"width\":1.2270076814865778},\"mode\":\"lines\",\"showlegend\":false,\"x\":[-0.37414099462653333,-0.37414099462653333],\"y\":[0.6605502409381157,0.8148455859662449],\"type\":\"scatter\"},{\"line\":{\"color\":\"darkblue\",\"dash\":\"solid\",\"width\":1.1145639391812943},\"mode\":\"lines\",\"showlegend\":false,\"x\":[-0.37414099462653333,-0.25238166598873923],\"y\":[0.8148455859662449,0.8148455859662449],\"type\":\"scatter\"},{\"line\":{\"color\":\"darkblue\",\"dash\":\"solid\",\"width\":1.0000000000000009},\"mode\":\"lines\",\"showlegend\":false,\"x\":[-0.25238166598873923,-0.1828049067671426],\"y\":[0.8148455859662449,0.8148455859662449],\"type\":\"scatter\"},{\"line\":{\"color\":\"darkblue\",\"dash\":\"solid\",\"width\":1.057281970170801},\"mode\":\"lines\",\"showlegend\":false,\"x\":[-0.4959003232643274,-0.4959003232643274],\"y\":[0.6734081863571264,0.8277035313852557],\"type\":\"scatter\"},{\"line\":{\"color\":\"darkblue\",\"dash\":\"solid\",\"width\":3.1665275061530997},\"mode\":\"lines\",\"showlegend\":false,\"x\":[-0.339352615015735,-0.20889619147524133],\"y\":[0.1333744787586741,0.1333744787586741],\"type\":\"scatter\"},{\"line\":{\"color\":\"darkblue\",\"dash\":\"solid\",\"width\":1.2277546813910498},\"mode\":\"lines\",\"showlegend\":false,\"x\":[-0.20889619147524133,-0.17410781186444302],\"y\":[0.1333744787586741,-0.03377881168846591],\"type\":\"scatter\"},{\"line\":{\"color\":\"darkblue\",\"dash\":\"solid\",\"width\":2.8242085072896295},\"mode\":\"lines\",\"showlegend\":false,\"x\":[-0.20889619147524133,-0.20889619147524133],\"y\":[0.1333744787586741,0.2619539329487818],\"type\":\"scatter\"},{\"line\":{\"color\":\"darkblue\",\"dash\":\"solid\",\"width\":1.111899036812985},\"mode\":\"lines\",\"showlegend\":false,\"x\":[-0.17410781186444302,-0.278472950696838],\"y\":[-0.03377881168846591,-0.03377881168846591],\"type\":\"scatter\"},{\"line\":{\"color\":\"darkblue\",\"dash\":\"solid\",\"width\":1.1158556445780639},\"mode\":\"lines\",\"showlegend\":false,\"x\":[-0.17410781186444302,-0.08713686283744723],\"y\":[-0.03377881168846591,-0.03377881168846591],\"type\":\"scatter\"},{\"line\":{\"color\":\"darkblue\",\"dash\":\"solid\",\"width\":1.05728034799518},\"mode\":\"lines\",\"showlegend\":false,\"x\":[-0.08713686283744723,0.025925370897647276],\"y\":[-0.03377881168846591,-0.03377881168846591],\"type\":\"scatter\"},{\"line\":{\"color\":\"darkblue\",\"dash\":\"solid\",\"width\":1.0572819785381677},\"mode\":\"lines\",\"showlegend\":false,\"x\":[-0.20889619147524133,-0.09583395774014682],\"y\":[0.2619539329487818,0.2619539329487818],\"type\":\"scatter\"},{\"line\":{\"color\":\"darkblue\",\"dash\":\"solid\",\"width\":2.766926528751461},\"mode\":\"lines\",\"showlegend\":false,\"x\":[-0.20889619147524133,-0.20889619147524133],\"y\":[0.2619539329487818,0.3905333871388895],\"type\":\"scatter\"},{\"line\":{\"color\":\"darkblue\",\"dash\":\"solid\",\"width\":1.119216770865144},\"mode\":\"lines\",\"showlegend\":false,\"x\":[-0.20889619147524133,-0.03495429342124977],\"y\":[0.3905333871388895,0.3905333871388895],\"type\":\"scatter\"},{\"line\":{\"color\":\"darkblue\",\"dash\":\"solid\",\"width\":2.590427195472194},\"mode\":\"lines\",\"showlegend\":false,\"x\":[-0.20889619147524133,-0.20889619147524133],\"y\":[0.3905333871388895,0.49339695049097565],\"type\":\"scatter\"},{\"line\":{\"color\":\"darkblue\",\"dash\":\"solid\",\"width\":1.1137212160681949},\"mode\":\"lines\",\"showlegend\":false,\"x\":[-0.20889619147524133,-0.1393194322536447],\"y\":[0.49339695049097565,0.49339695049097565],\"type\":\"scatter\"},{\"line\":{\"color\":\"darkblue\",\"dash\":\"solid\",\"width\":2.4767059794039987},\"mode\":\"lines\",\"showlegend\":false,\"x\":[-0.20889619147524133,-0.20889619147524133],\"y\":[0.49339695049097565,0.6219764046810834],\"type\":\"scatter\"},{\"line\":{\"color\":\"darkblue\",\"dash\":\"solid\",\"width\":1.0572825862888238},\"mode\":\"lines\",\"showlegend\":false,\"x\":[-0.1393194322536447,-0.03495429342124977],\"y\":[0.49339695049097565,0.49339695049097565],\"type\":\"scatter\"},{\"line\":{\"color\":\"darkblue\",\"dash\":\"solid\",\"width\":1.602783296269839},\"mode\":\"lines\",\"showlegend\":false,\"x\":[-0.20889619147524133,-0.2610787608914388],\"y\":[0.6219764046810834,0.6219764046810834],\"type\":\"scatter\"},{\"line\":{\"color\":\"darkblue\",\"dash\":\"solid\",\"width\":1.5728151248724298},\"mode\":\"lines\",\"showlegend\":false,\"x\":[-0.20889619147524133,-0.12192524244824555],\"y\":[0.6219764046810834,0.6219764046810834],\"type\":\"scatter\"},{\"line\":{\"color\":\"darkblue\",\"dash\":\"solid\",\"width\":1.1718465768794106},\"mode\":\"lines\",\"showlegend\":false,\"x\":[-0.12192524244824555,-0.03495429342124977],\"y\":[0.6219764046810834,0.6219764046810834],\"type\":\"scatter\"},{\"line\":{\"color\":\"darkblue\",\"dash\":\"solid\",\"width\":1.057282593564611},\"mode\":\"lines\",\"showlegend\":false,\"x\":[-0.03495429342124977,0.05201665560574601],\"y\":[0.6219764046810834,0.6219764046810834],\"type\":\"scatter\"},{\"line\":{\"color\":\"darkblue\",\"dash\":\"solid\",\"width\":1.0000000000000009},\"mode\":\"lines\",\"showlegend\":false,\"x\":[0.05201665560574601,0.2127389694076342],\"y\":[0.6219764046810834,0.9578259390256447],\"type\":\"scatter\"},{\"line\":{\"color\":\"darkblue\",\"dash\":\"solid\",\"width\":6.700138571551206},\"mode\":\"lines\",\"showlegend\":false,\"x\":[-0.339352615015735,-0.20019909657254176],\"y\":[-0.2909377200686813,-0.2909377200686813],\"type\":\"scatter\"},{\"line\":{\"color\":\"darkblue\",\"dash\":\"solid\",\"width\":6.585573214572755},\"mode\":\"lines\",\"showlegend\":false,\"x\":[-0.20019909657254176,-0.13062233735094514],\"y\":[-0.2909377200686813,-0.2909377200686813],\"type\":\"scatter\"},{\"line\":{\"color\":\"darkblue\",\"dash\":\"solid\",\"width\":6.47100762168315},\"mode\":\"lines\",\"showlegend\":false,\"x\":[-0.13062233735094514,-0.08713686283744723],\"y\":[-0.2909377200686813,-0.2909377200686813],\"type\":\"scatter\"},{\"line\":{\"color\":\"darkblue\",\"dash\":\"solid\",\"width\":1.1135561455454672},\"mode\":\"lines\",\"showlegend\":false,\"x\":[-0.08713686283744723,0.00853118109224812],\"y\":[-0.2909377200686813,-0.2909377200686813],\"type\":\"scatter\"},{\"line\":{\"color\":\"darkblue\",\"dash\":\"solid\",\"width\":6.35745147613768},\"mode\":\"lines\",\"showlegend\":false,\"x\":[-0.08713686283744723,-0.08713686283744723],\"y\":[-0.2909377200686813,-0.11092648420253053],\"type\":\"scatter\"},{\"line\":{\"color\":\"darkblue\",\"dash\":\"solid\",\"width\":1.057279883334076},\"mode\":\"lines\",\"showlegend\":false,\"x\":[0.00853118109224812,0.10419922502194348],\"y\":[-0.2909377200686813,-0.2909377200686813],\"type\":\"scatter\"},{\"line\":{\"color\":\"darkblue\",\"dash\":\"solid\",\"width\":1.1159535806531389},\"mode\":\"lines\",\"showlegend\":false,\"x\":[-0.08713686283744723,-0.17410781186444302],\"y\":[-0.11092648420253053,-0.11092648420253053],\"type\":\"scatter\"},{\"line\":{\"color\":\"darkblue\",\"dash\":\"solid\",\"width\":6.2414978954845415},\"mode\":\"lines\",\"showlegend\":false,\"x\":[-0.08713686283744723,0.1737759842435401],\"y\":[-0.11092648420253053,-0.11092648420253053],\"type\":\"scatter\"},{\"line\":{\"color\":\"darkblue\",\"dash\":\"solid\",\"width\":1.0572796636323283},\"mode\":\"lines\",\"showlegend\":false,\"x\":[-0.17410781186444302,-0.2610787608914388],\"y\":[-0.11092648420253053,-0.11092648420253053],\"type\":\"scatter\"},{\"line\":{\"color\":\"darkblue\",\"dash\":\"solid\",\"width\":1.0000000000000027},\"mode\":\"lines\",\"showlegend\":false,\"x\":[0.1737759842435401,0.1737759842435401],\"y\":[-0.11092648420253053,-0.3938012834207675],\"type\":\"scatter\"},{\"line\":{\"color\":\"darkblue\",\"dash\":\"solid\",\"width\":2.0573379335299924},\"mode\":\"lines\",\"showlegend\":false,\"x\":[0.1737759842435401,0.1737759842435401],\"y\":[-0.11092648420253053,0.01765296998757717],\"type\":\"scatter\"},{\"line\":{\"color\":\"darkblue\",\"dash\":\"solid\",\"width\":1.9434158219856243},\"mode\":\"lines\",\"showlegend\":false,\"x\":[0.1737759842435401,0.1737759842435401],\"y\":[0.01765296998757717,0.10765858792065255],\"type\":\"scatter\"},{\"line\":{\"color\":\"darkblue\",\"dash\":\"solid\",\"width\":1.8288487197444474},\"mode\":\"lines\",\"showlegend\":false,\"x\":[0.1737759842435401,0.1737759842435401],\"y\":[0.10765858792065255,0.28766982378680334],\"type\":\"scatter\"},{\"line\":{\"color\":\"darkblue\",\"dash\":\"solid\",\"width\":1.610594243447963},\"mode\":\"lines\",\"showlegend\":false,\"x\":[0.1737759842435401,0.025925370897647276],\"y\":[0.28766982378680334,0.28766982378680334],\"type\":\"scatter\"},{\"line\":{\"color\":\"darkblue\",\"dash\":\"solid\",\"width\":1.2148097089911731},\"mode\":\"lines\",\"showlegend\":false,\"x\":[0.025925370897647276,0.025925370897647276],\"y\":[0.28766982378680334,0.12051653333966333],\"type\":\"scatter\"},{\"line\":{\"color\":\"darkblue\",\"dash\":\"solid\",\"width\":5.126876470008261},\"mode\":\"lines\",\"showlegend\":false,\"x\":[0.2085643638543384,0.3303236924921325],\"y\":[-0.11092648420253053,-0.11092648420253053],\"type\":\"scatter\"},{\"line\":{\"color\":\"darkblue\",\"dash\":\"solid\",\"width\":1.3437031386182068},\"mode\":\"lines\",\"showlegend\":false,\"x\":[0.3303236924921325,0.3999004517137291],\"y\":[-0.11092648420253053,-0.11092648420253053],\"type\":\"scatter\"},{\"line\":{\"color\":\"darkblue\",\"dash\":\"solid\",\"width\":3.5123301929069006},\"mode\":\"lines\",\"showlegend\":false,\"x\":[0.3303236924921325,0.3303236924921325],\"y\":[-0.11092648420253053,-0.252363883811649],\"type\":\"scatter\"},{\"line\":{\"color\":\"darkblue\",\"dash\":\"solid\",\"width\":2.270843138483153},\"mode\":\"lines\",\"showlegend\":false,\"x\":[0.3303236924921325,0.3303236924921325],\"y\":[-0.11092648420253053,0.01765296998757717],\"type\":\"scatter\"},{\"line\":{\"color\":\"darkblue\",\"dash\":\"solid\",\"width\":1.2864194068454065},\"mode\":\"lines\",\"showlegend\":false,\"x\":[0.3999004517137291,0.4955684956434245],\"y\":[-0.11092648420253053,-0.11092648420253053],\"type\":\"scatter\"},{\"line\":{\"color\":\"darkblue\",\"dash\":\"solid\",\"width\":1.1718517557990475},\"mode\":\"lines\",\"showlegend\":false,\"x\":[0.4955684956434245,0.608630729378519],\"y\":[-0.11092648420253053,-0.11092648420253053],\"type\":\"scatter\"},{\"line\":{\"color\":\"darkblue\",\"dash\":\"solid\",\"width\":1.1145678627459377},\"mode\":\"lines\",\"showlegend\":false,\"x\":[0.608630729378519,0.7042987733082143],\"y\":[-0.11092648420253053,-0.11092648420253053],\"type\":\"scatter\"},{\"line\":{\"color\":\"darkblue\",\"dash\":\"solid\",\"width\":1.349260509815656},\"mode\":\"lines\",\"showlegend\":false,\"x\":[0.3303236924921325,0.42599173642182786],\"y\":[-0.252363883811649,-0.252363883811649],\"type\":\"scatter\"},{\"line\":{\"color\":\"darkblue\",\"dash\":\"solid\",\"width\":3.1630696830912437},\"mode\":\"lines\",\"showlegend\":false,\"x\":[0.3303236924921325,0.3303236924921325],\"y\":[-0.252363883811649,-0.35522744716373517],\"type\":\"scatter\"},{\"line\":{\"color\":\"darkblue\",\"dash\":\"solid\",\"width\":1.2346948500697643},\"mode\":\"lines\",\"showlegend\":false,\"x\":[0.42599173642182786,0.5477510650596219],\"y\":[-0.252363883811649,-0.252363883811649],\"type\":\"scatter\"},{\"line\":{\"color\":\"darkblue\",\"dash\":\"solid\",\"width\":1.1145656565398847},\"mode\":\"lines\",\"showlegend\":false,\"x\":[0.5477510650596219,0.6869045835028152],\"y\":[-0.252363883811649,-0.252363883811649],\"type\":\"scatter\"},{\"line\":{\"color\":\"darkblue\",\"dash\":\"solid\",\"width\":1.6943715279717728},\"mode\":\"lines\",\"showlegend\":false,\"x\":[0.3303236924921325,0.46947721093532574],\"y\":[-0.35522744716373517,-0.35522744716373517],\"type\":\"scatter\"},{\"line\":{\"color\":\"darkblue\",\"dash\":\"solid\",\"width\":1.7477935610658548},\"mode\":\"lines\",\"showlegend\":false,\"x\":[0.3303236924921325,0.23639506754297707],\"y\":[-0.35522744716373517,-0.6895340280580152],\"type\":\"scatter\"},{\"line\":{\"color\":\"darkblue\",\"dash\":\"solid\",\"width\":1.579813730209174},\"mode\":\"lines\",\"showlegend\":false,\"x\":[0.46947721093532574,0.5042655905461241],\"y\":[-0.35522744716373517,-0.35522744716373517],\"type\":\"scatter\"},{\"line\":{\"color\":\"darkblue\",\"dash\":\"solid\",\"width\":1.121556682260307},\"mode\":\"lines\",\"showlegend\":false,\"x\":[0.5042655905461241,0.5825394446704203],\"y\":[-0.35522744716373517,-0.35522744716373517],\"type\":\"scatter\"},{\"line\":{\"color\":\"darkblue\",\"dash\":\"solid\",\"width\":1.4582570479488663},\"mode\":\"lines\",\"showlegend\":false,\"x\":[0.5042655905461241,0.5042655905461241],\"y\":[-0.35522744716373517,-0.5995284101249398],\"type\":\"scatter\"},{\"line\":{\"color\":\"darkblue\",\"dash\":\"solid\",\"width\":1.3436993490091507},\"mode\":\"lines\",\"showlegend\":false,\"x\":[0.5042655905461241,0.5042655905461241],\"y\":[-0.5995284101249398,-0.8438293730861445],\"type\":\"scatter\"},{\"line\":{\"color\":\"darkblue\",\"dash\":\"solid\",\"width\":1.171850573655178},\"mode\":\"lines\",\"showlegend\":false,\"x\":[0.5042655905461241,0.5042655905461241],\"y\":[-0.8438293730861445,-0.9724088272762521],\"type\":\"scatter\"},{\"line\":{\"color\":\"darkblue\",\"dash\":\"solid\",\"width\":1.1718487753539717},\"mode\":\"lines\",\"showlegend\":false,\"x\":[0.5042655905461241,0.7390871529190126],\"y\":[-0.8438293730861445,-0.8438293730861445],\"type\":\"scatter\"},{\"line\":{\"color\":\"darkblue\",\"dash\":\"solid\",\"width\":1.0572829430758388},\"mode\":\"lines\",\"showlegend\":false,\"x\":[0.5042655905461241,0.5912365395731198],\"y\":[-0.9724088272762521,-0.9724088272762521],\"type\":\"scatter\"},{\"line\":{\"color\":\"darkblue\",\"dash\":\"solid\",\"width\":1.1145658494917854},\"mode\":\"lines\",\"showlegend\":false,\"x\":[0.7390871529190126,0.7390871529190126],\"y\":[-0.8438293730861445,-0.5995284101249398],\"type\":\"scatter\"},{\"line\":{\"color\":\"darkblue\",\"dash\":\"solid\",\"width\":1.6905147196656847},\"mode\":\"lines\",\"showlegend\":false,\"x\":[0.23639506754297707,0.16507888934084053],\"y\":[-0.6895340280580152,-0.48380690135384286],\"type\":\"scatter\"},{\"line\":{\"color\":\"darkblue\",\"dash\":\"solid\",\"width\":1.1145677080688876},\"mode\":\"lines\",\"showlegend\":false,\"x\":[0.16507888934084053,0.13029050973004222],\"y\":[-0.48380690135384286,-0.3938012834207675],\"type\":\"scatter\"},{\"line\":{\"color\":\"darkblue\",\"dash\":\"solid\",\"width\":1.4613894457447567},\"mode\":\"lines\",\"showlegend\":false,\"x\":[0.16507888934084053,0.06941084541114516],\"y\":[-0.48380690135384286,-0.48380690135384286],\"type\":\"scatter\"},{\"line\":{\"color\":\"darkblue\",\"dash\":\"solid\",\"width\":1.1176981800922952},\"mode\":\"lines\",\"showlegend\":false,\"x\":[0.06941084541114516,0.06941084541114516],\"y\":[-0.48380690135384286,-0.5995284101249398],\"type\":\"scatter\"},{\"line\":{\"color\":\"darkblue\",\"dash\":\"solid\",\"width\":1.3436912656524609},\"mode\":\"lines\",\"showlegend\":false,\"x\":[0.06941084541114516,-0.008863008713151037],\"y\":[-0.48380690135384286,-0.48380690135384286],\"type\":\"scatter\"},{\"line\":{\"color\":\"darkblue\",\"dash\":\"solid\",\"width\":1.114565997620057},\"mode\":\"lines\",\"showlegend\":false,\"x\":[-0.008863008713151037,-0.008863008713151037],\"y\":[-0.48380690135384286,-0.6381022463819721],\"type\":\"scatter\"},{\"line\":{\"color\":\"darkblue\",\"dash\":\"solid\",\"width\":1.2291252680324032},\"mode\":\"lines\",\"showlegend\":false,\"x\":[-0.008863008713151037,-0.08713686283744723],\"y\":[-0.48380690135384286,-0.48380690135384286],\"type\":\"scatter\"},{\"line\":{\"color\":\"darkblue\",\"dash\":\"solid\",\"width\":1.1145678076662222},\"mode\":\"lines\",\"showlegend\":false,\"x\":[-0.08713686283744723,-0.08713686283744723],\"y\":[-0.48380690135384286,-0.6252443009629614],\"type\":\"scatter\"},{\"line\":{\"color\":\"darkblue\",\"dash\":\"solid\",\"width\":1.1145574603661799},\"mode\":\"lines\",\"showlegend\":false,\"x\":[-0.08713686283744723,-0.19150200166984216],\"y\":[-0.48380690135384286,-0.48380690135384286],\"type\":\"scatter\"},{\"line\":{\"color\":\"darkblue\",\"dash\":\"solid\",\"width\":1.0572787279069258},\"mode\":\"lines\",\"showlegend\":false,\"x\":[-0.19150200166984216,-0.19150200166984216],\"y\":[-0.48380690135384286,-0.586670464705929],\"type\":\"scatter\"},{\"line\":{\"color\":\"darkblue\",\"dash\":\"solid\",\"width\":1.349855243389334},\"mode\":\"lines\",\"showlegend\":false,\"x\":[0.3303236924921325,0.42599173642182786],\"y\":[0.01765296998757717,0.01765296998757717],\"type\":\"scatter\"},{\"line\":{\"color\":\"darkblue\",\"dash\":\"solid\",\"width\":1.2352878501276316},\"mode\":\"lines\",\"showlegend\":false,\"x\":[0.42599173642182786,0.6173278242812186],\"y\":[0.01765296998757717,0.01765296998757717],\"type\":\"scatter\"},{\"line\":{\"color\":\"darkblue\",\"dash\":\"solid\",\"width\":1.1207298951062568},\"mode\":\"lines\",\"showlegend\":false,\"x\":[0.6173278242812186,0.7216929631136135],\"y\":[0.01765296998757717,0.01765296998757717],\"type\":\"scatter\"},{\"line\":{\"color\":\"darkblue\",\"dash\":\"solid\",\"width\":1.0000000000000009},\"mode\":\"lines\",\"showlegend\":false,\"x\":[0.7216929631136135,1.0],\"y\":[0.01765296998757717,0.01765296998757717],\"type\":\"scatter\"},{\"line\":{\"color\":\"darkblue\",\"dash\":\"solid\",\"width\":1.9209878950938186},\"mode\":\"lines\",\"showlegend\":false,\"x\":[0.3303236924921325,0.3303236924921325],\"y\":[0.01765296998757717,0.06908475166362026],\"type\":\"scatter\"},{\"line\":{\"color\":\"darkblue\",\"dash\":\"solid\",\"width\":1.920987895093818},\"mode\":\"lines\",\"showlegend\":false,\"x\":[0.3303236924921325,0.3303236924921325],\"y\":[0.06908475166362026,0.19766420585372796],\"type\":\"scatter\"},{\"line\":{\"color\":\"darkblue\",\"dash\":\"solid\",\"width\":1.2864141679900591},\"mode\":\"lines\",\"showlegend\":false,\"x\":[0.3303236924921325,0.4085975466164287],\"y\":[0.19766420585372796,0.19766420585372796],\"type\":\"scatter\"},{\"line\":{\"color\":\"darkblue\",\"dash\":\"solid\",\"width\":1.6345737271037577},\"mode\":\"lines\",\"showlegend\":false,\"x\":[0.3303236924921325,0.3303236924921325],\"y\":[0.19766420585372796,0.3391016054628464],\"type\":\"scatter\"},{\"line\":{\"color\":\"darkblue\",\"dash\":\"solid\",\"width\":1.2291313327518583},\"mode\":\"lines\",\"showlegend\":false,\"x\":[0.4085975466164287,0.5216597803515232],\"y\":[0.19766420585372796,0.19766420585372796],\"type\":\"scatter\"},{\"line\":{\"color\":\"darkblue\",\"dash\":\"solid\",\"width\":1.1145656648959619},\"mode\":\"lines\",\"showlegend\":false,\"x\":[0.5216597803515232,0.7651784376271114],\"y\":[0.19766420585372796,0.19766420585372796],\"type\":\"scatter\"},{\"line\":{\"color\":\"darkblue\",\"dash\":\"solid\",\"width\":1.2291156231676885},\"mode\":\"lines\",\"showlegend\":false,\"x\":[0.3303236924921325,0.4085975466164287],\"y\":[0.3391016054628464,0.3391016054628464],\"type\":\"scatter\"},{\"line\":{\"color\":\"darkblue\",\"dash\":\"solid\",\"width\":1.4054581039360685},\"mode\":\"lines\",\"showlegend\":false,\"x\":[0.3303236924921325,0.3303236924921325],\"y\":[0.3391016054628464,0.5062548959099864],\"type\":\"scatter\"},{\"line\":{\"color\":\"darkblue\",\"dash\":\"solid\",\"width\":1.1145577870761891},\"mode\":\"lines\",\"showlegend\":false,\"x\":[0.4085975466164287,0.608630729378519],\"y\":[0.3391016054628464,0.3391016054628464],\"type\":\"scatter\"},{\"line\":{\"color\":\"darkblue\",\"dash\":\"solid\",\"width\":1.4054581039360667},\"mode\":\"lines\",\"showlegend\":false,\"x\":[0.3303236924921325,0.4868714007407249],\"y\":[0.5062548959099864,0.5062548959099864],\"type\":\"scatter\"},{\"line\":{\"color\":\"darkblue\",\"dash\":\"solid\",\"width\":1.0000000000000009},\"mode\":\"lines\",\"showlegend\":false,\"x\":[0.3303236924921325,0.23291622958189723],\"y\":[0.5062548959099864,1.0],\"type\":\"scatter\"},{\"line\":{\"color\":\"darkblue\",\"dash\":\"solid\",\"width\":1.2908902525576933},\"mode\":\"lines\",\"showlegend\":false,\"x\":[0.4868714007407249,0.5912365395731198],\"y\":[0.5062548959099864,0.5062548959099864],\"type\":\"scatter\"},{\"line\":{\"color\":\"darkblue\",\"dash\":\"solid\",\"width\":1.0572840237784624},\"mode\":\"lines\",\"showlegend\":false,\"x\":[0.5912365395731198,0.5912365395731198],\"y\":[0.5062548959099864,0.8019876405472341],\"type\":\"scatter\"},{\"line\":{\"color\":\"darkblue\",\"dash\":\"solid\",\"width\":1.2336062287792302},\"mode\":\"lines\",\"showlegend\":false,\"x\":[0.5912365395731198,0.5912365395731198],\"y\":[0.5062548959099864,0.4419651688149326],\"type\":\"scatter\"},{\"line\":{\"color\":\"darkblue\",\"dash\":\"solid\",\"width\":1.1753378182515632},\"mode\":\"lines\",\"showlegend\":false,\"x\":[0.5912365395731198,0.773875532529811],\"y\":[0.4419651688149326,0.4419651688149326],\"type\":\"scatter\"},{\"line\":{\"color\":\"darkblue\",\"dash\":\"solid\",\"width\":1.0572840589710035},\"mode\":\"lines\",\"showlegend\":false,\"x\":[0.773875532529811,0.8869377662649055],\"y\":[0.4419651688149326,0.4419651688149326],\"type\":\"scatter\"},{\"line\":{\"color\":\"darkblue\",\"dash\":\"solid\",\"width\":3.1665275061531006},\"mode\":\"lines\",\"showlegend\":false,\"x\":[-0.37414099462653333,-0.339352615015735],\"y\":[0.1333744787586741,0.1333744787586741],\"type\":\"scatter\"},{\"line\":{\"color\":\"darkblue\",\"dash\":\"solid\",\"width\":6.700138571551206},\"mode\":\"lines\",\"showlegend\":false,\"x\":[-0.37414099462653333,-0.339352615015735],\"y\":[-0.2909377200686813,-0.2909377200686813],\"type\":\"scatter\"},{\"line\":{\"color\":\"darkblue\",\"dash\":\"solid\",\"width\":5.126876470008262},\"mode\":\"lines\",\"showlegend\":false,\"x\":[0.2085643638543384,0.2085643638543384],\"y\":[-0.11092648420253053,-0.11092648420253053],\"type\":\"scatter\"},{\"line\":{\"color\":\"darkblue\",\"dash\":\"solid\",\"width\":5.126876470008264},\"mode\":\"lines\",\"showlegend\":false,\"x\":[0.1737759842435401,0.2085643638543384],\"y\":[-0.11092648420253053,-0.11092648420253053],\"type\":\"scatter\"},{\"line\":{\"color\":\"darkblue\",\"dash\":\"solid\",\"width\":1.0000000000000018},\"mode\":\"lines\",\"showlegend\":false,\"x\":[0.1737759842435401,0.2085643638543384],\"y\":[-0.3938012834207675,-0.3938012834207675],\"type\":\"scatter\"},{\"line\":{\"color\":\"darkblue\",\"dash\":\"solid\",\"width\":1.0000000000000009},\"mode\":\"lines\",\"showlegend\":false,\"x\":[0.2085643638543384,0.24335274346513672],\"y\":[-0.3938012834207675,-0.3938012834207675],\"type\":\"scatter\"},{\"hoverinfo\":\"none\",\"marker\":{\"color\":\"black\",\"line\":{\"color\":\"black\",\"width\":1},\"size\":20,\"symbol\":\"square\"},\"mode\":\"markers\",\"name\":\"Substation\",\"showlegend\":true,\"x\":[-0.8611783091777097],\"y\":[-0.2909377200686813],\"type\":\"scatter\"},{\"hoverinfo\":\"none\",\"marker\":{\"color\":\"orange\",\"line\":{\"color\":\"black\",\"width\":0.5},\"size\":10,\"symbol\":\"star-triangle-up\"},\"mode\":\"markers\",\"name\":\"Reverse Power Flow\",\"showlegend\":true,\"x\":[],\"y\":[],\"type\":\"scatter\"},{\"hoverinfo\":\"none\",\"marker\":{\"color\":\"white\",\"line\":{\"color\":\"black\",\"width\":1},\"size\":20,\"symbol\":\"star-diamond\"},\"mode\":\"markers\",\"name\":\"Capacitors\",\"showlegend\":true,\"x\":[0.5912365395731198,0.13029050973004222,0.06941084541114516,-0.008863008713151037],\"y\":[-0.9724088272762521,-0.3938012834207675,-0.5995284101249398,-0.6381022463819721],\"type\":\"scatter\"},{\"hoverinfo\":\"none\",\"marker\":{\"color\":\"white\",\"line\":{\"color\":\"black\",\"width\":1},\"size\":20,\"symbol\":\"square\"},\"mode\":\"markers\",\"name\":\"Generators\",\"showlegend\":true,\"x\":[-0.37414099462653333],\"y\":[-0.2909377200686813],\"type\":\"scatter\"},{\"hovertemplate\":\"%{text}\",\"marker\":{\"cmax\":1.05,\"cmin\":0.95,\"color\":[0.9999999999999991,1.037499999999998,1.0372426546891866,1.0298728447728567,1.0345780664568534,1.0271832994755024,1.0246314577116977,1.026671003730218,1.02588027496407,1.0252059775986466,1.0211409933348374,1.0314557106357456,1.0104543365386478,1.0160949432224948,1.0104543365386478,1.0087762496310322,1.0132984287842077,1.0093026417661215,1.0081161527552767,1.0084481462122974,1.012908965018768,1.011934649826825,1.0124544012712833,0.9944626142258718,1.008744858241648,0.9936105731744654,1.023879738790968,1.008353847190768,1.0031201048252492,1.0079846401901429,1.0051376929446865,1.004760948466996,1.0078209956546649,1.0045648506338771,1.002580936874139,1.0046819715158624,1.0076650612679645,1.0075866887737157,1.0075866887737155,1.0021873084309239,1.0071259628234777,1.0070995270246992,1.0058969558788722,0.991299277585114,1.0214716665274062,1.0210531246057883,1.0043150551349214,1.0047023727872517,1.0189518735892638,1.003829055763349,0.9883487150904048,1.0027952699238345,0.9879493994793428,1.0025359683526418,1.002414797930869,1.0023028337119204,1.0022685984770063,1.0022685984770063,1.012645471852225,1.0110270825802055,1.0100435201181652,1.0099724794842804,1.0073257699355425,1.0099333294520798,1.0231757844231788,1.001644545928437,1.022854384433839,1.001644545928437,1.0003327839370082,0.9995135678050842,0.9980662230509889,0.9967251407884715,0.9963759967509147,1.0310296699171826,1.0316856949980018,1.030809489347828,1.0302891437922859,1.0299311536032454,1.0286852097987045,1.027981703290127,1.0270260167957788,1.030823643506831,1.0251879828053605,1.024161142125089,1.031900184641582,1.0304229078096205,1.032194812524988,1.0321221949448334,1.033746045351393,1.0343616702746725,1.0353257893600771,1.0293494455781913,1.0363646893069678,1.028134893951935,1.0301717449943224,1.0322332198163222,1.0300747697860915,1.0261594552336621,1.0299709254295968,1.0322421049133064,1.0298440932613016,1.0306527478020662,1.0297663258380838,1.0251263219246565,1.0300677028969822,1.0297802936760714,1.0296897052544702,1.0296897052544702,1.0302620971153555,1.0297223955693227,1.0266242593623398,1.0293250337345865,1.024957459248199,1.0231594071123113,1.0283933268469378,1.0289982154290305,1.026921585326123,1.0245675750779002,1.0289982154290305,1.0226099355113951,1.0218700640210632,1.0219540447069246,1.019883657713265,1.019464416780103,1.0092324032857372,1.0159659326469734,1.0326554748272003,1.0015626276988168,1.0016445459284369,1.0016445459284367],\"colorscale\":[[0.0,\"#440154\"],[0.1111111111111111,\"#482878\"],[0.2222222222222222,\"#3e4989\"],[0.3333333333333333,\"#31688e\"],[0.4444444444444444,\"#26828e\"],[0.5555555555555556,\"#1f9e89\"],[0.6666666666666666,\"#35b779\"],[0.7777777777777778,\"#6ece58\"],[0.8888888888888888,\"#b5de2b\"],[1.0,\"#fde725\"]],\"line\":{\"color\":\"black\",\"width\":2.0},\"reversescale\":false,\"showscale\":true,\"size\":10},\"mode\":\"markers\",\"showlegend\":false,\"text\":[\"Bus: '150'      A   ||   B   ||   C\\u003cbr\\u003e    |V|:      1.000  1.000  1.000\\u003cbr\\u003e    P-Load: 0.000  0.000  0.000\\u003cbr\\u003e    Q-Load: 0.000  0.000  0.000\",\"Bus: '150r'      A   ||   B   ||   C\\u003cbr\\u003e    |V|:      1.037  1.037  1.037\\u003cbr\\u003e    P-Load: 0.000  0.000  0.000\\u003cbr\\u003e    Q-Load: 0.000  0.000  0.000\\u003cbr\\u003eBranch 150\\u2192150r\\u003cbr\\u003e    P flow:  1.398  0.940  1.153\\u003cbr\\u003e    Q flow:  0.478  0.304  0.347\",\"Bus: '149'      A   ||   B   ||   C\\u003cbr\\u003e    |V|:      1.037  1.037  1.037\\u003cbr\\u003e    P-Load: 0.000  0.000  0.000\\u003cbr\\u003e    Q-Load: 0.000  0.000  0.000\\u003cbr\\u003eBranch 150r\\u2192149\\u003cbr\\u003e    P flow:  1.398  0.940  1.153\\u003cbr\\u003e    Q flow:  0.478  0.304  0.347\",\"Bus: '1'      A   ||   B   ||   C\\u003cbr\\u003e    |V|:      1.026  1.035  1.029\\u003cbr\\u003e    P-Load: 0.040  0.000  0.000\\u003cbr\\u003e    Q-Load: 0.020  0.000  0.000\\u003cbr\\u003eBranch 149\\u21921\\u003cbr\\u003e    P flow:  1.398  0.940  1.153\\u003cbr\\u003e    Q flow:  0.478  0.304  0.347\",\"Bus: '2'      A   ||   B   ||   C\\u003cbr\\u003e    |V|:      nan  1.035  nan\\u003cbr\\u003e    P-Load: 0.000  0.020  0.000\\u003cbr\\u003e    Q-Load: 0.000  0.010  0.000\\u003cbr\\u003eBranch 1\\u21922\\u003cbr\\u003e    P flow:  nan  0.020  nan\\u003cbr\\u003e    Q flow:  0.000  0.010  0.000\",\"Bus: '3'      A   ||   B   ||   C\\u003cbr\\u003e    |V|:      nan  nan  1.027\\u003cbr\\u003e    P-Load: 0.000  0.000  0.000\\u003cbr\\u003e    Q-Load: 0.000  0.000  0.000\\u003cbr\\u003eBranch 1\\u21923\\u003cbr\\u003e    P flow:  nan  nan  0.103\\u003cbr\\u003e    Q flow:  0.000  0.000  0.051\",\"Bus: '7'      A   ||   B   ||   C\\u003cbr\\u003e    |V|:      1.017  1.033  1.023\\u003cbr\\u003e    P-Load: 0.020  0.000  0.000\\u003cbr\\u003e    Q-Load: 0.010  0.000  0.000\\u003cbr\\u003eBranch 1\\u21927\\u003cbr\\u003e    P flow:  1.358  0.920  1.051\\u003cbr\\u003e    Q flow:  0.458  0.294  0.295\",\"Bus: '4'      A   ||   B   ||   C\\u003cbr\\u003e    |V|:      nan  nan  1.027\\u003cbr\\u003e    P-Load: 0.000  0.000  0.040\\u003cbr\\u003e    Q-Load: 0.000  0.000  0.020\\u003cbr\\u003eBranch 3\\u21924\\u003cbr\\u003e    P flow:  nan  nan  0.040\\u003cbr\\u003e    Q flow:  0.000  0.000  0.020\",\"Bus: '5'      A   ||   B   ||   C\\u003cbr\\u003e    |V|:      nan  nan  1.026\\u003cbr\\u003e    P-Load: 0.000  0.000  0.021\\u003cbr\\u003e    Q-Load: 0.000  0.000  0.010\\u003cbr\\u003eBranch 3\\u21925\\u003cbr\\u003e    P flow:  nan  nan  0.063\\u003cbr\\u003e    Q flow:  0.000  0.000  0.031\",\"Bus: '6'      A   ||   B   ||   C\\u003cbr\\u003e    |V|:      nan  nan  1.025\\u003cbr\\u003e    P-Load: 0.000  0.000  0.042\\u003cbr\\u003e    Q-Load: 0.000  0.000  0.021\\u003cbr\\u003eBranch 5\\u21926\\u003cbr\\u003e    P flow:  nan  nan  0.042\\u003cbr\\u003e    Q flow:  0.000  0.000  0.021\",\"Bus: '8'      A   ||   B   ||   C\\u003cbr\\u003e    |V|:      1.012  1.032  1.020\\u003cbr\\u003e    P-Load: 0.000  0.000  0.000\\u003cbr\\u003e    Q-Load: 0.000  0.000  0.000\\u003cbr\\u003eBranch 7\\u21928\\u003cbr\\u003e    P flow:  1.338  0.920  1.051\\u003cbr\\u003e    Q flow:  0.448  0.294  0.295\",\"Bus: '12'      A   ||   B   ||   C\\u003cbr\\u003e    |V|:      nan  1.031  nan\\u003cbr\\u003e    P-Load: 0.000  0.020  0.000\\u003cbr\\u003e    Q-Load: 0.000  0.010  0.000\\u003cbr\\u003eBranch 8\\u219212\\u003cbr\\u003e    P flow:  nan  0.020  nan\\u003cbr\\u003e    Q flow:  0.000  0.010  0.000\",\"Bus: '9'      A   ||   B   ||   C\\u003cbr\\u003e    |V|:      1.010  nan  nan\\u003cbr\\u003e    P-Load: 0.040  0.000  0.000\\u003cbr\\u003e    Q-Load: 0.020  0.000  0.000\\u003cbr\\u003eBranch 8\\u21929\\u003cbr\\u003e    P flow:  0.101  nan  nan\\u003cbr\\u003e    Q flow:  0.050  0.000  0.000\",\"Bus: '13'      A   ||   B   ||   C\\u003cbr\\u003e    |V|:      1.005  1.029  1.014\\u003cbr\\u003e    P-Load: 0.000  0.000  0.000\\u003cbr\\u003e    Q-Load: 0.000  0.000  0.000\\u003cbr\\u003e    P-Gen:  0.010  0.010  nan\\u003cbr\\u003e    Q-Gen:  0.000  0.000  0.000\\u003cbr\\u003eBranch 8\\u219213\\u003cbr\\u003e    P flow:  1.237  0.900  1.051\\u003cbr\\u003e    Q flow:  0.397  0.284  0.295\",\"Bus: '9r'      A   ||   B   ||   C\\u003cbr\\u003e    |V|:      1.010  nan  nan\\u003cbr\\u003e    P-Load: 0.000  0.000  0.000\\u003cbr\\u003e    Q-Load: 0.000  0.000  0.000\\u003cbr\\u003eBranch 9\\u21929r\\u003cbr\\u003e    P flow:  0.061  nan  nan\\u003cbr\\u003e    Q flow:  0.030  0.000  0.000\",\"Bus: '14'      A   ||   B   ||   C\\u003cbr\\u003e    |V|:      1.009  nan  nan\\u003cbr\\u003e    P-Load: 0.000  0.000  0.000\\u003cbr\\u003e    Q-Load: 0.000  0.000  0.000\\u003cbr\\u003eBranch 9r\\u219214\\u003cbr\\u003e    P flow:  0.061  nan  nan\\u003cbr\\u003e    Q flow:  0.030  0.000  0.000\",\"Bus: '34'      A   ||   B   ||   C\\u003cbr\\u003e    |V|:      nan  nan  1.013\\u003cbr\\u003e    P-Load: 0.000  0.000  0.041\\u003cbr\\u003e    Q-Load: 0.000  0.000  0.021\\u003cbr\\u003eBranch 13\\u219234\\u003cbr\\u003e    P flow:  nan  nan  0.101\\u003cbr\\u003e    Q flow:  0.000  0.000  0.051\",\"Bus: '18'      A   ||   B   ||   C\\u003cbr\\u003e    |V|:      0.996  1.025  1.007\\u003cbr\\u003e    P-Load: 0.000  0.000  0.000\\u003cbr\\u003e    Q-Load: 0.000  0.000  0.000\\u003cbr\\u003eBranch 13\\u219218\\u003cbr\\u003e    P flow:  0.480  0.317  0.320\\u003cbr\\u003e    Q flow:  0.255  0.211  0.185\",\"Bus: '11'      A   ||   B   ||   C\\u003cbr\\u003e    |V|:      1.008  nan  nan\\u003cbr\\u003e    P-Load: 0.040  0.000  0.000\\u003cbr\\u003e    Q-Load: 0.020  0.000  0.000\\u003cbr\\u003eBranch 14\\u219211\\u003cbr\\u003e    P flow:  0.040  nan  nan\\u003cbr\\u003e    Q flow:  0.020  0.000  0.000\",\"Bus: '10'      A   ||   B   ||   C\\u003cbr\\u003e    |V|:      1.008  nan  nan\\u003cbr\\u003e    P-Load: 0.020  0.000  0.000\\u003cbr\\u003e    Q-Load: 0.010  0.000  0.000\\u003cbr\\u003eBranch 14\\u219210\\u003cbr\\u003e    P flow:  0.020  nan  nan\\u003cbr\\u003e    Q flow:  0.010  0.000  0.000\",\"Bus: '15'      A   ||   B   ||   C\\u003cbr\\u003e    |V|:      nan  nan  1.013\\u003cbr\\u003e    P-Load: 0.000  0.000  0.000\\u003cbr\\u003e    Q-Load: 0.000  0.000  0.000\\u003cbr\\u003eBranch 34\\u219215\\u003cbr\\u003e    P flow:  nan  nan  0.060\\u003cbr\\u003e    Q flow:  0.000  0.000  0.030\",\"Bus: '16'      A   ||   B   ||   C\\u003cbr\\u003e    |V|:      nan  nan  1.012\\u003cbr\\u003e    P-Load: 0.000  0.000  0.040\\u003cbr\\u003e    Q-Load: 0.000  0.000  0.020\\u003cbr\\u003eBranch 15\\u219216\\u003cbr\\u003e    P flow:  nan  nan  0.040\\u003cbr\\u003e    Q flow:  0.000  0.000  0.020\",\"Bus: '17'      A   ||   B   ||   C\\u003cbr\\u003e    |V|:      nan  nan  1.012\\u003cbr\\u003e    P-Load: 0.000  0.000  0.020\\u003cbr\\u003e    Q-Load: 0.000  0.000  0.010\\u003cbr\\u003eBranch 15\\u219217\\u003cbr\\u003e    P flow:  nan  nan  0.020\\u003cbr\\u003e    Q flow:  0.000  0.000  0.010\",\"Bus: '19'      A   ||   B   ||   C\\u003cbr\\u003e    |V|:      0.994  nan  nan\\u003cbr\\u003e    P-Load: 0.040  0.000  0.000\\u003cbr\\u003e    Q-Load: 0.020  0.000  0.000\\u003cbr\\u003eBranch 18\\u219219\\u003cbr\\u003e    P flow:  0.080  nan  nan\\u003cbr\\u003e    Q flow:  0.040  0.000  0.000\",\"Bus: '21'      A   ||   B   ||   C\\u003cbr\\u003e    |V|:      0.995  1.025  1.006\\u003cbr\\u003e    P-Load: 0.000  0.000  0.000\\u003cbr\\u003e    Q-Load: 0.000  0.000  0.000\\u003cbr\\u003eBranch 18\\u219221\\u003cbr\\u003e    P flow:  0.119  0.042  0.120\\u003cbr\\u003e    Q flow:  0.059  0.021  0.060\",\"Bus: '20'      A   ||   B   ||   C\\u003cbr\\u003e    |V|:      0.994  nan  nan\\u003cbr\\u003e    P-Load: 0.040  0.000  0.000\\u003cbr\\u003e    Q-Load: 0.020  0.000  0.000\\u003cbr\\u003eBranch 19\\u219220\\u003cbr\\u003e    P flow:  0.040  nan  nan\\u003cbr\\u003e    Q flow:  0.020  0.000  0.000\",\"Bus: '22'      A   ||   B   ||   C\\u003cbr\\u003e    |V|:      nan  1.024  nan\\u003cbr\\u003e    P-Load: 0.000  0.042  0.000\\u003cbr\\u003e    Q-Load: 0.000  0.021  0.000\\u003cbr\\u003eBranch 21\\u219222\\u003cbr\\u003e    P flow:  nan  0.042  nan\\u003cbr\\u003e    Q flow:  0.000  0.021  0.000\",\"Bus: '23'      A   ||   B   ||   C\\u003cbr\\u003e    |V|:      0.995  1.026  1.005\\u003cbr\\u003e    P-Load: 0.000  0.000  0.000\\u003cbr\\u003e    Q-Load: 0.000  0.000  0.000\\u003cbr\\u003eBranch 21\\u219223\\u003cbr\\u003e    P flow:  0.119  0.000  0.120\\u003cbr\\u003e    Q flow:  0.059  -0.000  0.060\",\"Bus: '24'      A   ||   B   ||   C\\u003cbr\\u003e    |V|:      nan  nan  1.003\\u003cbr\\u003e    P-Load: 0.000  0.000  0.040\\u003cbr\\u003e    Q-Load: 0.000  0.000  0.020\\u003cbr\\u003eBranch 23\\u219224\\u003cbr\\u003e    P flow:  nan  nan  0.040\\u003cbr\\u003e    Q flow:  0.000  0.000  0.020\",\"Bus: '25'      A   ||   B   ||   C\\u003cbr\\u003e    |V|:      0.994  1.026  1.004\\u003cbr\\u003e    P-Load: 0.000  0.000  0.000\\u003cbr\\u003e    Q-Load: 0.000  0.000  0.000\\u003cbr\\u003eBranch 23\\u219225\\u003cbr\\u003e    P flow:  0.119  0.000  0.080\\u003cbr\\u003e    Q flow:  0.059  -0.000  0.040\",\"Bus: '25r'      A   ||   B   ||   C\\u003cbr\\u003e    |V|:      1.007  nan  1.004\\u003cbr\\u003e    P-Load: 0.000  0.000  0.000\\u003cbr\\u003e    Q-Load: 0.000  0.000  0.000\\u003cbr\\u003eBranch 25\\u219225r\\u003cbr\\u003e    P flow:  0.040  nan  0.040\\u003cbr\\u003e    Q flow:  0.020  0.000  0.020\",\"Bus: '26'      A   ||   B   ||   C\\u003cbr\\u003e    |V|:      1.006  nan  1.003\\u003cbr\\u003e    P-Load: 0.000  0.000  0.000\\u003cbr\\u003e    Q-Load: 0.000  0.000  0.000\\u003cbr\\u003eBranch 25r\\u219226\\u003cbr\\u003e    P flow:  0.040  nan  0.040\\u003cbr\\u003e    Q flow:  0.020  0.000  0.020\",\"Bus: '28'      A   ||   B   ||   C\\u003cbr\\u003e    |V|:      0.994  1.026  1.003\\u003cbr\\u003e    P-Load: 0.040  0.000  0.000\\u003cbr\\u003e    Q-Load: 0.020  0.000  0.000\\u003cbr\\u003eBranch 25\\u219228\\u003cbr\\u003e    P flow:  0.079  0.000  0.040\\u003cbr\\u003e    Q flow:  0.039  -0.000  0.020\",\"Bus: '27'      A   ||   B   ||   C\\u003cbr\\u003e    |V|:      1.006  nan  1.003\\u003cbr\\u003e    P-Load: 0.000  0.000  0.000\\u003cbr\\u003e    Q-Load: 0.000  0.000  0.000\\u003cbr\\u003eBranch 26\\u219227\\u003cbr\\u003e    P flow:  0.040  nan  -0.000\\u003cbr\\u003e    Q flow:  0.020  0.000  0.000\",\"Bus: '31'      A   ||   B   ||   C\\u003cbr\\u003e    |V|:      nan  nan  1.003\\u003cbr\\u003e    P-Load: 0.000  0.000  0.020\\u003cbr\\u003e    Q-Load: 0.000  0.000  0.010\\u003cbr\\u003eBranch 26\\u219231\\u003cbr\\u003e    P flow:  nan  nan  0.040\\u003cbr\\u003e    Q flow:  0.000  0.000  0.020\",\"Bus: '33'      A   ||   B   ||   C\\u003cbr\\u003e    |V|:      1.005  nan  nan\\u003cbr\\u003e    P-Load: 0.040  0.000  0.000\\u003cbr\\u003e    Q-Load: 0.020  0.000  0.000\\u003cbr\\u003eBranch 27\\u219233\\u003cbr\\u003e    P flow:  0.040  nan  nan\\u003cbr\\u003e    Q flow:  0.020  0.000  0.000\",\"Bus: '29'      A   ||   B   ||   C\\u003cbr\\u003e    |V|:      0.994  1.026  1.003\\u003cbr\\u003e    P-Load: 0.039  0.000  0.000\\u003cbr\\u003e    Q-Load: 0.020  0.000  0.000\\u003cbr\\u003eBranch 28\\u219229\\u003cbr\\u003e    P flow:  0.039  0.000  0.040\\u003cbr\\u003e    Q flow:  0.020  -0.000  0.020\",\"Bus: '30'      A   ||   B   ||   C\\u003cbr\\u003e    |V|:      0.994  1.026  1.002\\u003cbr\\u003e    P-Load: 0.000  0.000  0.040\\u003cbr\\u003e    Q-Load: 0.000  0.000  0.020\\u003cbr\\u003eBranch 29\\u219230\\u003cbr\\u003e    P flow:  0.000  0.000  0.040\\u003cbr\\u003e    Q flow:  0.000  -0.000  0.020\",\"Bus: '250'      A   ||   B   ||   C\\u003cbr\\u003e    |V|:      0.994  1.026  1.002\\u003cbr\\u003e    P-Load: 0.000  0.000  0.000\\u003cbr\\u003e    Q-Load: 0.000  0.000  0.000\\u003cbr\\u003eBranch 30\\u2192250\\u003cbr\\u003e    P flow:  0.000  0.000  -0.000\\u003cbr\\u003e    Q flow:  0.000  -0.000  0.000\",\"Bus: '32'      A   ||   B   ||   C\\u003cbr\\u003e    |V|:      nan  nan  1.002\\u003cbr\\u003e    P-Load: 0.000  0.000  0.020\\u003cbr\\u003e    Q-Load: 0.000  0.000  0.010\\u003cbr\\u003eBranch 31\\u219232\\u003cbr\\u003e    P flow:  nan  nan  0.020\\u003cbr\\u003e    Q flow:  0.000  0.000  0.010\",\"Bus: '35'      A   ||   B   ||   C\\u003cbr\\u003e    |V|:      0.993  1.023  1.006\\u003cbr\\u003e    P-Load: 0.025  0.015  0.000\\u003cbr\\u003e    Q-Load: -0.002  0.022  0.000\\u003cbr\\u003eBranch 135\\u219235\\u003cbr\\u003e    P flow:  0.281  0.275  0.200\\u003cbr\\u003e    Q flow:  0.155  0.190  0.125\",\"Bus: '36'      A   ||   B   ||   C\\u003cbr\\u003e    |V|:      0.992  1.022  nan\\u003cbr\\u003e    P-Load: 0.000  0.000  0.000\\u003cbr\\u003e    Q-Load: 0.000  0.000  0.000\\u003cbr\\u003eBranch 35\\u219236\\u003cbr\\u003e    P flow:  0.039  0.040  nan\\u003cbr\\u003e    Q flow:  0.020  0.020  0.000\",\"Bus: '40'      A   ||   B   ||   C\\u003cbr\\u003e    |V|:      0.992  1.021  1.005\\u003cbr\\u003e    P-Load: 0.000  0.000  0.000\\u003cbr\\u003e    Q-Load: 0.000  0.000  0.000\\u003cbr\\u003eBranch 35\\u219240\\u003cbr\\u003e    P flow:  0.217  0.220  0.200\\u003cbr\\u003e    Q flow:  0.138  0.148  0.125\",\"Bus: '37'      A   ||   B   ||   C\\u003cbr\\u003e    |V|:      0.991  nan  nan\\u003cbr\\u003e    P-Load: 0.039  0.000  0.000\\u003cbr\\u003e    Q-Load: 0.020  0.000  0.000\\u003cbr\\u003eBranch 36\\u219237\\u003cbr\\u003e    P flow:  0.039  nan  nan\\u003cbr\\u003e    Q flow:  0.020  0.000  0.000\",\"Bus: '38'      A   ||   B   ||   C\\u003cbr\\u003e    |V|:      nan  1.021  nan\\u003cbr\\u003e    P-Load: 0.000  0.020  0.000\\u003cbr\\u003e    Q-Load: 0.000  0.010  0.000\\u003cbr\\u003eBranch 36\\u219238\\u003cbr\\u003e    P flow:  nan  0.040  nan\\u003cbr\\u003e    Q flow:  0.000  0.020  0.000\",\"Bus: '39'      A   ||   B   ||   C\\u003cbr\\u003e    |V|:      nan  1.021  nan\\u003cbr\\u003e    P-Load: 0.000  0.020  0.000\\u003cbr\\u003e    Q-Load: 0.000  0.010  0.000\\u003cbr\\u003eBranch 38\\u219239\\u003cbr\\u003e    P flow:  nan  0.020  nan\\u003cbr\\u003e    Q flow:  0.000  0.010  0.000\",\"Bus: '41'      A   ||   B   ||   C\\u003cbr\\u003e    |V|:      nan  nan  1.004\\u003cbr\\u003e    P-Load: 0.000  0.000  0.020\\u003cbr\\u003e    Q-Load: 0.000  0.000  0.010\\u003cbr\\u003eBranch 40\\u219241\\u003cbr\\u003e    P flow:  nan  nan  0.020\\u003cbr\\u003e    Q flow:  0.000  0.000  0.010\",\"Bus: '42'      A   ||   B   ||   C\\u003cbr\\u003e    |V|:      0.990  1.020  1.004\\u003cbr\\u003e    P-Load: 0.020  0.000  0.000\\u003cbr\\u003e    Q-Load: 0.010  0.000  0.000\\u003cbr\\u003eBranch 40\\u219242\\u003cbr\\u003e    P flow:  0.217  0.220  0.180\\u003cbr\\u003e    Q flow:  0.138  0.148  0.115\",\"Bus: '43'      A   ||   B   ||   C\\u003cbr\\u003e    |V|:      nan  1.019  nan\\u003cbr\\u003e    P-Load: 0.000  0.042  0.000\\u003cbr\\u003e    Q-Load: 0.000  0.021  0.000\\u003cbr\\u003eBranch 42\\u219243\\u003cbr\\u003e    P flow:  nan  0.042  nan\\u003cbr\\u003e    Q flow:  0.000  0.021  0.000\",\"Bus: '44'      A   ||   B   ||   C\\u003cbr\\u003e    |V|:      0.989  1.020  1.003\\u003cbr\\u003e    P-Load: 0.000  0.000  0.000\\u003cbr\\u003e    Q-Load: 0.000  0.000  0.000\\u003cbr\\u003eBranch 42\\u219244\\u003cbr\\u003e    P flow:  0.197  0.178  0.180\\u003cbr\\u003e    Q flow:  0.128  0.127  0.115\",\"Bus: '45'      A   ||   B   ||   C\\u003cbr\\u003e    |V|:      0.988  nan  nan\\u003cbr\\u003e    P-Load: 0.020  0.000  0.000\\u003cbr\\u003e    Q-Load: 0.010  0.000  0.000\\u003cbr\\u003eBranch 44\\u219245\\u003cbr\\u003e    P flow:  0.040  nan  nan\\u003cbr\\u003e    Q flow:  0.020  0.000  0.000\",\"Bus: '47'      A   ||   B   ||   C\\u003cbr\\u003e    |V|:      0.988  1.018  1.002\\u003cbr\\u003e    P-Load: 0.034  0.036  0.035\\u003cbr\\u003e    Q-Load: 0.025  0.025  0.025\\u003cbr\\u003eBranch 44\\u219247\\u003cbr\\u003e    P flow:  0.157  0.178  0.180\\u003cbr\\u003e    Q flow:  0.108  0.127  0.115\",\"Bus: '46'      A   ||   B   ||   C\\u003cbr\\u003e    |V|:      0.988  nan  nan\\u003cbr\\u003e    P-Load: 0.020  0.000  0.000\\u003cbr\\u003e    Q-Load: 0.010  0.000  0.000\\u003cbr\\u003eBranch 45\\u219246\\u003cbr\\u003e    P flow:  0.020  nan  nan\\u003cbr\\u003e    Q flow:  0.010  0.000  0.000\",\"Bus: '48'      A   ||   B   ||   C\\u003cbr\\u003e    |V|:      0.988  1.018  1.002\\u003cbr\\u003e    P-Load: 0.068  0.073  0.070\\u003cbr\\u003e    Q-Load: 0.048  0.052  0.050\\u003cbr\\u003eBranch 47\\u219248\\u003cbr\\u003e    P flow:  0.068  0.073  0.070\\u003cbr\\u003e    Q flow:  0.048  0.052  0.050\",\"Bus: '49'      A   ||   B   ||   C\\u003cbr\\u003e    |V|:      0.988  1.018  1.002\\u003cbr\\u003e    P-Load: 0.035  0.070  0.035\\u003cbr\\u003e    Q-Load: 0.025  0.050  0.020\\u003cbr\\u003eBranch 47\\u219249\\u003cbr\\u003e    P flow:  0.055  0.070  0.075\\u003cbr\\u003e    Q flow:  0.035  0.050  0.040\",\"Bus: '50'      A   ||   B   ||   C\\u003cbr\\u003e    |V|:      0.988  1.018  1.001\\u003cbr\\u003e    P-Load: 0.000  0.000  0.040\\u003cbr\\u003e    Q-Load: 0.000  0.000  0.020\\u003cbr\\u003eBranch 49\\u219250\\u003cbr\\u003e    P flow:  0.020  0.000  0.040\\u003cbr\\u003e    Q flow:  0.010  -0.000  0.020\",\"Bus: '51'      A   ||   B   ||   C\\u003cbr\\u003e    |V|:      0.987  1.018  1.001\\u003cbr\\u003e    P-Load: 0.020  0.000  0.000\\u003cbr\\u003e    Q-Load: 0.010  0.000  0.000\\u003cbr\\u003eBranch 50\\u219251\\u003cbr\\u003e    P flow:  0.020  0.000  -0.000\\u003cbr\\u003e    Q flow:  0.010  -0.000  0.000\",\"Bus: '151'      A   ||   B   ||   C\\u003cbr\\u003e    |V|:      0.987  1.018  1.001\\u003cbr\\u003e    P-Load: 0.000  0.000  0.000\\u003cbr\\u003e    Q-Load: 0.000  0.000  0.000\\u003cbr\\u003eBranch 51\\u2192151\\u003cbr\\u003e    P flow:  0.000  0.000  -0.000\\u003cbr\\u003e    Q flow:  0.000  -0.000  0.000\",\"Bus: '52'      A   ||   B   ||   C\\u003cbr\\u003e    |V|:      0.999  1.028  1.011\\u003cbr\\u003e    P-Load: 0.040  0.000  0.000\\u003cbr\\u003e    Q-Load: 0.020  0.000  0.000\\u003cbr\\u003eBranch 152\\u219252\\u003cbr\\u003e    P flow:  0.767  0.593  0.629\\u003cbr\\u003e    Q flow:  0.143  0.072  0.060\",\"Bus: '53'      A   ||   B   ||   C\\u003cbr\\u003e    |V|:      0.996  1.027  1.010\\u003cbr\\u003e    P-Load: 0.040  0.000  0.000\\u003cbr\\u003e    Q-Load: 0.020  0.000  0.000\\u003cbr\\u003eBranch 52\\u219253\\u003cbr\\u003e    P flow:  0.727  0.593  0.629\\u003cbr\\u003e    Q flow:  0.123  0.072  0.060\",\"Bus: '54'      A   ||   B   ||   C\\u003cbr\\u003e    |V|:      0.995  1.027  1.009\\u003cbr\\u003e    P-Load: 0.000  0.000  0.000\\u003cbr\\u003e    Q-Load: 0.000  0.000  0.000\\u003cbr\\u003eBranch 53\\u219254\\u003cbr\\u003e    P flow:  0.687  0.593  0.629\\u003cbr\\u003e    Q flow:  0.103  0.072  0.060\",\"Bus: '55'      A   ||   B   ||   C\\u003cbr\\u003e    |V|:      0.995  1.027  1.009\\u003cbr\\u003e    P-Load: 0.020  0.000  0.000\\u003cbr\\u003e    Q-Load: 0.010  0.000  0.000\\u003cbr\\u003eBranch 54\\u219255\\u003cbr\\u003e    P flow:  0.020  0.020  -0.000\\u003cbr\\u003e    Q flow:  0.010  0.010  0.000\",\"Bus: '57'      A   ||   B   ||   C\\u003cbr\\u003e    |V|:      0.992  1.024  1.006\\u003cbr\\u003e    P-Load: 0.000  0.000  0.000\\u003cbr\\u003e    Q-Load: 0.000  0.000  0.000\\u003cbr\\u003eBranch 54\\u219257\\u003cbr\\u003e    P flow:  0.668  0.573  0.629\\u003cbr\\u003e    Q flow:  0.093  0.062  0.060\",\"Bus: '56'      A   ||   B   ||   C\\u003cbr\\u003e    |V|:      0.995  1.026  1.009\\u003cbr\\u003e    P-Load: 0.000  0.020  0.000\\u003cbr\\u003e    Q-Load: 0.000  0.010  0.000\\u003cbr\\u003eBranch 55\\u219256\\u003cbr\\u003e    P flow:  0.000  0.020  -0.000\\u003cbr\\u003e    Q flow:  0.000  0.010  0.000\",\"Bus: '58'      A   ||   B   ||   C\\u003cbr\\u003e    |V|:      nan  1.023  nan\\u003cbr\\u003e    P-Load: 0.000  0.020  0.000\\u003cbr\\u003e    Q-Load: 0.000  0.010  0.000\\u003cbr\\u003eBranch 57\\u219258\\u003cbr\\u003e    P flow:  nan  0.040  nan\\u003cbr\\u003e    Q flow:  0.000  0.020  0.000\",\"Bus: '60'      A   ||   B   ||   C\\u003cbr\\u003e    |V|:      0.986  1.019  1.000\\u003cbr\\u003e    P-Load: 0.020  0.000  0.000\\u003cbr\\u003e    Q-Load: 0.010  0.000  0.000\\u003cbr\\u003eBranch 57\\u219260\\u003cbr\\u003e    P flow:  0.668  0.533  0.629\\u003cbr\\u003e    Q flow:  0.093  0.042  0.060\",\"Bus: '59'      A   ||   B   ||   C\\u003cbr\\u003e    |V|:      nan  1.023  nan\\u003cbr\\u003e    P-Load: 0.000  0.020  0.000\\u003cbr\\u003e    Q-Load: 0.000  0.010  0.000\\u003cbr\\u003eBranch 58\\u219259\\u003cbr\\u003e    P flow:  nan  0.020  nan\\u003cbr\\u003e    Q flow:  0.000  0.010  0.000\",\"Bus: '61'      A   ||   B   ||   C\\u003cbr\\u003e    |V|:      0.986  1.019  1.000\\u003cbr\\u003e    P-Load: 0.000  0.000  0.000\\u003cbr\\u003e    Q-Load: 0.000  0.000  0.000\\u003cbr\\u003eBranch 60\\u219261\\u003cbr\\u003e    P flow:  0.000  0.000  -0.000\\u003cbr\\u003e    Q flow:  0.000  -0.000  0.000\",\"Bus: '62'      A   ||   B   ||   C\\u003cbr\\u003e    |V|:      0.985  1.018  0.998\\u003cbr\\u003e    P-Load: 0.000  0.000  0.040\\u003cbr\\u003e    Q-Load: 0.000  0.000  0.020\\u003cbr\\u003eBranch 60\\u219262\\u003cbr\\u003e    P flow:  0.084  0.112  0.173\\u003cbr\\u003e    Q flow:  0.065  0.061  0.083\",\"Bus: '63'      A   ||   B   ||   C\\u003cbr\\u003e    |V|:      0.984  1.017  0.997\\u003cbr\\u003e    P-Load: 0.040  0.000  0.000\\u003cbr\\u003e    Q-Load: 0.020  0.000  0.000\\u003cbr\\u003eBranch 62\\u219263\\u003cbr\\u003e    P flow:  0.084  0.112  0.134\\u003cbr\\u003e    Q flow:  0.065  0.061  0.063\",\"Bus: '64'      A   ||   B   ||   C\\u003cbr\\u003e    |V|:      0.984  1.015  0.995\\u003cbr\\u003e    P-Load: 0.000  0.076  0.000\\u003cbr\\u003e    Q-Load: 0.000  0.036  0.000\\u003cbr\\u003eBranch 63\\u219264\\u003cbr\\u003e    P flow:  0.044  0.112  0.134\\u003cbr\\u003e    Q flow:  0.045  0.061  0.063\",\"Bus: '65'      A   ||   B   ||   C\\u003cbr\\u003e    |V|:      0.983  1.014  0.992\\u003cbr\\u003e    P-Load: 0.044  0.035  0.059\\u003cbr\\u003e    Q-Load: 0.045  0.025  0.028\\u003cbr\\u003eBranch 64\\u219265\\u003cbr\\u003e    P flow:  0.044  0.035  0.134\\u003cbr\\u003e    Q flow:  0.045  0.025  0.063\",\"Bus: '66'      A   ||   B   ||   C\\u003cbr\\u003e    |V|:      0.984  1.015  0.991\\u003cbr\\u003e    P-Load: 0.000  0.000  0.075\\u003cbr\\u003e    Q-Load: 0.000  0.000  0.035\\u003cbr\\u003eBranch 65\\u219266\\u003cbr\\u003e    P flow:  0.000  0.000  0.075\\u003cbr\\u003e    Q flow:  0.000  -0.000  0.035\",\"Bus: '67'      A   ||   B   ||   C\\u003cbr\\u003e    |V|:      1.033  1.030  1.029\\u003cbr\\u003e    P-Load: 0.000  0.000  0.000\\u003cbr\\u003e    Q-Load: 0.000  0.000  0.000\\u003cbr\\u003eBranch 160r\\u219267\\u003cbr\\u003e    P flow:  0.564  0.421  0.456\\u003cbr\\u003e    Q flow:  0.018  -0.019  -0.023\",\"Bus: '68'      A   ||   B   ||   C\\u003cbr\\u003e    |V|:      1.032  nan  nan\\u003cbr\\u003e    P-Load: 0.020  0.000  0.000\\u003cbr\\u003e    Q-Load: 0.010  0.000  0.000\\u003cbr\\u003eBranch 67\\u219268\\u003cbr\\u003e    P flow:  0.120  nan  nan\\u003cbr\\u003e    Q flow:  0.060  0.000  0.000\",\"Bus: '72'      A   ||   B   ||   C\\u003cbr\\u003e    |V|:      1.034  1.030  1.029\\u003cbr\\u003e    P-Load: 0.000  0.000  0.000\\u003cbr\\u003e    Q-Load: 0.000  0.000  0.000\\u003cbr\\u003eBranch 67\\u219272\\u003cbr\\u003e    P flow:  0.262  0.301  0.314\\u003cbr\\u003e    Q flow:  -0.133  -0.079  -0.094\",\"Bus: '97'      A   ||   B   ||   C\\u003cbr\\u003e    |V|:      1.032  1.030  1.029\\u003cbr\\u003e    P-Load: 0.000  0.000  0.000\\u003cbr\\u003e    Q-Load: 0.000  0.000  0.000\\u003cbr\\u003eBranch 67\\u219297\\u003cbr\\u003e    P flow:  0.182  0.120  0.142\\u003cbr\\u003e    Q flow:  0.091  0.060  0.071\",\"Bus: '69'      A   ||   B   ||   C\\u003cbr\\u003e    |V|:      1.030  nan  nan\\u003cbr\\u003e    P-Load: 0.040  0.000  0.000\\u003cbr\\u003e    Q-Load: 0.020  0.000  0.000\\u003cbr\\u003eBranch 68\\u219269\\u003cbr\\u003e    P flow:  0.100  nan  nan\\u003cbr\\u003e    Q flow:  0.050  0.000  0.000\",\"Bus: '70'      A   ||   B   ||   C\\u003cbr\\u003e    |V|:      1.029  nan  nan\\u003cbr\\u003e    P-Load: 0.020  0.000  0.000\\u003cbr\\u003e    Q-Load: 0.010  0.000  0.000\\u003cbr\\u003eBranch 69\\u219270\\u003cbr\\u003e    P flow:  0.060  nan  nan\\u003cbr\\u003e    Q flow:  0.030  0.000  0.000\",\"Bus: '71'      A   ||   B   ||   C\\u003cbr\\u003e    |V|:      1.028  nan  nan\\u003cbr\\u003e    P-Load: 0.040  0.000  0.000\\u003cbr\\u003e    Q-Load: 0.020  0.000  0.000\\u003cbr\\u003eBranch 70\\u219271\\u003cbr\\u003e    P flow:  0.040  nan  nan\\u003cbr\\u003e    Q flow:  0.020  0.000  0.000\",\"Bus: '73'      A   ||   B   ||   C\\u003cbr\\u003e    |V|:      nan  nan  1.027\\u003cbr\\u003e    P-Load: 0.000  0.000  0.040\\u003cbr\\u003e    Q-Load: 0.000  0.000  0.020\\u003cbr\\u003eBranch 72\\u219273\\u003cbr\\u003e    P flow:  nan  nan  0.122\\u003cbr\\u003e    Q flow:  0.000  0.000  0.061\",\"Bus: '76'      A   ||   B   ||   C\\u003cbr\\u003e    |V|:      1.034  1.029  1.030\\u003cbr\\u003e    P-Load: 0.100  0.080  0.072\\u003cbr\\u003e    Q-Load: 0.055  0.078  0.052\\u003cbr\\u003eBranch 72\\u219276\\u003cbr\\u003e    P flow:  0.262  0.301  0.192\\u003cbr\\u003e    Q flow:  -0.133  -0.079  -0.155\",\"Bus: '74'      A   ||   B   ||   C\\u003cbr\\u003e    |V|:      nan  nan  1.025\\u003cbr\\u003e    P-Load: 0.000  0.000  0.042\\u003cbr\\u003e    Q-Load: 0.000  0.000  0.021\\u003cbr\\u003eBranch 73\\u219274\\u003cbr\\u003e    P flow:  nan  nan  0.082\\u003cbr\\u003e    Q flow:  0.000  0.000  0.041\",\"Bus: '75'      A   ||   B   ||   C\\u003cbr\\u003e    |V|:      nan  nan  1.024\\u003cbr\\u003e    P-Load: 0.000  0.000  0.040\\u003cbr\\u003e    Q-Load: 0.000  0.000  0.020\\u003cbr\\u003eBranch 74\\u219275\\u003cbr\\u003e    P flow:  nan  nan  0.040\\u003cbr\\u003e    Q flow:  0.000  0.000  0.020\",\"Bus: '77'      A   ||   B   ||   C\\u003cbr\\u003e    |V|:      1.035  1.030  1.031\\u003cbr\\u003e    P-Load: 0.000  0.040  0.000\\u003cbr\\u003e    Q-Load: 0.000  0.020  0.000\\u003cbr\\u003eBranch 76\\u219277\\u003cbr\\u003e    P flow:  0.082  0.080  0.080\\u003cbr\\u003e    Q flow:  -0.175  -0.174  -0.174\",\"Bus: '86'      A   ||   B   ||   C\\u003cbr\\u003e    |V|:      1.033  1.027  1.031\\u003cbr\\u003e    P-Load: 0.000  0.020  0.000\\u003cbr\\u003e    Q-Load: 0.000  0.010  0.000\\u003cbr\\u003eBranch 76\\u219286\\u003cbr\\u003e    P flow:  0.080  0.141  0.040\\u003cbr\\u003e    Q flow:  -0.013  0.018  -0.033\",\"Bus: '78'      A   ||   B   ||   C\\u003cbr\\u003e    |V|:      1.035  1.031  1.031\\u003cbr\\u003e    P-Load: 0.000  0.000  0.000\\u003cbr\\u003e    Q-Load: 0.000  0.000  0.000\\u003cbr\\u003eBranch 77\\u219278\\u003cbr\\u003e    P flow:  0.082  0.040  0.080\\u003cbr\\u003e    Q flow:  -0.175  -0.194  -0.174\",\"Bus: '79'      A   ||   B   ||   C\\u003cbr\\u003e    |V|:      1.035  1.031  1.031\\u003cbr\\u003e    P-Load: 0.042  0.000  0.000\\u003cbr\\u003e    Q-Load: 0.021  0.000  0.000\\u003cbr\\u003eBranch 78\\u219279\\u003cbr\\u003e    P flow:  0.042  0.000  -0.000\\u003cbr\\u003e    Q flow:  0.021  -0.000  0.000\",\"Bus: '80'      A   ||   B   ||   C\\u003cbr\\u003e    |V|:      1.037  1.032  1.032\\u003cbr\\u003e    P-Load: 0.000  0.040  0.000\\u003cbr\\u003e    Q-Load: 0.000  0.020  0.000\\u003cbr\\u003eBranch 78\\u219280\\u003cbr\\u003e    P flow:  0.040  0.040  0.080\\u003cbr\\u003e    Q flow:  -0.196  -0.194  -0.174\",\"Bus: '81'      A   ||   B   ||   C\\u003cbr\\u003e    |V|:      1.038  1.033  1.032\\u003cbr\\u003e    P-Load: 0.000  0.000  0.000\\u003cbr\\u003e    Q-Load: 0.000  0.000  0.000\\u003cbr\\u003eBranch 80\\u219281\\u003cbr\\u003e    P flow:  0.040  0.000  0.080\\u003cbr\\u003e    Q flow:  -0.196  -0.214  -0.174\",\"Bus: '82'      A   ||   B   ||   C\\u003cbr\\u003e    |V|:      1.039  1.034  1.033\\u003cbr\\u003e    P-Load: 0.040  0.000  0.000\\u003cbr\\u003e    Q-Load: 0.020  0.000  0.000\\u003cbr\\u003eBranch 81\\u219282\\u003cbr\\u003e    P flow:  0.040  0.000  0.020\\u003cbr\\u003e    Q flow:  -0.196  -0.214  -0.204\",\"Bus: '84'      A   ||   B   ||   C\\u003cbr\\u003e    |V|:      nan  nan  1.029\\u003cbr\\u003e    P-Load: 0.000  0.000  0.020\\u003cbr\\u003e    Q-Load: 0.000  0.000  0.010\\u003cbr\\u003eBranch 81\\u219284\\u003cbr\\u003e    P flow:  nan  nan  0.060\\u003cbr\\u003e    Q flow:  0.000  0.000  0.030\",\"Bus: '83'      A   ||   B   ||   C\\u003cbr\\u003e    |V|:      1.040  1.035  1.034\\u003cbr\\u003e    P-Load: 0.000  0.000  0.020\\u003cbr\\u003e    Q-Load: 0.000  0.000  0.010\\u003cbr\\u003e    Q-Cap:  0.200  0.200  0.200\\u003cbr\\u003eBranch 82\\u219283\\u003cbr\\u003e    P flow:  0.000  0.000  0.020\\u003cbr\\u003e    Q flow:  -0.216  -0.214  -0.204\",\"Bus: '85'      A   ||   B   ||   C\\u003cbr\\u003e    |V|:      nan  nan  1.028\\u003cbr\\u003e    P-Load: 0.000  0.000  0.040\\u003cbr\\u003e    Q-Load: 0.000  0.000  0.020\\u003cbr\\u003eBranch 84\\u219285\\u003cbr\\u003e    P flow:  nan  nan  0.040\\u003cbr\\u003e    Q flow:  0.000  0.000  0.020\",\"Bus: '87'      A   ||   B   ||   C\\u003cbr\\u003e    |V|:      1.032  1.027  1.032\\u003cbr\\u003e    P-Load: 0.000  0.040  0.000\\u003cbr\\u003e    Q-Load: 0.000  0.020  0.000\\u003cbr\\u003eBranch 86\\u219287\\u003cbr\\u003e    P flow:  0.080  0.121  0.040\\u003cbr\\u003e    Q flow:  -0.013  0.008  -0.033\",\"Bus: '88'      A   ||   B   ||   C\\u003cbr\\u003e    |V|:      1.032  nan  nan\\u003cbr\\u003e    P-Load: 0.040  0.000  0.000\\u003cbr\\u003e    Q-Load: 0.020  0.000  0.000\\u003cbr\\u003e    Q-Cap:  0.050  0.000  0.000\\u003cbr\\u003eBranch 87\\u219288\\u003cbr\\u003e    P flow:  0.040  nan  nan\\u003cbr\\u003e    Q flow:  -0.033  0.000  0.000\",\"Bus: '89'      A   ||   B   ||   C\\u003cbr\\u003e    |V|:      1.032  1.026  1.032\\u003cbr\\u003e    P-Load: 0.000  0.000  0.000\\u003cbr\\u003e    Q-Load: 0.000  0.000  0.000\\u003cbr\\u003eBranch 87\\u219289\\u003cbr\\u003e    P flow:  0.040  0.081  0.040\\u003cbr\\u003e    Q flow:  0.020  -0.012  -0.033\",\"Bus: '90'      A   ||   B   ||   C\\u003cbr\\u003e    |V|:      nan  1.026  nan\\u003cbr\\u003e    P-Load: 0.000  0.041  0.000\\u003cbr\\u003e    Q-Load: 0.000  0.021  0.000\\u003cbr\\u003e    Q-Cap:  0.000  0.050  0.000\\u003cbr\\u003eBranch 89\\u219290\\u003cbr\\u003e    P flow:  nan  0.041  nan\\u003cbr\\u003e    Q flow:  0.000  -0.032  0.000\",\"Bus: '91'      A   ||   B   ||   C\\u003cbr\\u003e    |V|:      1.032  1.026  1.032\\u003cbr\\u003e    P-Load: 0.000  0.000  0.000\\u003cbr\\u003e    Q-Load: 0.000  0.000  0.000\\u003cbr\\u003eBranch 89\\u219291\\u003cbr\\u003e    P flow:  0.040  0.040  0.040\\u003cbr\\u003e    Q flow:  0.020  0.020  -0.033\",\"Bus: '92'      A   ||   B   ||   C\\u003cbr\\u003e    |V|:      nan  nan  1.032\\u003cbr\\u003e    P-Load: 0.000  0.000  0.040\\u003cbr\\u003e    Q-Load: 0.000  0.000  0.020\\u003cbr\\u003e    Q-Cap:  0.000  0.000  0.050\\u003cbr\\u003eBranch 91\\u219292\\u003cbr\\u003e    P flow:  nan  nan  0.040\\u003cbr\\u003e    Q flow:  0.000  0.000  -0.033\",\"Bus: '93'      A   ||   B   ||   C\\u003cbr\\u003e    |V|:      1.031  1.026  1.032\\u003cbr\\u003e    P-Load: 0.000  0.000  0.000\\u003cbr\\u003e    Q-Load: 0.000  0.000  0.000\\u003cbr\\u003eBranch 91\\u219293\\u003cbr\\u003e    P flow:  0.040  0.040  -0.000\\u003cbr\\u003e    Q flow:  0.020  0.020  0.000\",\"Bus: '94'      A   ||   B   ||   C\\u003cbr\\u003e    |V|:      1.031  nan  nan\\u003cbr\\u003e    P-Load: 0.040  0.000  0.000\\u003cbr\\u003e    Q-Load: 0.020  0.000  0.000\\u003cbr\\u003eBranch 93\\u219294\\u003cbr\\u003e    P flow:  0.040  nan  nan\\u003cbr\\u003e    Q flow:  0.020  0.000  0.000\",\"Bus: '95'      A   ||   B   ||   C\\u003cbr\\u003e    |V|:      1.031  1.025  1.033\\u003cbr\\u003e    P-Load: 0.000  0.020  0.000\\u003cbr\\u003e    Q-Load: 0.000  0.010  0.000\\u003cbr\\u003eBranch 93\\u219295\\u003cbr\\u003e    P flow:  0.000  0.040  -0.000\\u003cbr\\u003e    Q flow:  0.000  0.020  0.000\",\"Bus: '96'      A   ||   B   ||   C\\u003cbr\\u003e    |V|:      nan  1.025  nan\\u003cbr\\u003e    P-Load: 0.000  0.020  0.000\\u003cbr\\u003e    Q-Load: 0.000  0.010  0.000\\u003cbr\\u003eBranch 95\\u219296\\u003cbr\\u003e    P flow:  nan  0.020  nan\\u003cbr\\u003e    Q flow:  0.000  0.010  0.000\",\"Bus: '98'      A   ||   B   ||   C\\u003cbr\\u003e    |V|:      1.032  1.030  1.028\\u003cbr\\u003e    P-Load: 0.040  0.000  0.000\\u003cbr\\u003e    Q-Load: 0.020  0.000  0.000\\u003cbr\\u003eBranch 97\\u219298\\u003cbr\\u003e    P flow:  0.040  0.040  0.042\\u003cbr\\u003e    Q flow:  0.020  0.020  0.021\",\"Bus: '99'      A   ||   B   ||   C\\u003cbr\\u003e    |V|:      1.032  1.029  1.028\\u003cbr\\u003e    P-Load: 0.000  0.040  0.000\\u003cbr\\u003e    Q-Load: 0.000  0.020  0.000\\u003cbr\\u003eBranch 98\\u219299\\u003cbr\\u003e    P flow:  0.000  0.040  0.042\\u003cbr\\u003e    Q flow:  0.000  0.020  0.021\",\"Bus: '100'      A   ||   B   ||   C\\u003cbr\\u003e    |V|:      1.033  1.029  1.028\\u003cbr\\u003e    P-Load: 0.000  0.000  0.042\\u003cbr\\u003e    Q-Load: 0.000  0.000  0.021\\u003cbr\\u003eBranch 99\\u2192100\\u003cbr\\u003e    P flow:  0.000  0.000  0.042\\u003cbr\\u003e    Q flow:  0.000  -0.000  0.021\",\"Bus: '450'      A   ||   B   ||   C\\u003cbr\\u003e    |V|:      1.033  1.029  1.028\\u003cbr\\u003e    P-Load: 0.000  0.000  0.000\\u003cbr\\u003e    Q-Load: 0.000  0.000  0.000\\u003cbr\\u003eBranch 100\\u2192450\\u003cbr\\u003e    P flow:  0.000  0.000  -0.000\\u003cbr\\u003e    Q flow:  0.000  -0.000  0.000\",\"Bus: '197'      A   ||   B   ||   C\\u003cbr\\u003e    |V|:      1.032  1.030  1.029\\u003cbr\\u003e    P-Load: 0.000  0.000  0.000\\u003cbr\\u003e    Q-Load: 0.000  0.000  0.000\\u003cbr\\u003eBranch 97\\u2192197\\u003cbr\\u003e    P flow:  0.142  0.080  0.100\\u003cbr\\u003e    Q flow:  0.071  0.040  0.050\",\"Bus: '101'      A   ||   B   ||   C\\u003cbr\\u003e    |V|:      1.031  1.030  1.028\\u003cbr\\u003e    P-Load: 0.000  0.000  0.000\\u003cbr\\u003e    Q-Load: 0.000  0.000  0.000\\u003cbr\\u003eBranch 197\\u2192101\\u003cbr\\u003e    P flow:  0.142  0.080  0.100\\u003cbr\\u003e    Q flow:  0.071  0.040  0.050\",\"Bus: '102'      A   ||   B   ||   C\\u003cbr\\u003e    |V|:      nan  nan  1.027\\u003cbr\\u003e    P-Load: 0.000  0.000  0.020\\u003cbr\\u003e    Q-Load: 0.000  0.000  0.010\\u003cbr\\u003eBranch 101\\u2192102\\u003cbr\\u003e    P flow:  nan  nan  0.100\\u003cbr\\u003e    Q flow:  0.000  0.000  0.050\",\"Bus: '105'      A   ||   B   ||   C\\u003cbr\\u003e    |V|:      1.030  1.030  1.028\\u003cbr\\u003e    P-Load: 0.000  0.000  0.000\\u003cbr\\u003e    Q-Load: 0.000  0.000  0.000\\u003cbr\\u003eBranch 101\\u2192105\\u003cbr\\u003e    P flow:  0.142  0.080  -0.000\\u003cbr\\u003e    Q flow:  0.071  0.040  0.000\",\"Bus: '103'      A   ||   B   ||   C\\u003cbr\\u003e    |V|:      nan  nan  1.025\\u003cbr\\u003e    P-Load: 0.000  0.000  0.040\\u003cbr\\u003e    Q-Load: 0.000  0.000  0.020\\u003cbr\\u003eBranch 102\\u2192103\\u003cbr\\u003e    P flow:  nan  nan  0.080\\u003cbr\\u003e    Q flow:  0.000  0.000  0.040\",\"Bus: '104'      A   ||   B   ||   C\\u003cbr\\u003e    |V|:      nan  nan  1.023\\u003cbr\\u003e    P-Load: 0.000  0.000  0.040\\u003cbr\\u003e    Q-Load: 0.000  0.000  0.020\\u003cbr\\u003eBranch 103\\u2192104\\u003cbr\\u003e    P flow:  nan  nan  0.040\\u003cbr\\u003e    Q flow:  0.000  0.000  0.020\",\"Bus: '106'      A   ||   B   ||   C\\u003cbr\\u003e    |V|:      nan  1.028  nan\\u003cbr\\u003e    P-Load: 0.000  0.040  0.000\\u003cbr\\u003e    Q-Load: 0.000  0.020  0.000\\u003cbr\\u003eBranch 105\\u2192106\\u003cbr\\u003e    P flow:  nan  0.080  nan\\u003cbr\\u003e    Q flow:  0.000  0.040  0.000\",\"Bus: '108'      A   ||   B   ||   C\\u003cbr\\u003e    |V|:      1.029  1.030  1.028\\u003cbr\\u003e    P-Load: 0.000  0.000  0.000\\u003cbr\\u003e    Q-Load: 0.000  0.000  0.000\\u003cbr\\u003eBranch 105\\u2192108\\u003cbr\\u003e    P flow:  0.142  0.000  -0.000\\u003cbr\\u003e    Q flow:  0.071  -0.000  0.000\",\"Bus: '107'      A   ||   B   ||   C\\u003cbr\\u003e    |V|:      nan  1.027  nan\\u003cbr\\u003e    P-Load: 0.000  0.040  0.000\\u003cbr\\u003e    Q-Load: 0.000  0.020  0.000\\u003cbr\\u003eBranch 106\\u2192107\\u003cbr\\u003e    P flow:  nan  0.040  nan\\u003cbr\\u003e    Q flow:  0.000  0.020  0.000\",\"Bus: '109'      A   ||   B   ||   C\\u003cbr\\u003e    |V|:      1.025  nan  nan\\u003cbr\\u003e    P-Load: 0.040  0.000  0.000\\u003cbr\\u003e    Q-Load: 0.020  0.000  0.000\\u003cbr\\u003eBranch 108\\u2192109\\u003cbr\\u003e    P flow:  0.142  nan  nan\\u003cbr\\u003e    Q flow:  0.071  0.000  0.000\",\"Bus: '300'      A   ||   B   ||   C\\u003cbr\\u003e    |V|:      1.029  1.030  1.028\\u003cbr\\u003e    P-Load: 0.000  0.000  0.000\\u003cbr\\u003e    Q-Load: 0.000  0.000  0.000\\u003cbr\\u003eBranch 108\\u2192300\\u003cbr\\u003e    P flow:  0.000  0.000  -0.000\\u003cbr\\u003e    Q flow:  0.000  -0.000  0.000\",\"Bus: '110'      A   ||   B   ||   C\\u003cbr\\u003e    |V|:      1.023  nan  nan\\u003cbr\\u003e    P-Load: 0.000  0.000  0.000\\u003cbr\\u003e    Q-Load: 0.000  0.000  0.000\\u003cbr\\u003eBranch 109\\u2192110\\u003cbr\\u003e    P flow:  0.102  nan  nan\\u003cbr\\u003e    Q flow:  0.051  0.000  0.000\",\"Bus: '111'      A   ||   B   ||   C\\u003cbr\\u003e    |V|:      1.022  nan  nan\\u003cbr\\u003e    P-Load: 0.020  0.000  0.000\\u003cbr\\u003e    Q-Load: 0.010  0.000  0.000\\u003cbr\\u003eBranch 110\\u2192111\\u003cbr\\u003e    P flow:  0.020  nan  nan\\u003cbr\\u003e    Q flow:  0.010  0.000  0.000\",\"Bus: '112'      A   ||   B   ||   C\\u003cbr\\u003e    |V|:      1.022  nan  nan\\u003cbr\\u003e    P-Load: 0.020  0.000  0.000\\u003cbr\\u003e    Q-Load: 0.010  0.000  0.000\\u003cbr\\u003eBranch 110\\u2192112\\u003cbr\\u003e    P flow:  0.082  nan  nan\\u003cbr\\u003e    Q flow:  0.041  0.000  0.000\",\"Bus: '113'      A   ||   B   ||   C\\u003cbr\\u003e    |V|:      1.020  nan  nan\\u003cbr\\u003e    P-Load: 0.041  0.000  0.000\\u003cbr\\u003e    Q-Load: 0.021  0.000  0.000\\u003cbr\\u003eBranch 112\\u2192113\\u003cbr\\u003e    P flow:  0.061  nan  nan\\u003cbr\\u003e    Q flow:  0.031  0.000  0.000\",\"Bus: '114'      A   ||   B   ||   C\\u003cbr\\u003e    |V|:      1.019  nan  nan\\u003cbr\\u003e    P-Load: 0.020  0.000  0.000\\u003cbr\\u003e    Q-Load: 0.010  0.000  0.000\\u003cbr\\u003eBranch 113\\u2192114\\u003cbr\\u003e    P flow:  0.020  nan  nan\\u003cbr\\u003e    Q flow:  0.010  0.000  0.000\",\"Bus: '135'      A   ||   B   ||   C\\u003cbr\\u003e    |V|:      0.996  1.025  1.007\\u003cbr\\u003e    P-Load: 0.000  0.000  0.000\\u003cbr\\u003e    Q-Load: 0.000  0.000  0.000\\u003cbr\\u003eBranch 18\\u2192135\\u003cbr\\u003e    P flow:  0.281  0.275  0.200\\u003cbr\\u003e    Q flow:  0.155  0.190  0.125\",\"Bus: '152'      A   ||   B   ||   C\\u003cbr\\u003e    |V|:      1.004  1.029  1.014\\u003cbr\\u003e    P-Load: 0.000  0.000  0.000\\u003cbr\\u003e    Q-Load: 0.000  0.000  0.000\\u003cbr\\u003eBranch 13\\u2192152\\u003cbr\\u003e    P flow:  0.767  0.593  0.629\\u003cbr\\u003e    Q flow:  0.143  0.072  0.060\",\"Bus: '160r'      A   ||   B   ||   C\\u003cbr\\u003e    |V|:      1.035  1.031  1.032\\u003cbr\\u003e    P-Load: 0.000  0.000  0.000\\u003cbr\\u003e    Q-Load: 0.000  0.000  0.000\\u003cbr\\u003eBranch 160\\u2192160r\\u003cbr\\u003e    P flow:  0.564  0.421  0.456\\u003cbr\\u003e    Q flow:  0.018  -0.019  -0.023\",\"Bus: '160'      A   ||   B   ||   C\\u003cbr\\u003e    |V|:      0.986  1.019  1.000\\u003cbr\\u003e    P-Load: 0.000  0.000  0.000\\u003cbr\\u003e    Q-Load: 0.000  0.000  0.000\\u003cbr\\u003eBranch 60\\u2192160\\u003cbr\\u003e    P flow:  0.564  0.421  0.456\\u003cbr\\u003e    Q flow:  0.018  -0.019  -0.023\",\"Bus: '61s'      A   ||   B   ||   C\\u003cbr\\u003e    |V|:      0.986  1.019  1.000\\u003cbr\\u003e    P-Load: 0.000  0.000  0.000\\u003cbr\\u003e    Q-Load: 0.000  0.000  0.000\\u003cbr\\u003eBranch 61\\u219261s\\u003cbr\\u003e    P flow:  0.000  0.000  -0.000\\u003cbr\\u003e    Q flow:  0.000  -0.000  0.000\",\"Bus: '610'      A   ||   B   ||   C\\u003cbr\\u003e    |V|:      0.986  1.019  1.000\\u003cbr\\u003e    P-Load: 0.000  0.000  0.000\\u003cbr\\u003e    Q-Load: 0.000  0.000  0.000\\u003cbr\\u003eBranch 61s\\u2192610\\u003cbr\\u003e    P flow:  0.000  0.000  -0.000\\u003cbr\\u003e    Q flow:  0.000  -0.000  0.000\"],\"textposition\":\"top center\",\"x\":[-0.8611783091777097,-0.8611783091777097,-0.7916015499561131,-0.6524480315129197,-0.6524480315129197,-0.6524480315129197,-0.5480828926805249,-0.6524480315129197,-0.5393857977778252,-0.4524148487508295,-0.47850613345892823,-0.47850613345892823,-0.47850613345892823,-0.37414099462653333,-0.47850613345892823,-0.47850613345892823,-0.37414099462653333,-0.37414099462653333,-0.565477082485924,-0.39153518443193247,-0.37414099462653333,-0.37414099462653333,-0.25238166598873923,-0.4611119436535291,-0.37414099462653333,-0.5741741773886236,-0.5567799875832244,-0.37414099462653333,-0.565477082485924,-0.37414099462653333,-0.37414099462653333,-0.4959003232643274,-0.37414099462653333,-0.5915683671940227,-0.4959003232643274,-0.5915683671940227,-0.37414099462653333,-0.25238166598873923,-0.1828049067671426,-0.4959003232643274,-0.20889619147524133,-0.17410781186444302,-0.20889619147524133,-0.278472950696838,-0.08713686283744723,0.025925370897647276,-0.09583395774014682,-0.20889619147524133,-0.03495429342124977,-0.20889619147524133,-0.1393194322536447,-0.20889619147524133,-0.03495429342124977,-0.2610787608914388,-0.12192524244824555,-0.03495429342124977,0.05201665560574601,0.2127389694076342,-0.20019909657254176,-0.13062233735094514,-0.08713686283744723,0.00853118109224812,-0.08713686283744723,0.10419922502194348,-0.17410781186444302,0.1737759842435401,-0.2610787608914388,0.1737759842435401,0.1737759842435401,0.1737759842435401,0.1737759842435401,0.025925370897647276,0.025925370897647276,0.3303236924921325,0.3999004517137291,0.3303236924921325,0.3303236924921325,0.4955684956434245,0.608630729378519,0.7042987733082143,0.42599173642182786,0.3303236924921325,0.5477510650596219,0.6869045835028152,0.46947721093532574,0.23639506754297707,0.5042655905461241,0.5825394446704203,0.5042655905461241,0.5042655905461241,0.5042655905461241,0.7390871529190126,0.5912365395731198,0.7390871529190126,0.16507888934084053,0.13029050973004222,0.06941084541114516,0.06941084541114516,-0.008863008713151037,-0.008863008713151037,-0.08713686283744723,-0.08713686283744723,-0.19150200166984216,-0.19150200166984216,0.42599173642182786,0.6173278242812186,0.7216929631136135,1.0,0.3303236924921325,0.3303236924921325,0.4085975466164287,0.3303236924921325,0.5216597803515232,0.7651784376271114,0.4085975466164287,0.3303236924921325,0.608630729378519,0.4868714007407249,0.23291622958189723,0.5912365395731198,0.5912365395731198,0.5912365395731198,0.773875532529811,0.8869377662649055,-0.339352615015735,-0.339352615015735,0.2085643638543384,0.2085643638543384,0.2085643638543384,0.24335274346513672],\"y\":[-0.2909377200686813,-0.2909377200686813,-0.2909377200686813,-0.2909377200686813,-0.20093210213560592,-0.41951717425878904,-0.2909377200686813,-0.5223807376108752,-0.41951717425878904,-0.4709489559348321,-0.2909377200686813,-0.40665922883977823,-0.17521621129758438,-0.2909377200686813,-0.17521621129758438,0.04336886082559871,-0.3680853925827459,0.1333744787586741,0.04336886082559871,0.04336886082559871,-0.41951717425878904,-0.6123863555439506,-0.41951717425878904,0.1333744787586741,0.28766982378680334,0.1333744787586741,0.28766982378680334,0.416249277976911,0.416249277976911,0.5576866775860295,0.5576866775860295,0.5576866775860295,0.6605502409381157,0.5576866775860295,0.6734081863571264,0.8148455859662449,0.8148455859662449,0.8148455859662449,0.8148455859662449,0.8277035313852557,0.1333744787586741,-0.03377881168846591,0.2619539329487818,-0.03377881168846591,-0.03377881168846591,-0.03377881168846591,0.2619539329487818,0.3905333871388895,0.3905333871388895,0.49339695049097565,0.49339695049097565,0.6219764046810834,0.49339695049097565,0.6219764046810834,0.6219764046810834,0.6219764046810834,0.6219764046810834,0.9578259390256447,-0.2909377200686813,-0.2909377200686813,-0.2909377200686813,-0.2909377200686813,-0.11092648420253053,-0.2909377200686813,-0.11092648420253053,-0.11092648420253053,-0.11092648420253053,-0.3938012834207675,0.01765296998757717,0.10765858792065255,0.28766982378680334,0.28766982378680334,0.12051653333966333,-0.11092648420253053,-0.11092648420253053,-0.252363883811649,0.01765296998757717,-0.11092648420253053,-0.11092648420253053,-0.11092648420253053,-0.252363883811649,-0.35522744716373517,-0.252363883811649,-0.252363883811649,-0.35522744716373517,-0.6895340280580152,-0.35522744716373517,-0.35522744716373517,-0.5995284101249398,-0.8438293730861445,-0.9724088272762521,-0.8438293730861445,-0.9724088272762521,-0.5995284101249398,-0.48380690135384286,-0.3938012834207675,-0.48380690135384286,-0.5995284101249398,-0.48380690135384286,-0.6381022463819721,-0.48380690135384286,-0.6252443009629614,-0.48380690135384286,-0.586670464705929,0.01765296998757717,0.01765296998757717,0.01765296998757717,0.01765296998757717,0.06908475166362026,0.19766420585372796,0.19766420585372796,0.3391016054628464,0.19766420585372796,0.19766420585372796,0.3391016054628464,0.5062548959099864,0.3391016054628464,0.5062548959099864,1.0,0.5062548959099864,0.8019876405472341,0.4419651688149326,0.4419651688149326,0.4419651688149326,0.1333744787586741,-0.2909377200686813,-0.11092648420253053,-0.11092648420253053,-0.3938012834207675,-0.3938012834207675],\"type\":\"scatter\"}],                        {\"template\":{\"data\":{\"histogram2dcontour\":[{\"type\":\"histogram2dcontour\",\"colorbar\":{\"outlinewidth\":0,\"ticks\":\"\"},\"colorscale\":[[0.0,\"#0d0887\"],[0.1111111111111111,\"#46039f\"],[0.2222222222222222,\"#7201a8\"],[0.3333333333333333,\"#9c179e\"],[0.4444444444444444,\"#bd3786\"],[0.5555555555555556,\"#d8576b\"],[0.6666666666666666,\"#ed7953\"],[0.7777777777777778,\"#fb9f3a\"],[0.8888888888888888,\"#fdca26\"],[1.0,\"#f0f921\"]]}],\"choropleth\":[{\"type\":\"choropleth\",\"colorbar\":{\"outlinewidth\":0,\"ticks\":\"\"}}],\"histogram2d\":[{\"type\":\"histogram2d\",\"colorbar\":{\"outlinewidth\":0,\"ticks\":\"\"},\"colorscale\":[[0.0,\"#0d0887\"],[0.1111111111111111,\"#46039f\"],[0.2222222222222222,\"#7201a8\"],[0.3333333333333333,\"#9c179e\"],[0.4444444444444444,\"#bd3786\"],[0.5555555555555556,\"#d8576b\"],[0.6666666666666666,\"#ed7953\"],[0.7777777777777778,\"#fb9f3a\"],[0.8888888888888888,\"#fdca26\"],[1.0,\"#f0f921\"]]}],\"heatmap\":[{\"type\":\"heatmap\",\"colorbar\":{\"outlinewidth\":0,\"ticks\":\"\"},\"colorscale\":[[0.0,\"#0d0887\"],[0.1111111111111111,\"#46039f\"],[0.2222222222222222,\"#7201a8\"],[0.3333333333333333,\"#9c179e\"],[0.4444444444444444,\"#bd3786\"],[0.5555555555555556,\"#d8576b\"],[0.6666666666666666,\"#ed7953\"],[0.7777777777777778,\"#fb9f3a\"],[0.8888888888888888,\"#fdca26\"],[1.0,\"#f0f921\"]]}],\"heatmapgl\":[{\"type\":\"heatmapgl\",\"colorbar\":{\"outlinewidth\":0,\"ticks\":\"\"},\"colorscale\":[[0.0,\"#0d0887\"],[0.1111111111111111,\"#46039f\"],[0.2222222222222222,\"#7201a8\"],[0.3333333333333333,\"#9c179e\"],[0.4444444444444444,\"#bd3786\"],[0.5555555555555556,\"#d8576b\"],[0.6666666666666666,\"#ed7953\"],[0.7777777777777778,\"#fb9f3a\"],[0.8888888888888888,\"#fdca26\"],[1.0,\"#f0f921\"]]}],\"contourcarpet\":[{\"type\":\"contourcarpet\",\"colorbar\":{\"outlinewidth\":0,\"ticks\":\"\"}}],\"contour\":[{\"type\":\"contour\",\"colorbar\":{\"outlinewidth\":0,\"ticks\":\"\"},\"colorscale\":[[0.0,\"#0d0887\"],[0.1111111111111111,\"#46039f\"],[0.2222222222222222,\"#7201a8\"],[0.3333333333333333,\"#9c179e\"],[0.4444444444444444,\"#bd3786\"],[0.5555555555555556,\"#d8576b\"],[0.6666666666666666,\"#ed7953\"],[0.7777777777777778,\"#fb9f3a\"],[0.8888888888888888,\"#fdca26\"],[1.0,\"#f0f921\"]]}],\"surface\":[{\"type\":\"surface\",\"colorbar\":{\"outlinewidth\":0,\"ticks\":\"\"},\"colorscale\":[[0.0,\"#0d0887\"],[0.1111111111111111,\"#46039f\"],[0.2222222222222222,\"#7201a8\"],[0.3333333333333333,\"#9c179e\"],[0.4444444444444444,\"#bd3786\"],[0.5555555555555556,\"#d8576b\"],[0.6666666666666666,\"#ed7953\"],[0.7777777777777778,\"#fb9f3a\"],[0.8888888888888888,\"#fdca26\"],[1.0,\"#f0f921\"]]}],\"mesh3d\":[{\"type\":\"mesh3d\",\"colorbar\":{\"outlinewidth\":0,\"ticks\":\"\"}}],\"scatter\":[{\"fillpattern\":{\"fillmode\":\"overlay\",\"size\":10,\"solidity\":0.2},\"type\":\"scatter\"}],\"parcoords\":[{\"type\":\"parcoords\",\"line\":{\"colorbar\":{\"outlinewidth\":0,\"ticks\":\"\"}}}],\"scatterpolargl\":[{\"type\":\"scatterpolargl\",\"marker\":{\"colorbar\":{\"outlinewidth\":0,\"ticks\":\"\"}}}],\"bar\":[{\"error_x\":{\"color\":\"#2a3f5f\"},\"error_y\":{\"color\":\"#2a3f5f\"},\"marker\":{\"line\":{\"color\":\"#E5ECF6\",\"width\":0.5},\"pattern\":{\"fillmode\":\"overlay\",\"size\":10,\"solidity\":0.2}},\"type\":\"bar\"}],\"scattergeo\":[{\"type\":\"scattergeo\",\"marker\":{\"colorbar\":{\"outlinewidth\":0,\"ticks\":\"\"}}}],\"scatterpolar\":[{\"type\":\"scatterpolar\",\"marker\":{\"colorbar\":{\"outlinewidth\":0,\"ticks\":\"\"}}}],\"histogram\":[{\"marker\":{\"pattern\":{\"fillmode\":\"overlay\",\"size\":10,\"solidity\":0.2}},\"type\":\"histogram\"}],\"scattergl\":[{\"type\":\"scattergl\",\"marker\":{\"colorbar\":{\"outlinewidth\":0,\"ticks\":\"\"}}}],\"scatter3d\":[{\"type\":\"scatter3d\",\"line\":{\"colorbar\":{\"outlinewidth\":0,\"ticks\":\"\"}},\"marker\":{\"colorbar\":{\"outlinewidth\":0,\"ticks\":\"\"}}}],\"scattermapbox\":[{\"type\":\"scattermapbox\",\"marker\":{\"colorbar\":{\"outlinewidth\":0,\"ticks\":\"\"}}}],\"scatterternary\":[{\"type\":\"scatterternary\",\"marker\":{\"colorbar\":{\"outlinewidth\":0,\"ticks\":\"\"}}}],\"scattercarpet\":[{\"type\":\"scattercarpet\",\"marker\":{\"colorbar\":{\"outlinewidth\":0,\"ticks\":\"\"}}}],\"carpet\":[{\"aaxis\":{\"endlinecolor\":\"#2a3f5f\",\"gridcolor\":\"white\",\"linecolor\":\"white\",\"minorgridcolor\":\"white\",\"startlinecolor\":\"#2a3f5f\"},\"baxis\":{\"endlinecolor\":\"#2a3f5f\",\"gridcolor\":\"white\",\"linecolor\":\"white\",\"minorgridcolor\":\"white\",\"startlinecolor\":\"#2a3f5f\"},\"type\":\"carpet\"}],\"table\":[{\"cells\":{\"fill\":{\"color\":\"#EBF0F8\"},\"line\":{\"color\":\"white\"}},\"header\":{\"fill\":{\"color\":\"#C8D4E3\"},\"line\":{\"color\":\"white\"}},\"type\":\"table\"}],\"barpolar\":[{\"marker\":{\"line\":{\"color\":\"#E5ECF6\",\"width\":0.5},\"pattern\":{\"fillmode\":\"overlay\",\"size\":10,\"solidity\":0.2}},\"type\":\"barpolar\"}],\"pie\":[{\"automargin\":true,\"type\":\"pie\"}]},\"layout\":{\"autotypenumbers\":\"strict\",\"colorway\":[\"#636efa\",\"#EF553B\",\"#00cc96\",\"#ab63fa\",\"#FFA15A\",\"#19d3f3\",\"#FF6692\",\"#B6E880\",\"#FF97FF\",\"#FECB52\"],\"font\":{\"color\":\"#2a3f5f\"},\"hovermode\":\"closest\",\"hoverlabel\":{\"align\":\"left\"},\"paper_bgcolor\":\"white\",\"plot_bgcolor\":\"#E5ECF6\",\"polar\":{\"bgcolor\":\"#E5ECF6\",\"angularaxis\":{\"gridcolor\":\"white\",\"linecolor\":\"white\",\"ticks\":\"\"},\"radialaxis\":{\"gridcolor\":\"white\",\"linecolor\":\"white\",\"ticks\":\"\"}},\"ternary\":{\"bgcolor\":\"#E5ECF6\",\"aaxis\":{\"gridcolor\":\"white\",\"linecolor\":\"white\",\"ticks\":\"\"},\"baxis\":{\"gridcolor\":\"white\",\"linecolor\":\"white\",\"ticks\":\"\"},\"caxis\":{\"gridcolor\":\"white\",\"linecolor\":\"white\",\"ticks\":\"\"}},\"coloraxis\":{\"colorbar\":{\"outlinewidth\":0,\"ticks\":\"\"}},\"colorscale\":{\"sequential\":[[0.0,\"#0d0887\"],[0.1111111111111111,\"#46039f\"],[0.2222222222222222,\"#7201a8\"],[0.3333333333333333,\"#9c179e\"],[0.4444444444444444,\"#bd3786\"],[0.5555555555555556,\"#d8576b\"],[0.6666666666666666,\"#ed7953\"],[0.7777777777777778,\"#fb9f3a\"],[0.8888888888888888,\"#fdca26\"],[1.0,\"#f0f921\"]],\"sequentialminus\":[[0.0,\"#0d0887\"],[0.1111111111111111,\"#46039f\"],[0.2222222222222222,\"#7201a8\"],[0.3333333333333333,\"#9c179e\"],[0.4444444444444444,\"#bd3786\"],[0.5555555555555556,\"#d8576b\"],[0.6666666666666666,\"#ed7953\"],[0.7777777777777778,\"#fb9f3a\"],[0.8888888888888888,\"#fdca26\"],[1.0,\"#f0f921\"]],\"diverging\":[[0,\"#8e0152\"],[0.1,\"#c51b7d\"],[0.2,\"#de77ae\"],[0.3,\"#f1b6da\"],[0.4,\"#fde0ef\"],[0.5,\"#f7f7f7\"],[0.6,\"#e6f5d0\"],[0.7,\"#b8e186\"],[0.8,\"#7fbc41\"],[0.9,\"#4d9221\"],[1,\"#276419\"]]},\"xaxis\":{\"gridcolor\":\"white\",\"linecolor\":\"white\",\"ticks\":\"\",\"title\":{\"standoff\":15},\"zerolinecolor\":\"white\",\"automargin\":true,\"zerolinewidth\":2},\"yaxis\":{\"gridcolor\":\"white\",\"linecolor\":\"white\",\"ticks\":\"\",\"title\":{\"standoff\":15},\"zerolinecolor\":\"white\",\"automargin\":true,\"zerolinewidth\":2},\"scene\":{\"xaxis\":{\"backgroundcolor\":\"#E5ECF6\",\"gridcolor\":\"white\",\"linecolor\":\"white\",\"showbackground\":true,\"ticks\":\"\",\"zerolinecolor\":\"white\",\"gridwidth\":2},\"yaxis\":{\"backgroundcolor\":\"#E5ECF6\",\"gridcolor\":\"white\",\"linecolor\":\"white\",\"showbackground\":true,\"ticks\":\"\",\"zerolinecolor\":\"white\",\"gridwidth\":2},\"zaxis\":{\"backgroundcolor\":\"#E5ECF6\",\"gridcolor\":\"white\",\"linecolor\":\"white\",\"showbackground\":true,\"ticks\":\"\",\"zerolinecolor\":\"white\",\"gridwidth\":2}},\"shapedefaults\":{\"line\":{\"color\":\"#2a3f5f\"}},\"annotationdefaults\":{\"arrowcolor\":\"#2a3f5f\",\"arrowhead\":0,\"arrowwidth\":1},\"geo\":{\"bgcolor\":\"white\",\"landcolor\":\"#E5ECF6\",\"subunitcolor\":\"white\",\"showland\":true,\"showlakes\":true,\"lakecolor\":\"white\"},\"title\":{\"x\":0.05},\"mapbox\":{\"style\":\"light\"}}},\"title\":{\"text\":\"\\u003cb\\u003eNetwork Plot (P.U.)\\u003c\\u002fb\\u003e\\u003cbr\\u003eNode color: Average voltage magnitude\\u003cbr\\u003eLine width: Total \\u003ci\\u003eactive\\u003c\\u002fi\\u003e power flow (reverse flow in red).\",\"font\":{\"color\":\"Black\"}},\"legend\":{\"font\":{\"color\":\"Black\"},\"bgcolor\":\"White\",\"x\":0.8,\"y\":0.9},\"margin\":{\"t\":50,\"b\":10,\"l\":10,\"r\":10},\"xaxis\":{\"visible\":false},\"yaxis\":{\"visible\":false},\"font\":{\"family\":\"Droid Sans Mono\",\"color\":\"Black\"},\"plot_bgcolor\":\"White\",\"paper_bgcolor\":\"White\"},                        {\"responsive\": true}                    ).then(function(){\n",
       "                            \n",
       "var gd = document.getElementById('b5d2fb37-b681-48bf-b840-c6cd3e33a2b3');\n",
       "var x = new MutationObserver(function (mutations, observer) {{\n",
       "        var display = window.getComputedStyle(gd).display;\n",
       "        if (!display || display === 'none') {{\n",
       "            console.log([gd, 'removed!']);\n",
       "            Plotly.purge(gd);\n",
       "            observer.disconnect();\n",
       "        }}\n",
       "}});\n",
       "\n",
       "// Listen for the removal of the full notebook cells\n",
       "var notebookContainer = gd.closest('#notebook-container');\n",
       "if (notebookContainer) {{\n",
       "    x.observe(notebookContainer, {childList: true});\n",
       "}}\n",
       "\n",
       "// Listen for the clearing of the current output cell\n",
       "var outputEl = gd.closest('.output');\n",
       "if (outputEl) {{\n",
       "    x.observe(outputEl, {childList: true});\n",
       "}}\n",
       "\n",
       "                        })                };                });            </script>        </div>"
      ]
     },
     "metadata": {},
     "output_type": "display_data"
    }
   ],
   "execution_count": 9
  },
  {
   "cell_type": "code",
   "id": "69e94cdd2fcc6a15",
   "metadata": {
    "ExecuteTime": {
     "end_time": "2025-01-07T18:38:56.975097Z",
     "start_time": "2025-01-07T18:38:56.935433Z"
    }
   },
   "source": [
    "case.plot_voltages()"
   ],
   "outputs": [
    {
     "data": {
      "application/vnd.plotly.v1+json": {
       "data": [
        {
         "hovertemplate": "phase=a<br>name=%{x}<br>v=%{y}<extra></extra>",
         "legendgroup": "a",
         "marker": {
          "color": "#636efa",
          "symbol": "circle"
         },
         "mode": "markers",
         "name": "a",
         "orientation": "v",
         "showlegend": true,
         "x": [
          "150",
          "150r",
          "149",
          "1",
          "2",
          "3",
          "7",
          "4",
          "5",
          "6",
          "8",
          "12",
          "9",
          "13",
          "9r",
          "14",
          "34",
          "18",
          "11",
          "10",
          "15",
          "16",
          "17",
          "19",
          "21",
          "20",
          "22",
          "23",
          "24",
          "25",
          "25r",
          "26",
          "28",
          "27",
          "31",
          "33",
          "29",
          "30",
          "250",
          "32",
          "35",
          "36",
          "40",
          "37",
          "38",
          "39",
          "41",
          "42",
          "43",
          "44",
          "45",
          "47",
          "46",
          "48",
          "49",
          "50",
          "51",
          "151",
          "52",
          "53",
          "54",
          "55",
          "57",
          "56",
          "58",
          "60",
          "59",
          "61",
          "62",
          "63",
          "64",
          "65",
          "66",
          "67",
          "68",
          "72",
          "97",
          "69",
          "70",
          "71",
          "73",
          "76",
          "74",
          "75",
          "77",
          "86",
          "78",
          "79",
          "80",
          "81",
          "82",
          "84",
          "83",
          "85",
          "87",
          "88",
          "89",
          "90",
          "91",
          "92",
          "93",
          "94",
          "95",
          "96",
          "98",
          "99",
          "100",
          "450",
          "197",
          "101",
          "102",
          "105",
          "103",
          "104",
          "106",
          "108",
          "107",
          "109",
          "300",
          "110",
          "111",
          "112",
          "113",
          "114",
          "135",
          "152",
          "160r",
          "160",
          "61s",
          "610"
         ],
         "xaxis": "x",
         "y": [
          0.9999999999999981,
          1.037499999999996,
          1.0371865293782903,
          1.0259941308058833,
          null,
          null,
          1.01749981295793,
          null,
          null,
          null,
          1.0119266687624424,
          null,
          1.0104543365386478,
          1.0045247647837938,
          1.0104543365386478,
          1.0087762496310322,
          null,
          0.9957781789362368,
          1.0081161527552767,
          1.0084481462122974,
          null,
          null,
          null,
          0.9944626142258718,
          0.9952420387430239,
          0.9936105731744654,
          null,
          0.9948343994983565,
          null,
          0.9941786295242357,
          1.0066058623932888,
          1.006350806992058,
          0.9938129861245388,
          1.0059924680632801,
          null,
          1.0046819715158624,
          0.993653588972558,
          0.9939173965032702,
          0.99391739650327,
          null,
          0.9929954289488117,
          0.9920765391191367,
          0.9915100840579653,
          0.991299277585114,
          null,
          null,
          null,
          0.9899495750606597,
          null,
          0.9888769658281382,
          0.9883487150904048,
          0.9878634234204342,
          0.9879493994793428,
          0.9875946444623576,
          0.9875954707112149,
          0.9875764523951092,
          0.9874111928862165,
          0.9874111928862165,
          0.9987691340350059,
          0.996220868017379,
          0.9947893704303663,
          0.994581930000476,
          0.9919105876290677,
          0.9945522435696509,
          null,
          0.9858084095545238,
          null,
          0.9858084095545235,
          0.9850548239112873,
          0.9844634289486007,
          0.9841659885621176,
          0.9834864351078949,
          0.9837177879848554,
          1.0332144954418423,
          1.0316856949980018,
          1.0336602246330011,
          1.0322364169707725,
          1.0299311536032454,
          1.0286852097987045,
          1.027981703290127,
          null,
          1.033609898385737,
          null,
          null,
          1.034812254985486,
          1.0327684189120563,
          1.0351245374603752,
          1.0348226101910258,
          1.037242797134484,
          1.0380429056066764,
          1.0389145082330868,
          null,
          1.0401000561652969,
          null,
          1.0322796235812342,
          1.0322332198163222,
          1.031860000250377,
          null,
          1.0316668546228478,
          null,
          1.0313544349944461,
          1.0306527478020662,
          1.0313185692951576,
          null,
          1.0320339241051255,
          1.0323246601962872,
          1.0325190342834272,
          1.0325190342834274,
          1.0322007524058505,
          1.0314059434635934,
          null,
          1.0301073856808205,
          null,
          null,
          null,
          1.0286485278709552,
          null,
          1.0245675750779002,
          1.0286485278709552,
          1.0226099355113951,
          1.0218700640210632,
          1.0219540447069246,
          1.019883657713265,
          1.019464416780103,
          0.9957021374540274,
          1.0043676782162216,
          1.0349915278889623,
          0.9857062170371069,
          0.9858084095545234,
          0.9858084095545234
         ],
         "yaxis": "y",
         "type": "scatter"
        },
        {
         "hovertemplate": "phase=b<br>name=%{x}<br>v=%{y}<extra></extra>",
         "legendgroup": "b",
         "marker": {
          "color": "#EF553B",
          "symbol": "circle"
         },
         "mode": "markers",
         "name": "b",
         "orientation": "v",
         "showlegend": true,
         "x": [
          "150",
          "150r",
          "149",
          "1",
          "2",
          "3",
          "7",
          "4",
          "5",
          "6",
          "8",
          "12",
          "9",
          "13",
          "9r",
          "14",
          "34",
          "18",
          "11",
          "10",
          "15",
          "16",
          "17",
          "19",
          "21",
          "20",
          "22",
          "23",
          "24",
          "25",
          "25r",
          "26",
          "28",
          "27",
          "31",
          "33",
          "29",
          "30",
          "250",
          "32",
          "35",
          "36",
          "40",
          "37",
          "38",
          "39",
          "41",
          "42",
          "43",
          "44",
          "45",
          "47",
          "46",
          "48",
          "49",
          "50",
          "51",
          "151",
          "52",
          "53",
          "54",
          "55",
          "57",
          "56",
          "58",
          "60",
          "59",
          "61",
          "62",
          "63",
          "64",
          "65",
          "66",
          "67",
          "68",
          "72",
          "97",
          "69",
          "70",
          "71",
          "73",
          "76",
          "74",
          "75",
          "77",
          "86",
          "78",
          "79",
          "80",
          "81",
          "82",
          "84",
          "83",
          "85",
          "87",
          "88",
          "89",
          "90",
          "91",
          "92",
          "93",
          "94",
          "95",
          "96",
          "98",
          "99",
          "100",
          "450",
          "197",
          "101",
          "102",
          "105",
          "103",
          "104",
          "106",
          "108",
          "107",
          "109",
          "300",
          "110",
          "111",
          "112",
          "113",
          "114",
          "135",
          "152",
          "160r",
          "160",
          "61s",
          "610"
         ],
         "xaxis": "x2",
         "y": [
          1.0,
          1.0374999999999999,
          1.03729207767584,
          1.0348005133976432,
          1.0345780664568534,
          null,
          1.0330103409894165,
          null,
          null,
          null,
          1.0317425685630925,
          1.0314557106357456,
          null,
          1.0294785377161342,
          null,
          null,
          null,
          1.0252529636111103,
          null,
          null,
          null,
          null,
          null,
          null,
          1.0252957858009717,
          null,
          1.023879738790968,
          1.025665827114124,
          null,
          1.026105767550108,
          null,
          null,
          1.0263257349795687,
          null,
          null,
          null,
          1.0264717899536149,
          1.0264297422219975,
          1.0264297422219975,
          null,
          1.0226031672565952,
          1.0221225149302617,
          1.021440207622301,
          null,
          1.0214716665274062,
          1.0210531246057883,
          null,
          1.0202941905777265,
          1.0189518735892638,
          1.0195685879208982,
          null,
          1.0184783595274325,
          null,
          1.0181876895971582,
          1.0179203256686953,
          1.017945533226487,
          1.0180234777639543,
          1.0180234777639543,
          1.028047442049796,
          1.0272414967076064,
          1.0266462600454875,
          1.0265705679848813,
          1.0238260988051195,
          1.0263962898726209,
          1.0231757844231788,
          1.0187323178712708,
          1.022854384433839,
          1.0187323178712708,
          1.0175964830517006,
          1.016730062764002,
          1.01483897606658,
          1.0144968057890302,
          1.0147290068688968,
          1.030488116985126,
          null,
          1.0295972525887733,
          1.0299864152057931,
          null,
          null,
          null,
          null,
          1.0290761176784358,
          null,
          null,
          1.0302073348235639,
          1.027311653035564,
          1.030616617025152,
          1.0307504157361767,
          1.0322765024946787,
          1.0331085179776966,
          1.0343500165027515,
          null,
          1.0354505635777371,
          null,
          1.026514733788312,
          null,
          1.0262503547065627,
          1.0261594552336621,
          1.0259243534231735,
          null,
          1.0257647353663575,
          null,
          1.0253828759531627,
          1.0251263219246565,
          1.0297307573462107,
          1.0289105083828949,
          1.0288445189442799,
          1.0288445189442799,
          1.0299662189892274,
          1.0296967418771075,
          null,
          1.0295436573471377,
          null,
          null,
          1.0283933268469378,
          1.0301888131120247,
          1.026921585326123,
          null,
          1.0301888131120247,
          null,
          null,
          null,
          null,
          null,
          1.0251742800510097,
          1.0293664018570345,
          1.0313971126771924,
          1.0186638149898197,
          1.0187323178712708,
          1.0187323178712706
         ],
         "yaxis": "y2",
         "type": "scatter"
        },
        {
         "hovertemplate": "phase=c<br>name=%{x}<br>v=%{y}<extra></extra>",
         "legendgroup": "c",
         "marker": {
          "color": "#00cc96",
          "symbol": "circle"
         },
         "mode": "markers",
         "name": "c",
         "orientation": "v",
         "showlegend": true,
         "x": [
          "150",
          "150r",
          "149",
          "1",
          "2",
          "3",
          "7",
          "4",
          "5",
          "6",
          "8",
          "12",
          "9",
          "13",
          "9r",
          "14",
          "34",
          "18",
          "11",
          "10",
          "15",
          "16",
          "17",
          "19",
          "21",
          "20",
          "22",
          "23",
          "24",
          "25",
          "25r",
          "26",
          "28",
          "27",
          "31",
          "33",
          "29",
          "30",
          "250",
          "32",
          "35",
          "36",
          "40",
          "37",
          "38",
          "39",
          "41",
          "42",
          "43",
          "44",
          "45",
          "47",
          "46",
          "48",
          "49",
          "50",
          "51",
          "151",
          "52",
          "53",
          "54",
          "55",
          "57",
          "56",
          "58",
          "60",
          "59",
          "61",
          "62",
          "63",
          "64",
          "65",
          "66",
          "67",
          "68",
          "72",
          "97",
          "69",
          "70",
          "71",
          "73",
          "76",
          "74",
          "75",
          "77",
          "86",
          "78",
          "79",
          "80",
          "81",
          "82",
          "84",
          "83",
          "85",
          "87",
          "88",
          "89",
          "90",
          "91",
          "92",
          "93",
          "94",
          "95",
          "96",
          "98",
          "99",
          "100",
          "450",
          "197",
          "101",
          "102",
          "105",
          "103",
          "104",
          "106",
          "108",
          "107",
          "109",
          "300",
          "110",
          "111",
          "112",
          "113",
          "114",
          "135",
          "152",
          "160r",
          "160",
          "61s",
          "610"
         ],
         "xaxis": "x3",
         "y": [
          0.9999999999999991,
          1.0374999999999983,
          1.0372493570134291,
          1.0288238901150435,
          null,
          1.0271832994755024,
          1.0233842191877467,
          1.026671003730218,
          1.02588027496407,
          1.0252059775986466,
          1.0197537426789778,
          null,
          null,
          1.0142815271675563,
          null,
          null,
          1.0132984287842077,
          1.0068767827510174,
          null,
          null,
          1.012908965018768,
          1.011934649826825,
          1.0124544012712833,
          null,
          1.0056967501809484,
          null,
          null,
          1.0045613149598234,
          1.0031201048252492,
          1.0036695234960844,
          1.0036695234960842,
          1.003171089941934,
          1.0033242658598869,
          1.0031372332044741,
          1.002580936874139,
          null,
          1.0028698048777205,
          1.0024129275958793,
          1.0024129275958793,
          1.0021873084309239,
          1.0057792922650264,
          null,
          1.0047405759563504,
          null,
          null,
          null,
          1.0043150551349214,
          1.0038633527233687,
          null,
          1.00304161354101,
          null,
          1.0020440268236368,
          null,
          1.0018255709984099,
          1.0017285974126968,
          1.0013865155141648,
          1.001371124780848,
          1.001371124780848,
          1.0111198394718732,
          1.0096188830156305,
          1.0086949298786414,
          1.0087649404674839,
          1.0062406233724401,
          1.008851454913967,
          null,
          1.0003929103595166,
          null,
          1.0003929103595166,
          0.9983470448480372,
          0.9973472117026495,
          0.9951937045242694,
          0.9921921814684894,
          0.9906811953989921,
          1.0293863973245798,
          null,
          1.0291709908217097,
          1.028644599200292,
          null,
          null,
          null,
          1.0270260167957788,
          1.0297849144563203,
          1.0251879828053605,
          1.024161142125089,
          1.0306809641156958,
          1.0311886514812412,
          1.0308432830894367,
          1.0307935589072978,
          1.0317188364250158,
          1.0319335872396438,
          1.0327128433443928,
          1.0293494455781913,
          1.0335434481778694,
          1.028134893951935,
          1.031720877613421,
          null,
          1.0321139544013347,
          null,
          1.032321568242769,
          1.0322421049133064,
          1.0324131094231008,
          null,
          1.0325975322659307,
          null,
          1.0284384272396105,
          1.0281057124490323,
          1.0277055625357037,
          1.0277055625357037,
          1.028619319950989,
          1.0280645013672671,
          1.0266242593623398,
          1.0283240581758009,
          1.024957459248199,
          1.0231594071123113,
          null,
          1.0281573053041113,
          null,
          null,
          1.0281573053041115,
          null,
          null,
          null,
          null,
          null,
          1.0068207923521744,
          1.0141637178676637,
          1.0315777839154463,
          1.0003178510695236,
          1.0003929103595164,
          1.0003929103595164
         ],
         "yaxis": "y3",
         "type": "scatter"
        }
       ],
       "layout": {
        "template": {
         "data": {
          "histogram2dcontour": [
           {
            "type": "histogram2dcontour",
            "colorbar": {
             "outlinewidth": 0,
             "ticks": ""
            },
            "colorscale": [
             [
              0.0,
              "#0d0887"
             ],
             [
              0.1111111111111111,
              "#46039f"
             ],
             [
              0.2222222222222222,
              "#7201a8"
             ],
             [
              0.3333333333333333,
              "#9c179e"
             ],
             [
              0.4444444444444444,
              "#bd3786"
             ],
             [
              0.5555555555555556,
              "#d8576b"
             ],
             [
              0.6666666666666666,
              "#ed7953"
             ],
             [
              0.7777777777777778,
              "#fb9f3a"
             ],
             [
              0.8888888888888888,
              "#fdca26"
             ],
             [
              1.0,
              "#f0f921"
             ]
            ]
           }
          ],
          "choropleth": [
           {
            "type": "choropleth",
            "colorbar": {
             "outlinewidth": 0,
             "ticks": ""
            }
           }
          ],
          "histogram2d": [
           {
            "type": "histogram2d",
            "colorbar": {
             "outlinewidth": 0,
             "ticks": ""
            },
            "colorscale": [
             [
              0.0,
              "#0d0887"
             ],
             [
              0.1111111111111111,
              "#46039f"
             ],
             [
              0.2222222222222222,
              "#7201a8"
             ],
             [
              0.3333333333333333,
              "#9c179e"
             ],
             [
              0.4444444444444444,
              "#bd3786"
             ],
             [
              0.5555555555555556,
              "#d8576b"
             ],
             [
              0.6666666666666666,
              "#ed7953"
             ],
             [
              0.7777777777777778,
              "#fb9f3a"
             ],
             [
              0.8888888888888888,
              "#fdca26"
             ],
             [
              1.0,
              "#f0f921"
             ]
            ]
           }
          ],
          "heatmap": [
           {
            "type": "heatmap",
            "colorbar": {
             "outlinewidth": 0,
             "ticks": ""
            },
            "colorscale": [
             [
              0.0,
              "#0d0887"
             ],
             [
              0.1111111111111111,
              "#46039f"
             ],
             [
              0.2222222222222222,
              "#7201a8"
             ],
             [
              0.3333333333333333,
              "#9c179e"
             ],
             [
              0.4444444444444444,
              "#bd3786"
             ],
             [
              0.5555555555555556,
              "#d8576b"
             ],
             [
              0.6666666666666666,
              "#ed7953"
             ],
             [
              0.7777777777777778,
              "#fb9f3a"
             ],
             [
              0.8888888888888888,
              "#fdca26"
             ],
             [
              1.0,
              "#f0f921"
             ]
            ]
           }
          ],
          "heatmapgl": [
           {
            "type": "heatmapgl",
            "colorbar": {
             "outlinewidth": 0,
             "ticks": ""
            },
            "colorscale": [
             [
              0.0,
              "#0d0887"
             ],
             [
              0.1111111111111111,
              "#46039f"
             ],
             [
              0.2222222222222222,
              "#7201a8"
             ],
             [
              0.3333333333333333,
              "#9c179e"
             ],
             [
              0.4444444444444444,
              "#bd3786"
             ],
             [
              0.5555555555555556,
              "#d8576b"
             ],
             [
              0.6666666666666666,
              "#ed7953"
             ],
             [
              0.7777777777777778,
              "#fb9f3a"
             ],
             [
              0.8888888888888888,
              "#fdca26"
             ],
             [
              1.0,
              "#f0f921"
             ]
            ]
           }
          ],
          "contourcarpet": [
           {
            "type": "contourcarpet",
            "colorbar": {
             "outlinewidth": 0,
             "ticks": ""
            }
           }
          ],
          "contour": [
           {
            "type": "contour",
            "colorbar": {
             "outlinewidth": 0,
             "ticks": ""
            },
            "colorscale": [
             [
              0.0,
              "#0d0887"
             ],
             [
              0.1111111111111111,
              "#46039f"
             ],
             [
              0.2222222222222222,
              "#7201a8"
             ],
             [
              0.3333333333333333,
              "#9c179e"
             ],
             [
              0.4444444444444444,
              "#bd3786"
             ],
             [
              0.5555555555555556,
              "#d8576b"
             ],
             [
              0.6666666666666666,
              "#ed7953"
             ],
             [
              0.7777777777777778,
              "#fb9f3a"
             ],
             [
              0.8888888888888888,
              "#fdca26"
             ],
             [
              1.0,
              "#f0f921"
             ]
            ]
           }
          ],
          "surface": [
           {
            "type": "surface",
            "colorbar": {
             "outlinewidth": 0,
             "ticks": ""
            },
            "colorscale": [
             [
              0.0,
              "#0d0887"
             ],
             [
              0.1111111111111111,
              "#46039f"
             ],
             [
              0.2222222222222222,
              "#7201a8"
             ],
             [
              0.3333333333333333,
              "#9c179e"
             ],
             [
              0.4444444444444444,
              "#bd3786"
             ],
             [
              0.5555555555555556,
              "#d8576b"
             ],
             [
              0.6666666666666666,
              "#ed7953"
             ],
             [
              0.7777777777777778,
              "#fb9f3a"
             ],
             [
              0.8888888888888888,
              "#fdca26"
             ],
             [
              1.0,
              "#f0f921"
             ]
            ]
           }
          ],
          "mesh3d": [
           {
            "type": "mesh3d",
            "colorbar": {
             "outlinewidth": 0,
             "ticks": ""
            }
           }
          ],
          "scatter": [
           {
            "fillpattern": {
             "fillmode": "overlay",
             "size": 10,
             "solidity": 0.2
            },
            "type": "scatter"
           }
          ],
          "parcoords": [
           {
            "type": "parcoords",
            "line": {
             "colorbar": {
              "outlinewidth": 0,
              "ticks": ""
             }
            }
           }
          ],
          "scatterpolargl": [
           {
            "type": "scatterpolargl",
            "marker": {
             "colorbar": {
              "outlinewidth": 0,
              "ticks": ""
             }
            }
           }
          ],
          "bar": [
           {
            "error_x": {
             "color": "#2a3f5f"
            },
            "error_y": {
             "color": "#2a3f5f"
            },
            "marker": {
             "line": {
              "color": "#E5ECF6",
              "width": 0.5
             },
             "pattern": {
              "fillmode": "overlay",
              "size": 10,
              "solidity": 0.2
             }
            },
            "type": "bar"
           }
          ],
          "scattergeo": [
           {
            "type": "scattergeo",
            "marker": {
             "colorbar": {
              "outlinewidth": 0,
              "ticks": ""
             }
            }
           }
          ],
          "scatterpolar": [
           {
            "type": "scatterpolar",
            "marker": {
             "colorbar": {
              "outlinewidth": 0,
              "ticks": ""
             }
            }
           }
          ],
          "histogram": [
           {
            "marker": {
             "pattern": {
              "fillmode": "overlay",
              "size": 10,
              "solidity": 0.2
             }
            },
            "type": "histogram"
           }
          ],
          "scattergl": [
           {
            "type": "scattergl",
            "marker": {
             "colorbar": {
              "outlinewidth": 0,
              "ticks": ""
             }
            }
           }
          ],
          "scatter3d": [
           {
            "type": "scatter3d",
            "line": {
             "colorbar": {
              "outlinewidth": 0,
              "ticks": ""
             }
            },
            "marker": {
             "colorbar": {
              "outlinewidth": 0,
              "ticks": ""
             }
            }
           }
          ],
          "scattermapbox": [
           {
            "type": "scattermapbox",
            "marker": {
             "colorbar": {
              "outlinewidth": 0,
              "ticks": ""
             }
            }
           }
          ],
          "scatterternary": [
           {
            "type": "scatterternary",
            "marker": {
             "colorbar": {
              "outlinewidth": 0,
              "ticks": ""
             }
            }
           }
          ],
          "scattercarpet": [
           {
            "type": "scattercarpet",
            "marker": {
             "colorbar": {
              "outlinewidth": 0,
              "ticks": ""
             }
            }
           }
          ],
          "carpet": [
           {
            "aaxis": {
             "endlinecolor": "#2a3f5f",
             "gridcolor": "white",
             "linecolor": "white",
             "minorgridcolor": "white",
             "startlinecolor": "#2a3f5f"
            },
            "baxis": {
             "endlinecolor": "#2a3f5f",
             "gridcolor": "white",
             "linecolor": "white",
             "minorgridcolor": "white",
             "startlinecolor": "#2a3f5f"
            },
            "type": "carpet"
           }
          ],
          "table": [
           {
            "cells": {
             "fill": {
              "color": "#EBF0F8"
             },
             "line": {
              "color": "white"
             }
            },
            "header": {
             "fill": {
              "color": "#C8D4E3"
             },
             "line": {
              "color": "white"
             }
            },
            "type": "table"
           }
          ],
          "barpolar": [
           {
            "marker": {
             "line": {
              "color": "#E5ECF6",
              "width": 0.5
             },
             "pattern": {
              "fillmode": "overlay",
              "size": 10,
              "solidity": 0.2
             }
            },
            "type": "barpolar"
           }
          ],
          "pie": [
           {
            "automargin": true,
            "type": "pie"
           }
          ]
         },
         "layout": {
          "autotypenumbers": "strict",
          "colorway": [
           "#636efa",
           "#EF553B",
           "#00cc96",
           "#ab63fa",
           "#FFA15A",
           "#19d3f3",
           "#FF6692",
           "#B6E880",
           "#FF97FF",
           "#FECB52"
          ],
          "font": {
           "color": "#2a3f5f"
          },
          "hovermode": "closest",
          "hoverlabel": {
           "align": "left"
          },
          "paper_bgcolor": "white",
          "plot_bgcolor": "#E5ECF6",
          "polar": {
           "bgcolor": "#E5ECF6",
           "angularaxis": {
            "gridcolor": "white",
            "linecolor": "white",
            "ticks": ""
           },
           "radialaxis": {
            "gridcolor": "white",
            "linecolor": "white",
            "ticks": ""
           }
          },
          "ternary": {
           "bgcolor": "#E5ECF6",
           "aaxis": {
            "gridcolor": "white",
            "linecolor": "white",
            "ticks": ""
           },
           "baxis": {
            "gridcolor": "white",
            "linecolor": "white",
            "ticks": ""
           },
           "caxis": {
            "gridcolor": "white",
            "linecolor": "white",
            "ticks": ""
           }
          },
          "coloraxis": {
           "colorbar": {
            "outlinewidth": 0,
            "ticks": ""
           }
          },
          "colorscale": {
           "sequential": [
            [
             0.0,
             "#0d0887"
            ],
            [
             0.1111111111111111,
             "#46039f"
            ],
            [
             0.2222222222222222,
             "#7201a8"
            ],
            [
             0.3333333333333333,
             "#9c179e"
            ],
            [
             0.4444444444444444,
             "#bd3786"
            ],
            [
             0.5555555555555556,
             "#d8576b"
            ],
            [
             0.6666666666666666,
             "#ed7953"
            ],
            [
             0.7777777777777778,
             "#fb9f3a"
            ],
            [
             0.8888888888888888,
             "#fdca26"
            ],
            [
             1.0,
             "#f0f921"
            ]
           ],
           "sequentialminus": [
            [
             0.0,
             "#0d0887"
            ],
            [
             0.1111111111111111,
             "#46039f"
            ],
            [
             0.2222222222222222,
             "#7201a8"
            ],
            [
             0.3333333333333333,
             "#9c179e"
            ],
            [
             0.4444444444444444,
             "#bd3786"
            ],
            [
             0.5555555555555556,
             "#d8576b"
            ],
            [
             0.6666666666666666,
             "#ed7953"
            ],
            [
             0.7777777777777778,
             "#fb9f3a"
            ],
            [
             0.8888888888888888,
             "#fdca26"
            ],
            [
             1.0,
             "#f0f921"
            ]
           ],
           "diverging": [
            [
             0,
             "#8e0152"
            ],
            [
             0.1,
             "#c51b7d"
            ],
            [
             0.2,
             "#de77ae"
            ],
            [
             0.3,
             "#f1b6da"
            ],
            [
             0.4,
             "#fde0ef"
            ],
            [
             0.5,
             "#f7f7f7"
            ],
            [
             0.6,
             "#e6f5d0"
            ],
            [
             0.7,
             "#b8e186"
            ],
            [
             0.8,
             "#7fbc41"
            ],
            [
             0.9,
             "#4d9221"
            ],
            [
             1,
             "#276419"
            ]
           ]
          },
          "xaxis": {
           "gridcolor": "white",
           "linecolor": "white",
           "ticks": "",
           "title": {
            "standoff": 15
           },
           "zerolinecolor": "white",
           "automargin": true,
           "zerolinewidth": 2
          },
          "yaxis": {
           "gridcolor": "white",
           "linecolor": "white",
           "ticks": "",
           "title": {
            "standoff": 15
           },
           "zerolinecolor": "white",
           "automargin": true,
           "zerolinewidth": 2
          },
          "scene": {
           "xaxis": {
            "backgroundcolor": "#E5ECF6",
            "gridcolor": "white",
            "linecolor": "white",
            "showbackground": true,
            "ticks": "",
            "zerolinecolor": "white",
            "gridwidth": 2
           },
           "yaxis": {
            "backgroundcolor": "#E5ECF6",
            "gridcolor": "white",
            "linecolor": "white",
            "showbackground": true,
            "ticks": "",
            "zerolinecolor": "white",
            "gridwidth": 2
           },
           "zaxis": {
            "backgroundcolor": "#E5ECF6",
            "gridcolor": "white",
            "linecolor": "white",
            "showbackground": true,
            "ticks": "",
            "zerolinecolor": "white",
            "gridwidth": 2
           }
          },
          "shapedefaults": {
           "line": {
            "color": "#2a3f5f"
           }
          },
          "annotationdefaults": {
           "arrowcolor": "#2a3f5f",
           "arrowhead": 0,
           "arrowwidth": 1
          },
          "geo": {
           "bgcolor": "white",
           "landcolor": "#E5ECF6",
           "subunitcolor": "white",
           "showland": true,
           "showlakes": true,
           "lakecolor": "white"
          },
          "title": {
           "x": 0.05
          },
          "mapbox": {
           "style": "light"
          }
         }
        },
        "xaxis": {
         "anchor": "y",
         "domain": [
          0.0,
          0.31999999999999995
         ],
         "title": {
          "text": "Bus Name"
         }
        },
        "yaxis": {
         "anchor": "x",
         "domain": [
          0.0,
          1.0
         ],
         "title": {
          "text": "v"
         }
        },
        "xaxis2": {
         "anchor": "y2",
         "domain": [
          0.33999999999999997,
          0.6599999999999999
         ],
         "matches": "x",
         "title": {
          "text": "Bus Name"
         }
        },
        "yaxis2": {
         "anchor": "x2",
         "domain": [
          0.0,
          1.0
         ],
         "matches": "y",
         "showticklabels": false
        },
        "xaxis3": {
         "anchor": "y3",
         "domain": [
          0.6799999999999999,
          0.9999999999999999
         ],
         "matches": "x",
         "title": {
          "text": "Bus Name"
         }
        },
        "yaxis3": {
         "anchor": "x3",
         "domain": [
          0.0,
          1.0
         ],
         "matches": "y",
         "showticklabels": false
        },
        "annotations": [
         {
          "font": {},
          "showarrow": false,
          "text": "A",
          "x": 0.15999999999999998,
          "xanchor": "center",
          "xref": "paper",
          "y": 1.0,
          "yanchor": "bottom",
          "yref": "paper"
         },
         {
          "font": {},
          "showarrow": false,
          "text": "B",
          "x": 0.49999999999999994,
          "xanchor": "center",
          "xref": "paper",
          "y": 1.0,
          "yanchor": "bottom",
          "yref": "paper"
         },
         {
          "font": {},
          "showarrow": false,
          "text": "C",
          "x": 0.8399999999999999,
          "xanchor": "center",
          "xref": "paper",
          "y": 1.0,
          "yanchor": "bottom",
          "yref": "paper"
         }
        ],
        "legend": {
         "title": {
          "text": "phase"
         },
         "tracegroupgap": 0
        },
        "margin": {
         "t": 60
        }
       },
       "config": {
        "plotlyServerURL": "https://plot.ly"
       }
      },
      "text/html": [
       "<div>                            <div id=\"4a1c8409-3372-4cd3-9fe4-4e2d9c2d889f\" class=\"plotly-graph-div\" style=\"height:525px; width:100%;\"></div>            <script type=\"text/javascript\">                require([\"plotly\"], function(Plotly) {                    window.PLOTLYENV=window.PLOTLYENV || {};                                    if (document.getElementById(\"4a1c8409-3372-4cd3-9fe4-4e2d9c2d889f\")) {                    Plotly.newPlot(                        \"4a1c8409-3372-4cd3-9fe4-4e2d9c2d889f\",                        [{\"hovertemplate\":\"phase=a\\u003cbr\\u003ename=%{x}\\u003cbr\\u003ev=%{y}\\u003cextra\\u003e\\u003c\\u002fextra\\u003e\",\"legendgroup\":\"a\",\"marker\":{\"color\":\"#636efa\",\"symbol\":\"circle\"},\"mode\":\"markers\",\"name\":\"a\",\"orientation\":\"v\",\"showlegend\":true,\"x\":[\"150\",\"150r\",\"149\",\"1\",\"2\",\"3\",\"7\",\"4\",\"5\",\"6\",\"8\",\"12\",\"9\",\"13\",\"9r\",\"14\",\"34\",\"18\",\"11\",\"10\",\"15\",\"16\",\"17\",\"19\",\"21\",\"20\",\"22\",\"23\",\"24\",\"25\",\"25r\",\"26\",\"28\",\"27\",\"31\",\"33\",\"29\",\"30\",\"250\",\"32\",\"35\",\"36\",\"40\",\"37\",\"38\",\"39\",\"41\",\"42\",\"43\",\"44\",\"45\",\"47\",\"46\",\"48\",\"49\",\"50\",\"51\",\"151\",\"52\",\"53\",\"54\",\"55\",\"57\",\"56\",\"58\",\"60\",\"59\",\"61\",\"62\",\"63\",\"64\",\"65\",\"66\",\"67\",\"68\",\"72\",\"97\",\"69\",\"70\",\"71\",\"73\",\"76\",\"74\",\"75\",\"77\",\"86\",\"78\",\"79\",\"80\",\"81\",\"82\",\"84\",\"83\",\"85\",\"87\",\"88\",\"89\",\"90\",\"91\",\"92\",\"93\",\"94\",\"95\",\"96\",\"98\",\"99\",\"100\",\"450\",\"197\",\"101\",\"102\",\"105\",\"103\",\"104\",\"106\",\"108\",\"107\",\"109\",\"300\",\"110\",\"111\",\"112\",\"113\",\"114\",\"135\",\"152\",\"160r\",\"160\",\"61s\",\"610\"],\"xaxis\":\"x\",\"y\":[0.9999999999999981,1.037499999999996,1.0371865293782903,1.0259941308058833,null,null,1.01749981295793,null,null,null,1.0119266687624424,null,1.0104543365386478,1.0045247647837938,1.0104543365386478,1.0087762496310322,null,0.9957781789362368,1.0081161527552767,1.0084481462122974,null,null,null,0.9944626142258718,0.9952420387430239,0.9936105731744654,null,0.9948343994983565,null,0.9941786295242357,1.0066058623932888,1.006350806992058,0.9938129861245388,1.0059924680632801,null,1.0046819715158624,0.993653588972558,0.9939173965032702,0.99391739650327,null,0.9929954289488117,0.9920765391191367,0.9915100840579653,0.991299277585114,null,null,null,0.9899495750606597,null,0.9888769658281382,0.9883487150904048,0.9878634234204342,0.9879493994793428,0.9875946444623576,0.9875954707112149,0.9875764523951092,0.9874111928862165,0.9874111928862165,0.9987691340350059,0.996220868017379,0.9947893704303663,0.994581930000476,0.9919105876290677,0.9945522435696509,null,0.9858084095545238,null,0.9858084095545235,0.9850548239112873,0.9844634289486007,0.9841659885621176,0.9834864351078949,0.9837177879848554,1.0332144954418423,1.0316856949980018,1.0336602246330011,1.0322364169707725,1.0299311536032454,1.0286852097987045,1.027981703290127,null,1.033609898385737,null,null,1.034812254985486,1.0327684189120563,1.0351245374603752,1.0348226101910258,1.037242797134484,1.0380429056066764,1.0389145082330868,null,1.0401000561652969,null,1.0322796235812342,1.0322332198163222,1.031860000250377,null,1.0316668546228478,null,1.0313544349944461,1.0306527478020662,1.0313185692951576,null,1.0320339241051255,1.0323246601962872,1.0325190342834272,1.0325190342834274,1.0322007524058505,1.0314059434635934,null,1.0301073856808205,null,null,null,1.0286485278709552,null,1.0245675750779002,1.0286485278709552,1.0226099355113951,1.0218700640210632,1.0219540447069246,1.019883657713265,1.019464416780103,0.9957021374540274,1.0043676782162216,1.0349915278889623,0.9857062170371069,0.9858084095545234,0.9858084095545234],\"yaxis\":\"y\",\"type\":\"scatter\"},{\"hovertemplate\":\"phase=b\\u003cbr\\u003ename=%{x}\\u003cbr\\u003ev=%{y}\\u003cextra\\u003e\\u003c\\u002fextra\\u003e\",\"legendgroup\":\"b\",\"marker\":{\"color\":\"#EF553B\",\"symbol\":\"circle\"},\"mode\":\"markers\",\"name\":\"b\",\"orientation\":\"v\",\"showlegend\":true,\"x\":[\"150\",\"150r\",\"149\",\"1\",\"2\",\"3\",\"7\",\"4\",\"5\",\"6\",\"8\",\"12\",\"9\",\"13\",\"9r\",\"14\",\"34\",\"18\",\"11\",\"10\",\"15\",\"16\",\"17\",\"19\",\"21\",\"20\",\"22\",\"23\",\"24\",\"25\",\"25r\",\"26\",\"28\",\"27\",\"31\",\"33\",\"29\",\"30\",\"250\",\"32\",\"35\",\"36\",\"40\",\"37\",\"38\",\"39\",\"41\",\"42\",\"43\",\"44\",\"45\",\"47\",\"46\",\"48\",\"49\",\"50\",\"51\",\"151\",\"52\",\"53\",\"54\",\"55\",\"57\",\"56\",\"58\",\"60\",\"59\",\"61\",\"62\",\"63\",\"64\",\"65\",\"66\",\"67\",\"68\",\"72\",\"97\",\"69\",\"70\",\"71\",\"73\",\"76\",\"74\",\"75\",\"77\",\"86\",\"78\",\"79\",\"80\",\"81\",\"82\",\"84\",\"83\",\"85\",\"87\",\"88\",\"89\",\"90\",\"91\",\"92\",\"93\",\"94\",\"95\",\"96\",\"98\",\"99\",\"100\",\"450\",\"197\",\"101\",\"102\",\"105\",\"103\",\"104\",\"106\",\"108\",\"107\",\"109\",\"300\",\"110\",\"111\",\"112\",\"113\",\"114\",\"135\",\"152\",\"160r\",\"160\",\"61s\",\"610\"],\"xaxis\":\"x2\",\"y\":[1.0,1.0374999999999999,1.03729207767584,1.0348005133976432,1.0345780664568534,null,1.0330103409894165,null,null,null,1.0317425685630925,1.0314557106357456,null,1.0294785377161342,null,null,null,1.0252529636111103,null,null,null,null,null,null,1.0252957858009717,null,1.023879738790968,1.025665827114124,null,1.026105767550108,null,null,1.0263257349795687,null,null,null,1.0264717899536149,1.0264297422219975,1.0264297422219975,null,1.0226031672565952,1.0221225149302617,1.021440207622301,null,1.0214716665274062,1.0210531246057883,null,1.0202941905777265,1.0189518735892638,1.0195685879208982,null,1.0184783595274325,null,1.0181876895971582,1.0179203256686953,1.017945533226487,1.0180234777639543,1.0180234777639543,1.028047442049796,1.0272414967076064,1.0266462600454875,1.0265705679848813,1.0238260988051195,1.0263962898726209,1.0231757844231788,1.0187323178712708,1.022854384433839,1.0187323178712708,1.0175964830517006,1.016730062764002,1.01483897606658,1.0144968057890302,1.0147290068688968,1.030488116985126,null,1.0295972525887733,1.0299864152057931,null,null,null,null,1.0290761176784358,null,null,1.0302073348235639,1.027311653035564,1.030616617025152,1.0307504157361767,1.0322765024946787,1.0331085179776966,1.0343500165027515,null,1.0354505635777371,null,1.026514733788312,null,1.0262503547065627,1.0261594552336621,1.0259243534231735,null,1.0257647353663575,null,1.0253828759531627,1.0251263219246565,1.0297307573462107,1.0289105083828949,1.0288445189442799,1.0288445189442799,1.0299662189892274,1.0296967418771075,null,1.0295436573471377,null,null,1.0283933268469378,1.0301888131120247,1.026921585326123,null,1.0301888131120247,null,null,null,null,null,1.0251742800510097,1.0293664018570345,1.0313971126771924,1.0186638149898197,1.0187323178712708,1.0187323178712706],\"yaxis\":\"y2\",\"type\":\"scatter\"},{\"hovertemplate\":\"phase=c\\u003cbr\\u003ename=%{x}\\u003cbr\\u003ev=%{y}\\u003cextra\\u003e\\u003c\\u002fextra\\u003e\",\"legendgroup\":\"c\",\"marker\":{\"color\":\"#00cc96\",\"symbol\":\"circle\"},\"mode\":\"markers\",\"name\":\"c\",\"orientation\":\"v\",\"showlegend\":true,\"x\":[\"150\",\"150r\",\"149\",\"1\",\"2\",\"3\",\"7\",\"4\",\"5\",\"6\",\"8\",\"12\",\"9\",\"13\",\"9r\",\"14\",\"34\",\"18\",\"11\",\"10\",\"15\",\"16\",\"17\",\"19\",\"21\",\"20\",\"22\",\"23\",\"24\",\"25\",\"25r\",\"26\",\"28\",\"27\",\"31\",\"33\",\"29\",\"30\",\"250\",\"32\",\"35\",\"36\",\"40\",\"37\",\"38\",\"39\",\"41\",\"42\",\"43\",\"44\",\"45\",\"47\",\"46\",\"48\",\"49\",\"50\",\"51\",\"151\",\"52\",\"53\",\"54\",\"55\",\"57\",\"56\",\"58\",\"60\",\"59\",\"61\",\"62\",\"63\",\"64\",\"65\",\"66\",\"67\",\"68\",\"72\",\"97\",\"69\",\"70\",\"71\",\"73\",\"76\",\"74\",\"75\",\"77\",\"86\",\"78\",\"79\",\"80\",\"81\",\"82\",\"84\",\"83\",\"85\",\"87\",\"88\",\"89\",\"90\",\"91\",\"92\",\"93\",\"94\",\"95\",\"96\",\"98\",\"99\",\"100\",\"450\",\"197\",\"101\",\"102\",\"105\",\"103\",\"104\",\"106\",\"108\",\"107\",\"109\",\"300\",\"110\",\"111\",\"112\",\"113\",\"114\",\"135\",\"152\",\"160r\",\"160\",\"61s\",\"610\"],\"xaxis\":\"x3\",\"y\":[0.9999999999999991,1.0374999999999983,1.0372493570134291,1.0288238901150435,null,1.0271832994755024,1.0233842191877467,1.026671003730218,1.02588027496407,1.0252059775986466,1.0197537426789778,null,null,1.0142815271675563,null,null,1.0132984287842077,1.0068767827510174,null,null,1.012908965018768,1.011934649826825,1.0124544012712833,null,1.0056967501809484,null,null,1.0045613149598234,1.0031201048252492,1.0036695234960844,1.0036695234960842,1.003171089941934,1.0033242658598869,1.0031372332044741,1.002580936874139,null,1.0028698048777205,1.0024129275958793,1.0024129275958793,1.0021873084309239,1.0057792922650264,null,1.0047405759563504,null,null,null,1.0043150551349214,1.0038633527233687,null,1.00304161354101,null,1.0020440268236368,null,1.0018255709984099,1.0017285974126968,1.0013865155141648,1.001371124780848,1.001371124780848,1.0111198394718732,1.0096188830156305,1.0086949298786414,1.0087649404674839,1.0062406233724401,1.008851454913967,null,1.0003929103595166,null,1.0003929103595166,0.9983470448480372,0.9973472117026495,0.9951937045242694,0.9921921814684894,0.9906811953989921,1.0293863973245798,null,1.0291709908217097,1.028644599200292,null,null,null,1.0270260167957788,1.0297849144563203,1.0251879828053605,1.024161142125089,1.0306809641156958,1.0311886514812412,1.0308432830894367,1.0307935589072978,1.0317188364250158,1.0319335872396438,1.0327128433443928,1.0293494455781913,1.0335434481778694,1.028134893951935,1.031720877613421,null,1.0321139544013347,null,1.032321568242769,1.0322421049133064,1.0324131094231008,null,1.0325975322659307,null,1.0284384272396105,1.0281057124490323,1.0277055625357037,1.0277055625357037,1.028619319950989,1.0280645013672671,1.0266242593623398,1.0283240581758009,1.024957459248199,1.0231594071123113,null,1.0281573053041113,null,null,1.0281573053041115,null,null,null,null,null,1.0068207923521744,1.0141637178676637,1.0315777839154463,1.0003178510695236,1.0003929103595164,1.0003929103595164],\"yaxis\":\"y3\",\"type\":\"scatter\"}],                        {\"template\":{\"data\":{\"histogram2dcontour\":[{\"type\":\"histogram2dcontour\",\"colorbar\":{\"outlinewidth\":0,\"ticks\":\"\"},\"colorscale\":[[0.0,\"#0d0887\"],[0.1111111111111111,\"#46039f\"],[0.2222222222222222,\"#7201a8\"],[0.3333333333333333,\"#9c179e\"],[0.4444444444444444,\"#bd3786\"],[0.5555555555555556,\"#d8576b\"],[0.6666666666666666,\"#ed7953\"],[0.7777777777777778,\"#fb9f3a\"],[0.8888888888888888,\"#fdca26\"],[1.0,\"#f0f921\"]]}],\"choropleth\":[{\"type\":\"choropleth\",\"colorbar\":{\"outlinewidth\":0,\"ticks\":\"\"}}],\"histogram2d\":[{\"type\":\"histogram2d\",\"colorbar\":{\"outlinewidth\":0,\"ticks\":\"\"},\"colorscale\":[[0.0,\"#0d0887\"],[0.1111111111111111,\"#46039f\"],[0.2222222222222222,\"#7201a8\"],[0.3333333333333333,\"#9c179e\"],[0.4444444444444444,\"#bd3786\"],[0.5555555555555556,\"#d8576b\"],[0.6666666666666666,\"#ed7953\"],[0.7777777777777778,\"#fb9f3a\"],[0.8888888888888888,\"#fdca26\"],[1.0,\"#f0f921\"]]}],\"heatmap\":[{\"type\":\"heatmap\",\"colorbar\":{\"outlinewidth\":0,\"ticks\":\"\"},\"colorscale\":[[0.0,\"#0d0887\"],[0.1111111111111111,\"#46039f\"],[0.2222222222222222,\"#7201a8\"],[0.3333333333333333,\"#9c179e\"],[0.4444444444444444,\"#bd3786\"],[0.5555555555555556,\"#d8576b\"],[0.6666666666666666,\"#ed7953\"],[0.7777777777777778,\"#fb9f3a\"],[0.8888888888888888,\"#fdca26\"],[1.0,\"#f0f921\"]]}],\"heatmapgl\":[{\"type\":\"heatmapgl\",\"colorbar\":{\"outlinewidth\":0,\"ticks\":\"\"},\"colorscale\":[[0.0,\"#0d0887\"],[0.1111111111111111,\"#46039f\"],[0.2222222222222222,\"#7201a8\"],[0.3333333333333333,\"#9c179e\"],[0.4444444444444444,\"#bd3786\"],[0.5555555555555556,\"#d8576b\"],[0.6666666666666666,\"#ed7953\"],[0.7777777777777778,\"#fb9f3a\"],[0.8888888888888888,\"#fdca26\"],[1.0,\"#f0f921\"]]}],\"contourcarpet\":[{\"type\":\"contourcarpet\",\"colorbar\":{\"outlinewidth\":0,\"ticks\":\"\"}}],\"contour\":[{\"type\":\"contour\",\"colorbar\":{\"outlinewidth\":0,\"ticks\":\"\"},\"colorscale\":[[0.0,\"#0d0887\"],[0.1111111111111111,\"#46039f\"],[0.2222222222222222,\"#7201a8\"],[0.3333333333333333,\"#9c179e\"],[0.4444444444444444,\"#bd3786\"],[0.5555555555555556,\"#d8576b\"],[0.6666666666666666,\"#ed7953\"],[0.7777777777777778,\"#fb9f3a\"],[0.8888888888888888,\"#fdca26\"],[1.0,\"#f0f921\"]]}],\"surface\":[{\"type\":\"surface\",\"colorbar\":{\"outlinewidth\":0,\"ticks\":\"\"},\"colorscale\":[[0.0,\"#0d0887\"],[0.1111111111111111,\"#46039f\"],[0.2222222222222222,\"#7201a8\"],[0.3333333333333333,\"#9c179e\"],[0.4444444444444444,\"#bd3786\"],[0.5555555555555556,\"#d8576b\"],[0.6666666666666666,\"#ed7953\"],[0.7777777777777778,\"#fb9f3a\"],[0.8888888888888888,\"#fdca26\"],[1.0,\"#f0f921\"]]}],\"mesh3d\":[{\"type\":\"mesh3d\",\"colorbar\":{\"outlinewidth\":0,\"ticks\":\"\"}}],\"scatter\":[{\"fillpattern\":{\"fillmode\":\"overlay\",\"size\":10,\"solidity\":0.2},\"type\":\"scatter\"}],\"parcoords\":[{\"type\":\"parcoords\",\"line\":{\"colorbar\":{\"outlinewidth\":0,\"ticks\":\"\"}}}],\"scatterpolargl\":[{\"type\":\"scatterpolargl\",\"marker\":{\"colorbar\":{\"outlinewidth\":0,\"ticks\":\"\"}}}],\"bar\":[{\"error_x\":{\"color\":\"#2a3f5f\"},\"error_y\":{\"color\":\"#2a3f5f\"},\"marker\":{\"line\":{\"color\":\"#E5ECF6\",\"width\":0.5},\"pattern\":{\"fillmode\":\"overlay\",\"size\":10,\"solidity\":0.2}},\"type\":\"bar\"}],\"scattergeo\":[{\"type\":\"scattergeo\",\"marker\":{\"colorbar\":{\"outlinewidth\":0,\"ticks\":\"\"}}}],\"scatterpolar\":[{\"type\":\"scatterpolar\",\"marker\":{\"colorbar\":{\"outlinewidth\":0,\"ticks\":\"\"}}}],\"histogram\":[{\"marker\":{\"pattern\":{\"fillmode\":\"overlay\",\"size\":10,\"solidity\":0.2}},\"type\":\"histogram\"}],\"scattergl\":[{\"type\":\"scattergl\",\"marker\":{\"colorbar\":{\"outlinewidth\":0,\"ticks\":\"\"}}}],\"scatter3d\":[{\"type\":\"scatter3d\",\"line\":{\"colorbar\":{\"outlinewidth\":0,\"ticks\":\"\"}},\"marker\":{\"colorbar\":{\"outlinewidth\":0,\"ticks\":\"\"}}}],\"scattermapbox\":[{\"type\":\"scattermapbox\",\"marker\":{\"colorbar\":{\"outlinewidth\":0,\"ticks\":\"\"}}}],\"scatterternary\":[{\"type\":\"scatterternary\",\"marker\":{\"colorbar\":{\"outlinewidth\":0,\"ticks\":\"\"}}}],\"scattercarpet\":[{\"type\":\"scattercarpet\",\"marker\":{\"colorbar\":{\"outlinewidth\":0,\"ticks\":\"\"}}}],\"carpet\":[{\"aaxis\":{\"endlinecolor\":\"#2a3f5f\",\"gridcolor\":\"white\",\"linecolor\":\"white\",\"minorgridcolor\":\"white\",\"startlinecolor\":\"#2a3f5f\"},\"baxis\":{\"endlinecolor\":\"#2a3f5f\",\"gridcolor\":\"white\",\"linecolor\":\"white\",\"minorgridcolor\":\"white\",\"startlinecolor\":\"#2a3f5f\"},\"type\":\"carpet\"}],\"table\":[{\"cells\":{\"fill\":{\"color\":\"#EBF0F8\"},\"line\":{\"color\":\"white\"}},\"header\":{\"fill\":{\"color\":\"#C8D4E3\"},\"line\":{\"color\":\"white\"}},\"type\":\"table\"}],\"barpolar\":[{\"marker\":{\"line\":{\"color\":\"#E5ECF6\",\"width\":0.5},\"pattern\":{\"fillmode\":\"overlay\",\"size\":10,\"solidity\":0.2}},\"type\":\"barpolar\"}],\"pie\":[{\"automargin\":true,\"type\":\"pie\"}]},\"layout\":{\"autotypenumbers\":\"strict\",\"colorway\":[\"#636efa\",\"#EF553B\",\"#00cc96\",\"#ab63fa\",\"#FFA15A\",\"#19d3f3\",\"#FF6692\",\"#B6E880\",\"#FF97FF\",\"#FECB52\"],\"font\":{\"color\":\"#2a3f5f\"},\"hovermode\":\"closest\",\"hoverlabel\":{\"align\":\"left\"},\"paper_bgcolor\":\"white\",\"plot_bgcolor\":\"#E5ECF6\",\"polar\":{\"bgcolor\":\"#E5ECF6\",\"angularaxis\":{\"gridcolor\":\"white\",\"linecolor\":\"white\",\"ticks\":\"\"},\"radialaxis\":{\"gridcolor\":\"white\",\"linecolor\":\"white\",\"ticks\":\"\"}},\"ternary\":{\"bgcolor\":\"#E5ECF6\",\"aaxis\":{\"gridcolor\":\"white\",\"linecolor\":\"white\",\"ticks\":\"\"},\"baxis\":{\"gridcolor\":\"white\",\"linecolor\":\"white\",\"ticks\":\"\"},\"caxis\":{\"gridcolor\":\"white\",\"linecolor\":\"white\",\"ticks\":\"\"}},\"coloraxis\":{\"colorbar\":{\"outlinewidth\":0,\"ticks\":\"\"}},\"colorscale\":{\"sequential\":[[0.0,\"#0d0887\"],[0.1111111111111111,\"#46039f\"],[0.2222222222222222,\"#7201a8\"],[0.3333333333333333,\"#9c179e\"],[0.4444444444444444,\"#bd3786\"],[0.5555555555555556,\"#d8576b\"],[0.6666666666666666,\"#ed7953\"],[0.7777777777777778,\"#fb9f3a\"],[0.8888888888888888,\"#fdca26\"],[1.0,\"#f0f921\"]],\"sequentialminus\":[[0.0,\"#0d0887\"],[0.1111111111111111,\"#46039f\"],[0.2222222222222222,\"#7201a8\"],[0.3333333333333333,\"#9c179e\"],[0.4444444444444444,\"#bd3786\"],[0.5555555555555556,\"#d8576b\"],[0.6666666666666666,\"#ed7953\"],[0.7777777777777778,\"#fb9f3a\"],[0.8888888888888888,\"#fdca26\"],[1.0,\"#f0f921\"]],\"diverging\":[[0,\"#8e0152\"],[0.1,\"#c51b7d\"],[0.2,\"#de77ae\"],[0.3,\"#f1b6da\"],[0.4,\"#fde0ef\"],[0.5,\"#f7f7f7\"],[0.6,\"#e6f5d0\"],[0.7,\"#b8e186\"],[0.8,\"#7fbc41\"],[0.9,\"#4d9221\"],[1,\"#276419\"]]},\"xaxis\":{\"gridcolor\":\"white\",\"linecolor\":\"white\",\"ticks\":\"\",\"title\":{\"standoff\":15},\"zerolinecolor\":\"white\",\"automargin\":true,\"zerolinewidth\":2},\"yaxis\":{\"gridcolor\":\"white\",\"linecolor\":\"white\",\"ticks\":\"\",\"title\":{\"standoff\":15},\"zerolinecolor\":\"white\",\"automargin\":true,\"zerolinewidth\":2},\"scene\":{\"xaxis\":{\"backgroundcolor\":\"#E5ECF6\",\"gridcolor\":\"white\",\"linecolor\":\"white\",\"showbackground\":true,\"ticks\":\"\",\"zerolinecolor\":\"white\",\"gridwidth\":2},\"yaxis\":{\"backgroundcolor\":\"#E5ECF6\",\"gridcolor\":\"white\",\"linecolor\":\"white\",\"showbackground\":true,\"ticks\":\"\",\"zerolinecolor\":\"white\",\"gridwidth\":2},\"zaxis\":{\"backgroundcolor\":\"#E5ECF6\",\"gridcolor\":\"white\",\"linecolor\":\"white\",\"showbackground\":true,\"ticks\":\"\",\"zerolinecolor\":\"white\",\"gridwidth\":2}},\"shapedefaults\":{\"line\":{\"color\":\"#2a3f5f\"}},\"annotationdefaults\":{\"arrowcolor\":\"#2a3f5f\",\"arrowhead\":0,\"arrowwidth\":1},\"geo\":{\"bgcolor\":\"white\",\"landcolor\":\"#E5ECF6\",\"subunitcolor\":\"white\",\"showland\":true,\"showlakes\":true,\"lakecolor\":\"white\"},\"title\":{\"x\":0.05},\"mapbox\":{\"style\":\"light\"}}},\"xaxis\":{\"anchor\":\"y\",\"domain\":[0.0,0.31999999999999995],\"title\":{\"text\":\"Bus Name\"}},\"yaxis\":{\"anchor\":\"x\",\"domain\":[0.0,1.0],\"title\":{\"text\":\"v\"}},\"xaxis2\":{\"anchor\":\"y2\",\"domain\":[0.33999999999999997,0.6599999999999999],\"matches\":\"x\",\"title\":{\"text\":\"Bus Name\"}},\"yaxis2\":{\"anchor\":\"x2\",\"domain\":[0.0,1.0],\"matches\":\"y\",\"showticklabels\":false},\"xaxis3\":{\"anchor\":\"y3\",\"domain\":[0.6799999999999999,0.9999999999999999],\"matches\":\"x\",\"title\":{\"text\":\"Bus Name\"}},\"yaxis3\":{\"anchor\":\"x3\",\"domain\":[0.0,1.0],\"matches\":\"y\",\"showticklabels\":false},\"annotations\":[{\"font\":{},\"showarrow\":false,\"text\":\"A\",\"x\":0.15999999999999998,\"xanchor\":\"center\",\"xref\":\"paper\",\"y\":1.0,\"yanchor\":\"bottom\",\"yref\":\"paper\"},{\"font\":{},\"showarrow\":false,\"text\":\"B\",\"x\":0.49999999999999994,\"xanchor\":\"center\",\"xref\":\"paper\",\"y\":1.0,\"yanchor\":\"bottom\",\"yref\":\"paper\"},{\"font\":{},\"showarrow\":false,\"text\":\"C\",\"x\":0.8399999999999999,\"xanchor\":\"center\",\"xref\":\"paper\",\"y\":1.0,\"yanchor\":\"bottom\",\"yref\":\"paper\"}],\"legend\":{\"title\":{\"text\":\"phase\"},\"tracegroupgap\":0},\"margin\":{\"t\":60}},                        {\"responsive\": true}                    ).then(function(){\n",
       "                            \n",
       "var gd = document.getElementById('4a1c8409-3372-4cd3-9fe4-4e2d9c2d889f');\n",
       "var x = new MutationObserver(function (mutations, observer) {{\n",
       "        var display = window.getComputedStyle(gd).display;\n",
       "        if (!display || display === 'none') {{\n",
       "            console.log([gd, 'removed!']);\n",
       "            Plotly.purge(gd);\n",
       "            observer.disconnect();\n",
       "        }}\n",
       "}});\n",
       "\n",
       "// Listen for the removal of the full notebook cells\n",
       "var notebookContainer = gd.closest('#notebook-container');\n",
       "if (notebookContainer) {{\n",
       "    x.observe(notebookContainer, {childList: true});\n",
       "}}\n",
       "\n",
       "// Listen for the clearing of the current output cell\n",
       "var outputEl = gd.closest('.output');\n",
       "if (outputEl) {{\n",
       "    x.observe(outputEl, {childList: true});\n",
       "}}\n",
       "\n",
       "                        })                };                });            </script>        </div>"
      ]
     },
     "metadata": {},
     "output_type": "display_data"
    }
   ],
   "execution_count": 10
  },
  {
   "cell_type": "code",
   "source": [
    "case.plot_decision_variables()"
   ],
   "metadata": {
    "collapsed": false,
    "ExecuteTime": {
     "end_time": "2025-01-07T18:38:57.059718Z",
     "start_time": "2025-01-07T18:38:56.996984Z"
    }
   },
   "id": "e6bfc4f66cd815f5",
   "outputs": [
    {
     "data": {
      "application/vnd.plotly.v1+json": {
       "data": [
        {
         "alignmentgroup": "True",
         "hovertemplate": "phase=a<br>part=Generated Active Power (p.u.)<br>Bus Name=%{x}<br>power=%{y}<extra></extra>",
         "legendgroup": "a",
         "marker": {
          "color": "#636efa",
          "pattern": {
           "shape": ""
          }
         },
         "name": "a",
         "offsetgroup": "a",
         "orientation": "v",
         "showlegend": true,
         "textposition": "auto",
         "x": [
          "13"
         ],
         "xaxis": "x4",
         "y": [
          0.009999999938867573
         ],
         "yaxis": "y4",
         "type": "bar"
        },
        {
         "alignmentgroup": "True",
         "hovertemplate": "phase=a<br>part=Generated Reactive Power (p.u.)<br>Bus Name=%{x}<br>power=%{y}<extra></extra>",
         "legendgroup": "a",
         "marker": {
          "color": "#636efa",
          "pattern": {
           "shape": ""
          }
         },
         "name": "a",
         "offsetgroup": "a",
         "orientation": "v",
         "showlegend": false,
         "textposition": "auto",
         "x": [
          "13"
         ],
         "xaxis": "x",
         "y": [
          0.0
         ],
         "yaxis": "y",
         "type": "bar"
        },
        {
         "alignmentgroup": "True",
         "hovertemplate": "phase=b<br>part=Generated Active Power (p.u.)<br>Bus Name=%{x}<br>power=%{y}<extra></extra>",
         "legendgroup": "b",
         "marker": {
          "color": "#EF553B",
          "pattern": {
           "shape": ""
          }
         },
         "name": "b",
         "offsetgroup": "b",
         "orientation": "v",
         "showlegend": true,
         "textposition": "auto",
         "x": [
          "13"
         ],
         "xaxis": "x5",
         "y": [
          0.009999999393701104
         ],
         "yaxis": "y5",
         "type": "bar"
        },
        {
         "alignmentgroup": "True",
         "hovertemplate": "phase=b<br>part=Generated Reactive Power (p.u.)<br>Bus Name=%{x}<br>power=%{y}<extra></extra>",
         "legendgroup": "b",
         "marker": {
          "color": "#EF553B",
          "pattern": {
           "shape": ""
          }
         },
         "name": "b",
         "offsetgroup": "b",
         "orientation": "v",
         "showlegend": false,
         "textposition": "auto",
         "x": [
          "13"
         ],
         "xaxis": "x2",
         "y": [
          0.0
         ],
         "yaxis": "y2",
         "type": "bar"
        },
        {
         "alignmentgroup": "True",
         "hovertemplate": "phase=c<br>part=Generated Active Power (p.u.)<br>Bus Name=%{x}<br>power=%{y}<extra></extra>",
         "legendgroup": "c",
         "marker": {
          "color": "#00cc96",
          "pattern": {
           "shape": ""
          }
         },
         "name": "c",
         "offsetgroup": "c",
         "orientation": "v",
         "showlegend": true,
         "textposition": "auto",
         "x": [
          "13"
         ],
         "xaxis": "x6",
         "y": [
          null
         ],
         "yaxis": "y6",
         "type": "bar"
        },
        {
         "alignmentgroup": "True",
         "hovertemplate": "phase=c<br>part=Generated Reactive Power (p.u.)<br>Bus Name=%{x}<br>power=%{y}<extra></extra>",
         "legendgroup": "c",
         "marker": {
          "color": "#00cc96",
          "pattern": {
           "shape": ""
          }
         },
         "name": "c",
         "offsetgroup": "c",
         "orientation": "v",
         "showlegend": false,
         "textposition": "auto",
         "x": [
          "13"
         ],
         "xaxis": "x3",
         "y": [
          0.0
         ],
         "yaxis": "y3",
         "type": "bar"
        }
       ],
       "layout": {
        "template": {
         "data": {
          "histogram2dcontour": [
           {
            "type": "histogram2dcontour",
            "colorbar": {
             "outlinewidth": 0,
             "ticks": ""
            },
            "colorscale": [
             [
              0.0,
              "#0d0887"
             ],
             [
              0.1111111111111111,
              "#46039f"
             ],
             [
              0.2222222222222222,
              "#7201a8"
             ],
             [
              0.3333333333333333,
              "#9c179e"
             ],
             [
              0.4444444444444444,
              "#bd3786"
             ],
             [
              0.5555555555555556,
              "#d8576b"
             ],
             [
              0.6666666666666666,
              "#ed7953"
             ],
             [
              0.7777777777777778,
              "#fb9f3a"
             ],
             [
              0.8888888888888888,
              "#fdca26"
             ],
             [
              1.0,
              "#f0f921"
             ]
            ]
           }
          ],
          "choropleth": [
           {
            "type": "choropleth",
            "colorbar": {
             "outlinewidth": 0,
             "ticks": ""
            }
           }
          ],
          "histogram2d": [
           {
            "type": "histogram2d",
            "colorbar": {
             "outlinewidth": 0,
             "ticks": ""
            },
            "colorscale": [
             [
              0.0,
              "#0d0887"
             ],
             [
              0.1111111111111111,
              "#46039f"
             ],
             [
              0.2222222222222222,
              "#7201a8"
             ],
             [
              0.3333333333333333,
              "#9c179e"
             ],
             [
              0.4444444444444444,
              "#bd3786"
             ],
             [
              0.5555555555555556,
              "#d8576b"
             ],
             [
              0.6666666666666666,
              "#ed7953"
             ],
             [
              0.7777777777777778,
              "#fb9f3a"
             ],
             [
              0.8888888888888888,
              "#fdca26"
             ],
             [
              1.0,
              "#f0f921"
             ]
            ]
           }
          ],
          "heatmap": [
           {
            "type": "heatmap",
            "colorbar": {
             "outlinewidth": 0,
             "ticks": ""
            },
            "colorscale": [
             [
              0.0,
              "#0d0887"
             ],
             [
              0.1111111111111111,
              "#46039f"
             ],
             [
              0.2222222222222222,
              "#7201a8"
             ],
             [
              0.3333333333333333,
              "#9c179e"
             ],
             [
              0.4444444444444444,
              "#bd3786"
             ],
             [
              0.5555555555555556,
              "#d8576b"
             ],
             [
              0.6666666666666666,
              "#ed7953"
             ],
             [
              0.7777777777777778,
              "#fb9f3a"
             ],
             [
              0.8888888888888888,
              "#fdca26"
             ],
             [
              1.0,
              "#f0f921"
             ]
            ]
           }
          ],
          "heatmapgl": [
           {
            "type": "heatmapgl",
            "colorbar": {
             "outlinewidth": 0,
             "ticks": ""
            },
            "colorscale": [
             [
              0.0,
              "#0d0887"
             ],
             [
              0.1111111111111111,
              "#46039f"
             ],
             [
              0.2222222222222222,
              "#7201a8"
             ],
             [
              0.3333333333333333,
              "#9c179e"
             ],
             [
              0.4444444444444444,
              "#bd3786"
             ],
             [
              0.5555555555555556,
              "#d8576b"
             ],
             [
              0.6666666666666666,
              "#ed7953"
             ],
             [
              0.7777777777777778,
              "#fb9f3a"
             ],
             [
              0.8888888888888888,
              "#fdca26"
             ],
             [
              1.0,
              "#f0f921"
             ]
            ]
           }
          ],
          "contourcarpet": [
           {
            "type": "contourcarpet",
            "colorbar": {
             "outlinewidth": 0,
             "ticks": ""
            }
           }
          ],
          "contour": [
           {
            "type": "contour",
            "colorbar": {
             "outlinewidth": 0,
             "ticks": ""
            },
            "colorscale": [
             [
              0.0,
              "#0d0887"
             ],
             [
              0.1111111111111111,
              "#46039f"
             ],
             [
              0.2222222222222222,
              "#7201a8"
             ],
             [
              0.3333333333333333,
              "#9c179e"
             ],
             [
              0.4444444444444444,
              "#bd3786"
             ],
             [
              0.5555555555555556,
              "#d8576b"
             ],
             [
              0.6666666666666666,
              "#ed7953"
             ],
             [
              0.7777777777777778,
              "#fb9f3a"
             ],
             [
              0.8888888888888888,
              "#fdca26"
             ],
             [
              1.0,
              "#f0f921"
             ]
            ]
           }
          ],
          "surface": [
           {
            "type": "surface",
            "colorbar": {
             "outlinewidth": 0,
             "ticks": ""
            },
            "colorscale": [
             [
              0.0,
              "#0d0887"
             ],
             [
              0.1111111111111111,
              "#46039f"
             ],
             [
              0.2222222222222222,
              "#7201a8"
             ],
             [
              0.3333333333333333,
              "#9c179e"
             ],
             [
              0.4444444444444444,
              "#bd3786"
             ],
             [
              0.5555555555555556,
              "#d8576b"
             ],
             [
              0.6666666666666666,
              "#ed7953"
             ],
             [
              0.7777777777777778,
              "#fb9f3a"
             ],
             [
              0.8888888888888888,
              "#fdca26"
             ],
             [
              1.0,
              "#f0f921"
             ]
            ]
           }
          ],
          "mesh3d": [
           {
            "type": "mesh3d",
            "colorbar": {
             "outlinewidth": 0,
             "ticks": ""
            }
           }
          ],
          "scatter": [
           {
            "fillpattern": {
             "fillmode": "overlay",
             "size": 10,
             "solidity": 0.2
            },
            "type": "scatter"
           }
          ],
          "parcoords": [
           {
            "type": "parcoords",
            "line": {
             "colorbar": {
              "outlinewidth": 0,
              "ticks": ""
             }
            }
           }
          ],
          "scatterpolargl": [
           {
            "type": "scatterpolargl",
            "marker": {
             "colorbar": {
              "outlinewidth": 0,
              "ticks": ""
             }
            }
           }
          ],
          "bar": [
           {
            "error_x": {
             "color": "#2a3f5f"
            },
            "error_y": {
             "color": "#2a3f5f"
            },
            "marker": {
             "line": {
              "color": "#E5ECF6",
              "width": 0.5
             },
             "pattern": {
              "fillmode": "overlay",
              "size": 10,
              "solidity": 0.2
             }
            },
            "type": "bar"
           }
          ],
          "scattergeo": [
           {
            "type": "scattergeo",
            "marker": {
             "colorbar": {
              "outlinewidth": 0,
              "ticks": ""
             }
            }
           }
          ],
          "scatterpolar": [
           {
            "type": "scatterpolar",
            "marker": {
             "colorbar": {
              "outlinewidth": 0,
              "ticks": ""
             }
            }
           }
          ],
          "histogram": [
           {
            "marker": {
             "pattern": {
              "fillmode": "overlay",
              "size": 10,
              "solidity": 0.2
             }
            },
            "type": "histogram"
           }
          ],
          "scattergl": [
           {
            "type": "scattergl",
            "marker": {
             "colorbar": {
              "outlinewidth": 0,
              "ticks": ""
             }
            }
           }
          ],
          "scatter3d": [
           {
            "type": "scatter3d",
            "line": {
             "colorbar": {
              "outlinewidth": 0,
              "ticks": ""
             }
            },
            "marker": {
             "colorbar": {
              "outlinewidth": 0,
              "ticks": ""
             }
            }
           }
          ],
          "scattermapbox": [
           {
            "type": "scattermapbox",
            "marker": {
             "colorbar": {
              "outlinewidth": 0,
              "ticks": ""
             }
            }
           }
          ],
          "scatterternary": [
           {
            "type": "scatterternary",
            "marker": {
             "colorbar": {
              "outlinewidth": 0,
              "ticks": ""
             }
            }
           }
          ],
          "scattercarpet": [
           {
            "type": "scattercarpet",
            "marker": {
             "colorbar": {
              "outlinewidth": 0,
              "ticks": ""
             }
            }
           }
          ],
          "carpet": [
           {
            "aaxis": {
             "endlinecolor": "#2a3f5f",
             "gridcolor": "white",
             "linecolor": "white",
             "minorgridcolor": "white",
             "startlinecolor": "#2a3f5f"
            },
            "baxis": {
             "endlinecolor": "#2a3f5f",
             "gridcolor": "white",
             "linecolor": "white",
             "minorgridcolor": "white",
             "startlinecolor": "#2a3f5f"
            },
            "type": "carpet"
           }
          ],
          "table": [
           {
            "cells": {
             "fill": {
              "color": "#EBF0F8"
             },
             "line": {
              "color": "white"
             }
            },
            "header": {
             "fill": {
              "color": "#C8D4E3"
             },
             "line": {
              "color": "white"
             }
            },
            "type": "table"
           }
          ],
          "barpolar": [
           {
            "marker": {
             "line": {
              "color": "#E5ECF6",
              "width": 0.5
             },
             "pattern": {
              "fillmode": "overlay",
              "size": 10,
              "solidity": 0.2
             }
            },
            "type": "barpolar"
           }
          ],
          "pie": [
           {
            "automargin": true,
            "type": "pie"
           }
          ]
         },
         "layout": {
          "autotypenumbers": "strict",
          "colorway": [
           "#636efa",
           "#EF553B",
           "#00cc96",
           "#ab63fa",
           "#FFA15A",
           "#19d3f3",
           "#FF6692",
           "#B6E880",
           "#FF97FF",
           "#FECB52"
          ],
          "font": {
           "color": "#2a3f5f"
          },
          "hovermode": "closest",
          "hoverlabel": {
           "align": "left"
          },
          "paper_bgcolor": "white",
          "plot_bgcolor": "#E5ECF6",
          "polar": {
           "bgcolor": "#E5ECF6",
           "angularaxis": {
            "gridcolor": "white",
            "linecolor": "white",
            "ticks": ""
           },
           "radialaxis": {
            "gridcolor": "white",
            "linecolor": "white",
            "ticks": ""
           }
          },
          "ternary": {
           "bgcolor": "#E5ECF6",
           "aaxis": {
            "gridcolor": "white",
            "linecolor": "white",
            "ticks": ""
           },
           "baxis": {
            "gridcolor": "white",
            "linecolor": "white",
            "ticks": ""
           },
           "caxis": {
            "gridcolor": "white",
            "linecolor": "white",
            "ticks": ""
           }
          },
          "coloraxis": {
           "colorbar": {
            "outlinewidth": 0,
            "ticks": ""
           }
          },
          "colorscale": {
           "sequential": [
            [
             0.0,
             "#0d0887"
            ],
            [
             0.1111111111111111,
             "#46039f"
            ],
            [
             0.2222222222222222,
             "#7201a8"
            ],
            [
             0.3333333333333333,
             "#9c179e"
            ],
            [
             0.4444444444444444,
             "#bd3786"
            ],
            [
             0.5555555555555556,
             "#d8576b"
            ],
            [
             0.6666666666666666,
             "#ed7953"
            ],
            [
             0.7777777777777778,
             "#fb9f3a"
            ],
            [
             0.8888888888888888,
             "#fdca26"
            ],
            [
             1.0,
             "#f0f921"
            ]
           ],
           "sequentialminus": [
            [
             0.0,
             "#0d0887"
            ],
            [
             0.1111111111111111,
             "#46039f"
            ],
            [
             0.2222222222222222,
             "#7201a8"
            ],
            [
             0.3333333333333333,
             "#9c179e"
            ],
            [
             0.4444444444444444,
             "#bd3786"
            ],
            [
             0.5555555555555556,
             "#d8576b"
            ],
            [
             0.6666666666666666,
             "#ed7953"
            ],
            [
             0.7777777777777778,
             "#fb9f3a"
            ],
            [
             0.8888888888888888,
             "#fdca26"
            ],
            [
             1.0,
             "#f0f921"
            ]
           ],
           "diverging": [
            [
             0,
             "#8e0152"
            ],
            [
             0.1,
             "#c51b7d"
            ],
            [
             0.2,
             "#de77ae"
            ],
            [
             0.3,
             "#f1b6da"
            ],
            [
             0.4,
             "#fde0ef"
            ],
            [
             0.5,
             "#f7f7f7"
            ],
            [
             0.6,
             "#e6f5d0"
            ],
            [
             0.7,
             "#b8e186"
            ],
            [
             0.8,
             "#7fbc41"
            ],
            [
             0.9,
             "#4d9221"
            ],
            [
             1,
             "#276419"
            ]
           ]
          },
          "xaxis": {
           "gridcolor": "white",
           "linecolor": "white",
           "ticks": "",
           "title": {
            "standoff": 15
           },
           "zerolinecolor": "white",
           "automargin": true,
           "zerolinewidth": 2
          },
          "yaxis": {
           "gridcolor": "white",
           "linecolor": "white",
           "ticks": "",
           "title": {
            "standoff": 15
           },
           "zerolinecolor": "white",
           "automargin": true,
           "zerolinewidth": 2
          },
          "scene": {
           "xaxis": {
            "backgroundcolor": "#E5ECF6",
            "gridcolor": "white",
            "linecolor": "white",
            "showbackground": true,
            "ticks": "",
            "zerolinecolor": "white",
            "gridwidth": 2
           },
           "yaxis": {
            "backgroundcolor": "#E5ECF6",
            "gridcolor": "white",
            "linecolor": "white",
            "showbackground": true,
            "ticks": "",
            "zerolinecolor": "white",
            "gridwidth": 2
           },
           "zaxis": {
            "backgroundcolor": "#E5ECF6",
            "gridcolor": "white",
            "linecolor": "white",
            "showbackground": true,
            "ticks": "",
            "zerolinecolor": "white",
            "gridwidth": 2
           }
          },
          "shapedefaults": {
           "line": {
            "color": "#2a3f5f"
           }
          },
          "annotationdefaults": {
           "arrowcolor": "#2a3f5f",
           "arrowhead": 0,
           "arrowwidth": 1
          },
          "geo": {
           "bgcolor": "white",
           "landcolor": "#E5ECF6",
           "subunitcolor": "white",
           "showland": true,
           "showlakes": true,
           "lakecolor": "white"
          },
          "title": {
           "x": 0.05
          },
          "mapbox": {
           "style": "light"
          }
         }
        },
        "xaxis": {
         "anchor": "y",
         "domain": [
          0.0,
          0.3133333333333333
         ],
         "title": {
          "text": "Bus Name"
         }
        },
        "yaxis": {
         "anchor": "x",
         "domain": [
          0.0,
          0.485
         ],
         "title": {
          "text": "power"
         }
        },
        "xaxis2": {
         "anchor": "y2",
         "domain": [
          0.3333333333333333,
          0.6466666666666666
         ],
         "matches": "x",
         "title": {
          "text": "Bus Name"
         }
        },
        "yaxis2": {
         "anchor": "x2",
         "domain": [
          0.0,
          0.485
         ],
         "matches": "y",
         "showticklabels": false
        },
        "xaxis3": {
         "anchor": "y3",
         "domain": [
          0.6666666666666666,
          0.98
         ],
         "matches": "x",
         "title": {
          "text": "Bus Name"
         }
        },
        "yaxis3": {
         "anchor": "x3",
         "domain": [
          0.0,
          0.485
         ],
         "matches": "y",
         "showticklabels": false
        },
        "xaxis4": {
         "anchor": "y4",
         "domain": [
          0.0,
          0.3133333333333333
         ],
         "matches": "x",
         "showticklabels": false
        },
        "yaxis4": {
         "anchor": "x4",
         "domain": [
          0.515,
          1.0
         ],
         "matches": "y",
         "title": {
          "text": "power"
         }
        },
        "xaxis5": {
         "anchor": "y5",
         "domain": [
          0.3333333333333333,
          0.6466666666666666
         ],
         "matches": "x",
         "showticklabels": false
        },
        "yaxis5": {
         "anchor": "x5",
         "domain": [
          0.515,
          1.0
         ],
         "matches": "y",
         "showticklabels": false
        },
        "xaxis6": {
         "anchor": "y6",
         "domain": [
          0.6666666666666666,
          0.98
         ],
         "matches": "x",
         "showticklabels": false
        },
        "yaxis6": {
         "anchor": "x6",
         "domain": [
          0.515,
          1.0
         ],
         "matches": "y",
         "showticklabels": false
        },
        "annotations": [
         {
          "font": {},
          "showarrow": false,
          "text": "A",
          "x": 0.15666666666666665,
          "xanchor": "center",
          "xref": "paper",
          "y": 1.0,
          "yanchor": "bottom",
          "yref": "paper"
         },
         {
          "font": {},
          "showarrow": false,
          "text": "B",
          "x": 0.49,
          "xanchor": "center",
          "xref": "paper",
          "y": 1.0,
          "yanchor": "bottom",
          "yref": "paper"
         },
         {
          "font": {},
          "showarrow": false,
          "text": "C",
          "x": 0.8233333333333333,
          "xanchor": "center",
          "xref": "paper",
          "y": 1.0,
          "yanchor": "bottom",
          "yref": "paper"
         },
         {
          "font": {},
          "showarrow": false,
          "text": "GENERATED REACTIVE POWER (P.U.)",
          "textangle": 90,
          "x": 0.98,
          "xanchor": "left",
          "xref": "paper",
          "y": 0.2425,
          "yanchor": "middle",
          "yref": "paper"
         },
         {
          "font": {},
          "showarrow": false,
          "text": "GENERATED ACTIVE POWER (P.U.)",
          "textangle": 90,
          "x": 0.98,
          "xanchor": "left",
          "xref": "paper",
          "y": 0.7575000000000001,
          "yanchor": "middle",
          "yref": "paper"
         }
        ],
        "legend": {
         "title": {
          "text": "phase"
         },
         "tracegroupgap": 0
        },
        "margin": {
         "t": 60
        },
        "barmode": "relative"
       },
       "config": {
        "plotlyServerURL": "https://plot.ly"
       }
      },
      "text/html": [
       "<div>                            <div id=\"7eb86159-f5c2-4460-89d5-118a4771a070\" class=\"plotly-graph-div\" style=\"height:525px; width:100%;\"></div>            <script type=\"text/javascript\">                require([\"plotly\"], function(Plotly) {                    window.PLOTLYENV=window.PLOTLYENV || {};                                    if (document.getElementById(\"7eb86159-f5c2-4460-89d5-118a4771a070\")) {                    Plotly.newPlot(                        \"7eb86159-f5c2-4460-89d5-118a4771a070\",                        [{\"alignmentgroup\":\"True\",\"hovertemplate\":\"phase=a\\u003cbr\\u003epart=Generated Active Power (p.u.)\\u003cbr\\u003eBus Name=%{x}\\u003cbr\\u003epower=%{y}\\u003cextra\\u003e\\u003c\\u002fextra\\u003e\",\"legendgroup\":\"a\",\"marker\":{\"color\":\"#636efa\",\"pattern\":{\"shape\":\"\"}},\"name\":\"a\",\"offsetgroup\":\"a\",\"orientation\":\"v\",\"showlegend\":true,\"textposition\":\"auto\",\"x\":[\"13\"],\"xaxis\":\"x4\",\"y\":[0.009999999938867573],\"yaxis\":\"y4\",\"type\":\"bar\"},{\"alignmentgroup\":\"True\",\"hovertemplate\":\"phase=a\\u003cbr\\u003epart=Generated Reactive Power (p.u.)\\u003cbr\\u003eBus Name=%{x}\\u003cbr\\u003epower=%{y}\\u003cextra\\u003e\\u003c\\u002fextra\\u003e\",\"legendgroup\":\"a\",\"marker\":{\"color\":\"#636efa\",\"pattern\":{\"shape\":\"\"}},\"name\":\"a\",\"offsetgroup\":\"a\",\"orientation\":\"v\",\"showlegend\":false,\"textposition\":\"auto\",\"x\":[\"13\"],\"xaxis\":\"x\",\"y\":[0.0],\"yaxis\":\"y\",\"type\":\"bar\"},{\"alignmentgroup\":\"True\",\"hovertemplate\":\"phase=b\\u003cbr\\u003epart=Generated Active Power (p.u.)\\u003cbr\\u003eBus Name=%{x}\\u003cbr\\u003epower=%{y}\\u003cextra\\u003e\\u003c\\u002fextra\\u003e\",\"legendgroup\":\"b\",\"marker\":{\"color\":\"#EF553B\",\"pattern\":{\"shape\":\"\"}},\"name\":\"b\",\"offsetgroup\":\"b\",\"orientation\":\"v\",\"showlegend\":true,\"textposition\":\"auto\",\"x\":[\"13\"],\"xaxis\":\"x5\",\"y\":[0.009999999393701104],\"yaxis\":\"y5\",\"type\":\"bar\"},{\"alignmentgroup\":\"True\",\"hovertemplate\":\"phase=b\\u003cbr\\u003epart=Generated Reactive Power (p.u.)\\u003cbr\\u003eBus Name=%{x}\\u003cbr\\u003epower=%{y}\\u003cextra\\u003e\\u003c\\u002fextra\\u003e\",\"legendgroup\":\"b\",\"marker\":{\"color\":\"#EF553B\",\"pattern\":{\"shape\":\"\"}},\"name\":\"b\",\"offsetgroup\":\"b\",\"orientation\":\"v\",\"showlegend\":false,\"textposition\":\"auto\",\"x\":[\"13\"],\"xaxis\":\"x2\",\"y\":[0.0],\"yaxis\":\"y2\",\"type\":\"bar\"},{\"alignmentgroup\":\"True\",\"hovertemplate\":\"phase=c\\u003cbr\\u003epart=Generated Active Power (p.u.)\\u003cbr\\u003eBus Name=%{x}\\u003cbr\\u003epower=%{y}\\u003cextra\\u003e\\u003c\\u002fextra\\u003e\",\"legendgroup\":\"c\",\"marker\":{\"color\":\"#00cc96\",\"pattern\":{\"shape\":\"\"}},\"name\":\"c\",\"offsetgroup\":\"c\",\"orientation\":\"v\",\"showlegend\":true,\"textposition\":\"auto\",\"x\":[\"13\"],\"xaxis\":\"x6\",\"y\":[null],\"yaxis\":\"y6\",\"type\":\"bar\"},{\"alignmentgroup\":\"True\",\"hovertemplate\":\"phase=c\\u003cbr\\u003epart=Generated Reactive Power (p.u.)\\u003cbr\\u003eBus Name=%{x}\\u003cbr\\u003epower=%{y}\\u003cextra\\u003e\\u003c\\u002fextra\\u003e\",\"legendgroup\":\"c\",\"marker\":{\"color\":\"#00cc96\",\"pattern\":{\"shape\":\"\"}},\"name\":\"c\",\"offsetgroup\":\"c\",\"orientation\":\"v\",\"showlegend\":false,\"textposition\":\"auto\",\"x\":[\"13\"],\"xaxis\":\"x3\",\"y\":[0.0],\"yaxis\":\"y3\",\"type\":\"bar\"}],                        {\"template\":{\"data\":{\"histogram2dcontour\":[{\"type\":\"histogram2dcontour\",\"colorbar\":{\"outlinewidth\":0,\"ticks\":\"\"},\"colorscale\":[[0.0,\"#0d0887\"],[0.1111111111111111,\"#46039f\"],[0.2222222222222222,\"#7201a8\"],[0.3333333333333333,\"#9c179e\"],[0.4444444444444444,\"#bd3786\"],[0.5555555555555556,\"#d8576b\"],[0.6666666666666666,\"#ed7953\"],[0.7777777777777778,\"#fb9f3a\"],[0.8888888888888888,\"#fdca26\"],[1.0,\"#f0f921\"]]}],\"choropleth\":[{\"type\":\"choropleth\",\"colorbar\":{\"outlinewidth\":0,\"ticks\":\"\"}}],\"histogram2d\":[{\"type\":\"histogram2d\",\"colorbar\":{\"outlinewidth\":0,\"ticks\":\"\"},\"colorscale\":[[0.0,\"#0d0887\"],[0.1111111111111111,\"#46039f\"],[0.2222222222222222,\"#7201a8\"],[0.3333333333333333,\"#9c179e\"],[0.4444444444444444,\"#bd3786\"],[0.5555555555555556,\"#d8576b\"],[0.6666666666666666,\"#ed7953\"],[0.7777777777777778,\"#fb9f3a\"],[0.8888888888888888,\"#fdca26\"],[1.0,\"#f0f921\"]]}],\"heatmap\":[{\"type\":\"heatmap\",\"colorbar\":{\"outlinewidth\":0,\"ticks\":\"\"},\"colorscale\":[[0.0,\"#0d0887\"],[0.1111111111111111,\"#46039f\"],[0.2222222222222222,\"#7201a8\"],[0.3333333333333333,\"#9c179e\"],[0.4444444444444444,\"#bd3786\"],[0.5555555555555556,\"#d8576b\"],[0.6666666666666666,\"#ed7953\"],[0.7777777777777778,\"#fb9f3a\"],[0.8888888888888888,\"#fdca26\"],[1.0,\"#f0f921\"]]}],\"heatmapgl\":[{\"type\":\"heatmapgl\",\"colorbar\":{\"outlinewidth\":0,\"ticks\":\"\"},\"colorscale\":[[0.0,\"#0d0887\"],[0.1111111111111111,\"#46039f\"],[0.2222222222222222,\"#7201a8\"],[0.3333333333333333,\"#9c179e\"],[0.4444444444444444,\"#bd3786\"],[0.5555555555555556,\"#d8576b\"],[0.6666666666666666,\"#ed7953\"],[0.7777777777777778,\"#fb9f3a\"],[0.8888888888888888,\"#fdca26\"],[1.0,\"#f0f921\"]]}],\"contourcarpet\":[{\"type\":\"contourcarpet\",\"colorbar\":{\"outlinewidth\":0,\"ticks\":\"\"}}],\"contour\":[{\"type\":\"contour\",\"colorbar\":{\"outlinewidth\":0,\"ticks\":\"\"},\"colorscale\":[[0.0,\"#0d0887\"],[0.1111111111111111,\"#46039f\"],[0.2222222222222222,\"#7201a8\"],[0.3333333333333333,\"#9c179e\"],[0.4444444444444444,\"#bd3786\"],[0.5555555555555556,\"#d8576b\"],[0.6666666666666666,\"#ed7953\"],[0.7777777777777778,\"#fb9f3a\"],[0.8888888888888888,\"#fdca26\"],[1.0,\"#f0f921\"]]}],\"surface\":[{\"type\":\"surface\",\"colorbar\":{\"outlinewidth\":0,\"ticks\":\"\"},\"colorscale\":[[0.0,\"#0d0887\"],[0.1111111111111111,\"#46039f\"],[0.2222222222222222,\"#7201a8\"],[0.3333333333333333,\"#9c179e\"],[0.4444444444444444,\"#bd3786\"],[0.5555555555555556,\"#d8576b\"],[0.6666666666666666,\"#ed7953\"],[0.7777777777777778,\"#fb9f3a\"],[0.8888888888888888,\"#fdca26\"],[1.0,\"#f0f921\"]]}],\"mesh3d\":[{\"type\":\"mesh3d\",\"colorbar\":{\"outlinewidth\":0,\"ticks\":\"\"}}],\"scatter\":[{\"fillpattern\":{\"fillmode\":\"overlay\",\"size\":10,\"solidity\":0.2},\"type\":\"scatter\"}],\"parcoords\":[{\"type\":\"parcoords\",\"line\":{\"colorbar\":{\"outlinewidth\":0,\"ticks\":\"\"}}}],\"scatterpolargl\":[{\"type\":\"scatterpolargl\",\"marker\":{\"colorbar\":{\"outlinewidth\":0,\"ticks\":\"\"}}}],\"bar\":[{\"error_x\":{\"color\":\"#2a3f5f\"},\"error_y\":{\"color\":\"#2a3f5f\"},\"marker\":{\"line\":{\"color\":\"#E5ECF6\",\"width\":0.5},\"pattern\":{\"fillmode\":\"overlay\",\"size\":10,\"solidity\":0.2}},\"type\":\"bar\"}],\"scattergeo\":[{\"type\":\"scattergeo\",\"marker\":{\"colorbar\":{\"outlinewidth\":0,\"ticks\":\"\"}}}],\"scatterpolar\":[{\"type\":\"scatterpolar\",\"marker\":{\"colorbar\":{\"outlinewidth\":0,\"ticks\":\"\"}}}],\"histogram\":[{\"marker\":{\"pattern\":{\"fillmode\":\"overlay\",\"size\":10,\"solidity\":0.2}},\"type\":\"histogram\"}],\"scattergl\":[{\"type\":\"scattergl\",\"marker\":{\"colorbar\":{\"outlinewidth\":0,\"ticks\":\"\"}}}],\"scatter3d\":[{\"type\":\"scatter3d\",\"line\":{\"colorbar\":{\"outlinewidth\":0,\"ticks\":\"\"}},\"marker\":{\"colorbar\":{\"outlinewidth\":0,\"ticks\":\"\"}}}],\"scattermapbox\":[{\"type\":\"scattermapbox\",\"marker\":{\"colorbar\":{\"outlinewidth\":0,\"ticks\":\"\"}}}],\"scatterternary\":[{\"type\":\"scatterternary\",\"marker\":{\"colorbar\":{\"outlinewidth\":0,\"ticks\":\"\"}}}],\"scattercarpet\":[{\"type\":\"scattercarpet\",\"marker\":{\"colorbar\":{\"outlinewidth\":0,\"ticks\":\"\"}}}],\"carpet\":[{\"aaxis\":{\"endlinecolor\":\"#2a3f5f\",\"gridcolor\":\"white\",\"linecolor\":\"white\",\"minorgridcolor\":\"white\",\"startlinecolor\":\"#2a3f5f\"},\"baxis\":{\"endlinecolor\":\"#2a3f5f\",\"gridcolor\":\"white\",\"linecolor\":\"white\",\"minorgridcolor\":\"white\",\"startlinecolor\":\"#2a3f5f\"},\"type\":\"carpet\"}],\"table\":[{\"cells\":{\"fill\":{\"color\":\"#EBF0F8\"},\"line\":{\"color\":\"white\"}},\"header\":{\"fill\":{\"color\":\"#C8D4E3\"},\"line\":{\"color\":\"white\"}},\"type\":\"table\"}],\"barpolar\":[{\"marker\":{\"line\":{\"color\":\"#E5ECF6\",\"width\":0.5},\"pattern\":{\"fillmode\":\"overlay\",\"size\":10,\"solidity\":0.2}},\"type\":\"barpolar\"}],\"pie\":[{\"automargin\":true,\"type\":\"pie\"}]},\"layout\":{\"autotypenumbers\":\"strict\",\"colorway\":[\"#636efa\",\"#EF553B\",\"#00cc96\",\"#ab63fa\",\"#FFA15A\",\"#19d3f3\",\"#FF6692\",\"#B6E880\",\"#FF97FF\",\"#FECB52\"],\"font\":{\"color\":\"#2a3f5f\"},\"hovermode\":\"closest\",\"hoverlabel\":{\"align\":\"left\"},\"paper_bgcolor\":\"white\",\"plot_bgcolor\":\"#E5ECF6\",\"polar\":{\"bgcolor\":\"#E5ECF6\",\"angularaxis\":{\"gridcolor\":\"white\",\"linecolor\":\"white\",\"ticks\":\"\"},\"radialaxis\":{\"gridcolor\":\"white\",\"linecolor\":\"white\",\"ticks\":\"\"}},\"ternary\":{\"bgcolor\":\"#E5ECF6\",\"aaxis\":{\"gridcolor\":\"white\",\"linecolor\":\"white\",\"ticks\":\"\"},\"baxis\":{\"gridcolor\":\"white\",\"linecolor\":\"white\",\"ticks\":\"\"},\"caxis\":{\"gridcolor\":\"white\",\"linecolor\":\"white\",\"ticks\":\"\"}},\"coloraxis\":{\"colorbar\":{\"outlinewidth\":0,\"ticks\":\"\"}},\"colorscale\":{\"sequential\":[[0.0,\"#0d0887\"],[0.1111111111111111,\"#46039f\"],[0.2222222222222222,\"#7201a8\"],[0.3333333333333333,\"#9c179e\"],[0.4444444444444444,\"#bd3786\"],[0.5555555555555556,\"#d8576b\"],[0.6666666666666666,\"#ed7953\"],[0.7777777777777778,\"#fb9f3a\"],[0.8888888888888888,\"#fdca26\"],[1.0,\"#f0f921\"]],\"sequentialminus\":[[0.0,\"#0d0887\"],[0.1111111111111111,\"#46039f\"],[0.2222222222222222,\"#7201a8\"],[0.3333333333333333,\"#9c179e\"],[0.4444444444444444,\"#bd3786\"],[0.5555555555555556,\"#d8576b\"],[0.6666666666666666,\"#ed7953\"],[0.7777777777777778,\"#fb9f3a\"],[0.8888888888888888,\"#fdca26\"],[1.0,\"#f0f921\"]],\"diverging\":[[0,\"#8e0152\"],[0.1,\"#c51b7d\"],[0.2,\"#de77ae\"],[0.3,\"#f1b6da\"],[0.4,\"#fde0ef\"],[0.5,\"#f7f7f7\"],[0.6,\"#e6f5d0\"],[0.7,\"#b8e186\"],[0.8,\"#7fbc41\"],[0.9,\"#4d9221\"],[1,\"#276419\"]]},\"xaxis\":{\"gridcolor\":\"white\",\"linecolor\":\"white\",\"ticks\":\"\",\"title\":{\"standoff\":15},\"zerolinecolor\":\"white\",\"automargin\":true,\"zerolinewidth\":2},\"yaxis\":{\"gridcolor\":\"white\",\"linecolor\":\"white\",\"ticks\":\"\",\"title\":{\"standoff\":15},\"zerolinecolor\":\"white\",\"automargin\":true,\"zerolinewidth\":2},\"scene\":{\"xaxis\":{\"backgroundcolor\":\"#E5ECF6\",\"gridcolor\":\"white\",\"linecolor\":\"white\",\"showbackground\":true,\"ticks\":\"\",\"zerolinecolor\":\"white\",\"gridwidth\":2},\"yaxis\":{\"backgroundcolor\":\"#E5ECF6\",\"gridcolor\":\"white\",\"linecolor\":\"white\",\"showbackground\":true,\"ticks\":\"\",\"zerolinecolor\":\"white\",\"gridwidth\":2},\"zaxis\":{\"backgroundcolor\":\"#E5ECF6\",\"gridcolor\":\"white\",\"linecolor\":\"white\",\"showbackground\":true,\"ticks\":\"\",\"zerolinecolor\":\"white\",\"gridwidth\":2}},\"shapedefaults\":{\"line\":{\"color\":\"#2a3f5f\"}},\"annotationdefaults\":{\"arrowcolor\":\"#2a3f5f\",\"arrowhead\":0,\"arrowwidth\":1},\"geo\":{\"bgcolor\":\"white\",\"landcolor\":\"#E5ECF6\",\"subunitcolor\":\"white\",\"showland\":true,\"showlakes\":true,\"lakecolor\":\"white\"},\"title\":{\"x\":0.05},\"mapbox\":{\"style\":\"light\"}}},\"xaxis\":{\"anchor\":\"y\",\"domain\":[0.0,0.3133333333333333],\"title\":{\"text\":\"Bus Name\"}},\"yaxis\":{\"anchor\":\"x\",\"domain\":[0.0,0.485],\"title\":{\"text\":\"power\"}},\"xaxis2\":{\"anchor\":\"y2\",\"domain\":[0.3333333333333333,0.6466666666666666],\"matches\":\"x\",\"title\":{\"text\":\"Bus Name\"}},\"yaxis2\":{\"anchor\":\"x2\",\"domain\":[0.0,0.485],\"matches\":\"y\",\"showticklabels\":false},\"xaxis3\":{\"anchor\":\"y3\",\"domain\":[0.6666666666666666,0.98],\"matches\":\"x\",\"title\":{\"text\":\"Bus Name\"}},\"yaxis3\":{\"anchor\":\"x3\",\"domain\":[0.0,0.485],\"matches\":\"y\",\"showticklabels\":false},\"xaxis4\":{\"anchor\":\"y4\",\"domain\":[0.0,0.3133333333333333],\"matches\":\"x\",\"showticklabels\":false},\"yaxis4\":{\"anchor\":\"x4\",\"domain\":[0.515,1.0],\"matches\":\"y\",\"title\":{\"text\":\"power\"}},\"xaxis5\":{\"anchor\":\"y5\",\"domain\":[0.3333333333333333,0.6466666666666666],\"matches\":\"x\",\"showticklabels\":false},\"yaxis5\":{\"anchor\":\"x5\",\"domain\":[0.515,1.0],\"matches\":\"y\",\"showticklabels\":false},\"xaxis6\":{\"anchor\":\"y6\",\"domain\":[0.6666666666666666,0.98],\"matches\":\"x\",\"showticklabels\":false},\"yaxis6\":{\"anchor\":\"x6\",\"domain\":[0.515,1.0],\"matches\":\"y\",\"showticklabels\":false},\"annotations\":[{\"font\":{},\"showarrow\":false,\"text\":\"A\",\"x\":0.15666666666666665,\"xanchor\":\"center\",\"xref\":\"paper\",\"y\":1.0,\"yanchor\":\"bottom\",\"yref\":\"paper\"},{\"font\":{},\"showarrow\":false,\"text\":\"B\",\"x\":0.49,\"xanchor\":\"center\",\"xref\":\"paper\",\"y\":1.0,\"yanchor\":\"bottom\",\"yref\":\"paper\"},{\"font\":{},\"showarrow\":false,\"text\":\"C\",\"x\":0.8233333333333333,\"xanchor\":\"center\",\"xref\":\"paper\",\"y\":1.0,\"yanchor\":\"bottom\",\"yref\":\"paper\"},{\"font\":{},\"showarrow\":false,\"text\":\"GENERATED REACTIVE POWER (P.U.)\",\"textangle\":90,\"x\":0.98,\"xanchor\":\"left\",\"xref\":\"paper\",\"y\":0.2425,\"yanchor\":\"middle\",\"yref\":\"paper\"},{\"font\":{},\"showarrow\":false,\"text\":\"GENERATED ACTIVE POWER (P.U.)\",\"textangle\":90,\"x\":0.98,\"xanchor\":\"left\",\"xref\":\"paper\",\"y\":0.7575000000000001,\"yanchor\":\"middle\",\"yref\":\"paper\"}],\"legend\":{\"title\":{\"text\":\"phase\"},\"tracegroupgap\":0},\"margin\":{\"t\":60},\"barmode\":\"relative\"},                        {\"responsive\": true}                    ).then(function(){\n",
       "                            \n",
       "var gd = document.getElementById('7eb86159-f5c2-4460-89d5-118a4771a070');\n",
       "var x = new MutationObserver(function (mutations, observer) {{\n",
       "        var display = window.getComputedStyle(gd).display;\n",
       "        if (!display || display === 'none') {{\n",
       "            console.log([gd, 'removed!']);\n",
       "            Plotly.purge(gd);\n",
       "            observer.disconnect();\n",
       "        }}\n",
       "}});\n",
       "\n",
       "// Listen for the removal of the full notebook cells\n",
       "var notebookContainer = gd.closest('#notebook-container');\n",
       "if (notebookContainer) {{\n",
       "    x.observe(notebookContainer, {childList: true});\n",
       "}}\n",
       "\n",
       "// Listen for the clearing of the current output cell\n",
       "var outputEl = gd.closest('.output');\n",
       "if (outputEl) {{\n",
       "    x.observe(outputEl, {childList: true});\n",
       "}}\n",
       "\n",
       "                        })                };                });            </script>        </div>"
      ]
     },
     "metadata": {},
     "output_type": "display_data"
    }
   ],
   "execution_count": 11
  },
  {
   "cell_type": "code",
   "id": "e4bb0916-5597-468d-ba5f-4159e78d4735",
   "metadata": {
    "ExecuteTime": {
     "end_time": "2025-01-07T18:39:15.627009Z",
     "start_time": "2025-01-07T18:39:15.211868Z"
    }
   },
   "source": [
    "case.add_capacitor(name=\"66\", phases=\"ac\", q=0.25)\n",
    "case.run()\n",
    "\n",
    "case.plot_voltages()"
   ],
   "outputs": [
    {
     "name": "stdout",
     "output_type": "stream",
     "text": [
      "int64\n"
     ]
    },
    {
     "name": "stderr",
     "output_type": "stream",
     "text": [
      "/home/gray/git/distopf/distopf/distOPF.py:660: FutureWarning:\n",
      "\n",
      "Setting an item of incompatible dtype is deprecated and will raise in a future error of pandas. Value '66' has dtype incompatible with float64, please explicitly cast to a compatible dtype first.\n",
      "\n"
     ]
    },
    {
     "data": {
      "application/vnd.plotly.v1+json": {
       "data": [
        {
         "hovertemplate": "phase=a<br>name=%{x}<br>v=%{y}<extra></extra>",
         "legendgroup": "a",
         "marker": {
          "color": "#636efa",
          "symbol": "circle"
         },
         "mode": "markers",
         "name": "a",
         "orientation": "v",
         "showlegend": true,
         "x": [
          "150",
          "150r",
          "149",
          "1",
          "2",
          "3",
          "7",
          "4",
          "5",
          "6",
          "8",
          "12",
          "9",
          "13",
          "9r",
          "14",
          "34",
          "18",
          "11",
          "10",
          "15",
          "16",
          "17",
          "19",
          "21",
          "20",
          "22",
          "23",
          "24",
          "25",
          "25r",
          "26",
          "28",
          "27",
          "31",
          "33",
          "29",
          "30",
          "250",
          "32",
          "35",
          "36",
          "40",
          "37",
          "38",
          "39",
          "41",
          "42",
          "43",
          "44",
          "45",
          "47",
          "46",
          "48",
          "49",
          "50",
          "51",
          "151",
          "52",
          "53",
          "54",
          "55",
          "57",
          "56",
          "58",
          "60",
          "59",
          "61",
          "62",
          "63",
          "64",
          "65",
          "66",
          "67",
          "68",
          "72",
          "97",
          "69",
          "70",
          "71",
          "73",
          "76",
          "74",
          "75",
          "77",
          "86",
          "78",
          "79",
          "80",
          "81",
          "82",
          "84",
          "83",
          "85",
          "87",
          "88",
          "89",
          "90",
          "91",
          "92",
          "93",
          "94",
          "95",
          "96",
          "98",
          "99",
          "100",
          "450",
          "197",
          "101",
          "102",
          "105",
          "103",
          "104",
          "106",
          "108",
          "107",
          "109",
          "300",
          "110",
          "111",
          "112",
          "113",
          "114",
          "135",
          "152",
          "160r",
          "160",
          "61s",
          "610"
         ],
         "xaxis": "x",
         "y": [
          0.9999999999999996,
          1.0374999999999992,
          1.037208896558586,
          1.0277793790237544,
          null,
          null,
          1.0206309018000281,
          null,
          null,
          null,
          1.0159661410958982,
          null,
          1.0144996713308465,
          1.0099389549898319,
          1.0144996713308465,
          1.0128282868879044,
          null,
          1.0012396673062782,
          1.012170832590397,
          1.012501496541934,
          null,
          null,
          null,
          0.9999312880568216,
          1.0007064531736516,
          0.9990839108233646,
          null,
          1.0003010407708648,
          null,
          0.9996488569216229,
          1.0121444676331433,
          1.0118908082838822,
          0.9992852151071748,
          1.0115344319181092,
          null,
          1.0102311245674638,
          0.9991266909757067,
          0.9993890537792871,
          0.9993890537792871,
          null,
          0.9984721386474712,
          0.9975582936413414,
          0.9969949531119274,
          0.9967853066146138,
          null,
          null,
          null,
          0.9954430425216716,
          null,
          0.9943763589745519,
          0.993851031273237,
          0.9933684276611385,
          0.9934539273029306,
          0.9931011386121524,
          0.9931019602796731,
          0.9930830474171496,
          0.9929187044159279,
          0.9929187044159278,
          1.0060382539134507,
          1.004409902215385,
          1.003553887773613,
          1.0033482593933976,
          1.0022364713855547,
          1.0033188323427977,
          null,
          0.9995012403493019,
          null,
          0.9995012403493018,
          0.9998646740061811,
          1.0000564478688578,
          1.0013111107811565,
          1.0025203052547345,
          1.00418000738852,
          1.0477170295435558,
          1.0462094215155688,
          1.0482342956951791,
          1.0467525022301547,
          1.0444792777106413,
          1.0432507087287484,
          1.0425570309118355,
          null,
          1.0482411803586424,
          null,
          null,
          1.049516411180833,
          1.0474503609154866,
          1.0498467213598688,
          1.0495490292788032,
          1.0520415256237474,
          1.0528694783107289,
          1.0537846127005999,
          null,
          1.0550091807429034,
          null,
          1.0469931401012915,
          1.0469587092172017,
          1.0465802917169393,
          null,
          1.04638903960119,
          null,
          1.0460810168685855,
          1.0453892145139292,
          1.0460456560987725,
          null,
          1.0465528180212673,
          1.0468395218245303,
          1.0470312013316572,
          1.0470312013316572,
          1.0467173322686671,
          1.04593355458961,
          null,
          1.0446530555349975,
          null,
          null,
          null,
          1.0432145389590368,
          null,
          1.0391907891746546,
          1.0432145389590366,
          1.037260748611964,
          1.0365313348600922,
          1.036614127772372,
          1.0345730789436873,
          1.03415979301326,
          1.0011640406409625,
          1.0098056848542574,
          1.0493718870106619,
          0.9994017971530109,
          0.9995012403493018,
          0.9995012403493018
         ],
         "yaxis": "y",
         "type": "scatter"
        },
        {
         "hovertemplate": "phase=b<br>name=%{x}<br>v=%{y}<extra></extra>",
         "legendgroup": "b",
         "marker": {
          "color": "#EF553B",
          "symbol": "circle"
         },
         "mode": "markers",
         "name": "b",
         "orientation": "v",
         "showlegend": true,
         "x": [
          "150",
          "150r",
          "149",
          "1",
          "2",
          "3",
          "7",
          "4",
          "5",
          "6",
          "8",
          "12",
          "9",
          "13",
          "9r",
          "14",
          "34",
          "18",
          "11",
          "10",
          "15",
          "16",
          "17",
          "19",
          "21",
          "20",
          "22",
          "23",
          "24",
          "25",
          "25r",
          "26",
          "28",
          "27",
          "31",
          "33",
          "29",
          "30",
          "250",
          "32",
          "35",
          "36",
          "40",
          "37",
          "38",
          "39",
          "41",
          "42",
          "43",
          "44",
          "45",
          "47",
          "46",
          "48",
          "49",
          "50",
          "51",
          "151",
          "52",
          "53",
          "54",
          "55",
          "57",
          "56",
          "58",
          "60",
          "59",
          "61",
          "62",
          "63",
          "64",
          "65",
          "66",
          "67",
          "68",
          "72",
          "97",
          "69",
          "70",
          "71",
          "73",
          "76",
          "74",
          "75",
          "77",
          "86",
          "78",
          "79",
          "80",
          "81",
          "82",
          "84",
          "83",
          "85",
          "87",
          "88",
          "89",
          "90",
          "91",
          "92",
          "93",
          "94",
          "95",
          "96",
          "98",
          "99",
          "100",
          "450",
          "197",
          "101",
          "102",
          "105",
          "103",
          "104",
          "106",
          "108",
          "107",
          "109",
          "300",
          "110",
          "111",
          "112",
          "113",
          "114",
          "135",
          "152",
          "160r",
          "160",
          "61s",
          "610"
         ],
         "xaxis": "x2",
         "y": [
          0.9999999999999997,
          1.0374999999999996,
          1.0372915044588356,
          1.0339803426499572,
          1.0337577192224967,
          null,
          1.0315725557532927,
          null,
          null,
          null,
          1.029891508266778,
          1.0296041346157963,
          null,
          1.0270044680364419,
          null,
          null,
          null,
          1.0227686723507075,
          null,
          null,
          null,
          null,
          null,
          null,
          1.0228115985507285,
          null,
          1.0213921074960999,
          1.0231825382884345,
          null,
          1.0236235460110614,
          null,
          null,
          1.023844046732712,
          null,
          null,
          null,
          1.0239904556778066,
          1.023948306051912,
          1.023948306051912,
          null,
          1.020112422937729,
          1.0196305964789538,
          1.018946620533261,
          null,
          1.0189781564228648,
          1.018558589878809,
          null,
          1.0177977957705167,
          1.0164521820723957,
          1.0170704121267504,
          null,
          1.0159775029863376,
          null,
          1.0156861173590308,
          1.015418094756109,
          1.0154433644297554,
          1.0155215010167336,
          1.0155215010167336,
          1.024742361427679,
          1.023519748014668,
          1.0226633177248452,
          1.022587330846321,
          1.0191333247339158,
          1.0224123737606474,
          1.0184800139515169,
          1.0125093115451818,
          1.0181571316571043,
          1.0125093115451818,
          1.0110858712191388,
          1.0100172194108776,
          1.0077193870118222,
          1.0068958124154792,
          1.0067634138689705,
          1.0241147205452252,
          null,
          1.0231643529896424,
          1.0236098949787236,
          null,
          null,
          null,
          null,
          1.0226006785791202,
          null,
          null,
          1.0236784407764057,
          1.0207979404688923,
          1.0240751852561698,
          1.024209838514252,
          1.0256738220266388,
          1.0264847442491856,
          1.0276965105783187,
          null,
          1.028766480687639,
          null,
          1.019979178947757,
          null,
          1.019703671282722,
          1.0196049153301798,
          1.0193730299504902,
          null,
          1.0192123858965314,
          null,
          1.0188280706486572,
          1.0185698656186826,
          1.0233526441137843,
          1.022527278780679,
          1.0224608773696722,
          1.0224608773696722,
          1.0235895729484734,
          1.0233184166339448,
          null,
          1.0231643777876522,
          null,
          null,
          1.0220068670479594,
          1.0238135534612907,
          1.0205259153978359,
          null,
          1.0238135534612907,
          null,
          null,
          null,
          null,
          null,
          1.0226897976545821,
          1.0268914829883375,
          1.0250952978245813,
          1.0124398003205741,
          1.0125093115451815,
          1.0125093115451815
         ],
         "yaxis": "y2",
         "type": "scatter"
        },
        {
         "hovertemplate": "phase=c<br>name=%{x}<br>v=%{y}<extra></extra>",
         "legendgroup": "c",
         "marker": {
          "color": "#00cc96",
          "symbol": "circle"
         },
         "mode": "markers",
         "name": "c",
         "orientation": "v",
         "showlegend": true,
         "x": [
          "150",
          "150r",
          "149",
          "1",
          "2",
          "3",
          "7",
          "4",
          "5",
          "6",
          "8",
          "12",
          "9",
          "13",
          "9r",
          "14",
          "34",
          "18",
          "11",
          "10",
          "15",
          "16",
          "17",
          "19",
          "21",
          "20",
          "22",
          "23",
          "24",
          "25",
          "25r",
          "26",
          "28",
          "27",
          "31",
          "33",
          "29",
          "30",
          "250",
          "32",
          "35",
          "36",
          "40",
          "37",
          "38",
          "39",
          "41",
          "42",
          "43",
          "44",
          "45",
          "47",
          "46",
          "48",
          "49",
          "50",
          "51",
          "151",
          "52",
          "53",
          "54",
          "55",
          "57",
          "56",
          "58",
          "60",
          "59",
          "61",
          "62",
          "63",
          "64",
          "65",
          "66",
          "67",
          "68",
          "72",
          "97",
          "69",
          "70",
          "71",
          "73",
          "76",
          "74",
          "75",
          "77",
          "86",
          "78",
          "79",
          "80",
          "81",
          "82",
          "84",
          "83",
          "85",
          "87",
          "88",
          "89",
          "90",
          "91",
          "92",
          "93",
          "94",
          "95",
          "96",
          "98",
          "99",
          "100",
          "450",
          "197",
          "101",
          "102",
          "105",
          "103",
          "104",
          "106",
          "108",
          "107",
          "109",
          "300",
          "110",
          "111",
          "112",
          "113",
          "114",
          "135",
          "152",
          "160r",
          "160",
          "61s",
          "610"
         ],
         "xaxis": "x3",
         "y": [
          0.9999999999999997,
          1.0374999999999996,
          1.0372711537026158,
          1.0300657349393465,
          null,
          1.0284271253453325,
          1.0255514537635955,
          1.027915449502097,
          1.0271256787682024,
          1.026452199534241,
          1.0225429193020914,
          null,
          null,
          1.018011318831887,
          null,
          null,
          1.0170318258014504,
          1.0106339023402726,
          null,
          null,
          1.0166437922556155,
          1.0156730598163104,
          1.016190899176961,
          null,
          1.0094582617627184,
          null,
          null,
          1.0083270622324374,
          1.006891242201017,
          1.0074386042391594,
          1.0074386042391594,
          1.0069420363713972,
          1.007094638740456,
          1.006908306429943,
          1.0063540946902907,
          null,
          1.006641879941405,
          1.0061867154399478,
          1.0061867154399478,
          1.0059619426680655,
          1.0095404962980066,
          null,
          1.0085056538709074,
          null,
          null,
          null,
          1.0080817223256993,
          1.0076317084418747,
          null,
          1.0068130449152124,
          null,
          1.0058191987675609,
          null,
          1.0056015630570483,
          1.0055049536381695,
          1.005164156926663,
          1.0051488240361968,
          1.0051488240361968,
          1.0161201602771717,
          1.0152452615827432,
          1.014713255043076,
          1.0147828504234804,
          1.0132997744119752,
          1.0148688518617888,
          null,
          1.009701242595296,
          null,
          1.009701242595296,
          1.0078936646821757,
          1.0070570059558872,
          1.0052322778774982,
          1.002635764513779,
          1.0014275976452263,
          1.0390358082195759,
          null,
          1.0388484073244608,
          1.0383009039914963,
          null,
          null,
          null,
          1.03672345600311,
          1.0394755163637195,
          1.0349026452474424,
          1.033885453080077,
          1.0403890468010697,
          1.040879440447555,
          1.0405563070601362,
          1.040507047048117,
          1.0414543328253558,
          1.04167836186501,
          1.0424664432537176,
          1.0391184543720804,
          1.0433053796324931,
          1.037915334343822,
          1.0414140328687296,
          null,
          1.0418130438287452,
          null,
          1.0420262148018782,
          1.0419603299719162,
          1.0421169035112112,
          null,
          1.0422996093814911,
          null,
          1.0380966498302135,
          1.0377670315325893,
          1.037370608332652,
          1.037370608332652,
          1.0382758598474997,
          1.0377262041295658,
          1.0362993899819215,
          1.0379833449476814,
          1.0346481764513737,
          1.0328669944034645,
          null,
          1.03781814409647,
          null,
          null,
          1.03781814409647,
          null,
          null,
          null,
          null,
          null,
          1.0105781201021264,
          1.01791615235953,
          1.0411786116090722,
          1.0096277445906152,
          1.009701242595296,
          1.009701242595296
         ],
         "yaxis": "y3",
         "type": "scatter"
        }
       ],
       "layout": {
        "template": {
         "data": {
          "histogram2dcontour": [
           {
            "type": "histogram2dcontour",
            "colorbar": {
             "outlinewidth": 0,
             "ticks": ""
            },
            "colorscale": [
             [
              0.0,
              "#0d0887"
             ],
             [
              0.1111111111111111,
              "#46039f"
             ],
             [
              0.2222222222222222,
              "#7201a8"
             ],
             [
              0.3333333333333333,
              "#9c179e"
             ],
             [
              0.4444444444444444,
              "#bd3786"
             ],
             [
              0.5555555555555556,
              "#d8576b"
             ],
             [
              0.6666666666666666,
              "#ed7953"
             ],
             [
              0.7777777777777778,
              "#fb9f3a"
             ],
             [
              0.8888888888888888,
              "#fdca26"
             ],
             [
              1.0,
              "#f0f921"
             ]
            ]
           }
          ],
          "choropleth": [
           {
            "type": "choropleth",
            "colorbar": {
             "outlinewidth": 0,
             "ticks": ""
            }
           }
          ],
          "histogram2d": [
           {
            "type": "histogram2d",
            "colorbar": {
             "outlinewidth": 0,
             "ticks": ""
            },
            "colorscale": [
             [
              0.0,
              "#0d0887"
             ],
             [
              0.1111111111111111,
              "#46039f"
             ],
             [
              0.2222222222222222,
              "#7201a8"
             ],
             [
              0.3333333333333333,
              "#9c179e"
             ],
             [
              0.4444444444444444,
              "#bd3786"
             ],
             [
              0.5555555555555556,
              "#d8576b"
             ],
             [
              0.6666666666666666,
              "#ed7953"
             ],
             [
              0.7777777777777778,
              "#fb9f3a"
             ],
             [
              0.8888888888888888,
              "#fdca26"
             ],
             [
              1.0,
              "#f0f921"
             ]
            ]
           }
          ],
          "heatmap": [
           {
            "type": "heatmap",
            "colorbar": {
             "outlinewidth": 0,
             "ticks": ""
            },
            "colorscale": [
             [
              0.0,
              "#0d0887"
             ],
             [
              0.1111111111111111,
              "#46039f"
             ],
             [
              0.2222222222222222,
              "#7201a8"
             ],
             [
              0.3333333333333333,
              "#9c179e"
             ],
             [
              0.4444444444444444,
              "#bd3786"
             ],
             [
              0.5555555555555556,
              "#d8576b"
             ],
             [
              0.6666666666666666,
              "#ed7953"
             ],
             [
              0.7777777777777778,
              "#fb9f3a"
             ],
             [
              0.8888888888888888,
              "#fdca26"
             ],
             [
              1.0,
              "#f0f921"
             ]
            ]
           }
          ],
          "heatmapgl": [
           {
            "type": "heatmapgl",
            "colorbar": {
             "outlinewidth": 0,
             "ticks": ""
            },
            "colorscale": [
             [
              0.0,
              "#0d0887"
             ],
             [
              0.1111111111111111,
              "#46039f"
             ],
             [
              0.2222222222222222,
              "#7201a8"
             ],
             [
              0.3333333333333333,
              "#9c179e"
             ],
             [
              0.4444444444444444,
              "#bd3786"
             ],
             [
              0.5555555555555556,
              "#d8576b"
             ],
             [
              0.6666666666666666,
              "#ed7953"
             ],
             [
              0.7777777777777778,
              "#fb9f3a"
             ],
             [
              0.8888888888888888,
              "#fdca26"
             ],
             [
              1.0,
              "#f0f921"
             ]
            ]
           }
          ],
          "contourcarpet": [
           {
            "type": "contourcarpet",
            "colorbar": {
             "outlinewidth": 0,
             "ticks": ""
            }
           }
          ],
          "contour": [
           {
            "type": "contour",
            "colorbar": {
             "outlinewidth": 0,
             "ticks": ""
            },
            "colorscale": [
             [
              0.0,
              "#0d0887"
             ],
             [
              0.1111111111111111,
              "#46039f"
             ],
             [
              0.2222222222222222,
              "#7201a8"
             ],
             [
              0.3333333333333333,
              "#9c179e"
             ],
             [
              0.4444444444444444,
              "#bd3786"
             ],
             [
              0.5555555555555556,
              "#d8576b"
             ],
             [
              0.6666666666666666,
              "#ed7953"
             ],
             [
              0.7777777777777778,
              "#fb9f3a"
             ],
             [
              0.8888888888888888,
              "#fdca26"
             ],
             [
              1.0,
              "#f0f921"
             ]
            ]
           }
          ],
          "surface": [
           {
            "type": "surface",
            "colorbar": {
             "outlinewidth": 0,
             "ticks": ""
            },
            "colorscale": [
             [
              0.0,
              "#0d0887"
             ],
             [
              0.1111111111111111,
              "#46039f"
             ],
             [
              0.2222222222222222,
              "#7201a8"
             ],
             [
              0.3333333333333333,
              "#9c179e"
             ],
             [
              0.4444444444444444,
              "#bd3786"
             ],
             [
              0.5555555555555556,
              "#d8576b"
             ],
             [
              0.6666666666666666,
              "#ed7953"
             ],
             [
              0.7777777777777778,
              "#fb9f3a"
             ],
             [
              0.8888888888888888,
              "#fdca26"
             ],
             [
              1.0,
              "#f0f921"
             ]
            ]
           }
          ],
          "mesh3d": [
           {
            "type": "mesh3d",
            "colorbar": {
             "outlinewidth": 0,
             "ticks": ""
            }
           }
          ],
          "scatter": [
           {
            "fillpattern": {
             "fillmode": "overlay",
             "size": 10,
             "solidity": 0.2
            },
            "type": "scatter"
           }
          ],
          "parcoords": [
           {
            "type": "parcoords",
            "line": {
             "colorbar": {
              "outlinewidth": 0,
              "ticks": ""
             }
            }
           }
          ],
          "scatterpolargl": [
           {
            "type": "scatterpolargl",
            "marker": {
             "colorbar": {
              "outlinewidth": 0,
              "ticks": ""
             }
            }
           }
          ],
          "bar": [
           {
            "error_x": {
             "color": "#2a3f5f"
            },
            "error_y": {
             "color": "#2a3f5f"
            },
            "marker": {
             "line": {
              "color": "#E5ECF6",
              "width": 0.5
             },
             "pattern": {
              "fillmode": "overlay",
              "size": 10,
              "solidity": 0.2
             }
            },
            "type": "bar"
           }
          ],
          "scattergeo": [
           {
            "type": "scattergeo",
            "marker": {
             "colorbar": {
              "outlinewidth": 0,
              "ticks": ""
             }
            }
           }
          ],
          "scatterpolar": [
           {
            "type": "scatterpolar",
            "marker": {
             "colorbar": {
              "outlinewidth": 0,
              "ticks": ""
             }
            }
           }
          ],
          "histogram": [
           {
            "marker": {
             "pattern": {
              "fillmode": "overlay",
              "size": 10,
              "solidity": 0.2
             }
            },
            "type": "histogram"
           }
          ],
          "scattergl": [
           {
            "type": "scattergl",
            "marker": {
             "colorbar": {
              "outlinewidth": 0,
              "ticks": ""
             }
            }
           }
          ],
          "scatter3d": [
           {
            "type": "scatter3d",
            "line": {
             "colorbar": {
              "outlinewidth": 0,
              "ticks": ""
             }
            },
            "marker": {
             "colorbar": {
              "outlinewidth": 0,
              "ticks": ""
             }
            }
           }
          ],
          "scattermapbox": [
           {
            "type": "scattermapbox",
            "marker": {
             "colorbar": {
              "outlinewidth": 0,
              "ticks": ""
             }
            }
           }
          ],
          "scatterternary": [
           {
            "type": "scatterternary",
            "marker": {
             "colorbar": {
              "outlinewidth": 0,
              "ticks": ""
             }
            }
           }
          ],
          "scattercarpet": [
           {
            "type": "scattercarpet",
            "marker": {
             "colorbar": {
              "outlinewidth": 0,
              "ticks": ""
             }
            }
           }
          ],
          "carpet": [
           {
            "aaxis": {
             "endlinecolor": "#2a3f5f",
             "gridcolor": "white",
             "linecolor": "white",
             "minorgridcolor": "white",
             "startlinecolor": "#2a3f5f"
            },
            "baxis": {
             "endlinecolor": "#2a3f5f",
             "gridcolor": "white",
             "linecolor": "white",
             "minorgridcolor": "white",
             "startlinecolor": "#2a3f5f"
            },
            "type": "carpet"
           }
          ],
          "table": [
           {
            "cells": {
             "fill": {
              "color": "#EBF0F8"
             },
             "line": {
              "color": "white"
             }
            },
            "header": {
             "fill": {
              "color": "#C8D4E3"
             },
             "line": {
              "color": "white"
             }
            },
            "type": "table"
           }
          ],
          "barpolar": [
           {
            "marker": {
             "line": {
              "color": "#E5ECF6",
              "width": 0.5
             },
             "pattern": {
              "fillmode": "overlay",
              "size": 10,
              "solidity": 0.2
             }
            },
            "type": "barpolar"
           }
          ],
          "pie": [
           {
            "automargin": true,
            "type": "pie"
           }
          ]
         },
         "layout": {
          "autotypenumbers": "strict",
          "colorway": [
           "#636efa",
           "#EF553B",
           "#00cc96",
           "#ab63fa",
           "#FFA15A",
           "#19d3f3",
           "#FF6692",
           "#B6E880",
           "#FF97FF",
           "#FECB52"
          ],
          "font": {
           "color": "#2a3f5f"
          },
          "hovermode": "closest",
          "hoverlabel": {
           "align": "left"
          },
          "paper_bgcolor": "white",
          "plot_bgcolor": "#E5ECF6",
          "polar": {
           "bgcolor": "#E5ECF6",
           "angularaxis": {
            "gridcolor": "white",
            "linecolor": "white",
            "ticks": ""
           },
           "radialaxis": {
            "gridcolor": "white",
            "linecolor": "white",
            "ticks": ""
           }
          },
          "ternary": {
           "bgcolor": "#E5ECF6",
           "aaxis": {
            "gridcolor": "white",
            "linecolor": "white",
            "ticks": ""
           },
           "baxis": {
            "gridcolor": "white",
            "linecolor": "white",
            "ticks": ""
           },
           "caxis": {
            "gridcolor": "white",
            "linecolor": "white",
            "ticks": ""
           }
          },
          "coloraxis": {
           "colorbar": {
            "outlinewidth": 0,
            "ticks": ""
           }
          },
          "colorscale": {
           "sequential": [
            [
             0.0,
             "#0d0887"
            ],
            [
             0.1111111111111111,
             "#46039f"
            ],
            [
             0.2222222222222222,
             "#7201a8"
            ],
            [
             0.3333333333333333,
             "#9c179e"
            ],
            [
             0.4444444444444444,
             "#bd3786"
            ],
            [
             0.5555555555555556,
             "#d8576b"
            ],
            [
             0.6666666666666666,
             "#ed7953"
            ],
            [
             0.7777777777777778,
             "#fb9f3a"
            ],
            [
             0.8888888888888888,
             "#fdca26"
            ],
            [
             1.0,
             "#f0f921"
            ]
           ],
           "sequentialminus": [
            [
             0.0,
             "#0d0887"
            ],
            [
             0.1111111111111111,
             "#46039f"
            ],
            [
             0.2222222222222222,
             "#7201a8"
            ],
            [
             0.3333333333333333,
             "#9c179e"
            ],
            [
             0.4444444444444444,
             "#bd3786"
            ],
            [
             0.5555555555555556,
             "#d8576b"
            ],
            [
             0.6666666666666666,
             "#ed7953"
            ],
            [
             0.7777777777777778,
             "#fb9f3a"
            ],
            [
             0.8888888888888888,
             "#fdca26"
            ],
            [
             1.0,
             "#f0f921"
            ]
           ],
           "diverging": [
            [
             0,
             "#8e0152"
            ],
            [
             0.1,
             "#c51b7d"
            ],
            [
             0.2,
             "#de77ae"
            ],
            [
             0.3,
             "#f1b6da"
            ],
            [
             0.4,
             "#fde0ef"
            ],
            [
             0.5,
             "#f7f7f7"
            ],
            [
             0.6,
             "#e6f5d0"
            ],
            [
             0.7,
             "#b8e186"
            ],
            [
             0.8,
             "#7fbc41"
            ],
            [
             0.9,
             "#4d9221"
            ],
            [
             1,
             "#276419"
            ]
           ]
          },
          "xaxis": {
           "gridcolor": "white",
           "linecolor": "white",
           "ticks": "",
           "title": {
            "standoff": 15
           },
           "zerolinecolor": "white",
           "automargin": true,
           "zerolinewidth": 2
          },
          "yaxis": {
           "gridcolor": "white",
           "linecolor": "white",
           "ticks": "",
           "title": {
            "standoff": 15
           },
           "zerolinecolor": "white",
           "automargin": true,
           "zerolinewidth": 2
          },
          "scene": {
           "xaxis": {
            "backgroundcolor": "#E5ECF6",
            "gridcolor": "white",
            "linecolor": "white",
            "showbackground": true,
            "ticks": "",
            "zerolinecolor": "white",
            "gridwidth": 2
           },
           "yaxis": {
            "backgroundcolor": "#E5ECF6",
            "gridcolor": "white",
            "linecolor": "white",
            "showbackground": true,
            "ticks": "",
            "zerolinecolor": "white",
            "gridwidth": 2
           },
           "zaxis": {
            "backgroundcolor": "#E5ECF6",
            "gridcolor": "white",
            "linecolor": "white",
            "showbackground": true,
            "ticks": "",
            "zerolinecolor": "white",
            "gridwidth": 2
           }
          },
          "shapedefaults": {
           "line": {
            "color": "#2a3f5f"
           }
          },
          "annotationdefaults": {
           "arrowcolor": "#2a3f5f",
           "arrowhead": 0,
           "arrowwidth": 1
          },
          "geo": {
           "bgcolor": "white",
           "landcolor": "#E5ECF6",
           "subunitcolor": "white",
           "showland": true,
           "showlakes": true,
           "lakecolor": "white"
          },
          "title": {
           "x": 0.05
          },
          "mapbox": {
           "style": "light"
          }
         }
        },
        "xaxis": {
         "anchor": "y",
         "domain": [
          0.0,
          0.31999999999999995
         ],
         "title": {
          "text": "Bus Name"
         }
        },
        "yaxis": {
         "anchor": "x",
         "domain": [
          0.0,
          1.0
         ],
         "title": {
          "text": "v"
         }
        },
        "xaxis2": {
         "anchor": "y2",
         "domain": [
          0.33999999999999997,
          0.6599999999999999
         ],
         "matches": "x",
         "title": {
          "text": "Bus Name"
         }
        },
        "yaxis2": {
         "anchor": "x2",
         "domain": [
          0.0,
          1.0
         ],
         "matches": "y",
         "showticklabels": false
        },
        "xaxis3": {
         "anchor": "y3",
         "domain": [
          0.6799999999999999,
          0.9999999999999999
         ],
         "matches": "x",
         "title": {
          "text": "Bus Name"
         }
        },
        "yaxis3": {
         "anchor": "x3",
         "domain": [
          0.0,
          1.0
         ],
         "matches": "y",
         "showticklabels": false
        },
        "annotations": [
         {
          "font": {},
          "showarrow": false,
          "text": "A",
          "x": 0.15999999999999998,
          "xanchor": "center",
          "xref": "paper",
          "y": 1.0,
          "yanchor": "bottom",
          "yref": "paper"
         },
         {
          "font": {},
          "showarrow": false,
          "text": "B",
          "x": 0.49999999999999994,
          "xanchor": "center",
          "xref": "paper",
          "y": 1.0,
          "yanchor": "bottom",
          "yref": "paper"
         },
         {
          "font": {},
          "showarrow": false,
          "text": "C",
          "x": 0.8399999999999999,
          "xanchor": "center",
          "xref": "paper",
          "y": 1.0,
          "yanchor": "bottom",
          "yref": "paper"
         }
        ],
        "legend": {
         "title": {
          "text": "phase"
         },
         "tracegroupgap": 0
        },
        "margin": {
         "t": 60
        }
       },
       "config": {
        "plotlyServerURL": "https://plot.ly"
       }
      },
      "text/html": [
       "<div>                            <div id=\"d92f53f9-f81c-4729-b75a-23dba281f708\" class=\"plotly-graph-div\" style=\"height:525px; width:100%;\"></div>            <script type=\"text/javascript\">                require([\"plotly\"], function(Plotly) {                    window.PLOTLYENV=window.PLOTLYENV || {};                                    if (document.getElementById(\"d92f53f9-f81c-4729-b75a-23dba281f708\")) {                    Plotly.newPlot(                        \"d92f53f9-f81c-4729-b75a-23dba281f708\",                        [{\"hovertemplate\":\"phase=a\\u003cbr\\u003ename=%{x}\\u003cbr\\u003ev=%{y}\\u003cextra\\u003e\\u003c\\u002fextra\\u003e\",\"legendgroup\":\"a\",\"marker\":{\"color\":\"#636efa\",\"symbol\":\"circle\"},\"mode\":\"markers\",\"name\":\"a\",\"orientation\":\"v\",\"showlegend\":true,\"x\":[\"150\",\"150r\",\"149\",\"1\",\"2\",\"3\",\"7\",\"4\",\"5\",\"6\",\"8\",\"12\",\"9\",\"13\",\"9r\",\"14\",\"34\",\"18\",\"11\",\"10\",\"15\",\"16\",\"17\",\"19\",\"21\",\"20\",\"22\",\"23\",\"24\",\"25\",\"25r\",\"26\",\"28\",\"27\",\"31\",\"33\",\"29\",\"30\",\"250\",\"32\",\"35\",\"36\",\"40\",\"37\",\"38\",\"39\",\"41\",\"42\",\"43\",\"44\",\"45\",\"47\",\"46\",\"48\",\"49\",\"50\",\"51\",\"151\",\"52\",\"53\",\"54\",\"55\",\"57\",\"56\",\"58\",\"60\",\"59\",\"61\",\"62\",\"63\",\"64\",\"65\",\"66\",\"67\",\"68\",\"72\",\"97\",\"69\",\"70\",\"71\",\"73\",\"76\",\"74\",\"75\",\"77\",\"86\",\"78\",\"79\",\"80\",\"81\",\"82\",\"84\",\"83\",\"85\",\"87\",\"88\",\"89\",\"90\",\"91\",\"92\",\"93\",\"94\",\"95\",\"96\",\"98\",\"99\",\"100\",\"450\",\"197\",\"101\",\"102\",\"105\",\"103\",\"104\",\"106\",\"108\",\"107\",\"109\",\"300\",\"110\",\"111\",\"112\",\"113\",\"114\",\"135\",\"152\",\"160r\",\"160\",\"61s\",\"610\"],\"xaxis\":\"x\",\"y\":[0.9999999999999996,1.0374999999999992,1.037208896558586,1.0277793790237544,null,null,1.0206309018000281,null,null,null,1.0159661410958982,null,1.0144996713308465,1.0099389549898319,1.0144996713308465,1.0128282868879044,null,1.0012396673062782,1.012170832590397,1.012501496541934,null,null,null,0.9999312880568216,1.0007064531736516,0.9990839108233646,null,1.0003010407708648,null,0.9996488569216229,1.0121444676331433,1.0118908082838822,0.9992852151071748,1.0115344319181092,null,1.0102311245674638,0.9991266909757067,0.9993890537792871,0.9993890537792871,null,0.9984721386474712,0.9975582936413414,0.9969949531119274,0.9967853066146138,null,null,null,0.9954430425216716,null,0.9943763589745519,0.993851031273237,0.9933684276611385,0.9934539273029306,0.9931011386121524,0.9931019602796731,0.9930830474171496,0.9929187044159279,0.9929187044159278,1.0060382539134507,1.004409902215385,1.003553887773613,1.0033482593933976,1.0022364713855547,1.0033188323427977,null,0.9995012403493019,null,0.9995012403493018,0.9998646740061811,1.0000564478688578,1.0013111107811565,1.0025203052547345,1.00418000738852,1.0477170295435558,1.0462094215155688,1.0482342956951791,1.0467525022301547,1.0444792777106413,1.0432507087287484,1.0425570309118355,null,1.0482411803586424,null,null,1.049516411180833,1.0474503609154866,1.0498467213598688,1.0495490292788032,1.0520415256237474,1.0528694783107289,1.0537846127005999,null,1.0550091807429034,null,1.0469931401012915,1.0469587092172017,1.0465802917169393,null,1.04638903960119,null,1.0460810168685855,1.0453892145139292,1.0460456560987725,null,1.0465528180212673,1.0468395218245303,1.0470312013316572,1.0470312013316572,1.0467173322686671,1.04593355458961,null,1.0446530555349975,null,null,null,1.0432145389590368,null,1.0391907891746546,1.0432145389590366,1.037260748611964,1.0365313348600922,1.036614127772372,1.0345730789436873,1.03415979301326,1.0011640406409625,1.0098056848542574,1.0493718870106619,0.9994017971530109,0.9995012403493018,0.9995012403493018],\"yaxis\":\"y\",\"type\":\"scatter\"},{\"hovertemplate\":\"phase=b\\u003cbr\\u003ename=%{x}\\u003cbr\\u003ev=%{y}\\u003cextra\\u003e\\u003c\\u002fextra\\u003e\",\"legendgroup\":\"b\",\"marker\":{\"color\":\"#EF553B\",\"symbol\":\"circle\"},\"mode\":\"markers\",\"name\":\"b\",\"orientation\":\"v\",\"showlegend\":true,\"x\":[\"150\",\"150r\",\"149\",\"1\",\"2\",\"3\",\"7\",\"4\",\"5\",\"6\",\"8\",\"12\",\"9\",\"13\",\"9r\",\"14\",\"34\",\"18\",\"11\",\"10\",\"15\",\"16\",\"17\",\"19\",\"21\",\"20\",\"22\",\"23\",\"24\",\"25\",\"25r\",\"26\",\"28\",\"27\",\"31\",\"33\",\"29\",\"30\",\"250\",\"32\",\"35\",\"36\",\"40\",\"37\",\"38\",\"39\",\"41\",\"42\",\"43\",\"44\",\"45\",\"47\",\"46\",\"48\",\"49\",\"50\",\"51\",\"151\",\"52\",\"53\",\"54\",\"55\",\"57\",\"56\",\"58\",\"60\",\"59\",\"61\",\"62\",\"63\",\"64\",\"65\",\"66\",\"67\",\"68\",\"72\",\"97\",\"69\",\"70\",\"71\",\"73\",\"76\",\"74\",\"75\",\"77\",\"86\",\"78\",\"79\",\"80\",\"81\",\"82\",\"84\",\"83\",\"85\",\"87\",\"88\",\"89\",\"90\",\"91\",\"92\",\"93\",\"94\",\"95\",\"96\",\"98\",\"99\",\"100\",\"450\",\"197\",\"101\",\"102\",\"105\",\"103\",\"104\",\"106\",\"108\",\"107\",\"109\",\"300\",\"110\",\"111\",\"112\",\"113\",\"114\",\"135\",\"152\",\"160r\",\"160\",\"61s\",\"610\"],\"xaxis\":\"x2\",\"y\":[0.9999999999999997,1.0374999999999996,1.0372915044588356,1.0339803426499572,1.0337577192224967,null,1.0315725557532927,null,null,null,1.029891508266778,1.0296041346157963,null,1.0270044680364419,null,null,null,1.0227686723507075,null,null,null,null,null,null,1.0228115985507285,null,1.0213921074960999,1.0231825382884345,null,1.0236235460110614,null,null,1.023844046732712,null,null,null,1.0239904556778066,1.023948306051912,1.023948306051912,null,1.020112422937729,1.0196305964789538,1.018946620533261,null,1.0189781564228648,1.018558589878809,null,1.0177977957705167,1.0164521820723957,1.0170704121267504,null,1.0159775029863376,null,1.0156861173590308,1.015418094756109,1.0154433644297554,1.0155215010167336,1.0155215010167336,1.024742361427679,1.023519748014668,1.0226633177248452,1.022587330846321,1.0191333247339158,1.0224123737606474,1.0184800139515169,1.0125093115451818,1.0181571316571043,1.0125093115451818,1.0110858712191388,1.0100172194108776,1.0077193870118222,1.0068958124154792,1.0067634138689705,1.0241147205452252,null,1.0231643529896424,1.0236098949787236,null,null,null,null,1.0226006785791202,null,null,1.0236784407764057,1.0207979404688923,1.0240751852561698,1.024209838514252,1.0256738220266388,1.0264847442491856,1.0276965105783187,null,1.028766480687639,null,1.019979178947757,null,1.019703671282722,1.0196049153301798,1.0193730299504902,null,1.0192123858965314,null,1.0188280706486572,1.0185698656186826,1.0233526441137843,1.022527278780679,1.0224608773696722,1.0224608773696722,1.0235895729484734,1.0233184166339448,null,1.0231643777876522,null,null,1.0220068670479594,1.0238135534612907,1.0205259153978359,null,1.0238135534612907,null,null,null,null,null,1.0226897976545821,1.0268914829883375,1.0250952978245813,1.0124398003205741,1.0125093115451815,1.0125093115451815],\"yaxis\":\"y2\",\"type\":\"scatter\"},{\"hovertemplate\":\"phase=c\\u003cbr\\u003ename=%{x}\\u003cbr\\u003ev=%{y}\\u003cextra\\u003e\\u003c\\u002fextra\\u003e\",\"legendgroup\":\"c\",\"marker\":{\"color\":\"#00cc96\",\"symbol\":\"circle\"},\"mode\":\"markers\",\"name\":\"c\",\"orientation\":\"v\",\"showlegend\":true,\"x\":[\"150\",\"150r\",\"149\",\"1\",\"2\",\"3\",\"7\",\"4\",\"5\",\"6\",\"8\",\"12\",\"9\",\"13\",\"9r\",\"14\",\"34\",\"18\",\"11\",\"10\",\"15\",\"16\",\"17\",\"19\",\"21\",\"20\",\"22\",\"23\",\"24\",\"25\",\"25r\",\"26\",\"28\",\"27\",\"31\",\"33\",\"29\",\"30\",\"250\",\"32\",\"35\",\"36\",\"40\",\"37\",\"38\",\"39\",\"41\",\"42\",\"43\",\"44\",\"45\",\"47\",\"46\",\"48\",\"49\",\"50\",\"51\",\"151\",\"52\",\"53\",\"54\",\"55\",\"57\",\"56\",\"58\",\"60\",\"59\",\"61\",\"62\",\"63\",\"64\",\"65\",\"66\",\"67\",\"68\",\"72\",\"97\",\"69\",\"70\",\"71\",\"73\",\"76\",\"74\",\"75\",\"77\",\"86\",\"78\",\"79\",\"80\",\"81\",\"82\",\"84\",\"83\",\"85\",\"87\",\"88\",\"89\",\"90\",\"91\",\"92\",\"93\",\"94\",\"95\",\"96\",\"98\",\"99\",\"100\",\"450\",\"197\",\"101\",\"102\",\"105\",\"103\",\"104\",\"106\",\"108\",\"107\",\"109\",\"300\",\"110\",\"111\",\"112\",\"113\",\"114\",\"135\",\"152\",\"160r\",\"160\",\"61s\",\"610\"],\"xaxis\":\"x3\",\"y\":[0.9999999999999997,1.0374999999999996,1.0372711537026158,1.0300657349393465,null,1.0284271253453325,1.0255514537635955,1.027915449502097,1.0271256787682024,1.026452199534241,1.0225429193020914,null,null,1.018011318831887,null,null,1.0170318258014504,1.0106339023402726,null,null,1.0166437922556155,1.0156730598163104,1.016190899176961,null,1.0094582617627184,null,null,1.0083270622324374,1.006891242201017,1.0074386042391594,1.0074386042391594,1.0069420363713972,1.007094638740456,1.006908306429943,1.0063540946902907,null,1.006641879941405,1.0061867154399478,1.0061867154399478,1.0059619426680655,1.0095404962980066,null,1.0085056538709074,null,null,null,1.0080817223256993,1.0076317084418747,null,1.0068130449152124,null,1.0058191987675609,null,1.0056015630570483,1.0055049536381695,1.005164156926663,1.0051488240361968,1.0051488240361968,1.0161201602771717,1.0152452615827432,1.014713255043076,1.0147828504234804,1.0132997744119752,1.0148688518617888,null,1.009701242595296,null,1.009701242595296,1.0078936646821757,1.0070570059558872,1.0052322778774982,1.002635764513779,1.0014275976452263,1.0390358082195759,null,1.0388484073244608,1.0383009039914963,null,null,null,1.03672345600311,1.0394755163637195,1.0349026452474424,1.033885453080077,1.0403890468010697,1.040879440447555,1.0405563070601362,1.040507047048117,1.0414543328253558,1.04167836186501,1.0424664432537176,1.0391184543720804,1.0433053796324931,1.037915334343822,1.0414140328687296,null,1.0418130438287452,null,1.0420262148018782,1.0419603299719162,1.0421169035112112,null,1.0422996093814911,null,1.0380966498302135,1.0377670315325893,1.037370608332652,1.037370608332652,1.0382758598474997,1.0377262041295658,1.0362993899819215,1.0379833449476814,1.0346481764513737,1.0328669944034645,null,1.03781814409647,null,null,1.03781814409647,null,null,null,null,null,1.0105781201021264,1.01791615235953,1.0411786116090722,1.0096277445906152,1.009701242595296,1.009701242595296],\"yaxis\":\"y3\",\"type\":\"scatter\"}],                        {\"template\":{\"data\":{\"histogram2dcontour\":[{\"type\":\"histogram2dcontour\",\"colorbar\":{\"outlinewidth\":0,\"ticks\":\"\"},\"colorscale\":[[0.0,\"#0d0887\"],[0.1111111111111111,\"#46039f\"],[0.2222222222222222,\"#7201a8\"],[0.3333333333333333,\"#9c179e\"],[0.4444444444444444,\"#bd3786\"],[0.5555555555555556,\"#d8576b\"],[0.6666666666666666,\"#ed7953\"],[0.7777777777777778,\"#fb9f3a\"],[0.8888888888888888,\"#fdca26\"],[1.0,\"#f0f921\"]]}],\"choropleth\":[{\"type\":\"choropleth\",\"colorbar\":{\"outlinewidth\":0,\"ticks\":\"\"}}],\"histogram2d\":[{\"type\":\"histogram2d\",\"colorbar\":{\"outlinewidth\":0,\"ticks\":\"\"},\"colorscale\":[[0.0,\"#0d0887\"],[0.1111111111111111,\"#46039f\"],[0.2222222222222222,\"#7201a8\"],[0.3333333333333333,\"#9c179e\"],[0.4444444444444444,\"#bd3786\"],[0.5555555555555556,\"#d8576b\"],[0.6666666666666666,\"#ed7953\"],[0.7777777777777778,\"#fb9f3a\"],[0.8888888888888888,\"#fdca26\"],[1.0,\"#f0f921\"]]}],\"heatmap\":[{\"type\":\"heatmap\",\"colorbar\":{\"outlinewidth\":0,\"ticks\":\"\"},\"colorscale\":[[0.0,\"#0d0887\"],[0.1111111111111111,\"#46039f\"],[0.2222222222222222,\"#7201a8\"],[0.3333333333333333,\"#9c179e\"],[0.4444444444444444,\"#bd3786\"],[0.5555555555555556,\"#d8576b\"],[0.6666666666666666,\"#ed7953\"],[0.7777777777777778,\"#fb9f3a\"],[0.8888888888888888,\"#fdca26\"],[1.0,\"#f0f921\"]]}],\"heatmapgl\":[{\"type\":\"heatmapgl\",\"colorbar\":{\"outlinewidth\":0,\"ticks\":\"\"},\"colorscale\":[[0.0,\"#0d0887\"],[0.1111111111111111,\"#46039f\"],[0.2222222222222222,\"#7201a8\"],[0.3333333333333333,\"#9c179e\"],[0.4444444444444444,\"#bd3786\"],[0.5555555555555556,\"#d8576b\"],[0.6666666666666666,\"#ed7953\"],[0.7777777777777778,\"#fb9f3a\"],[0.8888888888888888,\"#fdca26\"],[1.0,\"#f0f921\"]]}],\"contourcarpet\":[{\"type\":\"contourcarpet\",\"colorbar\":{\"outlinewidth\":0,\"ticks\":\"\"}}],\"contour\":[{\"type\":\"contour\",\"colorbar\":{\"outlinewidth\":0,\"ticks\":\"\"},\"colorscale\":[[0.0,\"#0d0887\"],[0.1111111111111111,\"#46039f\"],[0.2222222222222222,\"#7201a8\"],[0.3333333333333333,\"#9c179e\"],[0.4444444444444444,\"#bd3786\"],[0.5555555555555556,\"#d8576b\"],[0.6666666666666666,\"#ed7953\"],[0.7777777777777778,\"#fb9f3a\"],[0.8888888888888888,\"#fdca26\"],[1.0,\"#f0f921\"]]}],\"surface\":[{\"type\":\"surface\",\"colorbar\":{\"outlinewidth\":0,\"ticks\":\"\"},\"colorscale\":[[0.0,\"#0d0887\"],[0.1111111111111111,\"#46039f\"],[0.2222222222222222,\"#7201a8\"],[0.3333333333333333,\"#9c179e\"],[0.4444444444444444,\"#bd3786\"],[0.5555555555555556,\"#d8576b\"],[0.6666666666666666,\"#ed7953\"],[0.7777777777777778,\"#fb9f3a\"],[0.8888888888888888,\"#fdca26\"],[1.0,\"#f0f921\"]]}],\"mesh3d\":[{\"type\":\"mesh3d\",\"colorbar\":{\"outlinewidth\":0,\"ticks\":\"\"}}],\"scatter\":[{\"fillpattern\":{\"fillmode\":\"overlay\",\"size\":10,\"solidity\":0.2},\"type\":\"scatter\"}],\"parcoords\":[{\"type\":\"parcoords\",\"line\":{\"colorbar\":{\"outlinewidth\":0,\"ticks\":\"\"}}}],\"scatterpolargl\":[{\"type\":\"scatterpolargl\",\"marker\":{\"colorbar\":{\"outlinewidth\":0,\"ticks\":\"\"}}}],\"bar\":[{\"error_x\":{\"color\":\"#2a3f5f\"},\"error_y\":{\"color\":\"#2a3f5f\"},\"marker\":{\"line\":{\"color\":\"#E5ECF6\",\"width\":0.5},\"pattern\":{\"fillmode\":\"overlay\",\"size\":10,\"solidity\":0.2}},\"type\":\"bar\"}],\"scattergeo\":[{\"type\":\"scattergeo\",\"marker\":{\"colorbar\":{\"outlinewidth\":0,\"ticks\":\"\"}}}],\"scatterpolar\":[{\"type\":\"scatterpolar\",\"marker\":{\"colorbar\":{\"outlinewidth\":0,\"ticks\":\"\"}}}],\"histogram\":[{\"marker\":{\"pattern\":{\"fillmode\":\"overlay\",\"size\":10,\"solidity\":0.2}},\"type\":\"histogram\"}],\"scattergl\":[{\"type\":\"scattergl\",\"marker\":{\"colorbar\":{\"outlinewidth\":0,\"ticks\":\"\"}}}],\"scatter3d\":[{\"type\":\"scatter3d\",\"line\":{\"colorbar\":{\"outlinewidth\":0,\"ticks\":\"\"}},\"marker\":{\"colorbar\":{\"outlinewidth\":0,\"ticks\":\"\"}}}],\"scattermapbox\":[{\"type\":\"scattermapbox\",\"marker\":{\"colorbar\":{\"outlinewidth\":0,\"ticks\":\"\"}}}],\"scatterternary\":[{\"type\":\"scatterternary\",\"marker\":{\"colorbar\":{\"outlinewidth\":0,\"ticks\":\"\"}}}],\"scattercarpet\":[{\"type\":\"scattercarpet\",\"marker\":{\"colorbar\":{\"outlinewidth\":0,\"ticks\":\"\"}}}],\"carpet\":[{\"aaxis\":{\"endlinecolor\":\"#2a3f5f\",\"gridcolor\":\"white\",\"linecolor\":\"white\",\"minorgridcolor\":\"white\",\"startlinecolor\":\"#2a3f5f\"},\"baxis\":{\"endlinecolor\":\"#2a3f5f\",\"gridcolor\":\"white\",\"linecolor\":\"white\",\"minorgridcolor\":\"white\",\"startlinecolor\":\"#2a3f5f\"},\"type\":\"carpet\"}],\"table\":[{\"cells\":{\"fill\":{\"color\":\"#EBF0F8\"},\"line\":{\"color\":\"white\"}},\"header\":{\"fill\":{\"color\":\"#C8D4E3\"},\"line\":{\"color\":\"white\"}},\"type\":\"table\"}],\"barpolar\":[{\"marker\":{\"line\":{\"color\":\"#E5ECF6\",\"width\":0.5},\"pattern\":{\"fillmode\":\"overlay\",\"size\":10,\"solidity\":0.2}},\"type\":\"barpolar\"}],\"pie\":[{\"automargin\":true,\"type\":\"pie\"}]},\"layout\":{\"autotypenumbers\":\"strict\",\"colorway\":[\"#636efa\",\"#EF553B\",\"#00cc96\",\"#ab63fa\",\"#FFA15A\",\"#19d3f3\",\"#FF6692\",\"#B6E880\",\"#FF97FF\",\"#FECB52\"],\"font\":{\"color\":\"#2a3f5f\"},\"hovermode\":\"closest\",\"hoverlabel\":{\"align\":\"left\"},\"paper_bgcolor\":\"white\",\"plot_bgcolor\":\"#E5ECF6\",\"polar\":{\"bgcolor\":\"#E5ECF6\",\"angularaxis\":{\"gridcolor\":\"white\",\"linecolor\":\"white\",\"ticks\":\"\"},\"radialaxis\":{\"gridcolor\":\"white\",\"linecolor\":\"white\",\"ticks\":\"\"}},\"ternary\":{\"bgcolor\":\"#E5ECF6\",\"aaxis\":{\"gridcolor\":\"white\",\"linecolor\":\"white\",\"ticks\":\"\"},\"baxis\":{\"gridcolor\":\"white\",\"linecolor\":\"white\",\"ticks\":\"\"},\"caxis\":{\"gridcolor\":\"white\",\"linecolor\":\"white\",\"ticks\":\"\"}},\"coloraxis\":{\"colorbar\":{\"outlinewidth\":0,\"ticks\":\"\"}},\"colorscale\":{\"sequential\":[[0.0,\"#0d0887\"],[0.1111111111111111,\"#46039f\"],[0.2222222222222222,\"#7201a8\"],[0.3333333333333333,\"#9c179e\"],[0.4444444444444444,\"#bd3786\"],[0.5555555555555556,\"#d8576b\"],[0.6666666666666666,\"#ed7953\"],[0.7777777777777778,\"#fb9f3a\"],[0.8888888888888888,\"#fdca26\"],[1.0,\"#f0f921\"]],\"sequentialminus\":[[0.0,\"#0d0887\"],[0.1111111111111111,\"#46039f\"],[0.2222222222222222,\"#7201a8\"],[0.3333333333333333,\"#9c179e\"],[0.4444444444444444,\"#bd3786\"],[0.5555555555555556,\"#d8576b\"],[0.6666666666666666,\"#ed7953\"],[0.7777777777777778,\"#fb9f3a\"],[0.8888888888888888,\"#fdca26\"],[1.0,\"#f0f921\"]],\"diverging\":[[0,\"#8e0152\"],[0.1,\"#c51b7d\"],[0.2,\"#de77ae\"],[0.3,\"#f1b6da\"],[0.4,\"#fde0ef\"],[0.5,\"#f7f7f7\"],[0.6,\"#e6f5d0\"],[0.7,\"#b8e186\"],[0.8,\"#7fbc41\"],[0.9,\"#4d9221\"],[1,\"#276419\"]]},\"xaxis\":{\"gridcolor\":\"white\",\"linecolor\":\"white\",\"ticks\":\"\",\"title\":{\"standoff\":15},\"zerolinecolor\":\"white\",\"automargin\":true,\"zerolinewidth\":2},\"yaxis\":{\"gridcolor\":\"white\",\"linecolor\":\"white\",\"ticks\":\"\",\"title\":{\"standoff\":15},\"zerolinecolor\":\"white\",\"automargin\":true,\"zerolinewidth\":2},\"scene\":{\"xaxis\":{\"backgroundcolor\":\"#E5ECF6\",\"gridcolor\":\"white\",\"linecolor\":\"white\",\"showbackground\":true,\"ticks\":\"\",\"zerolinecolor\":\"white\",\"gridwidth\":2},\"yaxis\":{\"backgroundcolor\":\"#E5ECF6\",\"gridcolor\":\"white\",\"linecolor\":\"white\",\"showbackground\":true,\"ticks\":\"\",\"zerolinecolor\":\"white\",\"gridwidth\":2},\"zaxis\":{\"backgroundcolor\":\"#E5ECF6\",\"gridcolor\":\"white\",\"linecolor\":\"white\",\"showbackground\":true,\"ticks\":\"\",\"zerolinecolor\":\"white\",\"gridwidth\":2}},\"shapedefaults\":{\"line\":{\"color\":\"#2a3f5f\"}},\"annotationdefaults\":{\"arrowcolor\":\"#2a3f5f\",\"arrowhead\":0,\"arrowwidth\":1},\"geo\":{\"bgcolor\":\"white\",\"landcolor\":\"#E5ECF6\",\"subunitcolor\":\"white\",\"showland\":true,\"showlakes\":true,\"lakecolor\":\"white\"},\"title\":{\"x\":0.05},\"mapbox\":{\"style\":\"light\"}}},\"xaxis\":{\"anchor\":\"y\",\"domain\":[0.0,0.31999999999999995],\"title\":{\"text\":\"Bus Name\"}},\"yaxis\":{\"anchor\":\"x\",\"domain\":[0.0,1.0],\"title\":{\"text\":\"v\"}},\"xaxis2\":{\"anchor\":\"y2\",\"domain\":[0.33999999999999997,0.6599999999999999],\"matches\":\"x\",\"title\":{\"text\":\"Bus Name\"}},\"yaxis2\":{\"anchor\":\"x2\",\"domain\":[0.0,1.0],\"matches\":\"y\",\"showticklabels\":false},\"xaxis3\":{\"anchor\":\"y3\",\"domain\":[0.6799999999999999,0.9999999999999999],\"matches\":\"x\",\"title\":{\"text\":\"Bus Name\"}},\"yaxis3\":{\"anchor\":\"x3\",\"domain\":[0.0,1.0],\"matches\":\"y\",\"showticklabels\":false},\"annotations\":[{\"font\":{},\"showarrow\":false,\"text\":\"A\",\"x\":0.15999999999999998,\"xanchor\":\"center\",\"xref\":\"paper\",\"y\":1.0,\"yanchor\":\"bottom\",\"yref\":\"paper\"},{\"font\":{},\"showarrow\":false,\"text\":\"B\",\"x\":0.49999999999999994,\"xanchor\":\"center\",\"xref\":\"paper\",\"y\":1.0,\"yanchor\":\"bottom\",\"yref\":\"paper\"},{\"font\":{},\"showarrow\":false,\"text\":\"C\",\"x\":0.8399999999999999,\"xanchor\":\"center\",\"xref\":\"paper\",\"y\":1.0,\"yanchor\":\"bottom\",\"yref\":\"paper\"}],\"legend\":{\"title\":{\"text\":\"phase\"},\"tracegroupgap\":0},\"margin\":{\"t\":60}},                        {\"responsive\": true}                    ).then(function(){\n",
       "                            \n",
       "var gd = document.getElementById('d92f53f9-f81c-4729-b75a-23dba281f708');\n",
       "var x = new MutationObserver(function (mutations, observer) {{\n",
       "        var display = window.getComputedStyle(gd).display;\n",
       "        if (!display || display === 'none') {{\n",
       "            console.log([gd, 'removed!']);\n",
       "            Plotly.purge(gd);\n",
       "            observer.disconnect();\n",
       "        }}\n",
       "}});\n",
       "\n",
       "// Listen for the removal of the full notebook cells\n",
       "var notebookContainer = gd.closest('#notebook-container');\n",
       "if (notebookContainer) {{\n",
       "    x.observe(notebookContainer, {childList: true});\n",
       "}}\n",
       "\n",
       "// Listen for the clearing of the current output cell\n",
       "var outputEl = gd.closest('.output');\n",
       "if (outputEl) {{\n",
       "    x.observe(outputEl, {childList: true});\n",
       "}}\n",
       "\n",
       "                        })                };                });            </script>        </div>"
      ]
     },
     "metadata": {},
     "output_type": "display_data"
    }
   ],
   "execution_count": 13
  },
  {
   "cell_type": "markdown",
   "id": "8ee8f5349c1083ce",
   "metadata": {},
   "source": []
  }
 ],
 "metadata": {
  "kernelspec": {
   "display_name": "Python 3 (ipykernel)",
   "language": "python",
   "name": "python3"
  },
  "language_info": {
   "codemirror_mode": {
    "name": "ipython",
    "version": 3
   },
   "file_extension": ".py",
   "mimetype": "text/x-python",
   "name": "python",
   "nbconvert_exporter": "python",
   "pygments_lexer": "ipython3",
   "version": "3.10.12"
  }
 },
 "nbformat": 4,
 "nbformat_minor": 5
}
